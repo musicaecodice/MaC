{
 "cells": [
  {
   "cell_type": "markdown",
   "id": "8e8a8b13",
   "metadata": {},
   "source": [
    "[INDEX](../indice.ipynb) \n",
    "\n",
    "* [Framework and historical context](#histo2)\n",
    "* [Randomness](#randomness)\n",
    "    - [Chance](#chance)\n",
    "    - [Indeterminacy](#indeterminacy)\n",
    "    - [Alea](#alea)\n",
    "* [Sound synthesis](#synthesis).\n",
    "    - [Additive](#additive)\n",
    "       - [Wavetables](#wavetables)\n",
    "       - [Vectorial](#vectorial)\n",
    "       - [PWM](#pwm)\n",
    "       - [Classic](#classic)\n",
    "    - [Subtractive](#subtractive)\n",
    "    - [FM](#fm)\n",
    "    - [FFT](#fft)\n",
    "* [Algorithmic structures](#algo)\n",
    "* [Composition sketches proposal](#esercizi_2) "
   ]
  },
  {
   "cell_type": "markdown",
   "id": "1dbc5bc8",
   "metadata": {},
   "source": [
    "# Framework and historical context <a id=\"histo2\"></a>\n",
    "\n",
    "First experiments in sound synthesis belong to the analogue era.\n",
    "\n",
    "In the 1950s the study of the Cologne Radio (WDR) was in contrast to the GRM both in:\n",
    "* terms of sound generation and manipulation techniques.\n",
    "* terms of aesthetic positions.\n",
    "\n",
    "The reference figure in this study was the composer Karheinz Stockhausen.\n",
    "\n",
    "At that time his compositional ideas were the opposite of those of Paris: he brought the strict rules of integral serialism into the sound synthesis.\n",
    "\n",
    "Every parameter of sound (pitch, spectrum, intensity, envelope, duration, etc.) was governed by rigid numerical rules.\n",
    "\n",
    "The electroacoustic instruments available in the Cologne studio (oscillators, filters and ring modulators) and the possibility of recording the resulting sound on magnetic tape were the ideal tools for developing these ideas.\n",
    "\n",
    " Karlheinz Stockhausen - Elektronische Studie II for tape (1954) - extract\n",
    "\n",
    "<audio controls src='suoni/studio2.mp3'></audio> \n",
    "\n",
    "Still in the electroacoustic field, a mix of the technical equipment of the two studios was found in the RAI Musical Phonology Studio in Milan where the composers of reference were Luciano Berio, Bruno Maderna and later Luigi Nono.\n",
    "\n",
    "Their aesthetic positions were also less rigid than those of their French and German colleagues, mixing together different compositional techniques.\n",
    "\n",
    "Bruno Maderna - Musica su due dimensioni for flute and tape (1958) - extract\n",
    "\n",
    "<audio controls src='suoni/maderna.mp3'></audio> \n",
    "\n",
    "Computer music was born later for reasons obviously linked to the birth and development of digital technologies but it takes its cue from these (and other) electroacoustic experiences.\n",
    "\n",
    "The first computer used for playing music was the CSIR Mk1 developed in Sydney in the late 1940s and presented at a public concert in 1951 where it performed the piece \"Colonel Bogey March\".\n",
    "\n",
    "<audio controls src='suoni/colonel.mp3'></audio>   \n",
    "\n",
    "Alan Turing was also working on primeval computer music in the summer of 1951 at the Computing Machine Laboratory in Manchester.\n",
    "\n",
    "He and his collaborators produced three short melodic sequences played by the computer.\n",
    "\n",
    "<audio controls src='suoni/godsave.mp3'></audio>   \n",
    "\n",
    "In the late 1950s Max Mathews was the most important computer scientist working at Bell Telephone Laboratories in New Jersey. \n",
    "\n",
    "He worked primarily with mainframe computers made by IBM on several series of their MUSIC X program, a musical programming language that was upgraded over the next twenty years.\n",
    "\n",
    "An early piece created in these studios was Beat Canon (1960) by J.R.Pierce (director of studio).\n",
    "\n",
    "<audio controls src='suoni/canon.mp3'></audio>   \n",
    "\n",
    "In 1963 the human voice was synthesized for the first time in these laboratories (speech synthesis).\n",
    "\n",
    "<audio controls src='suoni/speech.mp3'></audio>   \n",
    "\n",
    "Later musicians and engineers alike began to collaborate more on the making of music with computers realizzando lavori più sofisticati.\n",
    "\n",
    "Aa example an exrept from 'Lyric Variations' for Violin and Computer (1965-1968) by J.K.Randall.\n",
    "\n",
    "<audio controls src='suoni/violin.mp3'></audio>   \n",
    "\n",
    "In USA starting from the 60s artistic currents began to develop linked to the Studios and cultural environment where they arose.\n",
    "\n",
    "* West coast $\\rightarrow$ \"Experimantal Music Studio MIT Media Laboratory\" - Boston. \n",
    "\n",
    "  Founded by Barry Vercoe in 1971, it develops software derived from the Music IV series on IBM 360 computers.\n",
    "\n",
    "  In this studio Curtis Road created Computer Music Journal the world's leading computer music magazine.\n",
    "\n",
    "  Composers such as James Dashow, Miller Puckette, Charles Dodge worked there, whose approach to composition was characterised by a strong structural rigor derived from the ideas developed by Stockhousen in Cologne.\n",
    "  \n",
    "  Three exemples:\n",
    "  - James Dashow - Conditional Assemblies for computer generated sounds (1980)\n",
    "\n",
    "    <audio controls src='suoni/dashow.mp3'></audio> \n",
    "  - Charles Dodge - The Waves for voice and electronics (1984)\n",
    "\n",
    "    <audio controls src='suoni/dodge.mp3'></audio> \n",
    "\n",
    "  - Curtis Road - 'Granule' for computer generated sounds (1999)\n",
    "\n",
    "    <audio controls src='suoni/roads.mp3'></audio> \n",
    "* California two main poles:\n",
    "  - Stanford University CCRMA (Karma) $\\rightarrow$ music production.\n",
    "  - San Diego University (CARU) and Lucas film studios $\\rightarrow$ software and hardware research. \n",
    "\n",
    "  The CCRMA was founded and directed by John Chowning, the inventor of FM synthesis and a leading figure in computer music.\n",
    "\n",
    "  A figure of synthesis between technology and music, he addressed in each of his compositions a specific problem linked both to the synthesis of sound and to musical language.\n",
    "\n",
    "  Through his work, which also took place in important European production centers such as IRCAM in Paris, he created a bridge between the two continents.\n",
    "\n",
    "  An audio extracs from his work Turenas for computer generated sounds (1972) and a [paper](img/turenas.pdf) about it.\n",
    "\n",
    "  <audio controls src='suoni/turenas.mp3'></audio> \n",
    "\n",
    "[Here](https://smcnetwork.org/centers.html) we can find a comprehensive list of computer music research and production centers.\n",
    "\n",
    "\n"
   ]
  },
  {
   "cell_type": "markdown",
   "id": "5cc91be7-65df-4fa0-9fc7-ff4e6c5d2538",
   "metadata": {},
   "source": [
    "# Randomness <a id=\"randomness\"></a>\n",
    "\n",
    "Following or pursuing an random procedure means generating or transforming musical or acoustic material by integrating random choices into the decision-making process.\n",
    "\n",
    "The concept of indeterminism affirms the denial of any determination of the will by external motives. \n",
    "\n",
    "In our case a sequence of sonic events must be governed in whole or in part by chance or by a set of probabilities, regardless of the author's experience, taste, knowledge, and personality. \n",
    "\n",
    "This makes it inevitable to rethink the composer's role in the creative act.\n",
    "\n",
    "A reflection of this kind plays an important role in the poetics of American composer J. Cage who has often stated that his compositional principle is a departure from unity and a movement toward multiplicity:\n",
    "\n",
    "\"[...] to abdicate one's subjectivity, to abandon one's own judgment to move toward the multiplicity that is life itself, of which man is but a small component, in the sea of constant variation [...]\"\n",
    "\n",
    "In Western musical tradition three different indeterministic procedures have been theorized and used."
   ]
  },
  {
   "cell_type": "markdown",
   "id": "327b6572",
   "metadata": {},
   "source": [
    "## Chance <a name=\"chance\"></a>\n",
    "\n",
    "The musical or sonic materials of the piece are:\n",
    "\n",
    "generated through random processes.\n",
    "fixed in symbolic form to allow a performance where the random elements fall within the limits of deterministic musical interpretation.\n",
    "\n",
    "Two examples:\n",
    "\n",
    "* The musical games in Europe between the second half of the 18th century and the beginning of the 19th century (C.Ph.E. Bach, F.J. Haydn, W.A. Mozart, etc.).\n",
    "    - a set of musical bars that follow a harmonic scheme indexed and arranged by the composer in any order.\n",
    "    - use of a pair of dice to determine the order of performance (recomposition).\n",
    "    - the game allowed anyone even those with no musical knowledge to create harmonious and original pieces.\n",
    "\n",
    "    <!---<center><img src=\"img/mozart_tables.png\" width=\"10%\"></center>--->\n",
    "\n",
    "    <div style=\"width:30%; margin-left: auto; margin-right: auto\">\n",
    "\n",
    "    ![](img/mozart_tables.png)\n",
    "   \n",
    "    </div>\n",
    "    <!---<center><img src=\"img/mozart_tables_1.png\" width=\"10%\"></center>--->\n",
    "\n",
    "    <div style=\"width:30%; margin-left: auto; margin-right: auto\">\n",
    "\n",
    "    ![](img/mozart_tables_1.png)\n",
    "   \n",
    "    </div>\n",
    "\n",
    "* Music of Changes by J.Cage for piano (1951) in which the formal structure, compositional method and choice of musical materials (pitches, dynamics and tempos) are determined by the roll of the dice of the I-Ching.\n",
    "    - The collection consists of eight 'books' of music. \n",
    "    - To compile the score Cage used 8x8 grids (two-dimensional matrices) to facilitate correspondence with the 64 hexagrams of the I Ching. \n",
    "    - A first roll of the dice determines which sound event to write among those included in the sound grid, after which the next two rolls are dedicated to durations and dynamics.\n",
    "\n",
    "   <!---<center><img src=\"img/Music_O_C.png\" width=\"10%\"></center>--->\n",
    "\n",
    "    <div style=\"width:30%; margin-left: auto; margin-right: auto\">\n",
    "\n",
    "    ![](img/Music_O_C.png)\n",
    "   \n",
    "    </div>"
   ]
  },
  {
   "cell_type": "markdown",
   "id": "826c809e",
   "metadata": {},
   "source": [
    "## Indeterminacy <a name=\"indeterminacy\"></a>\n",
    "\n",
    "It seeks the variable multiplicity of possible performances not chance.\n",
    "\n",
    "Indeterminacy is the opposite of chance which adopts a method.\n",
    "\n",
    "Chance relies on the logic of the method.\n",
    "\n",
    "Indeterminacy relies on the performer's sensitivity.\n",
    "\n",
    "It excludes the precise determination of certain parameters (pitch, duration, intensity, timbre) to give the performer a wide margin of freedom.\n",
    "\n",
    "When taken to its extreme limits it ideally coincides with the opposite deterministic extreme: total improvisation or 'libero arbitrio'.\n",
    "\n",
    "The concept of indeterminacy in music can be developed in two different ways:\n",
    "\n",
    "1. Free choice of performance mode or form \n",
    "    - Missa Cuiusvis Toni (1539) by Johannes Ockeghem.\n",
    "        - the composer did not specify the clefs at the beginning of the staff.\n",
    "        - it can be performed in all four modes (Dorian, Phrygian, Lydian, Mixolydian).\n",
    "        - the choice of which clef to use for reading (and therefore the mode) is left to the performers.\n",
    "        <!---<center><img src=\"img/Cuiusvis_toni.png\" width=\"10%\"></center>--->\n",
    "\n",
    "        <div style=\"width:30%; margin-left: auto; margin-right: auto\">\n",
    "\n",
    "        ![](img/Cuiusvis_toni.png)\n",
    "   \n",
    "        </div>\n",
    "    - Serenata per un satellite (1969) by B. Maderna \n",
    "        - It can be played by violin, flute (including piccolo), oboe (including oboe d'amore, even musette), clarinet (transposing the part, of course), marimba, harp, guitar, and mandolin (playing what they can), all together, individually, or in groups, improvising, in short, with the written notes.\n",
    "        - The whole piece should last between 4 and 12 minutes.\n",
    "        <!---<center><img src=\"img/maderna_1.png\" width=\"10%\"></center>--->\n",
    "\n",
    "        <div style=\"width:30%; margin-left: auto; margin-right: auto\">\n",
    "\n",
    "        ![](img/maderna_1.png)\n",
    "   \n",
    "        </div>\n",
    "2. Graphic scores or verbal indications that suggest to the performer how the piece can be performed.\n",
    "    - December ’52 by Earle Brown.\n",
    "        <!---<center><img src=\"img/brown.png\" width=\"10%\"></center>--->\n",
    "\n",
    "        <div style=\"width:30%; margin-left: auto; margin-right: auto\">\n",
    "\n",
    "        ![](img/brown1.png)\n",
    "   \n",
    "        </div>\n",
    "    - Intersection 3 by Morton Feldman (1964).\n",
    "        <!---<center><img src=\"img/feld.png\" width=\"10%\"></center>--->\n",
    "\n",
    "        <div style=\"width:30%; margin-left: auto; margin-right: auto\">\n",
    "\n",
    "        ![](img/feld.png)\n",
    "   \n",
    "        </div>\n",
    "    - Intuitive Musik (1968) by K.Stockhausen\n",
    "        <!---<center><img src=\"img/intu.png\" width=\"10%\"></center>--->\n",
    "\n",
    "        <div style=\"width:30%; margin-left: auto; margin-right: auto\">\n",
    "\n",
    "        ![](img/intu.png)\n",
    "   \n",
    "        </div>\n",
    "    - Necessità espressive (Bruno Maderna)\n",
    "        <center><video width=\"30%\" controls src=\"suoni/maderna1.mp4\"></video></center>"
   ]
  },
  {
   "cell_type": "markdown",
   "id": "740b4052",
   "metadata": {},
   "source": [
    "## Alea <a name=\"alea\"></a>\n",
    "\n",
    "Aleatoric strategies became common among composers of the European avant-garde after World War I.\n",
    "\n",
    "Acousticist Werner Meyer-Eppler during the Darmstadt summer courses defined it this way:\n",
    "\n",
    "\"A process can be defined as \"aleatory\" [...] if its development is established in general terms but depends on chance in the details\".\n",
    "\n",
    "Let's explore the possible use of random procedures in SuperCollider using a SynthDef from previous chapter."
   ]
  },
  {
   "cell_type": "code",
   "execution_count": 339,
   "id": "05c35c3f",
   "metadata": {
    "vscode": {
     "languageId": "python"
    }
   },
   "outputs": [
    {
     "name": "stdout",
     "output_type": "stream",
     "text": [
      "-> a Function"
     ]
    }
   ],
   "source": [
    "s.boot;\n",
    "s.meter;\n",
    "{s.plotTree}.defer(5);"
   ]
  },
  {
   "cell_type": "markdown",
   "id": "48202049",
   "metadata": {},
   "source": [
    "One Buffer and a SynthDef."
   ]
  },
  {
   "cell_type": "code",
   "execution_count": 14,
   "id": "a6daa3c9",
   "metadata": {
    "vscode": {
     "languageId": "python"
    }
   },
   "outputs": [
    {
     "name": "stdout",
     "output_type": "stream",
     "text": [
      "-> a SynthDef"
     ]
    }
   ],
   "source": [
    "Buffer.freeAll;\n",
    "b = Buffer.read(s, \"/Users/andreavigani/Desktop/GHub/EMC/3_fixed/suoni/bach.wav\");\n",
    "\n",
    "SynthDef(\\smp, {arg buf=0,pos=0,dur=0.2,amp=0,trsp=0,dir=1,pan=0,t_gate=0,done=2;\n",
    "                var sig,env;\n",
    "                    sig = PlayBuf.ar(1, buf,                               // UGen (oscillator)\n",
    "                                    BufRateScale.kr(buf) * trsp.midiratio  // Trasposition\n",
    "                                                         * dir,            // Direction\n",
    "                                    t_gate,                                // Trigger\n",
    "\t\t                            BufSampleRate.kr(buf)* pos);           // Absolute start position \n",
    "\t                             // BufFrames.kr(buf) * pos);              // Relative start position (0 to 1)\n",
    "                    env = Env.linen(0.01,dur-0.02,0.01);                   // Trapezoidal envelope\n",
    "                    env = EnvGen.kr(env, t_gate, doneAction:done);\n",
    "                    sig = Pan2.ar(sig * env * amp, pan);\n",
    "                Out.ar(0,sig)\n",
    "        }).add;"
   ]
  },
  {
   "cell_type": "markdown",
   "id": "da3fc277",
   "metadata": {},
   "source": [
    "We can obtain random numbers in several ways, here the main objects.\n",
    "\n",
    "* boolean $\\rightarrow$ 0.5.coin (0.0 = false, 1.0 = true, 0.x = probability). </br>\n",
    "  For example we can use it in a control structure to define the percentage of rests in a sequence."
   ]
  },
  {
   "cell_type": "code",
   "execution_count": 53,
   "id": "d71c1063",
   "metadata": {
    "vscode": {
     "languageId": "python"
    }
   },
   "outputs": [
    {
     "name": "stdout",
     "output_type": "stream",
     "text": [
      "-> a Routine"
     ]
    }
   ],
   "source": [
    "~rest = 0.8;      // probability of rests in sequence\n",
    "r = Routine({\n",
    "            20.do({\n",
    "                  if(0.8.coin==true) \n",
    "                        {Synth(\\smp,[\\buf,b, \n",
    "                                    \\pos, 0.23,\n",
    "                                    \\amp, 1, \n",
    "                                    \\dur, 0.08,\n",
    "                                    \\pan, 0,\n",
    "                                    \\t_gate, 1])};\n",
    "                  0.1.wait;\n",
    "                  })\n",
    "                }).reset.play;"
   ]
  },
  {
   "cell_type": "markdown",
   "id": "1bbd6d71",
   "metadata": {},
   "source": [
    "* within a range (linear distribution) $\\rightarrow$ rrand(min, max). </br>\n",
    "  For example we can use it to define random positions in a Buffer."
   ]
  },
  {
   "cell_type": "code",
   "execution_count": null,
   "id": "22a4bc0c",
   "metadata": {
    "vscode": {
     "languageId": "python"
    }
   },
   "outputs": [
    {
     "name": "stdout",
     "output_type": "stream",
     "text": [
      "12.455646258503\n",
      "-> a Routine"
     ]
    }
   ],
   "source": [
    "~rest = 0.8;        // probability of rests in sequence\n",
    "b.duration.postln;  // range max \n",
    "~posi = [0.5,3.4];  // start-end position points\n",
    "\n",
    "r = Routine({\n",
    "            20.do({\n",
    "                  if(0.8.coin==true) \n",
    "                     {Synth(\\smp,[\\buf,b, \n",
    "                                 \\pos, rrand(~posi[0], ~posi[1]), // random position\n",
    "                                 \\amp, 1, \n",
    "                                 \\pan, 0,\n",
    "                                 \\dur, 0.08,\n",
    "                                 \\t_gate, 1])};\n",
    "                     0.1.wait;\n",
    "                  })\n",
    "                }).reset.play;"
   ]
  },
  {
   "cell_type": "markdown",
   "id": "b5619099",
   "metadata": {},
   "source": [
    "* between 0 and max (linear distribution) $\\rightarrow$ rand(max).</br>\n",
    "  For example we can use it to define random amplitude. "
   ]
  },
  {
   "cell_type": "code",
   "execution_count": null,
   "id": "de9f0d72",
   "metadata": {
    "vscode": {
     "languageId": "python"
    }
   },
   "outputs": [
    {
     "name": "stdout",
     "output_type": "stream",
     "text": [
      "-> a Routine"
     ]
    }
   ],
   "source": [
    "~rest = 0.8;       // probability of rests in sequence\n",
    "~posi = [0.5,3.4]; // start-end position points\n",
    "\n",
    "r = Routine({\n",
    "            20.do({\n",
    "                  if(0.8.coin==true) \n",
    "                     {Synth(\\smp,[\\buf,b, \n",
    "                                  \\pos, rrand(~posi[0], ~posi[1]),\n",
    "                                  \\amp, rand(1.0),\n",
    "                                  \\pan, 0,\n",
    "                                  \\dur, 0.08,\n",
    "                                  \\t_gate, 1])};\n",
    "                  0.1.wait;\n",
    "                  })\n",
    "                }).reset.play;"
   ]
  },
  {
   "cell_type": "markdown",
   "id": "dda2742e",
   "metadata": {},
   "source": [
    "* bipolar (linear distribution) $\\rightarrow$ rand2(+/- max)).</br>\n",
    "  For example we can use it to define random pan. "
   ]
  },
  {
   "cell_type": "code",
   "execution_count": null,
   "id": "7dc88222",
   "metadata": {
    "vscode": {
     "languageId": "python"
    }
   },
   "outputs": [
    {
     "name": "stdout",
     "output_type": "stream",
     "text": [
      "-> a Routine"
     ]
    }
   ],
   "source": [
    "~rest = 0.8;       // probability of rests in sequence\n",
    "~posi = [0.5,3.4]; // start and end position points\n",
    "\n",
    "r = Routine({\n",
    "            20.do({\n",
    "                  if(0.8.coin==true) \n",
    "                     {Synth(\\smp,[\\buf,b, \n",
    "                                  \\pos, rrand(~posi[0], ~posi[1]), \n",
    "                                  \\amp, rand(1.0),\n",
    "                                  \\pan, rand2(1.0),\n",
    "                                  \\dur, 0.08,\n",
    "                                  \\t_gate, 1])};\n",
    "                  0.1.wait;\n",
    "                  })\n",
    "                }).reset.play;"
   ]
  },
  {
   "cell_type": "markdown",
   "id": "bc14ca27",
   "metadata": {},
   "source": [
    "* choose in a finite set with a linear distribution $\\rightarrow$ [3,5,67,89].choose.</br>\n",
    "  For example we can use it to define random choice among a set of durations. "
   ]
  },
  {
   "cell_type": "code",
   "execution_count": null,
   "id": "ae22ca6a",
   "metadata": {
    "vscode": {
     "languageId": "python"
    }
   },
   "outputs": [
    {
     "name": "stdout",
     "output_type": "stream",
     "text": [
      "-> a Routine"
     ]
    }
   ],
   "source": [
    "~rest = 0.8;                 // probability of rests in sequence\n",
    "~posi = [0.5,3.4];           // start and end position points\n",
    "~durs = [0.08,0.04,0.2,0.5]; // duration set\n",
    "\n",
    "r = Routine({\n",
    "            20.do({\n",
    "                  if(0.8.coin==true) \n",
    "                     {Synth(\\smp,[\\buf,b, \n",
    "                                  \\pos, rrand(~posi[0], ~posi[1]),\n",
    "                                  \\amp, rand(1.0),\n",
    "                                  \\dur, ~durs.choose,\n",
    "                                  \\pan, rand2(1.0),\n",
    "                                  \\t_gate, 1])};\n",
    "                  0.1.wait;\n",
    "                  })\n",
    "                }).reset.play;"
   ]
  },
  {
   "cell_type": "markdown",
   "id": "736ba13d",
   "metadata": {},
   "source": [
    "There are other objects dedicated to nonlinear distributions but the principles on which they are based are the same as those just illustrated."
   ]
  },
  {
   "cell_type": "markdown",
   "id": "a88a11a6",
   "metadata": {},
   "source": [
    "# Sound synthesis <a name=\"synthesis\"></a>\n",
    "\n",
    "In this paragraph we will not delve into all the aspects of the individual synthesis techniques.\n",
    "\n",
    "Only their main sonic and expressive possibilities related to composing music are focused.\n",
    "\n",
    "Before starting let's define some utility:\n",
    "* one SynthDef $\\rightarrow$ set of source signals.\n",
    "* one SynthDef $\\rightarrow$ set of control signals (mouse, continuos).\n",
    "* two audio bus to connect the source Synths with filters and FFT Synth.\n",
    "* two control buses to control dynamically parameters (x, y and random signal values).\n",
    "* one spectroscope."
   ]
  },
  {
   "cell_type": "code",
   "execution_count": 253,
   "id": "af0bafde",
   "metadata": {
    "vscode": {
     "languageId": "python"
    }
   },
   "outputs": [
    {
     "name": "stdout",
     "output_type": "stream",
     "text": [
      "-> Synth('sdel' : 2297)"
     ]
    }
   ],
   "source": [
    "SynthDef(\\srcs,{arg type=0, freq=400, amp=0, buf=b, busOut=2, gate=0;\n",
    "                var sig,env;\n",
    "                    sig =  Select.ar(type,\n",
    "                                   [SoundIn.ar(0),             // 0\n",
    "                                    WhiteNoise.ar,             // 1\n",
    "                                    Impulse.ar(freq),          // 2\n",
    "                                    Dust.ar(freq),             // 3\n",
    "                                    Saw.ar(freq),              // 4\n",
    "                                    PlayBuf.ar(1, buf, loop:1) // 5\n",
    "                                    ]);\n",
    "\t                env = Linen.kr(gate,doneAction:2);\n",
    "                    sig = sig * env * amp;\n",
    "                Out.ar(busOut, sig)\n",
    "        }).add;\n",
    "\n",
    "SynthDef(\\ksig,{arg type=0, range=#[0,1], freq=1, busOut=0;\n",
    "\t            var sig;\n",
    "\t                sig = Select.kr(type,\n",
    "                                [MouseX.kr(range[0], range[1]),\n",
    "                                 MouseY.kr(range[0], range[1]),\n",
    "                                 LFNoise1.kr(freq).range(range[0], range[1])\n",
    "                                ]);\n",
    "\t            Out.kr(busOut,sig)\n",
    "        }).add;\n",
    "\n",
    "x     = Bus.control(s, 1);   \n",
    "y     = Bus.control(s, 1);  \n",
    "\n",
    "s.freqscope;       // a spectroscope"
   ]
  },
  {
   "cell_type": "markdown",
   "id": "9ab7f5a8",
   "metadata": {},
   "source": [
    "## Additive <a name=\"additive\"></a>\n",
    "\n",
    "With additive synthesis techniques we can realize:\n",
    "* harmonic spectra (pitched sounds).\n",
    "* inharmonic spectra (non-pitched sounds).\n",
    "\n",
    "Both categories can have:\n",
    "\n",
    "* fixed spectrum.\n",
    "* variable spectrum.\n",
    "* spectral envelope.\n",
    "\n",
    "There are different ways to do that."
   ]
  },
  {
   "cell_type": "markdown",
   "id": "7255582b",
   "metadata": {},
   "source": [
    "### Wavetables <a synthe=\"wavetables\"></a>\n",
    "\n",
    "Harmonic spectra or periodic noises.\n",
    "\n",
    "Fixed spectrum.\n",
    "\n",
    "Procedure:\n",
    "1. Draw a single waveform period. \n",
    "2. Store it in a Buffer. \n",
    "3. Play it back at a defined frequency by an oscillator.\n",
    "\n",
    "The SynthDef."
   ]
  },
  {
   "cell_type": "code",
   "execution_count": 22,
   "id": "8ffa1042",
   "metadata": {
    "vscode": {
     "languageId": "python"
    }
   },
   "outputs": [
    {
     "name": "stdout",
     "output_type": "stream",
     "text": [
      "-> a SynthDef"
     ]
    }
   ],
   "source": [
    "Buffer.freeAll;\n",
    "b = Buffer.alloc(s, 2048);\n",
    "b.sine2([1,3,4,6,8,9],[20,30,10,6,7,3].normalizeSum);  // Draw Partial_number, magnitudes\n",
    "b.plot; \n",
    "\n",
    "SynthDef(\\wts, {arg buf=b, freq=500, amp=0, dur=1, t_gate=0, pan=0, done=2;\n",
    "\t            var sig,bpf,env;\n",
    "\t                sig = Osc.ar(buf,freq);\n",
    "\t                env = Env.triangle(dur);         // Try to change envelope\n",
    "\t                env = EnvGen.ar(env,t_gate,doneAction:done);\n",
    "\t                sig = Pan2.ar(sig*amp*env,pan);\n",
    "\t            Out.ar(0,sig)}\n",
    "         ).add;"
   ]
  },
  {
   "cell_type": "markdown",
   "id": "07e11219",
   "metadata": {},
   "source": [
    "We can play it as in previous exemples.\n",
    "\n",
    "* Deterministic."
   ]
  },
  {
   "cell_type": "code",
   "execution_count": null,
   "id": "30dc3c87",
   "metadata": {
    "vscode": {
     "languageId": "python"
    }
   },
   "outputs": [
    {
     "name": "stdout",
     "output_type": "stream",
     "text": [
      "-> a Routine"
     ]
    }
   ],
   "source": [
    "~pitch = [60,64,65,68,72,73,68,67,60].midicps;\n",
    "~amps  = [0.3,0.5,0.7,0.3,0.9,0.1]*0.2;\n",
    "~pans  = [-1,0,1];\n",
    "~durs  = [0.1,0.5,0.2,0.8,0.4];\n",
    "~delta = [0.1,0.3,0.1,0.2];\n",
    "\n",
    "r = Routine({\n",
    "            20.do({arg i;\n",
    "                    Synth(\\wts,[\\buf,b,\n",
    "\t\t\t                    \\freq, ~pitch.wrapAt(i),\n",
    "\t\t\t                    \\amp,  ~amps.foldAt(i),\n",
    "\t\t\t                    \\dur,  ~durs.wrapAt(i),\n",
    "\t\t\t                    \\pan, ~pans.foldAt(i),\n",
    "\t\t\t                    \\done,2,\n",
    "\t\t\t                    \\t_gate,1]); \n",
    "                    ~delta.foldAt(i).wait;        \n",
    "                    })\n",
    "            }).reset.play;"
   ]
  },
  {
   "cell_type": "markdown",
   "id": "6bb7f528",
   "metadata": {},
   "source": [
    "* Random."
   ]
  },
  {
   "cell_type": "code",
   "execution_count": null,
   "id": "20c356c6",
   "metadata": {
    "vscode": {
     "languageId": "python"
    }
   },
   "outputs": [
    {
     "name": "stdout",
     "output_type": "stream",
     "text": [
      "-> a Routine"
     ]
    }
   ],
   "source": [
    "v = Routine({\n",
    "\t        inf.do({\n",
    "                    Synth(\\wts,[\\buf,b,\n",
    "\t\t\t                 // \\freq,rrand(50,100).midicps,         // Atonal\n",
    "\t\t\t                    \\freq, [68,72,75,80].midicps.choose, // Triade\n",
    "\t\t\t\t\t\t        \\amp,rand(0.2),\n",
    "\t\t\t                    \\dur,rrand(4,8),\n",
    "\t\t\t                    \\fade,rrand(0.2,8),\n",
    "\t\t\t\t\t\t        \\pan, rand2(1.0),\n",
    "\t\t\t                    \\done,2,\n",
    "\t\t\t                    \\t_gate,1]);\n",
    "\t\t            rrand(0.1,2).wait;\n",
    "\t                })\n",
    "            }).reset.play"
   ]
  },
  {
   "cell_type": "markdown",
   "id": "440de657",
   "metadata": {},
   "source": [
    "We can try to play them together.\n",
    "\n",
    "Stop and kill."
   ]
  },
  {
   "cell_type": "code",
   "execution_count": 30,
   "id": "b1c9c71c",
   "metadata": {
    "vscode": {
     "languageId": "python"
    }
   },
   "outputs": [
    {
     "name": "stdout",
     "output_type": "stream",
     "text": [
      "-> a Routine"
     ]
    }
   ],
   "source": [
    "v.stop; v.free; r.free;"
   ]
  },
  {
   "cell_type": "markdown",
   "id": "74dc9958",
   "metadata": {
    "vscode": {
     "languageId": "plaintext"
    }
   },
   "source": [
    "### Vectorial <a synthe=\"vectorial\"></a>\n",
    "\n",
    "This technique is a variant of wavetable lookup synthesis and allows the generation of variable spectra.\n",
    "\n",
    "Harmonic spectra or periodic noises.\n",
    "\n",
    "Variable spectrum.\n",
    "\n",
    "1. Define an array of different waveforms. \n",
    "2. During playback interpolate the reading dynamically with a control parameter."
   ]
  },
  {
   "cell_type": "code",
   "execution_count": 46,
   "id": "bd3af742",
   "metadata": {
    "vscode": {
     "languageId": "python"
    }
   },
   "outputs": [
    {
     "name": "stdout",
     "output_type": "stream",
     "text": [
      "-> Buffer(3, 1024, 1, 44100.0, nil)"
     ]
    }
   ],
   "source": [
    "Buffer.freeAll;\n",
    "b = Buffer.allocConsecutive(4,         // Number of Buffer\n",
    "                            s, 1024);  \n",
    "\n",
    "b[0].sine2([1,3,5,7], [1,0.3,0.5,0.7]);   // Fill the buffers\n",
    "b[1].sine2([2,4,6,8], [0.2,0.4,1.3,0.6]);\n",
    "b[2].sine2([2,3,10,12,13,14], [1,0.2,0.5,0.6,1.3,0.5]);\n",
    "b[3].sine2([1,3,4,7,8,9,13,18], [1.3,0.3,0.5,0.7,0.8,0.9,0.2,0.3]);"
   ]
  },
  {
   "cell_type": "markdown",
   "id": "5ce2832b",
   "metadata": {},
   "source": [
    "The SynthDef."
   ]
  },
  {
   "cell_type": "code",
   "execution_count": 47,
   "id": "ce08804d",
   "metadata": {
    "vscode": {
     "languageId": "python"
    }
   },
   "outputs": [
    {
     "name": "stdout",
     "output_type": "stream",
     "text": [
      "-> a SynthDef"
     ]
    }
   ],
   "source": [
    "SynthDef(\\vec, {arg bufn=4,freq=400,amp=0,pos=0,pan=0,gate=0,done=2;\n",
    "                var sig,env;\n",
    "                    sig  = VOsc.ar(pos.linlin(-1,1,0,bufn), freq);\n",
    "                    env  = Linen.kr(gate,doneAction:done);\n",
    "                    sig  = Pan2.ar(sig*amp*env,pan);\n",
    "                Out.ar(0, sig)\n",
    "                }).add;"
   ]
  },
  {
   "cell_type": "markdown",
   "id": "bfc364e4",
   "metadata": {},
   "source": [
    "As usual we can change timbre parameter in four different ways.\n",
    "\n",
    "1. by sending single values (o to number of buses - 1)."
   ]
  },
  {
   "cell_type": "code",
   "execution_count": 48,
   "id": "7e721637",
   "metadata": {
    "vscode": {
     "languageId": "python"
    }
   },
   "outputs": [
    {
     "name": "stdout",
     "output_type": "stream",
     "text": [
      "-> a Routine"
     ]
    }
   ],
   "source": [
    "a = Synth(\\vec, [\\bufn,b.size-1, \\freq,400, \\amp,0.5, \\pan,0, \\gate,1]);\n",
    "                   \n",
    "r = Routine({\n",
    "            5.do({\n",
    "                rrand(2,20).do({\n",
    "                                a.set(\\pos,rand2(1.0)); // Change position\n",
    "                                0.1.wait;\n",
    "                                });\n",
    "                rrand(0.2,1).wait;\n",
    "                });\n",
    "                a.free;\n",
    "            }).reset.play;"
   ]
  },
  {
   "cell_type": "markdown",
   "id": "bfbe47ef",
   "metadata": {},
   "source": [
    "2. by mapping a control signal on a control bus as argument."
   ]
  },
  {
   "cell_type": "code",
   "execution_count": 49,
   "id": "80e48a38",
   "metadata": {
    "vscode": {
     "languageId": "python"
    }
   },
   "outputs": [
    {
     "name": "stdout",
     "output_type": "stream",
     "text": [
      "-> Synth('vec' : 1364)"
     ]
    }
   ],
   "source": [
    "k = Synth(\\ksig, [\\type,0, \\range,[-1, 1], \\busOut, x]); // Mouse x  \n",
    "a = Synth(\\vec, [\\bufn,b.size-1, \\freq,400, \\pos, x.asMap, \\amp,0.5, \\pan,0, \\gate,1]);"
   ]
  },
  {
   "cell_type": "markdown",
   "id": "d7552df6",
   "metadata": {},
   "source": [
    "Change the control signal type and subaudio frequency."
   ]
  },
  {
   "cell_type": "code",
   "execution_count": 51,
   "id": "d5a3f45a",
   "metadata": {
    "vscode": {
     "languageId": "python"
    }
   },
   "outputs": [
    {
     "name": "stdout",
     "output_type": "stream",
     "text": [
      "-> Synth('ksig' : 1363)"
     ]
    }
   ],
   "source": [
    "k.set(\\type,2, \\freq,1);"
   ]
  },
  {
   "cell_type": "markdown",
   "id": "83d0977d",
   "metadata": {},
   "source": [
    "Fade out and kill."
   ]
  },
  {
   "cell_type": "code",
   "execution_count": 52,
   "id": "98283080",
   "metadata": {
    "vscode": {
     "languageId": "python"
    }
   },
   "outputs": [
    {
     "name": "stdout",
     "output_type": "stream",
     "text": [
      "-> nil"
     ]
    }
   ],
   "source": [
    "a.set(\\gate, 0); k.free; p.free;"
   ]
  },
  {
   "cell_type": "markdown",
   "id": "2e38eaec",
   "metadata": {},
   "source": [
    "Another classic technique in digital synth design is to map the amplitude envelope with spectral modification.\n",
    "\n",
    "A simulation of real acoustic natural sounds."
   ]
  },
  {
   "cell_type": "code",
   "execution_count": 56,
   "id": "091d56ef",
   "metadata": {
    "vscode": {
     "languageId": "python"
    }
   },
   "outputs": [
    {
     "name": "stdout",
     "output_type": "stream",
     "text": [
      "-> a SynthDef"
     ]
    }
   ],
   "source": [
    "SynthDef(\\vmap, {arg buf=0,bufn=4,freq=400,dur=1,amp=0,pan=0,t_gate=0,done=2;\n",
    "                  var sig,bpf,env;\n",
    "                      bpf   = Env.sine(dur);\n",
    "                      env   = EnvGen.ar(bpf,t_gate,doneAction:done);\n",
    "                      sig   = VOsc.ar(env.linlin(0,1,buf,bufn-1), freq);\n",
    "                      sig   = Pan2.ar(sig*amp*env,pan);\n",
    "                  Out.ar(0, sig)\n",
    "        }).add;"
   ]
  },
  {
   "cell_type": "markdown",
   "id": "1c0a8b6b",
   "metadata": {},
   "source": [
    "Play it."
   ]
  },
  {
   "cell_type": "code",
   "execution_count": null,
   "id": "b411ad53",
   "metadata": {
    "vscode": {
     "languageId": "python"
    }
   },
   "outputs": [
    {
     "name": "stdout",
     "output_type": "stream",
     "text": [
      "-> a Routine"
     ]
    }
   ],
   "source": [
    "r = Routine({\n",
    "            10.do({\n",
    "                Synth(\\vmap, [\\buf,b, \\bufn,3,\n",
    "                              \\freq,rrand(40, 76).midicps,\n",
    "                              \\dur,rrand(4,12),\n",
    "                              \\amp,rand(1.0),\n",
    "                              \\pan,rand2(1.0),\n",
    "                              \\t_gate,1]);\n",
    "                rrand(3,5).wait;\n",
    "                    })\n",
    "            }).reset.play;"
   ]
  },
  {
   "cell_type": "markdown",
   "id": "60a1d7ed",
   "metadata": {},
   "source": [
    "Stop and kill."
   ]
  },
  {
   "cell_type": "code",
   "execution_count": 58,
   "id": "55c0d06f",
   "metadata": {
    "vscode": {
     "languageId": "python"
    }
   },
   "outputs": [
    {
     "name": "stdout",
     "output_type": "stream",
     "text": [
      "-> a Routine"
     ]
    }
   ],
   "source": [
    "r.stop;"
   ]
  },
  {
   "cell_type": "markdown",
   "id": "ae1eaba8",
   "metadata": {
    "vscode": {
     "languageId": "plaintext"
    }
   },
   "source": [
    "### PWM <a synthe=\"pwm\"></a>\n",
    "\n",
    "Pulse Width Modulation.\n",
    "\n",
    "This technique is a variant of wavetable lookup synthesis and allows the generation of variable spectra.\n",
    "\n",
    "Harmonic spectra.\n",
    "\n",
    "Variable spectrum.\n",
    "\n",
    "It is based on the concept of duty cycle.\n",
    "\n",
    "<!---<center><img src=\"img/feld.png\" width=\"10%\"></center>--->\n",
    "\n",
    "<div style=\"width:50%; margin-left: auto; margin-right: auto\">\n",
    "\n",
    "![](img/pwm.png)\n",
    "   \n",
    "</div>\n",
    "\n",
    "By changing this parameter we modify the timbre.\n",
    "\n",
    "The SynthDef."
   ]
  },
  {
   "cell_type": "code",
   "execution_count": 59,
   "id": "1647c2a9",
   "metadata": {
    "vscode": {
     "languageId": "python"
    }
   },
   "outputs": [
    {
     "name": "stdout",
     "output_type": "stream",
     "text": [
      "-> a SynthDef"
     ]
    }
   ],
   "source": [
    "SynthDef(\\pwm, {arg freq=300,duty=0.5,amp=0,gate=0,pan=0,done=2;\n",
    "\t            var sig, env;\n",
    "\t                sig  = Pulse.ar(freq, duty);\n",
    "\t                env  = Linen.kr(gate,doneAction:done);\n",
    "\t                sig  = Pan2.ar(sig * amp * env,pan);\n",
    "\t                Out.ar(0,sig)}\n",
    "        ).add;"
   ]
  },
  {
   "cell_type": "markdown",
   "id": "abd98867",
   "metadata": {},
   "source": [
    "The Synth."
   ]
  },
  {
   "cell_type": "code",
   "execution_count": 60,
   "id": "1a956cf4",
   "metadata": {
    "vscode": {
     "languageId": "python"
    }
   },
   "outputs": [
    {
     "name": "stdout",
     "output_type": "stream",
     "text": [
      "-> Synth('pwm' : 1385)"
     ]
    }
   ],
   "source": [
    "a = Synth(\\pwm, [\\amp,0.5,\\duty,1/2,\\gate,1]);"
   ]
  },
  {
   "cell_type": "markdown",
   "id": "c1df9838",
   "metadata": {},
   "source": [
    "We can change th duty cycle from 0.0 to 0.5.\n",
    "\n",
    "Let's observe how the spectrum changes by set 1/3, 1/4, 1/5 etc."
   ]
  },
  {
   "cell_type": "code",
   "execution_count": 62,
   "id": "837e6905",
   "metadata": {
    "vscode": {
     "languageId": "python"
    }
   },
   "outputs": [
    {
     "name": "stdout",
     "output_type": "stream",
     "text": [
      "-> Synth('pwm' : 1385)"
     ]
    }
   ],
   "source": [
    "a.set(\\duty, 1/4);"
   ]
  },
  {
   "cell_type": "markdown",
   "id": "aee5d0b6",
   "metadata": {},
   "source": [
    "The duty cycle and other parameter control methods are the same as those illustrated previously.\n",
    "\n",
    "Stop and kill."
   ]
  },
  {
   "cell_type": "code",
   "execution_count": 63,
   "id": "434b1e66",
   "metadata": {
    "vscode": {
     "languageId": "python"
    }
   },
   "outputs": [
    {
     "name": "stdout",
     "output_type": "stream",
     "text": [
      "-> Synth('pwm' : 1385)"
     ]
    }
   ],
   "source": [
    "a.set(\\gate, 0);"
   ]
  },
  {
   "cell_type": "markdown",
   "id": "dc51999c",
   "metadata": {},
   "source": [
    "Some variations of this technique.\n",
    "\n",
    "Blip $\\rightarrow$ classic pulse train derived from MusicN languages (buzz) implemented in commercial synthesizers of the 90s.\n",
    "\n",
    "We can define the number of harmonics as an argument.\n",
    "\n",
    "The SynthDef."
   ]
  },
  {
   "cell_type": "code",
   "execution_count": 64,
   "id": "6cb4ae52",
   "metadata": {
    "vscode": {
     "languageId": "python"
    }
   },
   "outputs": [
    {
     "name": "stdout",
     "output_type": "stream",
     "text": [
      "-> a SynthDef"
     ]
    }
   ],
   "source": [
    "SynthDef(\\blip,{arg freq=300,nharm=20,amp=0,gate=0,pan=0,done=2;\n",
    "\t            var sig,env;\n",
    "\t            sig   = Blip.ar(freq, nharm); \n",
    "\t            env   = Linen.kr(gate,doneAction:done);\n",
    "\t            sig   = Pan2.ar(sig*amp*env,pan);\n",
    "\t            Out.ar(0,sig)\n",
    "        }).add;"
   ]
  },
  {
   "cell_type": "markdown",
   "id": "77ae023f",
   "metadata": {},
   "source": [
    "The sequence."
   ]
  },
  {
   "cell_type": "code",
   "execution_count": 65,
   "id": "336f1efc",
   "metadata": {
    "vscode": {
     "languageId": "python"
    }
   },
   "outputs": [
    {
     "name": "stdout",
     "output_type": "stream",
     "text": [
      "-> a Routine"
     ]
    }
   ],
   "source": [
    "a = Synth(\\blip, [\\amp,0.5,\\gate,1]);                   \n",
    "r = Routine({\n",
    "            10.do({\n",
    "                rrand(2,10).do({\n",
    "                a.set(\\freq, [50,57,62].midicps.choose,\n",
    "                      \\nharm,rrand(1,30));\n",
    "                0.1.wait;       \n",
    "                                });\n",
    "            0.2.wait;\n",
    "                  });\n",
    "            a.set(\\gate,0);\n",
    "            }).reset.play;"
   ]
  },
  {
   "cell_type": "markdown",
   "id": "845301ac",
   "metadata": {},
   "source": [
    "Control signal."
   ]
  },
  {
   "cell_type": "code",
   "execution_count": 68,
   "id": "31b8fba4",
   "metadata": {
    "vscode": {
     "languageId": "python"
    }
   },
   "outputs": [
    {
     "name": "stdout",
     "output_type": "stream",
     "text": [
      "-> Synth('blip' : 1390)"
     ]
    }
   ],
   "source": [
    "k = Synth(\\ksig, [\\type,2, \\range, [1, 20], \\freq,1, \\busOut, x]);\n",
    "a = Synth(\\blip, [\\amp,0.5, \\nharm, x.asMap, \\gate,1])"
   ]
  },
  {
   "cell_type": "markdown",
   "id": "b7847d34",
   "metadata": {},
   "source": [
    "Stop and kill:"
   ]
  },
  {
   "cell_type": "code",
   "execution_count": null,
   "id": "3da3d1d9",
   "metadata": {
    "vscode": {
     "languageId": "python"
    }
   },
   "outputs": [
    {
     "name": "stdout",
     "output_type": "stream",
     "text": [
      "-> nil"
     ]
    }
   ],
   "source": [
    "a.set(\\gate,0); k.free; "
   ]
  },
  {
   "cell_type": "markdown",
   "id": "00ced787",
   "metadata": {},
   "source": [
    "We can also realize PWM with different waveforms stored in a Buffer (timbre stretching). "
   ]
  },
  {
   "cell_type": "code",
   "execution_count": 77,
   "id": "a816dbf3",
   "metadata": {
    "vscode": {
     "languageId": "python"
    }
   },
   "outputs": [
    {
     "name": "stdout",
     "output_type": "stream",
     "text": [
      "-> a SynthDef"
     ]
    }
   ],
   "source": [
    "Buffer.freeAll;\n",
    "b = Buffer.alloc(s, 2048);\n",
    "b.sine2([1,3,4,6,8,9],                 // Draw Partial_number\n",
    "        [20,30,10,6,7,3].normalizeSum, // magnitudes\n",
    "        asWavetable: false);  \n",
    "\n",
    "SynthDef(\\wsth,{arg buf=b, freq=500, sfact=1, amp=0,gate=0,pan=0,done=0;\n",
    "\t            var p,f,c,sig,env;\n",
    "\t                p   = BufFrames.kr(buf);                         // Wavetable size (p)\n",
    "\t                f   = sfact;                                     // Stretching factor\n",
    "\t                c   = LFSaw.ar(freq) *  0.5 * p * f + (p * 0.5); // Bipolar phasor (a)\n",
    "\t                sig = BufRd.ar(1,buf,c,1,4);\n",
    "\t                env = Linen.kr(gate,doneAction:done);\n",
    "\t                sig = Pan2.ar(sig*amp*env,pan);\n",
    "\t             Out.ar(0,sig)}\n",
    "         ).add;"
   ]
  },
  {
   "cell_type": "markdown",
   "id": "28f95a99",
   "metadata": {},
   "source": [
    "The Synths."
   ]
  },
  {
   "cell_type": "code",
   "execution_count": 80,
   "id": "560e6a54",
   "metadata": {
    "vscode": {
     "languageId": "python"
    }
   },
   "outputs": [
    {
     "name": "stdout",
     "output_type": "stream",
     "text": [
      "-> Synth('wsth' : 1399)"
     ]
    }
   ],
   "source": [
    "k = Synth(\\ksig, [\\type,0, \\range, [1,10], \\freq,1, \\busOut, x]);\n",
    "a = Synth(\\wsth, [\\buf,b,\\freq,100,\\amp,0.12,\\sfact,x.asMap,\\done,2,\\gate,1]);"
   ]
  },
  {
   "cell_type": "markdown",
   "id": "59840ce9",
   "metadata": {},
   "source": [
    "Fade out and kill."
   ]
  },
  {
   "cell_type": "code",
   "execution_count": null,
   "id": "c91f5c30",
   "metadata": {
    "vscode": {
     "languageId": "python"
    }
   },
   "outputs": [
    {
     "name": "stdout",
     "output_type": "stream",
     "text": [
      "-> Synth('ksig' : 1398)"
     ]
    }
   ],
   "source": [
    "a.set(\\gate,0); k.free;"
   ]
  },
  {
   "cell_type": "markdown",
   "id": "958a315b",
   "metadata": {},
   "source": [
    "### Classic <a synthe=\"classic\"></a>\n",
    "\n",
    "Harmonic and inharmonic spectra.\n",
    "\n",
    "Spectral envelope.\n",
    "\n",
    "The techniques just described belong to the world of digital audio.\n",
    "\n",
    "In the early electroacoustic music studios (Cologne and Milan), additive synthesis was achieved by recording each individual partial and then mixing it with the others.\n",
    "\n",
    "Let's simulate this process defining a SynthDef that play only a single partial."
   ]
  },
  {
   "cell_type": "code",
   "execution_count": 82,
   "id": "253088f5",
   "metadata": {
    "vscode": {
     "languageId": "python"
    }
   },
   "outputs": [
    {
     "name": "stdout",
     "output_type": "stream",
     "text": [
      "-> a SynthDef"
     ]
    }
   ],
   "source": [
    "SynthDef(\\par, {arg freq=500,amp=0,pha=0,dur=1,pan=0,t_gate=0;\n",
    "\t            var sig, env;\n",
    "\t                sig = SinOsc.ar(freq, pha, amp);      \n",
    "\t                env = Env.perc(0.1*dur,0.9*dur);\n",
    "\t                env = EnvGen.ar(env, t_gate, doneAction:2);\n",
    "\t                sig = sig * env;                 \n",
    "                    sig = Pan2.ar(sig, pan);\n",
    "\t            Out.ar(0, sig)\n",
    "         }).add;"
   ]
  },
  {
   "cell_type": "markdown",
   "id": "af9d8346",
   "metadata": {},
   "source": [
    "Then we can define spectra as Arrays and play it through a loop structure."
   ]
  },
  {
   "cell_type": "code",
   "execution_count": 87,
   "id": "c513d70d",
   "metadata": {
    "vscode": {
     "languageId": "python"
    }
   },
   "outputs": [
    {
     "name": "stdout",
     "output_type": "stream",
     "text": [
      "-> 5"
     ]
    }
   ],
   "source": [
    "//~freqs = [1,   3,   4,   5,    8]* 52.midicps;   // Harmonic\n",
    "~freqs = [1169,1733,854, 1596, 1480];              // Inharmonic\n",
    "~amps  = [10,  100,  80,   30,  171].normalizeSum; // Relative amplitudes (sum=1)\n",
    "~dur   = 3;                                        // Overall duration\n",
    "~durs  = [0.1, 0.8,  0.5, 0.3,  1.0] * ~dur;       // Partials durations              \n",
    "\n",
    "~freqs.size.do({arg i;      // loop without .wait                  \n",
    "\t            Synth(\\par, [\\freq, ~freqs[i],\n",
    "\t\t                     \\amp,  ~amps.at(i),\n",
    "\t\t                     \\dur,  ~durs[i],\n",
    "\t\t                     \\t_gate,1])\n",
    "                })"
   ]
  },
  {
   "cell_type": "markdown",
   "id": "4c6ade15",
   "metadata": {},
   "source": [
    "Deterministic sequence."
   ]
  },
  {
   "cell_type": "code",
   "execution_count": 117,
   "id": "a1b0b54c",
   "metadata": {
    "vscode": {
     "languageId": "python"
    }
   },
   "outputs": [
    {
     "name": "stdout",
     "output_type": "stream",
     "text": [
      "-> a Routine"
     ]
    }
   ],
   "source": [
    "~seq = [60,  64, 67, 68, 71, 72].scramble.midicps;\n",
    "~amp = [0.9,0.7,0.5,0.3,0.2,0.1].scramble;\n",
    "~dur = [0.1,0.4,0.2,0.8,0.5,  1].scramble;\n",
    "g    = ~seq.size;\n",
    "\n",
    "u = Routine({var parz, pamp, pdur;\n",
    "                 parz = [ 1,   3,  4,  5,  8];  // Spectrum\n",
    "                 pamp = [10, 100, 80, 30,171].normalizeSum;\n",
    "                 pdur = [0.1,0.8,0.5,0.3,1.0]; \n",
    "                 h    = parz.size;\n",
    "             g.do({ arg i;\n",
    "                    var freq, amps, durs;\n",
    "                        freq = parz * ~seq[i];   \n",
    "                        amps = pamp * ~amp[i];\n",
    "                        durs = pdur * ~dur[i];\n",
    "                        h.do({arg i;                                 \n",
    "\t                        Synth(\\par,[\\freq, freq[i],\n",
    "                                        \\amp,  amps[i],\n",
    "\t\t                                \\dur,  durs[i],\n",
    "\t\t                                \\t_gate, 1])\n",
    "                            });\n",
    "                        0.1.wait;              \n",
    "                    })\n",
    "            }).reset.play;"
   ]
  },
  {
   "cell_type": "markdown",
   "id": "ea6bce16",
   "metadata": {},
   "source": [
    "Random sequence - difference between chords and spectra."
   ]
  },
  {
   "cell_type": "code",
   "execution_count": 118,
   "id": "3e964272",
   "metadata": {
    "vscode": {
     "languageId": "python"
    }
   },
   "outputs": [
    {
     "name": "stdout",
     "output_type": "stream",
     "text": [
      "-> a Routine"
     ]
    }
   ],
   "source": [
    "~bpm = 72;\n",
    "t = TempoClock.new(~bpm/60); \n",
    "r = Routine({\n",
    "             inf.do({var nharm;\n",
    "                     if(0.2.coin==false) // Random rest percentage\n",
    "                       {nharm = rrand(2,9);\n",
    "                        nharm.do({arg i;                                 \n",
    "\t                        Synth(\\par,[\\freq, [70,74,75,78,82,86,90].midicps.choose, // rrand(500,1200), \n",
    "                                            \\amp,  rand(1/nharm),\n",
    "\t\t                            \\dur,  [0.05,0.2,0.4].choose,\n",
    "                                            \\pan, [-1,1].choose,\n",
    "\t\t                            \\t_gate,1])\n",
    "                                });\n",
    "                        };\n",
    "                        [0.125,0.25].choose.wait;              \n",
    "                     })\n",
    "            }).reset.play(t);"
   ]
  },
  {
   "cell_type": "markdown",
   "id": "34c845f9",
   "metadata": {},
   "source": [
    "Stop and kill."
   ]
  },
  {
   "cell_type": "code",
   "execution_count": null,
   "id": "10ee5c74",
   "metadata": {
    "vscode": {
     "languageId": "python"
    }
   },
   "outputs": [
    {
     "name": "stdout",
     "output_type": "stream",
     "text": [
      "-> a Routine"
     ]
    }
   ],
   "source": [
    "r.stop;"
   ]
  },
  {
   "cell_type": "markdown",
   "id": "4fbc70af",
   "metadata": {},
   "source": [
    "## Subtractive <a name=\"subctractive\"></a>  \n",
    "\n",
    "Sound source ranging from white noise to rich spectra filtered by one or more filter(s).\n",
    "\n",
    "The main types are:\n",
    "* Low Pass Filter (LPF)\n",
    "* High Pass Filter (HPF)\n",
    "* Band Pass Filter (BPF)\n",
    "* Band Reject Filter (BRF)\n",
    "* Resonant Filter (Resonz)\n",
    "\n",
    "In SuperCollider are all 2nd order Butterworth filters (-12 dB/oct).\n",
    "\n",
    "We can control cut/central frequency (Hz).\n",
    "\n",
    "In BPF, BRF and Resonz we can also control the bandwidth (reciprocal of Q).\n",
    "* low values $\\rightarrow$ narrow band .\n",
    "* high values $\\rightarrow$ wide band).\n",
    "\n",
    "Let's define:\n",
    "* one SynthDef for signal source.\n",
    "  - we can switch among three types (0 = whitenoise, 1 = sawtoothwave, 2 = soundfile)\n",
    "  - we can select the bus out.\n",
    "* one SynthDef for each filter type.\n",
    "  - we can select the bus in and the bus out.\n",
    "\n",
    "In SuperCollider there are many audio buses.\n",
    "\n",
    "In a stereo system:\n",
    "* public buses $\\rightarrow$ 0 and 1 (L and R)\n",
    "* private buses $\\rightarrow$ 2 and up.\n",
    "\n",
    "A simple signal flow.\n",
    "\n",
    "<!---<center><img src=\"img/feld.png\" width=\"10%\"></center>--->\n",
    "\n",
    "<div style=\"width:25%; margin-left: auto; margin-right: auto\">\n",
    "\n",
    "![](img/filt_1.png)\n",
    "\n",
    "</div>\n",
    "   \n",
    "The SynthDefs."
   ]
  },
  {
   "cell_type": "code",
   "execution_count": 126,
   "id": "049f3311",
   "metadata": {
    "vscode": {
     "languageId": "python"
    }
   },
   "outputs": [
    {
     "name": "stdout",
     "output_type": "stream",
     "text": [
      "-> Synth('lpf' : 2222)"
     ]
    }
   ],
   "source": [
    "Buffer.freeAll;\n",
    "b = Buffer.read(s, \"/Users/andreavigani/Desktop/GHub/EMC/3_fixed/suoni/bach.wav\");\n",
    "\n",
    "SynthDef(\\lpf, {arg freq=500, amp=0, busIn=2, busOut=0, pan= -1;\n",
    "\t            var sig;\n",
    "\t                sig = In.ar(busIn);\n",
    "                    sig = LPF.ar(sig, freq) * amp; \n",
    "                    sig = Pan2.ar(sig, pan);    \n",
    "\t            Out.ar(busOut, sig)\n",
    "         }).add;\n",
    "SynthDef(\\hpf, {arg freq=500, amp=0, busIn=2, busOut=0, pan= -1;\n",
    "\t            var sig;\n",
    "\t                sig = In.ar(busIn);\n",
    "                    sig = HPF.ar(sig, freq) * amp;   \n",
    "                    sig = Pan2.ar(sig, pan);  \n",
    "\t            Out.ar(busOut, sig)\n",
    "         }).add;\n",
    "SynthDef(\\bpf, {arg freq=500, amp=0, bw=1, busIn=2, busOut=0, pan= -1;\n",
    "\t            var sig;\n",
    "\t                sig = In.ar(busIn);\n",
    "                    sig = BPF.ar(sig, freq, bw) * amp;\n",
    "                    sig = Pan2.ar(sig, pan);     \n",
    "\t            Out.ar(busOut, sig)\n",
    "         }).add;\n",
    "SynthDef(\\brf, {arg freq=500, amp=0,  bw=1, busIn=2, busOut=0, pan= -1;\n",
    "\t            var sig;\n",
    "\t                sig = In.ar(busIn);\n",
    "                    sig = BRF.ar(sig, freq,bw) * amp;    \n",
    "                    sig = Pan2.ar(sig, pan); \n",
    "\t            Out.ar(busOut, sig)\n",
    "         }).add;\n",
    "SynthDef(\\res, {arg freq=500, amp=0,  bw=1, busIn=2, busOut=0, pan= -1;\n",
    "\t            var sig;\n",
    "\t                sig = In.ar(busIn);\n",
    "                    sig = BRF.ar(sig, freq,bw) * amp;\n",
    "                    sig = Pan2.ar(sig, pan);     \n",
    "\t            Out.ar(busOut, sig)\n",
    "         }).add;"
   ]
  },
  {
   "cell_type": "markdown",
   "id": "0e9c5f54",
   "metadata": {},
   "source": [
    "Now we can test it.\n",
    "\n",
    "The Synths (in right order)."
   ]
  },
  {
   "cell_type": "code",
   "execution_count": 146,
   "id": "1404830a",
   "metadata": {
    "vscode": {
     "languageId": "python"
    }
   },
   "outputs": [
    {
     "name": "stdout",
     "output_type": "stream",
     "text": [
      "-> Synth('lpf' : 2233)"
     ]
    }
   ],
   "source": [
    "a = Synth(\\srcs, [\\type,1, \\buf,b, \\amp,1, \\busOut,12, \\gate,1]);\n",
    "f = Synth(\\lpf,  [\\freq,1000, \\amp,1, \\busIn,12, \\busOut,0, \\pan, -1],s,\\addToTail);"
   ]
  },
  {
   "cell_type": "markdown",
   "id": "1135027e",
   "metadata": {},
   "source": [
    "Change the filter cutting frequency parameter in the usual ways."
   ]
  },
  {
   "cell_type": "code",
   "execution_count": 160,
   "id": "a539435f",
   "metadata": {
    "vscode": {
     "languageId": "python"
    }
   },
   "outputs": [
    {
     "name": "stdout",
     "output_type": "stream",
     "text": [
      "1280\n",
      "-> Synth('lpf' : 2235)"
     ]
    }
   ],
   "source": [
    "f.set(\\freq, rrand(200,2000).postln);"
   ]
  },
  {
   "cell_type": "markdown",
   "id": "6d2c0c87",
   "metadata": {},
   "source": [
    "Stop and kill."
   ]
  },
  {
   "cell_type": "code",
   "execution_count": 161,
   "id": "6fde376d",
   "metadata": {
    "vscode": {
     "languageId": "python"
    }
   },
   "outputs": [
    {
     "name": "stdout",
     "output_type": "stream",
     "text": [
      "1849\n",
      "-> Synth('lpf' : 2235)"
     ]
    }
   ],
   "source": [
    "a.set(\\gate, 0); f.free;"
   ]
  },
  {
   "cell_type": "markdown",
   "id": "80c8de75",
   "metadata": {},
   "source": [
    "We can sculpt the spectrum using filter banks in two combinations:\n",
    "\n",
    "1. series $\\rightarrow$ output of one filter is the input of the next until the public output."
   ]
  },
  {
   "cell_type": "code",
   "execution_count": null,
   "id": "aeb1156d",
   "metadata": {
    "vscode": {
     "languageId": "python"
    }
   },
   "outputs": [
    {
     "name": "stdout",
     "output_type": "stream",
     "text": [
      "-> Synth('brf' : 2239)"
     ]
    }
   ],
   "source": [
    "a = Synth(\\srcs, [\\type,5,   \\buf,b, \\amp, 1,             \\busOut,12,             \\gate, 1]);\n",
    "b = Synth(\\lpf,  [\\freq,100,         \\amp,0.6, \\busIn,12, \\busOut,13, \\pan, -1],s,\\addToTail);\n",
    "c = Synth(\\brf,  [\\freq,800, \\bw, 2, \\amp,0.6, \\busIn,13, \\busOut,14, \\pan, -1],s,\\addToTail);\n",
    "d = Synth(\\brf,  [\\freq,800, \\bw, 1, \\amp,2.5, \\busIn,14, \\busOut,0,  \\pan, 0],s,\\addToTail);\n",
    "                    \n",
    "r = Routine({\n",
    "            inf.do({\n",
    "                    b.set(\\freq, rrand(8000,12000)); \n",
    "                    c.set(\\freq,rrand(200,1000));\n",
    "                    d.set(\\freq,rrand(800,3000));\n",
    "                    0.25.wait;\n",
    "                    })\n",
    "            }).reset.play"
   ]
  },
  {
   "cell_type": "markdown",
   "id": "4c7f8a4d",
   "metadata": {},
   "source": [
    "Stop it and kill."
   ]
  },
  {
   "cell_type": "code",
   "execution_count": null,
   "id": "ae0d62f9",
   "metadata": {
    "vscode": {
     "languageId": "python"
    }
   },
   "outputs": [
    {
     "name": "stdout",
     "output_type": "stream",
     "text": [
      "-> a Routine"
     ]
    }
   ],
   "source": [
    "r.stop; a.set(\\gate, 0);  b.free; c.free; d.free;"
   ]
  },
  {
   "cell_type": "markdown",
   "id": "09330e5b",
   "metadata": {},
   "source": [
    "2. parallel $\\rightarrow$  output of source is the input of all filters, ouputs of filters mix together."
   ]
  },
  {
   "cell_type": "code",
   "execution_count": 174,
   "id": "e5e3b196",
   "metadata": {
    "vscode": {
     "languageId": "python"
    }
   },
   "outputs": [
    {
     "name": "stdout",
     "output_type": "stream",
     "text": [
      "-> Synth('bpf' : 2259)"
     ]
    }
   ],
   "source": [
    "~bw     = 0.1;    // Try to change\n",
    "~amp    = 1;\n",
    "~source = 5;\n",
    "~rib    = 0.1;\n",
    "\n",
    "a = Synth(\\srcs, [\\type,~source, \\buf,b,\\amp,   1,            \\busOut,12, \\gate, 1]);\n",
    "b = Synth(\\bpf,  [\\freq,100, \\bw, ~bw,  \\amp,~amp, \\busIn,12,  \\busOut,0, \\pan, -1],s,\\addToTail);\n",
    "c = Synth(\\bpf,  [\\freq,800, \\bw, ~bw,  \\amp,~amp, \\busIn,12,  \\busOut,0, \\pan, -1],s,\\addToTail);\n",
    "d = Synth(\\bpf,  [\\freq,800, \\bw, ~bw,  \\amp,~amp, \\busIn,12,  \\busOut,0, \\pan, 0],s,\\addToTail);\n",
    "                    \n",
    "r = Routine({\n",
    "            inf.do({\n",
    "                    b.set(\\freq, rrand(100,700)); \n",
    "                    c.set(\\freq,rrand(1700,2100));\n",
    "                    d.set(\\freq,rrand(3000,3100));\n",
    "                    ~rib.wait;\n",
    "                    })\n",
    "            }).reset.play"
   ]
  },
  {
   "cell_type": "markdown",
   "id": "36469bcc",
   "metadata": {},
   "source": [
    "Stop and kill."
   ]
  },
  {
   "cell_type": "code",
   "execution_count": 175,
   "id": "5373ad58",
   "metadata": {
    "vscode": {
     "languageId": "python"
    }
   },
   "outputs": [
    {
     "name": "stdout",
     "output_type": "stream",
     "text": [
      "-> a Routine"
     ]
    }
   ],
   "source": [
    "r.stop; a.set(\\gate, 0); b.free; c.free; d.free;"
   ]
  },
  {
   "cell_type": "markdown",
   "id": "63fecda9",
   "metadata": {},
   "source": [
    "In SuperCollider there are also pre builded filterbanks which can be used to simulate the resonant modes of an object.\n",
    "\n",
    "The SynthDef."
   ]
  },
  {
   "cell_type": "code",
   "execution_count": 181,
   "id": "239f277c",
   "metadata": {
    "vscode": {
     "languageId": "python"
    }
   },
   "outputs": [
    {
     "name": "stdout",
     "output_type": "stream",
     "text": [
      "-> a SynthDef"
     ]
    }
   ],
   "source": [
    "SynthDef(\\reson, {arg freqs=#[800, 1071, 1153, 1723],\n",
    "                      amps=#[0.1,0.1,0.1,0.1],\n",
    "                      ringtimes=#[1, 1, 1, 1],\n",
    "                      busIn=2,\n",
    "                      busOut=0,\n",
    "                      pan=0;\n",
    "                  var in, sig;\n",
    "                      in  =  In.ar(busIn);\n",
    "                      sig = DynKlank.ar(`[freqs, amps, ringtimes ], in);\n",
    "                      sig = Pan2.ar(sig, pan); \n",
    "                  Out.ar(busOut, sig);\n",
    "}).add;"
   ]
  },
  {
   "cell_type": "markdown",
   "id": "fe54ce13",
   "metadata": {},
   "source": [
    "The Synths."
   ]
  },
  {
   "cell_type": "code",
   "execution_count": 203,
   "id": "058306fd",
   "metadata": {
    "vscode": {
     "languageId": "python"
    }
   },
   "outputs": [
    {
     "name": "stdout",
     "output_type": "stream",
     "text": [
      "-> Synth('reson' : 2269)"
     ]
    }
   ],
   "source": [
    "e = Synth(\\srcs,  [\\type, 2,\\freq,3,\\amp,0.5,\\busOut,12,\\gate,1]);\n",
    "a = Synth(\\reson, [\\busIn,12, \\busOut,0,\\pan,0], s, \\addToTail);"
   ]
  },
  {
   "cell_type": "markdown",
   "id": "0b739d63",
   "metadata": {},
   "source": [
    "Change resonator parameter."
   ]
  },
  {
   "cell_type": "code",
   "execution_count": 205,
   "id": "0309ed15",
   "metadata": {
    "vscode": {
     "languageId": "python"
    }
   },
   "outputs": [
    {
     "name": "stdout",
     "output_type": "stream",
     "text": [
      "-> Synth('reson' : 2271)"
     ]
    }
   ],
   "source": [
    "a.setn(\\freqs, Array.rand(4, 500, 9000));\n",
    "a.setn(\\amps, Array.rand(4, 0.1, 1));\n",
    "a.setn(\\ringtimes, Array.rand(4, 0.2, 2.4) );"
   ]
  },
  {
   "cell_type": "markdown",
   "id": "b2f136ce",
   "metadata": {},
   "source": [
    "Change source.\n",
    "1. $\\rightarrow$ White Noise.\n",
    "3. $\\rightarrow$ Impulse.Dust.\n",
    "2. $\\rightarrow$ Dust."
   ]
  },
  {
   "cell_type": "code",
   "execution_count": 210,
   "id": "ebf3be35",
   "metadata": {
    "vscode": {
     "languageId": "python"
    }
   },
   "outputs": [
    {
     "name": "stdout",
     "output_type": "stream",
     "text": [
      "-> Synth('srcs' : 2270)"
     ]
    }
   ],
   "source": [
    "e.set(\\type,3,\\amp,0.1);"
   ]
  },
  {
   "cell_type": "markdown",
   "id": "bde1b606",
   "metadata": {},
   "source": [
    "Fade out and kill."
   ]
  },
  {
   "cell_type": "code",
   "execution_count": 211,
   "id": "0bce8789",
   "metadata": {
    "vscode": {
     "languageId": "python"
    }
   },
   "outputs": [
    {
     "name": "stdout",
     "output_type": "stream",
     "text": [
      "-> Synth('srcs' : 2270)"
     ]
    }
   ],
   "source": [
    "e.set(\\gate,0); a.free;"
   ]
  },
  {
   "cell_type": "markdown",
   "id": "cf7319d3",
   "metadata": {},
   "source": [
    "## FM <a name=\"fm\"></a>\n",
    "\n",
    "In additive synthesis and in some cases in subtractive synthesis the signals are added together to obtain complex spectra.\n",
    "\n",
    "The computational cost is high since for each partial or filter we have to generate a UGen.\n",
    "\n",
    "Through the different basic modulation techniques (RM, AM, FM and PM) we can obtain equally rich spectra with only two signals:\n",
    "* carrier\n",
    "* modular\n",
    "\n",
    "In this paragraph we explore characteristics of frequency modulation (FM) which in its most basic form consists of using a rescaled sinusoidal control signal (modular) to dynamically vary the frequency of a sinusoid (carrier).\n",
    "\n",
    "Three parameters;\n",
    "* carrier frequency (Hz).\n",
    "* modular frequency $\\rightarrow$ MouseX from 2 to 500 Hz.\n",
    "* deviation from carrier frequency  (ampitude of modular signal) $\\rightarrow$ MouseY from 2 to 500 Hz.\n",
    "\n",
    "If the frequency of modular signal is sub audio and deviation is under ~5 Hz $\\rightarrow$ 'vibrato effect'."
   ]
  },
  {
   "cell_type": "code",
   "execution_count": 218,
   "id": "c9b2135e",
   "metadata": {
    "vscode": {
     "languageId": "python"
    }
   },
   "outputs": [
    {
     "name": "stdout",
     "output_type": "stream",
     "text": [
      "-> Synth('fm_1' : 2273)"
     ]
    }
   ],
   "source": [
    "SynthDef(\\fm_1, {arg carf=440;\n",
    "\t             var modf, dev, mod, car;\n",
    "                    modf = MouseX.kr(1,500);\n",
    "                    dev  = MouseY.kr(1,500);\n",
    "\t                mod = carf + (SinOsc.ar(modf) * dev);\n",
    "\t                car = SinOsc.ar(mod);\n",
    "\t             Out.ar(0,car*0.3)\n",
    "                 }).add;"
   ]
  },
  {
   "cell_type": "markdown",
   "id": "6eaf280a",
   "metadata": {},
   "source": [
    "The Synth."
   ]
  },
  {
   "cell_type": "code",
   "execution_count": 219,
   "id": "d9fcbd86",
   "metadata": {
    "vscode": {
     "languageId": "python"
    }
   },
   "outputs": [
    {
     "name": "stdout",
     "output_type": "stream",
     "text": [
      "-> a SynthDef"
     ]
    }
   ],
   "source": [
    "a = Synth(\\fm_1);"
   ]
  },
  {
   "cell_type": "markdown",
   "id": "7d37f7b4",
   "metadata": {},
   "source": [
    "We can already recognize the characteristic sound of this technique\n",
    "\n",
    "Kill the Synth."
   ]
  },
  {
   "cell_type": "code",
   "execution_count": 220,
   "id": "932f3c69",
   "metadata": {
    "vscode": {
     "languageId": "python"
    }
   },
   "outputs": [
    {
     "name": "stdout",
     "output_type": "stream",
     "text": [
      "-> Synth('fm_1' : 2274)"
     ]
    }
   ],
   "source": [
    "a.free;"
   ]
  },
  {
   "cell_type": "markdown",
   "id": "6b4453a2",
   "metadata": {},
   "source": [
    "In classic FM algorithm we can control:\n",
    "* modulation index $\\rightarrow$ quantity of modulation.\n",
    "* harmonicity index $\\rightarrow$ quality of modulation.\n",
    "\n",
    "We can realize a lot of different sounds changing only these two parameters."
   ]
  },
  {
   "cell_type": "code",
   "execution_count": 233,
   "id": "f6734497",
   "metadata": {
    "vscode": {
     "languageId": "python"
    }
   },
   "outputs": [
    {
     "name": "stdout",
     "output_type": "stream",
     "text": [
      "-> a SynthDef"
     ]
    }
   ],
   "source": [
    "SynthDef(\\fm, {arg freq=440, amp=0, hid=0, mid=0, grain=0.001, pan=0, gate=0;\n",
    "\t            var mod, fmod, por, env, sig;\n",
    "\t                fmod = freq * hid.round(grain);\n",
    "\t                mod  = freq + (SinOsc.ar(fmod) * fmod * mid);\n",
    "\t                por  = SinOsc.ar(mod);\n",
    "\t                env  = Linen.kr(gate, doneAction:2);\n",
    "                    sig  = por * amp * env;\n",
    "                    sig  = Pan2.ar(sig, pan);\n",
    "\t            Out.ar(0, sig)\n",
    "                }).add;"
   ]
  },
  {
   "cell_type": "markdown",
   "id": "91d1649a",
   "metadata": {},
   "source": [
    "Let's explore it with mouse position."
   ]
  },
  {
   "cell_type": "code",
   "execution_count": 241,
   "id": "ff6ecca5",
   "metadata": {
    "vscode": {
     "languageId": "python"
    }
   },
   "outputs": [
    {
     "name": "stdout",
     "output_type": "stream",
     "text": [
      "-> Synth('ksig' : 2281)"
     ]
    }
   ],
   "source": [
    "k = Synth(\\ksig, [\\type,0, \\range, [0, 15], \\busOut, x]); // Harmonicity index\n",
    "j = Synth(\\ksig, [\\type,1, \\range, [0, 25], \\busOut, y]); // Modulation index\n",
    "a = Synth(\\fm,   [\\freq,200, \\amp,0.4, \\hid,x.asMap, \\mid,y.asMap, \\gate,1]);"
   ]
  },
  {
   "cell_type": "markdown",
   "id": "ea787b24",
   "metadata": {},
   "source": [
    "Fade out and kill."
   ]
  },
  {
   "cell_type": "code",
   "execution_count": 242,
   "id": "606250aa",
   "metadata": {
    "vscode": {
     "languageId": "python"
    }
   },
   "outputs": [
    {
     "name": "stdout",
     "output_type": "stream",
     "text": [
      "-> Synth('fm' : 2285)"
     ]
    }
   ],
   "source": [
    "a.set(\\gate,0); k.free; j.free;"
   ]
  },
  {
   "cell_type": "markdown",
   "id": "d7d17e24",
   "metadata": {},
   "source": [
    "I suggest exploring the sonic potential of this technique empirically through mouse controls.\n",
    "\n",
    "The x and y positions of the mouse could be dynamically reported in the Post window with '.poll' method invoked on MouseX and MouseY UGens in \\ksig SynthDef.\n",
    "\n",
    "When we hear a sound that interests us we can write it down.\n",
    "\n",
    "We can then recall them and eventually interpolate them with other sounds through envelopes or other.\n",
    "\n",
    "One Example."
   ]
  },
  {
   "cell_type": "code",
   "execution_count": 243,
   "id": "a14057d2",
   "metadata": {
    "vscode": {
     "languageId": "python"
    }
   },
   "outputs": [
    {
     "name": "stdout",
     "output_type": "stream",
     "text": [
      "-> Synth('ksig' : 2284)"
     ]
    }
   ],
   "source": [
    "SynthDef(\\env, {arg levels=#[0,1,0.5,0.7,0], times=#[1,1,1,1], dur=1, busOut=0, t_gate=0;\n",
    "                var env;\n",
    "                    env = Env.new(levels,times.normalizeSum * dur);\n",
    "                    env = EnvGen.kr(env, t_gate);\n",
    "                Out.kr(busOut,env)\n",
    "}).add;"
   ]
  },
  {
   "cell_type": "markdown",
   "id": "befb4f80",
   "metadata": {},
   "source": [
    "The Synths."
   ]
  },
  {
   "cell_type": "code",
   "execution_count": 244,
   "id": "6e76356f",
   "metadata": {
    "vscode": {
     "languageId": "python"
    }
   },
   "outputs": [
    {
     "name": "stdout",
     "output_type": "stream",
     "text": [
      "-> a SynthDef"
     ]
    }
   ],
   "source": [
    "h = Synth(\\env,[\\levels, [3.5,3.4,3.6,3.7,3.35],  // Harmonicity index\n",
    "                \\times,  [3,4,2,5],\n",
    "                \\dur, 40,\n",
    "                \\busOut, x]); // write on control bus\n",
    "i = Synth(\\env,[\\levels, [0,1,0.5,1.2,0.7],       // Modulation index\n",
    "                \\times,   [1,4,9,5],\n",
    "                \\dur, 42,\n",
    "                \\busOut, y]); // write on control bus\n",
    "\n",
    "a = Synth(\\fm, [\\freq,100, \\amp,0.4, \\hid,x.asMap, \\mid,y.asMap]);\n",
    "                \n",
    "r = Routine.new({\n",
    "                a.set(\\gate,1);\n",
    "                h.set(\\t_gate,1); \n",
    "                i.set(\\t_gate,1);\n",
    "                50.wait; \n",
    "                a.release(8);h.free;i.free;k.free;j.free;\n",
    "                }).reset.play"
   ]
  },
  {
   "cell_type": "markdown",
   "id": "72b66ac2",
   "metadata": {},
   "source": [
    "## FFT <a name=\"fft\"></a> \n",
    "\n",
    "Some classical techniques related to the analysis and resynthesis of sound via the Fast Fourier Transform.\n",
    "\n",
    "We analyze a signal by transforming it from time domain to frequency domain obtaining values of:\n",
    "* magnitude\n",
    "* phase\n",
    "\n",
    "of a set of equidistant frequencies (bins) within the spectrum (think of them as the teeth of a comb).\n",
    "\n",
    "We can manipulate these values in various ways and then bring them back into the time domain for playback.\n",
    "\n",
    "There are two main procedures:\n",
    "* analyze, process, and resynthesize a single signal.\n",
    "* analyze two signals combine the data in various ways and resynthesize the result.\n",
    "\n",
    "In SuperCollider there ia a set of Classes dedicated to Phase Vocoder which is a historical FFT analysis and resynthesis technique.\n",
    "\n",
    "To use classes in these examples download and install [sc3-plugins](https://supercollider.github.io/sc3-plugins/).\n",
    "\n",
    "Be careful because FFT processes are CPU expensive."
   ]
  },
  {
   "cell_type": "markdown",
   "id": "029c656f",
   "metadata": {},
   "source": [
    "#### Spectral Delay \n",
    "\n",
    "We can dynamically change delay time without pitch artefacts.\n",
    "\n",
    "The SynthDef."
   ]
  },
  {
   "cell_type": "code",
   "execution_count": null,
   "id": "d3fae250",
   "metadata": {
    "vscode": {
     "languageId": "python"
    }
   },
   "outputs": [
    {
     "name": "stdout",
     "output_type": "stream",
     "text": [
      "-> Synth('ksig' : 2322)"
     ]
    }
   ],
   "source": [
    "SynthDef(\\sdel,{arg busIn=0,busOut=0,amp=0.5,fadeT=0.5,gate=0,pan=0,maxdel=1,del= 0;\n",
    "\t            var in,size,chain,env,sig;\n",
    "\t                in    = In.ar(busIn,1);          \n",
    "\t                size  = 2048;\n",
    "\t                chain = FFT(LocalBuf(size), in);                  // analysis\n",
    "\t                chain = chain.pvcollect(size, {arg mag,fasi,bin;  // process\n",
    "               [mag + DelayN.kr(mag, maxdel, del.linlin(0,1,0,maxdel)), \n",
    "                fasi] },0,256,-1);\n",
    "\t                env = Linen.kr(gate,fadeT,1,fadeT,doneAction:2);\n",
    "\t                sig = IFFT(chain) * env * amp;                   // resynth\n",
    "\t                sig = Pan2.ar(sig, pan);\n",
    "\t            Out.ar(busOut, sig);\n",
    "         }).add;"
   ]
  },
  {
   "cell_type": "markdown",
   "id": "9f2050ac",
   "metadata": {},
   "source": [
    "The Synths."
   ]
  },
  {
   "cell_type": "code",
   "execution_count": null,
   "id": "39ef8417",
   "metadata": {
    "vscode": {
     "languageId": "python"
    }
   },
   "outputs": [
    {
     "name": "stdout",
     "output_type": "stream",
     "text": [
      "-> a SynthDef"
     ]
    }
   ],
   "source": [
    "Buffer.freeAll;\n",
    "b = Buffer.read(s, \"/Users/andreavigani/Desktop/GHub/EMC/3_fixed/suoni/bach.wav\");\n",
    "\n",
    "k = Synth(\\ksig, [\\type, 0, \\range, [0, 1], \\busOut,x]); // Normalized on maxdel\n",
    "e = Synth(\\srcs, [\\type, 5, \\amp,1, \\buf,b, \\busOut,12, \\gate,1 ],s,'addToTail');\n",
    "a = Synth(\\sdel, [\\busIn,12, \\amp,1, \\maxdel,5, \\del,x.asMap, \\gate,1],s,'addToTail');"
   ]
  },
  {
   "cell_type": "markdown",
   "id": "7a0a42cf",
   "metadata": {},
   "source": [
    "Fade out and kill."
   ]
  },
  {
   "cell_type": "code",
   "execution_count": 260,
   "id": "fe880251",
   "metadata": {
    "vscode": {
     "languageId": "python"
    }
   },
   "outputs": [
    {
     "name": "stdout",
     "output_type": "stream",
     "text": [
      "-> Synth('sdel' : 2306)"
     ]
    }
   ],
   "source": [
    "k.free; e.set(\\gate,0); a.set(\\gate,0);"
   ]
  },
  {
   "cell_type": "markdown",
   "id": "6a08051c",
   "metadata": {},
   "source": [
    "#### BrickWall filter \n",
    "\n",
    "Only bins above or below a threshold between +/-1 pass.\n",
    "\n",
    "We can define ideal low and high pass filters."
   ]
  },
  {
   "cell_type": "code",
   "execution_count": 262,
   "id": "48ca3a90",
   "metadata": {
    "vscode": {
     "languageId": "python"
    }
   },
   "outputs": [
    {
     "name": "stdout",
     "output_type": "stream",
     "text": [
      "-> a SynthDef"
     ]
    }
   ],
   "source": [
    "SynthDef(\\bwall, {arg busIn=0,busOut=0,amp=0.5,fadeT=0.5,gate=0,pan=0,lpf=20000,hpf=20;\n",
    "\t              var in,size,chain,env,sig;\n",
    "\t                  in    = In.ar(busIn,1);          \n",
    "\t\t              size  = 2048;\n",
    "\t                  chain = FFT(LocalBuf(size), in);\n",
    "\t                  chain = PV_BrickWall(chain, lpf.linlin(20,20000,-1,0)); // Low pass\n",
    "\t                  chain = PV_BrickWall(chain, hpf.linlin(20,20000,0,1));  // High pass\n",
    "\t                  env   = Linen.kr(gate,fadeT,1,fadeT,doneAction:2);\n",
    "\t                  sig   = IFFT(chain) * env * amp;\n",
    "\t                  sig   = Pan2.ar(sig, pan);\n",
    "\t              Out.ar(busOut, sig);\n",
    "         }).add;"
   ]
  },
  {
   "cell_type": "markdown",
   "id": "32b14de8",
   "metadata": {},
   "source": [
    "The Synths."
   ]
  },
  {
   "cell_type": "code",
   "execution_count": 266,
   "id": "2e9f2929",
   "metadata": {
    "vscode": {
     "languageId": "python"
    }
   },
   "outputs": [
    {
     "name": "stdout",
     "output_type": "stream",
     "text": [
      "-> Synth('bwall' : 2308)"
     ]
    }
   ],
   "source": [
    "e = Synth(\\srcs,  [\\type, 5,  \\amp,1, \\buf,b, \\busOut,12, \\gate,1 ]);\n",
    "a = Synth(\\bwall, [\\busIn,12, \\amp,1, \\lpf,6000, \\hpf, 1000, \\gate,1],s,'addToTail');"
   ]
  },
  {
   "cell_type": "markdown",
   "id": "ab30074f",
   "metadata": {},
   "source": [
    "Change filter freqs."
   ]
  },
  {
   "cell_type": "code",
   "execution_count": 267,
   "id": "3d60deab",
   "metadata": {
    "vscode": {
     "languageId": "python"
    }
   },
   "outputs": [
    {
     "name": "stdout",
     "output_type": "stream",
     "text": [
      "-> Synth('bwall' : 2310)"
     ]
    }
   ],
   "source": [
    "a.set(\\lpf, 500, \\hpf,200);"
   ]
  },
  {
   "cell_type": "markdown",
   "id": "881b416f",
   "metadata": {},
   "source": [
    "Dynamically (mouse x and y)."
   ]
  },
  {
   "cell_type": "code",
   "execution_count": 268,
   "id": "45b833d3",
   "metadata": {
    "vscode": {
     "languageId": "python"
    }
   },
   "outputs": [
    {
     "name": "stdout",
     "output_type": "stream",
     "text": [
      "-> Synth('bwall' : 2310)"
     ]
    }
   ],
   "source": [
    "k = Synth(\\ksig, [\\type,0, \\range, [500,10000], \\busOut,x]);\n",
    "j = Synth(\\ksig, [\\type,0, \\range, [200, 1000], \\busOut,y]);\n",
    "\n",
    "a.set(\\lpf, x.asMap, \\hpf, y.asMap);"
   ]
  },
  {
   "cell_type": "markdown",
   "id": "dc4d0097",
   "metadata": {},
   "source": [
    "Fade out and kill."
   ]
  },
  {
   "cell_type": "code",
   "execution_count": 269,
   "id": "51e58ee5",
   "metadata": {
    "vscode": {
     "languageId": "python"
    }
   },
   "outputs": [
    {
     "name": "stdout",
     "output_type": "stream",
     "text": [
      "-> Synth('bwall' : 2310)"
     ]
    }
   ],
   "source": [
    "e.set(\\gate,0);a.set(\\gate,0);k.free;j.free;"
   ]
  },
  {
   "cell_type": "markdown",
   "id": "d49e8402",
   "metadata": {},
   "source": [
    "#### Rect Comb filter \n",
    "\n",
    "Make gaps in spectrum.\n",
    "* teeth $\\rightarrow$ number of teeth in the comb.\n",
    "* fase $\\rightarrow$ starting phase of comb pulse.\n",
    "* width $\\rightarrow$ pulse width of the comb."
   ]
  },
  {
   "cell_type": "code",
   "execution_count": 715,
   "id": "0872abc0",
   "metadata": {
    "vscode": {
     "languageId": "python"
    }
   },
   "outputs": [
    {
     "name": "stdout",
     "output_type": "stream",
     "text": [
      "Buffer UGen: no buffer data\n",
      "-> a SynthDef"
     ]
    }
   ],
   "source": [
    "SynthDef(\\rcomb, {arg busIn=0,busOut=0,amp=0.5,fadeT=0.5,gate=0,pan=0,teeth=10,fase=0,width=0.5;\n",
    "\t              var in,size,chain,env,sig;\n",
    "\t                  in    = In.ar(busIn,1);        \n",
    "\t\t              size  = 2048;\n",
    "\t                  chain = FFT(LocalBuf(size), in);\n",
    "\t                  chain = PV_RectComb(chain, teeth, fase, width);\n",
    "\t                  env   = Linen.kr(gate,fadeT,1,fadeT,doneAction:2);\n",
    "\t                  sig   = IFFT(chain) * env * amp;\n",
    "\t                  sig   = Pan2.ar(sig, pan);\n",
    "\t              Out.ar(busOut, sig);\n",
    "         }).add;"
   ]
  },
  {
   "cell_type": "markdown",
   "id": "5d85bd74",
   "metadata": {},
   "source": [
    "The Synths."
   ]
  },
  {
   "cell_type": "code",
   "execution_count": 716,
   "id": "8dc3d2aa",
   "metadata": {
    "vscode": {
     "languageId": "python"
    }
   },
   "outputs": [
    {
     "name": "stdout",
     "output_type": "stream",
     "text": [
      "-> a SynthDef"
     ]
    }
   ],
   "source": [
    "e = Synth(\\srcs,  [\\type, 5, \\amp,1, \\buf,b, \\busOut,12, \\gate,1 ]);\n",
    "a = Synth(\\rcomb, [\\busIn,12, \\amp,1, \\gate,1],s,'addToTail');"
   ]
  },
  {
   "cell_type": "markdown",
   "id": "26ca53f1",
   "metadata": {},
   "source": [
    "Change phases."
   ]
  },
  {
   "cell_type": "code",
   "execution_count": 727,
   "id": "b9c00361",
   "metadata": {
    "vscode": {
     "languageId": "python"
    }
   },
   "outputs": [
    {
     "name": "stdout",
     "output_type": "stream",
     "text": [
      "0.97739613056183\n",
      "-> Synth('rcomb' : 2035)"
     ]
    }
   ],
   "source": [
    "a.set(\\fase,rand(1.0).postln);"
   ]
  },
  {
   "cell_type": "markdown",
   "id": "b75eabf4",
   "metadata": {},
   "source": [
    "Change width and teeth dynamically."
   ]
  },
  {
   "cell_type": "code",
   "execution_count": 728,
   "id": "a4aa0413",
   "metadata": {
    "vscode": {
     "languageId": "python"
    }
   },
   "outputs": [
    {
     "name": "stdout",
     "output_type": "stream",
     "text": [
      "0.40265238285065\n",
      "-> Synth('rcomb' : 2035)"
     ]
    }
   ],
   "source": [
    "k = Synth(\\ksig, [\\type,0, \\range, [0.01, 0.5], \\busOut,x]);\n",
    "j = Synth(\\ksig, [\\type,0, \\range, [1, 30], \\busOut,y]);\n",
    "\n",
    "a.set(\\width, x.asMap, \\teeth, y.asMap);"
   ]
  },
  {
   "cell_type": "markdown",
   "id": "f7b61104",
   "metadata": {},
   "source": [
    "Fade out and kill."
   ]
  },
  {
   "cell_type": "code",
   "execution_count": 713,
   "id": "8f8fe7e8",
   "metadata": {
    "vscode": {
     "languageId": "python"
    }
   },
   "outputs": [
    {
     "name": "stdout",
     "output_type": "stream",
     "text": [
      "-> a SynthDef"
     ]
    }
   ],
   "source": [
    "e.set(\\gate,0);a.set(\\gate,0);k.free;j.free;"
   ]
  },
  {
   "cell_type": "markdown",
   "id": "ee2ad3a2",
   "metadata": {},
   "source": [
    "#### Mag Smear \n",
    "\n",
    "Average magnitudes across bins.\n",
    "\n",
    "We can set the number of bins to average on each side of bin."
   ]
  },
  {
   "cell_type": "code",
   "execution_count": 290,
   "id": "00f44c53",
   "metadata": {
    "vscode": {
     "languageId": "python"
    }
   },
   "outputs": [
    {
     "name": "stdout",
     "output_type": "stream",
     "text": [
      "-> Synth('ksig' : 2322)"
     ]
    }
   ],
   "source": [
    "SynthDef(\\smear, {arg busIn=0,busOut=0,amp=0.5,fadeT=0.5,gate=0,pan=0,bins=1;\n",
    "\t              var in,size,chain,env,sig;\n",
    "\t                  in    = In.ar(busIn,1);         \n",
    "\t\t              size  = 2048;\n",
    "\t                  chain = FFT(LocalBuf(size), in);\n",
    "\t                  chain = PV_MagSmear(chain, bins);\n",
    "\t                  env   = Linen.kr(gate,fadeT,1,fadeT,doneAction:2);\n",
    "\t                  sig   = IFFT(chain) * env * amp;\n",
    "\t                  sig   = Pan2.ar(sig, pan);\n",
    "\t              Out.ar(busOut, sig);\n",
    "         }).add;"
   ]
  },
  {
   "cell_type": "markdown",
   "id": "bbdbdfae",
   "metadata": {},
   "source": [
    "The Synths."
   ]
  },
  {
   "cell_type": "code",
   "execution_count": 295,
   "id": "5a3ecdad",
   "metadata": {
    "vscode": {
     "languageId": "python"
    }
   },
   "outputs": [
    {
     "name": "stdout",
     "output_type": "stream",
     "text": [
      "-> Synth('ksig' : 2326)"
     ]
    }
   ],
   "source": [
    "k = Synth(\\ksig,  [\\type,0, \\range, [0, 10], \\busOut,x]);\n",
    "e = Synth(\\srcs,  [\\type, 5, \\amp,1, \\buf,b, \\busOut,12, \\gate,1 ]);\n",
    "a = Synth(\\smear, [\\busIn,12, \\amp,1, \\bins, x.asMap, \\gate,1],s,'addToTail');"
   ]
  },
  {
   "cell_type": "markdown",
   "id": "eb490542",
   "metadata": {},
   "source": [
    "Fade out and kill."
   ]
  },
  {
   "cell_type": "code",
   "execution_count": 296,
   "id": "d1d1e8b1",
   "metadata": {
    "vscode": {
     "languageId": "python"
    }
   },
   "outputs": [
    {
     "name": "stdout",
     "output_type": "stream",
     "text": [
      "-> Synth('smear' : 2331)"
     ]
    }
   ],
   "source": [
    "e.set(\\gate,0);a.set(\\gate,0);k.free;"
   ]
  },
  {
   "cell_type": "markdown",
   "id": "6a003c33",
   "metadata": {},
   "source": [
    "#### Freeze \n",
    "Freeze magnitudes when freeze argument > 0."
   ]
  },
  {
   "cell_type": "code",
   "execution_count": 298,
   "id": "eed5b68c",
   "metadata": {
    "vscode": {
     "languageId": "python"
    }
   },
   "outputs": [
    {
     "name": "stdout",
     "output_type": "stream",
     "text": [
      "-> a SynthDef"
     ]
    }
   ],
   "source": [
    "SynthDef(\\frz, {arg busIn=0,busOut=0,amp=0.5,fadeT=0.5,gate=0,pan=0,frz=0;\n",
    "\t            var in,size,chain,env,sig;\n",
    "\t                in    = In.ar(busIn,1);\n",
    "\t\t            size  = 2048;\n",
    "\t                chain = FFT(LocalBuf(size), in);\n",
    "\t                chain = PV_MagFreeze(chain, frz);\n",
    "\t                env   = Linen.kr(gate,fadeT,1,fadeT,doneAction:2);\n",
    "\t                sig   = IFFT(chain) * env * amp;\n",
    "\t                sig   = Pan2.ar(sig, pan);\n",
    "\t            Out.ar(busOut, sig);\n",
    "         }).add;"
   ]
  },
  {
   "cell_type": "markdown",
   "id": "86fcbda7",
   "metadata": {},
   "source": [
    "The Synths and the sequence."
   ]
  },
  {
   "cell_type": "code",
   "execution_count": 299,
   "id": "b610bb8d",
   "metadata": {
    "vscode": {
     "languageId": "python"
    }
   },
   "outputs": [
    {
     "name": "stdout",
     "output_type": "stream",
     "text": [
      "-> a SynthDef"
     ]
    }
   ],
   "source": [
    "e = Synth(\\srcs, [\\type, 5, \\amp,1, \\buf,b, \\busOut,12, \\gate,1 ]);\n",
    "a = Synth(\\frz,  [\\busIn,12, \\amp,1, \\gate,1],s,'addToTail');\n",
    "                    \n",
    "r = Routine({\n",
    "         10.do({a.set(\\frz,0);\n",
    "                rrand(0.2,2).wait;\n",
    "                a.set(\\frz,1);\n",
    "                rrand(0.6,2).wait;\n",
    "                });\n",
    "         e.set(\\gate,0); a.set(\\gate,0);    \n",
    "            }).reset.play;"
   ]
  },
  {
   "cell_type": "markdown",
   "id": "b6bc965f",
   "metadata": {},
   "source": [
    "#### Cross synthesys. \n",
    "\n",
    "There are several cross-synthesis techniques. \n",
    "  \n",
    "In this example, the bins of signal A are replaced by those of signal B."
   ]
  },
  {
   "cell_type": "code",
   "execution_count": 300,
   "id": "eb9e8f81",
   "metadata": {
    "vscode": {
     "languageId": "python"
    }
   },
   "outputs": [
    {
     "name": "stdout",
     "output_type": "stream",
     "text": [
      "-> a Routine"
     ]
    }
   ],
   "source": [
    "SynthDef(\\cross, {arg busIn=#[0,1],busOut=0,amp=0.5,fadeT=0.5,gate=0,pan=0,morph=0;\n",
    "\t            var inA,inB,size,chainA,chainB,chain,env,sig;\n",
    "\t                inA    = In.ar(busIn[0],1);\n",
    "\t\t            inB    = In.ar(busIn[1],1);\n",
    "\t\t            size   = 2048;\n",
    "\t\t            chainA = FFT(LocalBuf(size), inA);\n",
    "\t\t\t        chainB = FFT(LocalBuf(size), inB);\n",
    "\t                chain  = PV_Morph(chainA, chainB, morph);\n",
    "\t                env    = Linen.kr(gate,fadeT,1,fadeT,doneAction:2);\n",
    "\t                sig    = IFFT(chain) * env * amp;\n",
    "\t                sig    = Pan2.ar(sig, pan);\n",
    "\t            Out.ar(busOut, sig);\n",
    "         }).add;"
   ]
  },
  {
   "cell_type": "markdown",
   "id": "6ce362c5",
   "metadata": {},
   "source": [
    "The Synths (two different sources)."
   ]
  },
  {
   "cell_type": "code",
   "execution_count": 301,
   "id": "1c119d92",
   "metadata": {
    "vscode": {
     "languageId": "python"
    }
   },
   "outputs": [
    {
     "name": "stdout",
     "output_type": "stream",
     "text": [
      "-> a SynthDef"
     ]
    }
   ],
   "source": [
    "k = Synth(\\ksig,  [\\type,0, \\range, [0, 1.0],    \\busOut,x]);\n",
    "e = Synth(\\srcs,  [\\type, 5, \\amp,1, \\buf,b,     \\busOut,12, \\gate,1 ]);\n",
    "g = Synth(\\srcs,  [\\type, 2, \\amp,0.8, \\freq, 8, \\busOut,13, \\gate,1 ]);\n",
    "a = Synth(\\cross, [\\busIn,[12, 13], \\amp,1, \\morph, x.asMap, \\gate,1],s,'addToTail');"
   ]
  },
  {
   "cell_type": "markdown",
   "id": "02548828",
   "metadata": {},
   "source": [
    "Fade out and kill."
   ]
  },
  {
   "cell_type": "code",
   "execution_count": 302,
   "id": "47a59dba",
   "metadata": {
    "vscode": {
     "languageId": "python"
    }
   },
   "outputs": [
    {
     "name": "stdout",
     "output_type": "stream",
     "text": [
      "-> Synth('cross' : 2337)"
     ]
    }
   ],
   "source": [
    "e.set(\\gate,0); g.set(\\gate,0); a.set(\\gate,0);k.free;"
   ]
  },
  {
   "cell_type": "markdown",
   "id": "766579a4",
   "metadata": {},
   "source": [
    "# Algorithmic structures<a name=\"algo\"></a>\n",
    "\n",
    "In this chapter we expanded our sonic vocabulary.\n",
    "\n",
    "We can now design formal structures by adopting the same strategies illustrated in the previous chapter or through non-deterministic algorithms.\n",
    "\n",
    "Let's give an example of this second case.\n",
    "\n",
    "Let's suppose we want to create a piece with dreamlike characteristics based on three musical objects:\n",
    "1. a continuos changing crystal sound (filter bank).\n",
    "2. a percussive brilliant sound (vector).\n",
    "3. a strange piano (FFT filter).\n",
    "\n",
    "Let's design the first.\n",
    "\n",
    "Define one SynthDef and a function that design the musical object.\n",
    "- random spectra,\n",
    "- random duration\n",
    "- random release"
   ]
  },
  {
   "cell_type": "code",
   "execution_count": 840,
   "id": "5eac785c",
   "metadata": {
    "vscode": {
     "languageId": "python"
    }
   },
   "outputs": [
    {
     "name": "stdout",
     "output_type": "stream",
     "text": [
      "-> a Function"
     ]
    }
   ],
   "source": [
    "SynthDef(\\res, {arg freqs=#[800, 1071, 1153, 1723],\n",
    "                    amps=#[0.1,0.1,0.1,0.1],\n",
    "                    ringtimes=#[1, 1, 1, 1],\n",
    "                    busOut=0, gate=0;\n",
    "                var sig, amp, env, pan;\n",
    "                    sig = WhiteNoise.ar;  // source\n",
    "                    amp = LFNoise1.kr(0.2).range(0,0.07); // ksig random amp\n",
    "                    sig = sig * amp;      // amp source\n",
    "                    sig = DynKlank.ar(`[freqs, amps, ringtimes ], sig);\n",
    "                    env = Linen.kr(gate, 3, doneAction:2);\n",
    "                    pan = LFNoise1.kr(0.3);          // ksig random pan\n",
    "                    sig = Pan2.ar(sig * amp * env, pan); \n",
    "                Out.ar(busOut, sig);\n",
    "}).add;\n",
    "\n",
    "a = {Routine({var fqs, aps, rng, res; \n",
    "              fqs = Array.rand(4, 500, 9000);\n",
    "              aps = Array.rand(4, 0.1, 1);\n",
    "              rng = Array.rand(4, 0.2, 0.4);\n",
    "              res = Synth(\\res, [\\freqs,fqs,\\amps,aps,\\ringtimes,rng,\\gate,1]);\n",
    "              rrand(0.5,4).wait;\n",
    "              res.release(rrand(6,8)) // note off\n",
    "              }).play;\n",
    "    }"
   ]
  },
  {
   "cell_type": "markdown",
   "id": "a5b57e53",
   "metadata": {},
   "source": [
    "Turns the musical object on and off randomly.\n",
    "\n",
    "Test it."
   ]
  },
  {
   "cell_type": "code",
   "execution_count": null,
   "id": "66ea7807",
   "metadata": {
    "vscode": {
     "languageId": "python"
    }
   },
   "outputs": [
    {
     "name": "stdout",
     "output_type": "stream",
     "text": [
      "-> a Function"
     ]
    }
   ],
   "source": [
    "~glass = Routine({\n",
    "                  inf.do({\n",
    "                        if(0.8.coin==true){a.value};\n",
    "                        [0.2,3,8].choose.wait;\n",
    "                        })\n",
    "                }).reset.play;"
   ]
  },
  {
   "cell_type": "markdown",
   "id": "9602c578",
   "metadata": {},
   "source": [
    "Kill it."
   ]
  },
  {
   "cell_type": "code",
   "execution_count": 842,
   "id": "e8ecc0be",
   "metadata": {
    "vscode": {
     "languageId": "python"
    }
   },
   "outputs": [
    {
     "name": "stdout",
     "output_type": "stream",
     "text": [
      "-> a Routine"
     ]
    }
   ],
   "source": [
    "~glass.stop;"
   ]
  },
  {
   "cell_type": "markdown",
   "id": "c6431fbd",
   "metadata": {},
   "source": [
    "Let's design the second in the same manner.\n",
    "\n",
    "- random pitch from a set.\n",
    "- random rythm.\n",
    "- random amplitudes.\n",
    "- random sequence activation.\n",
    "- random pan."
   ]
  },
  {
   "cell_type": "code",
   "execution_count": 831,
   "id": "d606b00d",
   "metadata": {
    "vscode": {
     "languageId": "python"
    }
   },
   "outputs": [
    {
     "name": "stdout",
     "output_type": "stream",
     "text": [
      "-> a Routine"
     ]
    }
   ],
   "source": [
    "Buffer.freeAll;\n",
    "b = Buffer.allocConsecutive(4,         // Number of Buffer\n",
    "                            s, 1024);  \n",
    "\n",
    "b[0].sine2([1,2,5,7], [1,0.3,0.5,0.7]);   // Fill the buffers\n",
    "b[1].sine2([2,3,8,9], [0.2,0.4,1.3,0.6]);\n",
    "b[2].sine2([3,4,8,9,13,14], [1,0.2,0.5,0.6,1.3,0.5]);\n",
    "b[3].sine2([1,3,4,7,8,9,12,15], [1.3,0.3,0.5,0.7,0.8,0.9,0.2,0.3]);\n",
    "\n",
    "SynthDef(\\pik, {arg bufn=4,freq=400,dur= 1,amp=0,pan=0,t_gate=0;\n",
    "                var sig,env;\n",
    "                    env = Env.perc(0.01,dur-0.01);\n",
    "                    env = EnvGen.kr(env,t_gate,doneAction:2); \n",
    "                    sig = VOsc.ar(env.linlin(0,1,0,bufn), freq);\n",
    "                    sig = Pan2.ar(sig * amp * env,pan);\n",
    "                Out.ar(0, sig)\n",
    "                }).add;\n",
    "\n",
    "b = {Routine({\n",
    "            rrand(2,10).do({\n",
    "                            Synth(\\pik,[\\freq,[90,94,95,97,100,104,105].choose.midicps,\n",
    "                                        \\dur, exprand(0.3,4.3),\n",
    "                                        \\amp, rrand(0.01,0.1),\n",
    "                                        \\pan, rand2(1),\n",
    "                                        \\t_gate,1]);\n",
    "                            [0.15,0.1,0.2,0.25].choose.wait;\n",
    "                            })\n",
    "            }).play;\n",
    "    }"
   ]
  },
  {
   "cell_type": "markdown",
   "id": "1987c1e7",
   "metadata": {},
   "source": [
    "Turns the musical object on and off randomly."
   ]
  },
  {
   "cell_type": "code",
   "execution_count": 832,
   "id": "05cab8e4",
   "metadata": {
    "vscode": {
     "languageId": "python"
    }
   },
   "outputs": [
    {
     "name": "stdout",
     "output_type": "stream",
     "text": [
      "-> a Function"
     ]
    }
   ],
   "source": [
    "~plink = Routine({\n",
    "                inf.do({\n",
    "                        b.value;\n",
    "                        [3,6,8].choose.wait;\n",
    "                        })\n",
    "                }).reset.play;"
   ]
  },
  {
   "cell_type": "markdown",
   "id": "be00332c",
   "metadata": {},
   "source": [
    "Kill it."
   ]
  },
  {
   "cell_type": "code",
   "execution_count": 833,
   "id": "24a3a64c",
   "metadata": {
    "vscode": {
     "languageId": "python"
    }
   },
   "outputs": [
    {
     "name": "stdout",
     "output_type": "stream",
     "text": [
      "-> a Routine"
     ]
    }
   ],
   "source": [
    "~plink.stop; "
   ]
  },
  {
   "cell_type": "markdown",
   "id": "add376ea",
   "metadata": {},
   "source": [
    "Let's design the third musical object."
   ]
  },
  {
   "cell_type": "code",
   "execution_count": 834,
   "id": "99a9c1f7",
   "metadata": {
    "vscode": {
     "languageId": "python"
    }
   },
   "outputs": [
    {
     "name": "stdout",
     "output_type": "stream",
     "text": [
      "-> a Routine"
     ]
    }
   ],
   "source": [
    "v = Buffer.read(s, \"/Users/andreavigani/Desktop/GHub/EMC/3_fixed/suoni/bach.wav\");\n",
    "\n",
    "SynthDef(\\spy,{arg buf=v,busOut=0,amp=0.5,fadeT=4,gate=0,pan=0,teeth=10,fase=0,width=0.5;\n",
    "\t            var sig,size,chain,env;\n",
    "\t                sig   = PlayBuf.ar(1, buf, loop:1);        \n",
    "\t\t            size  = 2048;\n",
    "\t                chain = FFT(LocalBuf(size), sig);\n",
    "\t                chain = PV_RectComb(chain, teeth, fase, width);\n",
    "\t                env   = Linen.kr(gate,fadeT,1,fadeT,doneAction:2);\n",
    "\t                sig   = IFFT(chain) * env * amp;\n",
    "\t                sig   = Pan2.ar(sig, pan);\n",
    "\t            Out.ar(busOut, sig);\n",
    "         }).add;\n",
    "c = {Routine({var piano; \n",
    "              piano = Synth(\\spy, [\\buf, v, \n",
    "                                   \\amp,rrand(0.5,1), \n",
    "                                   \\fadeT,rrand(1,5),\n",
    "                                   \\pan,rand2(1),\n",
    "                                   \\teeht,rrand(4,20),\n",
    "                                   \\width, rrand(0.1,0.4),\n",
    "                                   \\fase,rrand(0.4,0.7),\n",
    "                                   \\gate,1]);\n",
    "              rrand(0.5,4).wait;\n",
    "              piano.release(rrand(5,10)) // note off\n",
    "              }).play;\n",
    "    }"
   ]
  },
  {
   "cell_type": "markdown",
   "id": "6b7d957f",
   "metadata": {},
   "source": [
    "Test it."
   ]
  },
  {
   "cell_type": "code",
   "execution_count": 835,
   "id": "099056bc",
   "metadata": {
    "vscode": {
     "languageId": "python"
    }
   },
   "outputs": [
    {
     "name": "stdout",
     "output_type": "stream",
     "text": [
      "-> a Function"
     ]
    }
   ],
   "source": [
    "~piano = Routine({\n",
    "                inf.do({\n",
    "                        c.value;\n",
    "                        [3,6,8].choose.wait;\n",
    "                        })\n",
    "                }).reset.play;"
   ]
  },
  {
   "cell_type": "markdown",
   "id": "a0eca703",
   "metadata": {},
   "source": [
    "Kill it."
   ]
  },
  {
   "cell_type": "code",
   "execution_count": 836,
   "id": "3bcb038e",
   "metadata": {
    "vscode": {
     "languageId": "python"
    }
   },
   "outputs": [
    {
     "name": "stdout",
     "output_type": "stream",
     "text": [
      "-> a Routine"
     ]
    }
   ],
   "source": [
    "~piano.stop;"
   ]
  },
  {
   "cell_type": "markdown",
   "id": "2271a354",
   "metadata": {},
   "source": [
    "We can now put it all together in a score that turns different combinations on and off randomly."
   ]
  },
  {
   "cell_type": "code",
   "execution_count": 845,
   "id": "7c1d04c6",
   "metadata": {
    "vscode": {
     "languageId": "python"
    }
   },
   "outputs": [
    {
     "name": "stdout",
     "output_type": "stream",
     "text": [
      "-> a Routine"
     ]
    }
   ],
   "source": [
    "~sec = 10; // Number of sections\n",
    "~score = Routine({\n",
    "                ~sec.do({\n",
    "                    if(0.6.coin==true){~plink.reset.play}{~plink.stop};\n",
    "                    rrand(0.1,3).wait;\n",
    "                    if(0.8.coin==true){~piano.reset.play}{~piano.stop};\n",
    "                    rrand(0.1,3).wait;\n",
    "                    if(0.4.coin==true){~glass.reset.play}{~glass.stop};\n",
    "                    rrand(0.1,3).wait;\n",
    "                });\n",
    "                ~plink.stop;\n",
    "                3.wait;\n",
    "                ~piano.stop;\n",
    "                5.wait;\n",
    "                ~glass.stop\n",
    "                }).reset.play"
   ]
  },
  {
   "cell_type": "markdown",
   "id": "e8cf1a31",
   "metadata": {},
   "source": [
    "At each performance the piece will be a little different in its form but will always maintain the characteristics that we had set ourselves.\n",
    "\n",
    "This is a simple example for explanatory reasons but it is clear how through this process we can arrive at designing extremely complex structures and forms."
   ]
  },
  {
   "cell_type": "markdown",
   "id": "6726bbcb",
   "metadata": {},
   "source": [
    "# Composition sketches proposal <a name=\"esercizi_2\"></a>\n",
    "\n",
    "Create a musical work using the instruments and the procedure just described.\n",
    "\n",
    "Suggestions:\n",
    "* research other synthesis techniques or delve deeper into some of them.\n",
    "* modify the contents of the proposed SynthDefs based on your musical parameter control needs.\n",
    "* explore algorithms that dynamically modify the form through random control structures such as if, case, and switch (search for help files).\n",
    "* verify how and how much random parameters can influence the realization of the initial musical idea."
   ]
  }
 ],
 "metadata": {
  "kernelspec": {
   "display_name": "SuperCollider",
   "language": "",
   "name": "sc_kernel"
  },
  "language_info": {
   "file_extension": ".scd",
   "mimetype": "text/x-sclang",
   "name": "smalltalk",
   "pygments_lexer": "supercollider"
  }
 },
 "nbformat": 4,
 "nbformat_minor": 5
}
