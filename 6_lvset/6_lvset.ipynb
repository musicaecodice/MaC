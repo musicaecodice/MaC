{
 "cells": [
  {
   "cell_type": "markdown",
   "id": "8e8a8b13",
   "metadata": {},
   "source": [
    "[INDEX](../indice.ipynb) \n",
    "\n",
    "* [Historical framework](#histo4) \n",
    "    - [Experimental fields](#experimental) \n",
    "    - [Mainstream fields](#mainstream) \n",
    "* [Interaction types](#itypes) \n",
    "    - [Trigger](#trigger) \n",
    "    - [Switch](#switch) \n",
    "    - [Continuos](#continuos) \n",
    "    - [Conversions](#conv) \n",
    "        - [Smoothing](#smooth)\n",
    "        - [Sample and hold](#sah)  \n",
    "        - [Thresholds](#tresh) \n",
    "* [Control signals](#ksig)  \n",
    "    - [Types](#types)\n",
    "    - [Scaling](#scaling)\n",
    "    - [Plugging](#plugging)\n",
    "* [MIDI](#midi) \n",
    "    - [Receive](#receivemidi) \n",
    "    - [Send](#sendmidi) \n",
    "    - [Voice allocation](#valloc) \n",
    "        - [Monophonic synth](#monosynth)\n",
    "        - [Poliphonic synth without sustain envelope](#poli1)  \n",
    "        - [Poliphonic synth with sustain envelope](#poli2) \n",
    "* [OSC](#osc)\n",
    "    - [Receive](#receiveosc) \n",
    "    - [Send](#sendosc) \n",
    "* [HID](#hid)\n",
    "    - [Mouse](#mouse)\n",
    "    - [Keyboard](#keyboard)\n",
    "* [Live playback and synthesis](#play)\n",
    "    - [One shot](#oneshot)\n",
    "    - [Mapping](#mapping)\n",
    "    - [Cues](#cues)\n",
    "* [Composition sketches proposal](#esercizi_4) "
   ]
  },
  {
   "cell_type": "markdown",
   "id": "9f4036a7",
   "metadata": {},
   "source": [
    "# Historical framework <a id=\"histo4\"></a>\n",
    "\n",
    "The history of live sets closely follows technological evolution over the past few decades.\n",
    "\n",
    "The same instruments, however, are used differently in different musical fields. \n",
    "\n",
    "As has always been over the centuries we can consider two distinct aesthetic fields:\n",
    "\n",
    "* experimental music.\n",
    "* mainstream (popular) music.\n",
    "\n",
    "Sometimes they intersect and contaminate each other but more often continue along their own aesthetic lines."
   ]
  },
  {
   "cell_type": "markdown",
   "id": "5cc91be7-65df-4fa0-9fc7-ff4e6c5d2538",
   "metadata": {},
   "source": [
    "## Experimental fields <a id=\"experimental\"></a>\n",
    "\n",
    "One of the first works for live electronic performers without acoustic instruments can be considered 'Cartridge music' (1960) by J.Cage.\n",
    "\n",
    "It is a composition for small amplified sounds and an indeterminate number of turntables and speakers.\n",
    "\n",
    "Performers insert some small objects such as matches, wires, feathers and other things inside the metal case of the microphones (cartridge) contained in the old gramophones.\n",
    "\n",
    "<audio controls src='suoni/cartridge.mp3'></audio>\n",
    "\n",
    "  <!---<center><img src=\"img/cartridge.png\" width=\"5%\"></center>--->\n",
    "\n",
    "  <div style=\"width:20%; margin-left: auto; margin-right: auto\">\n",
    "\n",
    "  ![](img/cartridge.png)\n",
    "\n",
    "  </div>\n"
   ]
  },
  {
   "cell_type": "markdown",
   "id": "08a76b1c",
   "metadata": {},
   "source": [
    "In the early 1960s Harold Bode followed by Bob Moog and Don Buchla developed the first commercial modular synthesizers based on the voltage-controlled modular synthesis.\n",
    "\n",
    "<!---<center><img src=\"img/cartridge.png\" width=\"5%\"></center>--->\n",
    "\n",
    "<div style=\"width:10%; margin-left: auto; margin-right: auto\">\n",
    "\n",
    "![](img/buchla.png)\n",
    "![](img/moog.png)\n",
    "\n",
    "</div>\n",
    "\n",
    "Artists like John Mills-Cockel \"Marigolds\" (1973)\n",
    "\n",
    "<audio controls src='suoni/cockell.mp3'></audio>\n",
    "\n",
    "and \n",
    "\n",
    "Richard Teitelbaum - Antony Braxton \"Crossing\" (1977)\n",
    "\n",
    "<audio controls src='suoni/crossing.mp3'></audio>\n",
    "\n",
    "explored potentialities of these instruments through real-time manipulation.\n",
    "\n",
    "Teitelbaum like many other musicians of the time mixed the sounds of these new instruments with acoustic instruments in the context of both classical and jazz improvisation.\n",
    "\n",
    "The main experiences of this type are represented by instrumental collectives.\n",
    "\n",
    "Let's see the most knowed ones.\n",
    "\n",
    "Sonic Art Union (1966-76) $\\rightarrow$ Gordon Mumma, David Behrman, Robert Ashley and Alvin Lucier. \n",
    "\n",
    "Pioneers of the \"circuit bending\" concept they designed and built the instruments for their songs themselves using various sensors, microphones and circuitry (cybersonic systems).\n",
    "\n",
    "In this way composers are the performers of their own works.\n",
    "\n",
    "A.Lucier - \"Music for solo performer\" (1965)\n",
    "\n",
    "<center><video width=\"40%\" controls src=\"suoni/lucier1.mp4\"></video></center>\n",
    "\n",
    "AMM London (1965) $\\rightarrow$ Cornelius Cardew, Keith Rowe, Lou Gare e Eddie Prevost.\n",
    "\n",
    "They explored a form of radical improvisation that was often highly convulsive, almost wild in character.\n",
    "\n",
    "<audio controls src='suoni/amm.mp3'></audio>\n",
    "\n",
    "Musica Elettronica Viva Rome (MEV -1966) $\\rightarrow$ Alvin Curran, Frederic Rzewski, Richard Teitelbaum and Allan Bryant. \n",
    "\n",
    "The concept of collective improvisation is complemented by the audience's actions, creating a strongly social and political synthesis.\n",
    "\n",
    "The concert becomes \"a gathering place, a performance group, a resting place, and a school where old and young learn from each other and play together on the same stage.\"\n",
    "\n",
    "MEV - \"Cosmic Communion\" (1970)\n",
    "\n",
    "<audio controls src='suoni/mev.mp3'></audio>\n",
    "\n",
    "Karlheinz Stockhousen - Intuitive musik $\\rightarrow$ a form of musical improvisation based on instant creation in which fixed principles or rules may or may not have been given. \n",
    "\n",
    "It is a type of process music where instead of a traditional music score, verbal or graphic instructions and ideas are provided to the performers.\n",
    "\n",
    "\"Für kommende Zeiten\" - Watch (1970).\n",
    "\n",
    "Star constellations\n",
    "\n",
    "with common points\n",
    "\n",
    "and falling stars\n",
    "\n",
    "with secret wishes\n",
    "\n",
    "and nocturnal forest\n",
    "\n",
    "with dialogues\n",
    "\n",
    "Abrupt end.\n",
    "\n",
    "<audio controls src='suoni/zeit.mp3'></audio>"
   ]
  },
  {
   "cell_type": "markdown",
   "id": "78b7f78a",
   "metadata": {},
   "source": [
    "Following the experiences of improvised music between the late 1970s and early 1990s, new electronic instruments were frequently used by minimalist composers, both in ensembles and solo performances.\n",
    "\n",
    "A prominent early example is the piece \"A Rainbow in Curved Air\" (1969) by composer Terry Riley.\n",
    "\n",
    "<audio controls src='suoni/riley.mp3'></audio>\n",
    "\n",
    "The late 1990s saw the development of smaller more affordable and compatible modular systems most notably the Eurorack standard and electronic keyboards.\n",
    "\n",
    "An example of their use in mixed ensembles is given by the Philip Glass Ensemble \"Music in 12 parts\" for soprano, electronic keyboards and winds.\n",
    "\n",
    "<audio controls src='suoni/glass.mp3'></audio>\n",
    "\n",
    "This new generation of modular synths reignited interest and fostered intense experimentation and innovation transforming the modular format into a viable and popular choice for live performance.\n",
    "\n",
    "Performers can simplify setups or build complex systems incorporating performance-oriented modules and adapting to different scenarios like solo gigs or collaborations.\n",
    "\n",
    "Eurorack systems are designed for hands-on interaction allowing musicians to improvise and create unique sounds and textures with each live performance. \n",
    "\n",
    "This new way of making electronic music encompasses much of the previous electroacoustic experimental musical experience:\n",
    "\n",
    "- compositional prototyping of musical instruments.\n",
    "- improvisation.\n",
    "- iterative music and drone music.\n",
    "- freedom in the use of different sonic and musical languages.\n",
    "\n",
    "A solo example - Alberto Novello \"Solo in a Silo\" (2007)\n",
    "\n",
    "<center><video width=\"40%\" controls src=\"suoni/novello1.mp4\"></video></center>\n",
    "\n",
    "Since the 2000s, with the development of the potential offered by both hardware and software of personal computers, live sets have become almost exclusively digital, also including visual elements.\n",
    "\n",
    "Ryoji Ikeda - \"Data.Matrix\" (2010)\n",
    "\n",
    "<center><video width=\"40%\" controls src=\"suoni/ikeda1.mp4\"></video></center>\n",
    "\n",
    "In recent years, several Laptop orchestras and ensembles have been formed in the music departments of major American universities, developing hardware and software research according to new performance needs.\n",
    "\n",
    "SLOrk - \"Twilight\" (2013)\n",
    "\n",
    "<center><video width=\"40%\" controls src=\"suoni/slork1.mp4\"></video></center>\n",
    "\n",
    "A further development in the use of the computer as a performative musical instrument is given by the practice of live coding, to which a chapter of this paper is dedicated.\n",
    "\n",
    "<center><video width=\"40%\" controls src=\"suoni/livecod1.mp4\"></video></center>"
   ]
  },
  {
   "cell_type": "markdown",
   "id": "d8066697",
   "metadata": {},
   "source": [
    "## Mainstream fields <a id=\"mainstream\"></a>\n",
    "\n",
    "In the 1960s the duo Silver Apples from New York (synth and drums) took their homemade synthesizer  (Simeon) on the road jamming on primitive oscillators.\n",
    "\n",
    "They were one of the first groups to employ electronic music techniques extensively within a rock idiom.\n",
    "\n",
    "As example: \"You and I\" (1969).\n",
    "\n",
    "<audio controls src='suoni/silverapples.mp3'></audio>\n"
   ]
  },
  {
   "cell_type": "markdown",
   "id": "5b378e04",
   "metadata": {},
   "source": [
    "In the mid-70s the group Tangerine Dream had a more complex approach by integrating the first mammoth modular synth into their live sets.\n",
    "\n",
    "As exemple \"Ricochet\" (1975).\n",
    "\n",
    "<audio controls src='suoni/tangerinedream.mp3'></audio>\n",
    "\n",
    "  <!---<center><img src=\"img/cartridge.png\" width=\"5%\"></center>--->\n",
    "\n",
    "  <div style=\"width:15%; margin-left: auto; margin-right: auto\">\n",
    "\n",
    "  ![](img/tangerine.png)\n",
    "\n",
    "  </div>"
   ]
  },
  {
   "cell_type": "markdown",
   "id": "2321a6dc",
   "metadata": {},
   "source": [
    "Always in 1970 the album Kraftwerk was released by the omonymous group founded in Düsseldorf by four students at the local conservatory.\n",
    "\n",
    "They became the first laptop orchestra and would significantly influence the electronic music scene of the following years.\n",
    "\n",
    "<audio controls src='suoni/kraft.mp3'></audio>\n",
    "\n",
    "  <!---<center><img src=\"img/kraft.png\" width=\"5%\"></center>--->\n",
    "\n",
    "  <div style=\"width:15%; margin-left: auto; margin-right: auto\">\n",
    "\n",
    "  ![](img/kraft.png)\n",
    "\n",
    "  </div>"
   ]
  },
  {
   "cell_type": "markdown",
   "id": "7bdf92fc",
   "metadata": {},
   "source": [
    "Live electronic performance also moved from theaters into clubs (DJing). \n",
    "\n",
    "The disco era of the late 1970s \n",
    "\n",
    "Patrick Cowley \"Megatron Man radio edit\" (1981)\n",
    "   \n",
    "<audio controls src='suoni/cowley.mp3'></audio>\n",
    "\n",
    "<!---<center><img src=\"img/disco_1.png\" width=\"5%\"></center>--->\n",
    "\n",
    "<div style=\"width:15%; margin-left: auto; margin-right: auto\">\n",
    "\n",
    "![](img/disco_1.png)\n",
    "\n",
    "</div>\n",
    "\n",
    "House music in the 1980s\n",
    "\n",
    "Juan Atkins \"I'm Your Audio Tech\" (1987)\n",
    "   \n",
    "<audio controls src='suoni/atkins.mp3'></audio>\n",
    "\n",
    "<!---<center><img src=\"img/house.png\" width=\"5%\"></center>--->\n",
    "\n",
    "<div style=\"width:15%; margin-left: auto; margin-right: auto\">\n",
    "\n",
    "![](img/house.png)\n",
    "\n",
    "</div>\n",
    "\n",
    "The Techno era in 1990s\n",
    "\n",
    "Aphex Twin \"Cornish Acid\" (1996)\n",
    "   \n",
    "<audio controls src='suoni/twin.mp3'></audio>\n",
    "\n",
    "<!---<center><img src=\"img/techno.png\" width=\"5%\"></center>--->\n",
    "\n",
    "<div style=\"width:15%; margin-left: auto; margin-right: auto\">\n",
    "\n",
    "![](img/techno.png)\n",
    "\n",
    "</div>\n",
    "\n",
    "The Rave era (2000s)\n",
    "\n",
    "Electronic music quit the clubs and populate big places and concerts.\n",
    "\n",
    "Reinier Zonneveld \"Live set\" (2023)\n",
    "\n",
    "<audio controls src='suoni/rave.mp3'></audio>\n",
    "\n",
    "<!---<center><img src=\"img/rave.png\" width=\"5%\"></center>--->\n",
    "\n",
    "<div style=\"width:15%; margin-left: auto; margin-right: auto\">\n",
    "\n",
    "![](img/rave.png)   \n",
    "\n",
    "</div>"
   ]
  },
  {
   "cell_type": "markdown",
   "id": "3514daf4",
   "metadata": {},
   "source": [
    "# Interaction types <a id=\"itypes\"></a>\n",
    "\n",
    "There are three main ways to control sound parameters:\n",
    "* trigger.\n",
    "* switch.\n",
    "* continuos.\n",
    "\n",
    "These ways are representative of different types of possible interaction.\n",
    "\n",
    "Iterations with any type of device and with any communication protocol can be reduced to these modes."
   ]
  },
  {
   "cell_type": "code",
   "execution_count": null,
   "id": "6e6f57ec",
   "metadata": {
    "vscode": {
     "languageId": "plaintext"
    }
   },
   "outputs": [
    {
     "name": "stdout",
     "output_type": "stream",
     "text": [
      "-> localhost"
     ]
    }
   ],
   "source": [
    "s.boot;\n",
    "s.scope;\n",
    "s.plotTree;"
   ]
  },
  {
   "cell_type": "markdown",
   "id": "095d3cef",
   "metadata": {},
   "source": [
    "## Trigger <a id=\"trigger\"></a>\n",
    "\n",
    "It can be described as pressing a button to ring the doorbell.\n",
    "\n",
    "One action $\\rightarrow$ do it!\n",
    "\n",
    "In sound synthesis it is closely connected with envelopes without sustain.\n",
    "\n",
    "Let's think of it as the action of plucking a string.\n",
    "\n",
    "Look at it."
   ]
  },
  {
   "cell_type": "code",
   "execution_count": 1,
   "id": "420091b8",
   "metadata": {
    "vscode": {
     "languageId": "plaintext"
    }
   },
   "outputs": [
    {
     "name": "stdout",
     "output_type": "stream",
     "text": [
      "-> a Plotter"
     ]
    }
   ],
   "source": [
    "{Impulse.kr(2,0.5)}.plot(0.5); "
   ]
  },
  {
   "cell_type": "markdown",
   "id": "0a4baaf3",
   "metadata": {},
   "source": [
    "Audio example."
   ]
  },
  {
   "cell_type": "code",
   "execution_count": 34,
   "id": "6ee26fdb",
   "metadata": {
    "vscode": {
     "languageId": "plaintext"
    }
   },
   "outputs": [
    {
     "name": "stdout",
     "output_type": "stream",
     "text": [
      "-> a SynthDef"
     ]
    }
   ],
   "source": [
    "SynthDef.new(\\trig,{var sig, env;\n",
    "                        env = Env.perc;\n",
    "                        env = EnvGen.kr(env,doneAction:2);\n",
    "                        sig = Pulse.ar([600,602],env);\n",
    "                        sig = sig * env * 0.5;\n",
    "                    Out.ar(0,sig)\n",
    "            }).add;"
   ]
  },
  {
   "cell_type": "markdown",
   "id": "3c75d3ac",
   "metadata": {},
   "source": [
    "Play it."
   ]
  },
  {
   "cell_type": "code",
   "execution_count": 38,
   "id": "13582619",
   "metadata": {
    "vscode": {
     "languageId": "plaintext"
    }
   },
   "outputs": [
    {
     "name": "stdout",
     "output_type": "stream",
     "text": [
      "-> Synth('trig' : 1028)"
     ]
    }
   ],
   "source": [
    "Synth.new(\\trig);"
   ]
  },
  {
   "cell_type": "markdown",
   "id": "81e41b45",
   "metadata": {},
   "source": [
    "## Switch <a id=\"switch\"></a>\n",
    "\n",
    "It can be described as pressing a button to switch on/off a light.\n",
    "\n",
    "Two actions $\\rightarrow$ two staes (on and off).\n",
    "\n",
    "In sound synthesis it is closely connected with envelopes with sustain.\n",
    "\n",
    "Let's think of it as the action of press and release an Organ key.\n",
    "\n",
    "Look at it."
   ]
  },
  {
   "cell_type": "code",
   "execution_count": 3,
   "id": "f566ad3a",
   "metadata": {
    "vscode": {
     "languageId": "plaintext"
    }
   },
   "outputs": [
    {
     "name": "stdout",
     "output_type": "stream",
     "text": [
      "-> a Plotter"
     ]
    }
   ],
   "source": [
    "{Trig1.kr(Impulse.kr(2,0.7),0.2)}.plot(0.5); "
   ]
  },
  {
   "cell_type": "markdown",
   "id": "f8ba5e9e",
   "metadata": {},
   "source": [
    "Audio exemple."
   ]
  },
  {
   "cell_type": "code",
   "execution_count": 45,
   "id": "0b286d6b",
   "metadata": {
    "vscode": {
     "languageId": "plaintext"
    }
   },
   "outputs": [
    {
     "name": "stdout",
     "output_type": "stream",
     "text": [
      "-> a SynthDef"
     ]
    }
   ],
   "source": [
    "SynthDef.new(\\switch, {arg gate=0;\n",
    "                       var sig, env;\n",
    "                           env = Env.adsr;\n",
    "                           env = EnvGen.kr(env,gate,doneAction:2);\n",
    "                           sig = VarSaw.ar([1300,1310],env);\n",
    "                           sig = sig * env * 0.5;\n",
    "                       Out.ar(0,sig)\n",
    "            }).add;"
   ]
  },
  {
   "cell_type": "markdown",
   "id": "069e9ccc",
   "metadata": {},
   "source": [
    "Play it."
   ]
  },
  {
   "cell_type": "code",
   "execution_count": 46,
   "id": "9fd7edec",
   "metadata": {
    "vscode": {
     "languageId": "plaintext"
    }
   },
   "outputs": [
    {
     "name": "stdout",
     "output_type": "stream",
     "text": [
      "-> Synth('switch' : 1031)"
     ]
    }
   ],
   "source": [
    "a = Synth.new(\\switch, [\\gate,1]);"
   ]
  },
  {
   "cell_type": "markdown",
   "id": "1ce7291e",
   "metadata": {},
   "source": [
    "Fade out."
   ]
  },
  {
   "cell_type": "code",
   "execution_count": 47,
   "id": "48a66a6e",
   "metadata": {
    "vscode": {
     "languageId": "plaintext"
    }
   },
   "outputs": [
    {
     "name": "stdout",
     "output_type": "stream",
     "text": [
      "-> Synth('switch' : 1031)"
     ]
    }
   ],
   "source": [
    "a.set(\\gate,0);"
   ]
  },
  {
   "cell_type": "markdown",
   "id": "6a79e494",
   "metadata": {},
   "source": [
    "## Continuos <a id=\"continuos\"></a>\n",
    "\n",
    "It can be described as gradually increasing or decreasing the intensity of a light through a knob.\n",
    "\n",
    "One actions $\\rightarrow$ two staes (movement and stop).\n",
    "\n",
    "In sound synthesis it is closely connected with interpolation and ramps.\n",
    "\n",
    "Let's think of it as the action of crescendo, diminuendo or glissato.\n",
    "\n",
    "Look at it."
   ]
  },
  {
   "cell_type": "code",
   "execution_count": 4,
   "id": "aa19dc06",
   "metadata": {
    "vscode": {
     "languageId": "plaintext"
    }
   },
   "outputs": [
    {
     "name": "stdout",
     "output_type": "stream",
     "text": [
      "-> a Plotter"
     ]
    }
   ],
   "source": [
    "{LFNoise2.kr(5)}.plot(0.5); "
   ]
  },
  {
   "cell_type": "markdown",
   "id": "5d34e64b",
   "metadata": {},
   "source": [
    "Audio exemple."
   ]
  },
  {
   "cell_type": "code",
   "execution_count": 51,
   "id": "2bc54765",
   "metadata": {
    "vscode": {
     "languageId": "plaintext"
    }
   },
   "outputs": [
    {
     "name": "stdout",
     "output_type": "stream",
     "text": [
      "-> a SynthDef"
     ]
    }
   ],
   "source": [
    "SynthDef.new(\\cont,{arg gate=0;\n",
    "                    var sig, frq, env;\n",
    "                        env = Env.adsr;\n",
    "                        env = EnvGen.kr(env,gate,doneAction:2);\n",
    "                        frq = LFNoise1.kr(3).range(990,1100);\n",
    "                        sig = Saw.ar([frq,frq+5]);\n",
    "                        sig = sig * env * 0.5;\n",
    "                    Out.ar(0,sig)\n",
    "            }).add;"
   ]
  },
  {
   "cell_type": "markdown",
   "id": "3fe8aea1",
   "metadata": {},
   "source": [
    "Play it."
   ]
  },
  {
   "cell_type": "code",
   "execution_count": 52,
   "id": "2f9193b6",
   "metadata": {
    "vscode": {
     "languageId": "plaintext"
    }
   },
   "outputs": [
    {
     "name": "stdout",
     "output_type": "stream",
     "text": [
      "-> Synth('cont' : 1033)"
     ]
    }
   ],
   "source": [
    "a = Synth.new(\\cont, [\\gate,1]);"
   ]
  },
  {
   "cell_type": "markdown",
   "id": "c76a4e86",
   "metadata": {},
   "source": [
    "Fade out."
   ]
  },
  {
   "cell_type": "code",
   "execution_count": 53,
   "id": "373f1790",
   "metadata": {
    "vscode": {
     "languageId": "plaintext"
    }
   },
   "outputs": [
    {
     "name": "stdout",
     "output_type": "stream",
     "text": [
      "-> Synth('cont' : 1033)"
     ]
    }
   ],
   "source": [
    "a.set(\\gate,0);"
   ]
  },
  {
   "cell_type": "markdown",
   "id": "1b1d1fe4",
   "metadata": {},
   "source": [
    "## Conversions <a id=\"conv\"></a>\n",
    "\n",
    "We can move from one type to another through three operations:\n",
    "* smoothing.\n",
    "* sample and hold.\n",
    "* thresholds."
   ]
  },
  {
   "cell_type": "markdown",
   "id": "f5a1ba55",
   "metadata": {},
   "source": [
    "### Smoothing <a id=\"smooth\"></a>\n",
    "\n",
    "From discrete values (trigger or switch) to continuos (ramp).\n",
    "\n",
    "In SuperCollider we have two basic methods.\n",
    "1. .lag(0.2) $\\rightarrow$ logarithmic ramp."
   ]
  },
  {
   "cell_type": "code",
   "execution_count": 56,
   "id": "dbdf873e",
   "metadata": {
    "vscode": {
     "languageId": "plaintext"
    }
   },
   "outputs": [
    {
     "name": "stdout",
     "output_type": "stream",
     "text": [
      "-> a Plotter"
     ]
    }
   ],
   "source": [
    "{[Impulse.kr(5), \n",
    "  Impulse.kr(5).lag(0.2),\n",
    "  LFNoise0.kr(5).lag(0.2)\n",
    "]}.plot(1);"
   ]
  },
  {
   "cell_type": "markdown",
   "id": "cfeada99",
   "metadata": {},
   "source": [
    "Audio example."
   ]
  },
  {
   "cell_type": "code",
   "execution_count": 57,
   "id": "bd8ec540",
   "metadata": {
    "vscode": {
     "languageId": "plaintext"
    }
   },
   "outputs": [
    {
     "name": "stdout",
     "output_type": "stream",
     "text": [
      "-> a SynthDef"
     ]
    }
   ],
   "source": [
    "SynthDef.new(\\lag, {arg amp=0,lagt=0.2, pan=0;\n",
    "                    var sig;\n",
    "                        sig = WhiteNoise.ar * amp.lag(lagt);  // Amp --> lag\n",
    "                        sig = Pan2.ar(sig, pan.varlag(lagt)); // Pan --> varlag\n",
    "                    Out.ar(0,sig)\n",
    "            }).add;"
   ]
  },
  {
   "cell_type": "markdown",
   "id": "13a8df34",
   "metadata": {},
   "source": [
    "Play it (change lag time argument)."
   ]
  },
  {
   "cell_type": "code",
   "execution_count": 58,
   "id": "4a368816",
   "metadata": {
    "vscode": {
     "languageId": "plaintext"
    }
   },
   "outputs": [
    {
     "name": "stdout",
     "output_type": "stream",
     "text": [
      "-> Synth('lag' : 1037)"
     ]
    }
   ],
   "source": [
    "a = Synth.new(\\lag,[\\lagt,3,\\amp,0.5]);"
   ]
  },
  {
   "cell_type": "code",
   "execution_count": 78,
   "id": "eac3624a",
   "metadata": {
    "vscode": {
     "languageId": "plaintext"
    }
   },
   "outputs": [
    {
     "name": "stdout",
     "output_type": "stream",
     "text": [
      "-> Synth('lag' : 1037)"
     ]
    }
   ],
   "source": [
    "a.set(\\lagt,3,\\amp,rand(0.8));"
   ]
  },
  {
   "cell_type": "code",
   "execution_count": 79,
   "id": "84b8bf1d",
   "metadata": {
    "vscode": {
     "languageId": "plaintext"
    }
   },
   "outputs": [
    {
     "name": "stdout",
     "output_type": "stream",
     "text": [
      "-> Synth('lag' : 1037)"
     ]
    }
   ],
   "source": [
    "a.free;"
   ]
  },
  {
   "cell_type": "markdown",
   "id": "807f1dab",
   "metadata": {},
   "source": [
    "2. .varlag(0.2) $\\rightarrow$ linear ramps."
   ]
  },
  {
   "cell_type": "code",
   "execution_count": 74,
   "id": "f581fc77",
   "metadata": {
    "vscode": {
     "languageId": "plaintext"
    }
   },
   "outputs": [
    {
     "name": "stdout",
     "output_type": "stream",
     "text": [
      "-> a Plotter"
     ]
    }
   ],
   "source": [
    "{[Impulse.kr(5), \n",
    "  (WhiteNoise.kr * Impulse.kr(5)).varlag(0.2),\n",
    "  LFNoise0.kr(5).varlag(0.2)\n",
    "]}.plot(1);"
   ]
  },
  {
   "cell_type": "markdown",
   "id": "2ad5f40a",
   "metadata": {},
   "source": [
    "Varlag is a complex object see [Help file](http://doc.sccode.org/Classes/VarLag.html) for more.\n",
    "\n",
    "Test it on Pan argument with previuos Synth."
   ]
  },
  {
   "cell_type": "code",
   "execution_count": 80,
   "id": "c60422a6",
   "metadata": {
    "vscode": {
     "languageId": "plaintext"
    }
   },
   "outputs": [
    {
     "name": "stdout",
     "output_type": "stream",
     "text": [
      "-> Synth('lag' : 1038)"
     ]
    }
   ],
   "source": [
    "a = Synth.new(\\lag,[\\lagt,3,\\amp,0.3]);"
   ]
  },
  {
   "cell_type": "code",
   "execution_count": 93,
   "id": "0f127c25",
   "metadata": {
    "vscode": {
     "languageId": "plaintext"
    }
   },
   "outputs": [
    {
     "name": "stdout",
     "output_type": "stream",
     "text": [
      "-> Synth('lag' : 1038)"
     ]
    }
   ],
   "source": [
    "a.set(\\lagt,0.5,\\pan,rand2(1.0));"
   ]
  },
  {
   "cell_type": "code",
   "execution_count": 94,
   "id": "84a7b221",
   "metadata": {
    "vscode": {
     "languageId": "plaintext"
    }
   },
   "outputs": [
    {
     "name": "stdout",
     "output_type": "stream",
     "text": [
      "-> Synth('lag' : 1038)"
     ]
    }
   ],
   "source": [
    "a.free;"
   ]
  },
  {
   "cell_type": "markdown",
   "id": "1f4ea905",
   "metadata": {},
   "source": [
    "All continuos input values from any type of port and protocol (MIDI, OSC, HID, Serial, etc.) should be smoothed to avoid clicks."
   ]
  },
  {
   "cell_type": "markdown",
   "id": "4aa2c6d2",
   "metadata": {},
   "source": [
    "### Sample and hold <a id=\"sah\"></a>\n",
    "\n",
    "From continuos signals to trigger or switch.\n",
    "\n",
    "In SuperCollider we can use UGens 'Trig1' or 'Trig'.\n",
    "\n",
    "Trig when a bipolar signal goes from negative to positive.\n",
    "\n",
    "Second argument is dead zone (duty cycle duration) in seconds.\n",
    "\n",
    "After this time goes to zero.\n",
    "\n",
    "See Help files for differences."
   ]
  },
  {
   "cell_type": "code",
   "execution_count": 255,
   "id": "15c2e5b0",
   "metadata": {
    "vscode": {
     "languageId": "plaintext"
    }
   },
   "outputs": [
    {
     "name": "stdout",
     "output_type": "stream",
     "text": [
      "-> Synth('lag' : 1129)"
     ]
    }
   ],
   "source": [
    "{[SinOsc.kr(3), \n",
    "  Trig1.kr(SinOsc.kr(3), 0.25)\n",
    "]}.plot(1);"
   ]
  },
  {
   "cell_type": "markdown",
   "id": "52e593ac",
   "metadata": {},
   "source": [
    "Test it with mouse x position between -1 and 1."
   ]
  },
  {
   "cell_type": "code",
   "execution_count": 112,
   "id": "c52bc23c",
   "metadata": {
    "vscode": {
     "languageId": "plaintext"
    }
   },
   "outputs": [
    {
     "name": "stdout",
     "output_type": "stream",
     "text": [
      "-> a SynthDef"
     ]
    }
   ],
   "source": [
    "SynthDef.new(\\trig,{arg amp=0, sustime=0.5;\n",
    "                    var ksig, env, sig;\n",
    "                        ksig = MouseX.kr(-1,1);\n",
    "                        ksig = Trig1.kr(ksig, sustime);\n",
    "                        env  = Env.adsr;\n",
    "                        env  = EnvGen.kr(env,ksig); \n",
    "                        sig  = Blip.ar(600,20) * env * amp;\n",
    "                        sig  = Pan2.ar(sig, 0); \n",
    "                    Out.ar(0,sig)\n",
    "            }).add;"
   ]
  },
  {
   "cell_type": "code",
   "execution_count": 113,
   "id": "fc781399",
   "metadata": {
    "vscode": {
     "languageId": "plaintext"
    }
   },
   "outputs": [
    {
     "name": "stdout",
     "output_type": "stream",
     "text": [
      "-> Synth('trig' : 1044)"
     ]
    }
   ],
   "source": [
    "a = Synth.new(\\trig, [\\amp,0.5]);"
   ]
  },
  {
   "cell_type": "code",
   "execution_count": 114,
   "id": "8b71e96b",
   "metadata": {
    "vscode": {
     "languageId": "plaintext"
    }
   },
   "outputs": [
    {
     "name": "stdout",
     "output_type": "stream",
     "text": [
      "-> Synth('trig' : 1044)"
     ]
    }
   ],
   "source": [
    "a.set(\\sustime,0.1);"
   ]
  },
  {
   "cell_type": "code",
   "execution_count": 115,
   "id": "22322e7c",
   "metadata": {
    "vscode": {
     "languageId": "plaintext"
    }
   },
   "outputs": [
    {
     "name": "stdout",
     "output_type": "stream",
     "text": [
      "-> Synth('trig' : 1044)"
     ]
    }
   ],
   "source": [
    "a.free;"
   ]
  },
  {
   "cell_type": "markdown",
   "id": "071c6342",
   "metadata": {},
   "source": [
    "If we set duty cycle at 1/samplerate $\\rightarrow$ trig."
   ]
  },
  {
   "cell_type": "code",
   "execution_count": 256,
   "id": "2864ab96",
   "metadata": {
    "vscode": {
     "languageId": "plaintext"
    }
   },
   "outputs": [
    {
     "name": "stdout",
     "output_type": "stream",
     "text": [
      "-> a Plotter"
     ]
    }
   ],
   "source": [
    "{[SinOsc.kr(3), \n",
    "  Trig1.kr(SinOsc.kr(3), 1/44100)\n",
    "]}.plot(1);"
   ]
  },
  {
   "cell_type": "markdown",
   "id": "d4a80358",
   "metadata": {},
   "source": [
    "### Thresholds <a id=\"tresh\"></a>\n",
    "\n",
    "We can also set thresholds and generate:\n",
    "\n",
    "* signal values > threshold $\\rightarrow$ 1.0 (and vceversa).\n",
    "* signal values < threshold $\\rightarrow$ 1.0 (and viceversa).\n",
    "* signal values pass threshold up and down.\n",
    "* signal values are within a range.\n",
    "\n",
    "We test it with MouseX position as control signal but is valid for any kind of signal.\n",
    "\n",
    "Four audio exemples.\n",
    "\n",
    "1. Trigger envelope without sustain when pass up."
   ]
  },
  {
   "cell_type": "code",
   "execution_count": 116,
   "id": "917e390b",
   "metadata": {
    "vscode": {
     "languageId": "plaintext"
    }
   },
   "outputs": [
    {
     "name": "stdout",
     "output_type": "stream",
     "text": [
      "-> a SynthDef"
     ]
    }
   ],
   "source": [
    "SynthDef.new(\\thresh1, {arg amp=0;\n",
    "                        var ksig, env, sig;\n",
    "                            ksig = MouseX.kr(0,10) > 5;\n",
    "                            env  = Env.perc;              // no sustain\n",
    "                            env  = EnvGen.kr(env,ksig); \n",
    "                            sig  = Formant.ar * env * amp;\n",
    "                            sig  = Pan2.ar(sig, 0); \n",
    "                        Out.ar(0,sig)\n",
    "            }).add;"
   ]
  },
  {
   "cell_type": "code",
   "execution_count": 117,
   "id": "e6972943",
   "metadata": {
    "vscode": {
     "languageId": "plaintext"
    }
   },
   "outputs": [
    {
     "name": "stdout",
     "output_type": "stream",
     "text": [
      "-> Synth('thresh1' : 1045)"
     ]
    }
   ],
   "source": [
    "a = Synth.new(\\thresh1, [\\amp,0.5]);"
   ]
  },
  {
   "cell_type": "code",
   "execution_count": 118,
   "id": "a9d9ab0b",
   "metadata": {
    "vscode": {
     "languageId": "plaintext"
    }
   },
   "outputs": [
    {
     "name": "stdout",
     "output_type": "stream",
     "text": [
      "-> Synth('thresh1' : 1045)"
     ]
    }
   ],
   "source": [
    "a.free;"
   ]
  },
  {
   "cell_type": "markdown",
   "id": "09260a02",
   "metadata": {},
   "source": [
    "2. Trigger envelope without sustain when pass threshold up or down."
   ]
  },
  {
   "cell_type": "code",
   "execution_count": 125,
   "id": "3218507e",
   "metadata": {
    "vscode": {
     "languageId": "plaintext"
    }
   },
   "outputs": [
    {
     "name": "stdout",
     "output_type": "stream",
     "text": [
      "-> a SynthDef"
     ]
    }
   ],
   "source": [
    "SynthDef.new(\\thresh2, {arg amp=0;\n",
    "                        var ksig, env, sig;\n",
    "                            ksig = Changed.kr(MouseX.kr(0,10) > 5);\n",
    "                            env  = Env.perc;              // no sustain\n",
    "                            env  = EnvGen.kr(env,ksig); \n",
    "                            sig  = PinkNoise.ar * env * amp;\n",
    "                            sig  = Pan2.ar(sig, 0); \n",
    "                        Out.ar(0,sig)\n",
    "            }).add;"
   ]
  },
  {
   "cell_type": "code",
   "execution_count": 126,
   "id": "93741353",
   "metadata": {
    "vscode": {
     "languageId": "plaintext"
    }
   },
   "outputs": [
    {
     "name": "stdout",
     "output_type": "stream",
     "text": [
      "-> Synth('thresh2' : 1048)"
     ]
    }
   ],
   "source": [
    "a = Synth.new(\\thresh2, [\\amp,0.5]);"
   ]
  },
  {
   "cell_type": "code",
   "execution_count": 127,
   "id": "f93f15f4",
   "metadata": {
    "vscode": {
     "languageId": "plaintext"
    }
   },
   "outputs": [
    {
     "name": "stdout",
     "output_type": "stream",
     "text": [
      "-> Synth('thresh2' : 1048)"
     ]
    }
   ],
   "source": [
    "a.free;"
   ]
  },
  {
   "cell_type": "markdown",
   "id": "be691613",
   "metadata": {
    "vscode": {
     "languageId": "plaintext"
    }
   },
   "source": [
    "3. Trigger envelope with sustain when pass up (noteON) and down (noteOff)."
   ]
  },
  {
   "cell_type": "code",
   "execution_count": 128,
   "id": "92894a21",
   "metadata": {
    "vscode": {
     "languageId": "plaintext"
    }
   },
   "outputs": [
    {
     "name": "stdout",
     "output_type": "stream",
     "text": [
      "-> a SynthDef"
     ]
    }
   ],
   "source": [
    "SynthDef.new(\\thresh3, {arg amp=0;\n",
    "                        var ksig, env, sig;\n",
    "                            ksig = MouseX.kr(0,10) > 5;\n",
    "                            env  = Env.asr;              // with sustain\n",
    "                            env  = EnvGen.kr(env,ksig); \n",
    "                            sig  = GrayNoise.ar * env * amp;\n",
    "                            sig  = Pan2.ar(sig, 0); \n",
    "                        Out.ar(0,sig)\n",
    "            }).add;"
   ]
  },
  {
   "cell_type": "code",
   "execution_count": 129,
   "id": "4aa6f0ed",
   "metadata": {
    "vscode": {
     "languageId": "plaintext"
    }
   },
   "outputs": [
    {
     "name": "stdout",
     "output_type": "stream",
     "text": [
      "-> Synth('thresh3' : 1049)"
     ]
    }
   ],
   "source": [
    "a = Synth.new(\\thresh3, [\\amp,0.5]);"
   ]
  },
  {
   "cell_type": "code",
   "execution_count": 130,
   "id": "2f628054",
   "metadata": {
    "vscode": {
     "languageId": "plaintext"
    }
   },
   "outputs": [
    {
     "name": "stdout",
     "output_type": "stream",
     "text": [
      "-> Synth('thresh3' : 1049)"
     ]
    }
   ],
   "source": [
    "a.free;"
   ]
  },
  {
   "cell_type": "markdown",
   "id": "5e93f7a4",
   "metadata": {},
   "source": [
    "4. Trigger envelope with sustain when the signal values are within a range."
   ]
  },
  {
   "cell_type": "code",
   "execution_count": 5,
   "id": "af369e0e",
   "metadata": {
    "vscode": {
     "languageId": "plaintext"
    }
   },
   "outputs": [
    {
     "name": "stdout",
     "output_type": "stream",
     "text": [
      "-> a SynthDef"
     ]
    }
   ],
   "source": [
    "SynthDef.new(\\thresh4, {arg amp=0;\n",
    "                        var ksig, env, sig;\n",
    "                            ksig = InRange.kr(MouseX.kr(0,1),0.2,0.8);\n",
    "                            env  = Env.asr;              // with sustain\n",
    "                            env  = EnvGen.kr(env,ksig); \n",
    "                            sig  = Pluck.ar(WhiteNoise.ar(0.1),\n",
    "                                            Impulse.ar(2),\n",
    "                                            1/440,1/440,10\n",
    "                                            ) * env * amp;\n",
    "                            sig  = Pan2.ar(sig, 0); \n",
    "                        Out.ar(0,sig)\n",
    "            }).add;"
   ]
  },
  {
   "cell_type": "code",
   "execution_count": 6,
   "id": "36177ec1",
   "metadata": {
    "vscode": {
     "languageId": "plaintext"
    }
   },
   "outputs": [
    {
     "name": "stdout",
     "output_type": "stream",
     "text": [
      "-> Synth('thresh4' : 1002)"
     ]
    }
   ],
   "source": [
    "a = Synth.new(\\thresh4, [\\amp,0.5]);"
   ]
  },
  {
   "cell_type": "code",
   "execution_count": 7,
   "id": "dba5f957",
   "metadata": {
    "vscode": {
     "languageId": "plaintext"
    }
   },
   "outputs": [
    {
     "name": "stdout",
     "output_type": "stream",
     "text": [
      "-> Synth('thresh4' : 1002)"
     ]
    }
   ],
   "source": [
    "a.free;"
   ]
  },
  {
   "cell_type": "markdown",
   "id": "ef7ae77f",
   "metadata": {},
   "source": [
    "More [UGens](http://doc.sccode.org/Browse.html#UGens%3ETriggers) about triggers.\n",
    "\n",
    "We will apply one or more of these types of interaction depending on the characteristics of the external devices and the communication protocols we will use."
   ]
  },
  {
   "cell_type": "markdown",
   "id": "51836988",
   "metadata": {},
   "source": [
    "# Control signals <a id=\"ksig\"></a>\n",
    "\n",
    "Exemples of the previous paragraph are developed with control signals.\n",
    "\n",
    "A control signal is a signal that shape an audio signal at a low frequency rate (LF < 20Hz)).\n",
    "\n",
    "In SuperCollider they can be UGens:\n",
    "* at audio rate (.ar).\n",
    "* at control rate (.kr) $\\rightarrow$ generate one sample value for every sixty-four audio sample values.\n",
    "\n",
    "We can convert the signal rate."
   ]
  },
  {
   "cell_type": "code",
   "execution_count": 1,
   "id": "b2bb0a36",
   "metadata": {
    "vscode": {
     "languageId": "plaintext"
    }
   },
   "outputs": [
    {
     "name": "stdout",
     "output_type": "stream",
     "text": [
      "-> a Plotter"
     ]
    }
   ],
   "source": [
    "{[WhiteNoise.kr,  A2K.kr(WhiteNoise.ar)]}.plot;  // Audio --> control (downsampling)\n",
    "{[WhiteNoise.ar,  K2A.ar(WhiteNoise.kr)]}.plot;  // Control --> audio (upsampling)\t"
   ]
  },
  {
   "cell_type": "markdown",
   "id": "a62f562e",
   "metadata": {},
   "source": [
    "## Types <a id=\"types\"></a>\n",
    "\n",
    "There are three type of signals that correspond to the types of interaction:\n",
    "* impulsive (trigger).\n",
    "* discrete (switch).\n",
    "* continuos (continuos)."
   ]
  },
  {
   "cell_type": "code",
   "execution_count": 4,
   "id": "f595e650",
   "metadata": {
    "vscode": {
     "languageId": "plaintext"
    }
   },
   "outputs": [
    {
     "name": "stdout",
     "output_type": "stream",
     "text": [
      "-> a Plotter"
     ]
    }
   ],
   "source": [
    "{[\n",
    "Impulse.kr(10),\n",
    "LFNoise0.kr(10),\n",
    "LFNoise2.kr(10),\n",
    "]}.plot(0.5)"
   ]
  },
  {
   "cell_type": "markdown",
   "id": "a0079467",
   "metadata": {},
   "source": [
    "Each of them can be:\n",
    "* periodic\n",
    "* a-periodic."
   ]
  },
  {
   "cell_type": "code",
   "execution_count": 9,
   "id": "8a20e1a1",
   "metadata": {
    "vscode": {
     "languageId": "plaintext"
    }
   },
   "outputs": [
    {
     "name": "stdout",
     "output_type": "stream",
     "text": [
      "-> a Plotter"
     ]
    }
   ],
   "source": [
    "{[\n",
    "Impulse.kr(100),\n",
    "Dust.kr(100),\n",
    "LFPulse.kr(10),\n",
    "LFNoise0.kr(10),\n",
    "LFPar.kr(10),\n",
    "LFNoise2.kr(10),\n",
    "]}.plot(1)"
   ]
  },
  {
   "cell_type": "markdown",
   "id": "fec46a65",
   "metadata": {},
   "source": [
    "## Scaling <a id=\"scaling\"></a>\n",
    "\n",
    "An important aspect when we use control signals is change its original range according values of controlled parameter.\n",
    "\n",
    "In SuperCollider three main strategies:\n",
    "1. if the original range is +/- 1 as for audio signals\n",
    "  - .range(min,max)\n",
    "  - .unipolar"
   ]
  },
  {
   "cell_type": "code",
   "execution_count": null,
   "id": "9f3ca182",
   "metadata": {
    "vscode": {
     "languageId": "plaintext"
    }
   },
   "outputs": [
    {
     "name": "stdout",
     "output_type": "stream",
     "text": [
      "-> a Plotter"
     ]
    }
   ],
   "source": [
    "{[SinOsc.ar(10),\n",
    "  SinOsc.ar(10).range(20,30),\n",
    "  SinOsc.ar(10).unipolar]}.plot(1);"
   ]
  },
  {
   "cell_type": "markdown",
   "id": "f275d275",
   "metadata": {},
   "source": [
    "2. if the original range is custom:\n",
    "   - .linlin(minIn.maxIn,minOut,maxOut)\n",
    "   - .linexp(minIn.maxIn,minOut,maxOut)\n",
    "\n",
    "   ...and their vairants (see help files)."
   ]
  },
  {
   "cell_type": "code",
   "execution_count": null,
   "id": "2b5a2f52",
   "metadata": {
    "vscode": {
     "languageId": "plaintext"
    }
   },
   "outputs": [
    {
     "name": "stdout",
     "output_type": "stream",
     "text": [
      "-> a Plotter"
     ]
    }
   ],
   "source": [
    "{[EnvGen.kr(Env([20,30,25,27],[0.2,0.2,0.2])),\n",
    "  EnvGen.kr(Env([20,30,25,27],[0.2,0.2,0.2])).linlin(20,30,50,80)]}.plot(0.6)"
   ]
  },
  {
   "cell_type": "markdown",
   "id": "a0a6163d",
   "metadata": {},
   "source": [
    "3. using last two UGens aguments ('mul' and 'add')."
   ]
  },
  {
   "cell_type": "code",
   "execution_count": null,
   "id": "2a7a52ba",
   "metadata": {
    "vscode": {
     "languageId": "plaintext"
    }
   },
   "outputs": [
    {
     "name": "stdout",
     "output_type": "stream",
     "text": [
      "-> a Plotter"
     ]
    }
   ],
   "source": [
    "{LFSaw.kr(5,mul:20,add:50)}.plot(1)   // from 30 to 70"
   ]
  },
  {
   "cell_type": "markdown",
   "id": "6054c85c",
   "metadata": {},
   "source": [
    "## Plugging <a id=\"plugging\"></a>\n",
    "\n",
    "Two ways to plug control signals to parameters.\n",
    "\n",
    "1. inside SynthDef"
   ]
  },
  {
   "cell_type": "code",
   "execution_count": 66,
   "id": "da0fe613",
   "metadata": {
    "vscode": {
     "languageId": "plaintext"
    }
   },
   "outputs": [
    {
     "name": "stdout",
     "output_type": "stream",
     "text": [
      "-> CmdPeriod"
     ]
    }
   ],
   "source": [
    "SynthDef(\\ksig1 , {arg freq=900,dur=0.2,atk=0.01,pan=0,gate=0;\n",
    "\t               var sig, bps, dec, trig, env, fade;\n",
    "                       sig  = Saw.ar(freq);\n",
    "\t                   bps  = dur.reciprocal;\n",
    "\t                   dec  = 1-atk * dur;\n",
    "\t                   trig = Impulse.ar(bps);      // control signal...at audio rate\n",
    "\t                   env  = Decay2.ar(trig,atk,dec); \n",
    "                       fade = Linen.kr(gate,doneAction:2);\n",
    "                       sig  = sig * env * fade;\n",
    "                       sig  = Pan2.ar(sig,pan);\n",
    "\t              Out.ar(0, sig)\n",
    "        }).add;\n",
    "\n",
    "{a = Synth(\\ksig1, [\\gate,1])}.defer(0.2)"
   ]
  },
  {
   "cell_type": "markdown",
   "id": "98047669",
   "metadata": {},
   "source": [
    "Change rate."
   ]
  },
  {
   "cell_type": "code",
   "execution_count": 68,
   "id": "d7f6cede",
   "metadata": {
    "vscode": {
     "languageId": "plaintext"
    }
   },
   "outputs": [
    {
     "name": "stdout",
     "output_type": "stream",
     "text": [
      "-> Synth('ksig1' : 1033)"
     ]
    }
   ],
   "source": [
    "a.set(\\dur,rrand(0.05,0.8));\t"
   ]
  },
  {
   "cell_type": "markdown",
   "id": "7c205e97",
   "metadata": {},
   "source": [
    "Kill it."
   ]
  },
  {
   "cell_type": "code",
   "execution_count": 69,
   "id": "a9bcfc06",
   "metadata": {
    "vscode": {
     "languageId": "plaintext"
    }
   },
   "outputs": [
    {
     "name": "stdout",
     "output_type": "stream",
     "text": [
      "-> Synth('ksig1' : 1033)"
     ]
    }
   ],
   "source": [
    "a.set(\\gate,0);"
   ]
  },
  {
   "cell_type": "markdown",
   "id": "b59a836a",
   "metadata": {},
   "source": [
    "2. Through control bus."
   ]
  },
  {
   "cell_type": "code",
   "execution_count": 121,
   "id": "bc90f54d",
   "metadata": {
    "vscode": {
     "languageId": "plaintext"
    }
   },
   "outputs": [
    {
     "name": "stdout",
     "output_type": "stream",
     "text": [
      "-> localhost"
     ]
    }
   ],
   "source": [
    "SynthDef(\\ksig, {arg type=0,freq=3,bus=0;\n",
    "                 var ksig;\n",
    "                 ksig = Select.kr(type,\n",
    "                                  [\n",
    "                                   Dust2.kr(freq),    // 0\n",
    "                                   LFNoise0.kr(freq), // 1\n",
    "                                   LFNoise2.kr(freq)  // 2\n",
    "                                   ]);\n",
    "                 Out.kr(bus, ksig)              \n",
    "        }).add;\n",
    "\n",
    "SynthDef(\\asig, {arg freq=0, amp=0, pan=0, gate=0;\n",
    "                 var sig, fade;\n",
    "                     sig  = SinOsc.ar(freq.range(800,1200)); // scaled\n",
    "                     fade = Linen.kr(gate,doneAction:2);\n",
    "                     sig  = sig * fade;\n",
    "                     sig  = Pan2.ar(sig, pan);               // not scaled\n",
    "\t              Out.ar(0, sig)\n",
    "}).add;\n",
    "\n",
    "~kbus = Bus.control(s, 1);\n",
    "\n",
    "{a = Synth(\\ksig, [\\bus, ~kbus]);\n",
    " b = Synth(\\asig, [\\freq, ~kbus.asMap, \\pan,  ~kbus.asMap, \\amp,0.5, \\gate,1]);\n",
    "}.defer(1)"
   ]
  },
  {
   "cell_type": "markdown",
   "id": "ac30132f",
   "metadata": {},
   "source": [
    "Change contro signal."
   ]
  },
  {
   "cell_type": "code",
   "execution_count": 123,
   "id": "5324e5db",
   "metadata": {
    "vscode": {
     "languageId": "plaintext"
    }
   },
   "outputs": [
    {
     "name": "stdout",
     "output_type": "stream",
     "text": [
      "-> Synth('ksig' : 1000)"
     ]
    }
   ],
   "source": [
    "a.set(\\type,2)"
   ]
  },
  {
   "cell_type": "markdown",
   "id": "24dbe457",
   "metadata": {},
   "source": [
    "Kill it."
   ]
  },
  {
   "cell_type": "code",
   "execution_count": 124,
   "id": "1e5fa313",
   "metadata": {
    "vscode": {
     "languageId": "plaintext"
    }
   },
   "outputs": [
    {
     "name": "stdout",
     "output_type": "stream",
     "text": [
      "-> Synth('ksig' : 1000)"
     ]
    }
   ],
   "source": [
    "b.set(\\gate,0); a.free; ~kbus.free;"
   ]
  },
  {
   "cell_type": "markdown",
   "id": "a54b78b5",
   "metadata": {},
   "source": [
    "# MIDI <a id=\"midi\"></a>\n",
    "\n",
    "Musical Instrument Digital Interface.\n",
    "\n",
    "Born on 1982.\n",
    "\n",
    "It includes:\n",
    "\n",
    "* communication procotol.\n",
    "* digital interfaces.\n",
    "* electrical connectors (cables and ports).\n",
    "\n",
    "We can connect electronic musical instruments, audio devices and computers with midi cables.\n",
    "\n",
    "Serial transmission.\n",
    "\n",
    "Midi message values $\\rightarrow$ int from 0 to 127.\n",
    "\n",
    "  <!---<center><img src=\"img/trattato.png\" width=\"10%\"></center>--->\n",
    "\n",
    "  <div style=\"width:40%; margin-left: auto; margin-right: auto\">\n",
    "\n",
    "  ![](img/MIDI_1.png)\n",
    "\n",
    "  </div>\n",
    "\n",
    "Initialize midi communication in SuperCollider. "
   ]
  },
  {
   "cell_type": "code",
   "execution_count": 125,
   "id": "26372cee",
   "metadata": {
    "vscode": {
     "languageId": "plaintext"
    }
   },
   "outputs": [
    {
     "name": "stdout",
     "output_type": "stream",
     "text": [
      "-> Bus(control, nil, nil, localhost)"
     ]
    }
   ],
   "source": [
    "MIDIClient.init;\t"
   ]
  },
  {
   "cell_type": "markdown",
   "id": "dec49079",
   "metadata": {},
   "source": [
    "Searching for physical and virtual midi devices connected to the computer. "
   ]
  },
  {
   "cell_type": "code",
   "execution_count": 126,
   "id": "f6570579",
   "metadata": {
    "vscode": {
     "languageId": "plaintext"
    }
   },
   "outputs": [
    {
     "name": "stdout",
     "output_type": "stream",
     "text": [
      "MIDI Sources:\n",
      "\tMIDIEndPoint(\"Driver IAC\", \"Bus 1\")\n",
      "MIDI Destinations:\n",
      "\tMIDIEndPoint(\"Driver IAC\", \"Bus 1\")\n",
      "-> MIDIClient"
     ]
    }
   ],
   "source": [
    "MIDIClient.sources;      // from\n",
    "MIDIClient.destinations; // to"
   ]
  },
  {
   "cell_type": "markdown",
   "id": "4e2cf9fe",
   "metadata": {},
   "source": [
    "* Ports $\\rightarrow$ virtual and physical connectors.\n",
    "* Channels \n",
    "  - 16 for each port (as empty staff of a score).\n",
    "  - one channel can be mono or poli.\n",
    "* Voice $\\rightarrow$ instrument (timbre) that we assign to a channel.\n",
    "* Message $\\rightarrow$ can be channel message or system message.\n",
    "\n",
    "[More](img/MIDI_2.pdf) on MIDI protocol."
   ]
  },
  {
   "cell_type": "markdown",
   "id": "11eac648",
   "metadata": {},
   "source": [
    "## Receive <a id=\"receivemidi\"></a>\n",
    "\n",
    "Connect a MIDI device to the computer USB port (or a software to a virtual port).\n",
    "1. Disconnect all MIDI message connections from/to SuperCollider (clean up).\n",
    "2. Connect all MIDI message connections from/to SuperCollider."
   ]
  },
  {
   "cell_type": "code",
   "execution_count": 127,
   "id": "7ebe3ea7",
   "metadata": {
    "vscode": {
     "languageId": "plaintext"
    }
   },
   "outputs": [
    {
     "name": "stdout",
     "output_type": "stream",
     "text": [
      "-> [MIDIEndPoint(\"Driver IAC\", \"Bus 1\")]"
     ]
    }
   ],
   "source": [
    "MIDIIn.disconnectAll; \n",
    "MIDIIn.connectAll;   "
   ]
  },
  {
   "cell_type": "markdown",
   "id": "b1c992b8",
   "metadata": {},
   "source": [
    "3. Check communication and the incoming message type."
   ]
  },
  {
   "cell_type": "code",
   "execution_count": null,
   "id": "1f31c403",
   "metadata": {
    "vscode": {
     "languageId": "plaintext"
    }
   },
   "outputs": [],
   "source": [
    "MIDIFunc.trace(true);  // check message (Post window)\n",
    "MIDIFunc.trace(false); // Stop checking"
   ]
  },
  {
   "cell_type": "markdown",
   "id": "d8d181d9",
   "metadata": {},
   "source": [
    "4. Choose the MIDI message type we want to receive."
   ]
  },
  {
   "cell_type": "code",
   "execution_count": 128,
   "id": "b344ad8f",
   "metadata": {
    "vscode": {
     "languageId": "plaintext"
    }
   },
   "outputs": [
    {
     "name": "stdout",
     "output_type": "stream",
     "text": [
      "-> MIDIIn"
     ]
    }
   ],
   "source": [
    "MIDIdef.noteOn( \\noteOn, {arg ...args; args.postln}); // velocity, note,      canale, uid\n",
    "MIDIdef.noteOff(\\noteOff,{arg ...args; args.postln}); // velocity, note,      canale, uid\n",
    "MIDIdef.cc(     \\control,{arg ...args; args.postln}); // valore,   numero cc, canale, uid"
   ]
  },
  {
   "cell_type": "markdown",
   "id": "15157fb2",
   "metadata": {},
   "source": [
    "MIDIdef second argument ia a function that is evaluated each time a midi message is incoming.\n",
    "\n",
    "Its argument is an array containing values from incoming message.\n",
    "\n",
    "The values type depends on MIDI message type.\n",
    "\n",
    "Main MIDI message types $\\rightarrow$ .noteOn, .noteOff, .cc, .polytouch, .touch, .bend, .program, .sysex, .smpte, .sysrt.\n",
    "\n",
    "If you need more open MIDIdef help file.\n",
    "\n",
    "Kill one MIDIdef or all. "
   ]
  },
  {
   "cell_type": "code",
   "execution_count": 129,
   "id": "02cd4b72",
   "metadata": {
    "vscode": {
     "languageId": "plaintext"
    }
   },
   "outputs": [
    {
     "name": "stdout",
     "output_type": "stream",
     "text": [
      "-> MIDIdef(control, control, nil, nil, nil)"
     ]
    }
   ],
   "source": [
    "MIDIdef(\\noteOn).free; // Cancella una specifica MIDIdef\n",
    "MIDIdef.freeAll;       // Cancella tutte le MIDIdef"
   ]
  },
  {
   "cell_type": "markdown",
   "id": "769eb3b3",
   "metadata": {},
   "source": [
    "If we want receive messages from a specific channel or control number."
   ]
  },
  {
   "cell_type": "code",
   "execution_count": null,
   "id": "14bd3600",
   "metadata": {
    "vscode": {
     "languageId": "plaintext"
    }
   },
   "outputs": [],
   "source": [
    "MIDIdef.cc(\\control_0,{arg val; val.postln});    // from all \n",
    "MIDIdef.cc(\\control_1,{arg val; val.postln},1);  // only from cc 1 chan 0\n",
    "MIDIdef.cc(\\control_2,{arg val; val.postln},2);  // only from cc 2 chan 0\n",
    "MIDIdef.cc(\\control_3,{arg val; val.postln},3);  // only from cc 3 chan 0\n",
    "\n",
    "MIDIdef.cc(\\control_1,{arg val; val.postln},1,0);  // only from cc 1 chan 0\n",
    "MIDIdef.cc(\\control_2,{arg val; val.postln},1,1);  // only from cc 1 chan 1\n",
    "MIDIdef.cc(\\control_3,{arg val; val.postln},1,2);  // only from cc 1 chan 2"
   ]
  },
  {
   "cell_type": "markdown",
   "id": "b2da5f0b",
   "metadata": {},
   "source": [
    "## Send <a id=\"sendmidi\"></a>\n",
    "\n",
    "Available MIDI device destinations."
   ]
  },
  {
   "cell_type": "code",
   "execution_count": 11,
   "id": "10d8a55e",
   "metadata": {
    "vscode": {
     "languageId": "plaintext"
    }
   },
   "outputs": [
    {
     "name": "stdout",
     "output_type": "stream",
     "text": [
      "-> [MIDIEndPoint(\"Driver IAC\", \"Bus 1\")]"
     ]
    }
   ],
   "source": [
    "MIDIClient.destinations; "
   ]
  },
  {
   "cell_type": "markdown",
   "id": "39a4c9dc",
   "metadata": {},
   "source": [
    "Array of devices.\n",
    "\n",
    "We can choose and set destination by index."
   ]
  },
  {
   "cell_type": "code",
   "execution_count": null,
   "id": "8d2b3d1a",
   "metadata": {
    "vscode": {
     "languageId": "plaintext"
    }
   },
   "outputs": [],
   "source": [
    "c = MIDIOut.new(0);"
   ]
  },
  {
   "cell_type": "markdown",
   "id": "11d6ea50",
   "metadata": {},
   "source": [
    "Than send MIDI messages."
   ]
  },
  {
   "cell_type": "code",
   "execution_count": null,
   "id": "3c355be0",
   "metadata": {
    "vscode": {
     "languageId": "plaintext"
    }
   },
   "outputs": [],
   "source": [
    "//       channel,    pitch, velocity\n",
    "c.noteOn(0,      rand(127), rand(127));\n",
    "c.noteOff(0,     rand(127), rand(127));\n",
    "c.allNotesOff(0);\n",
    "\n",
    "//       channel, ccn,  val\n",
    "c.control(0,        1,  rand(127));"
   ]
  },
  {
   "cell_type": "markdown",
   "id": "97ea1bda",
   "metadata": {},
   "source": [
    "## Voice allocation <a id=\"valloc\"></a>\n",
    "\n",
    "There are three different Synth models designed for incoming midi message:\n",
    "* monophonic.\n",
    "* poliphonic without sustain envelope (one message trigger + duration).\n",
    "* poliphinic with sustain envelope (two message switch - noteOn and noteOff).\n",
    "\n",
    "They usually are triggered by keys or buttons but we can also control parameters with continuos signals from knobs, fader, etc."
   ]
  },
  {
   "cell_type": "markdown",
   "id": "132061fd",
   "metadata": {},
   "source": [
    "### Monophonic Synth <a id=\"monosynth\"></a>"
   ]
  },
  {
   "cell_type": "code",
   "execution_count": 68,
   "id": "3d89542a",
   "metadata": {
    "vscode": {
     "languageId": "plaintext"
    }
   },
   "outputs": [
    {
     "name": "stdout",
     "output_type": "stream",
     "text": [
      "server 'localhost' already running\n",
      "-> MIDIIn"
     ]
    }
   ],
   "source": [
    "s.boot;\n",
    "MIDIIn.disconnectAll;  \n",
    "MIDIIn.connectAll;   "
   ]
  },
  {
   "cell_type": "markdown",
   "id": "aebce245",
   "metadata": {},
   "source": [
    "SyntDef and MIDIdef."
   ]
  },
  {
   "cell_type": "code",
   "execution_count": null,
   "id": "d52602bb",
   "metadata": {
    "vscode": {
     "languageId": "plaintext"
    }
   },
   "outputs": [
    {
     "name": "stdout",
     "output_type": "stream",
     "text": [
      "-> MIDIdef(noteOff, noteOff, nil, nil, nil)"
     ]
    }
   ],
   "source": [
    "// ------------------------------ SynthDef and Synth\n",
    "\n",
    "SynthDef(\\midi, {arg freq=440, amp=0, gate=0, gain=0, pan=0; // gain from knob or fader\n",
    "                 var sig, env;\n",
    "                     sig = SinOsc.ar(freq);\n",
    "                     env = Env.adsr;\n",
    "                     env = EnvGen.kr(env,gate);\n",
    "                     sig = sig * env * gain.lag(0.2); // lag values from knob or fader\n",
    "                     sig = Pan2.ar(sig,pan);\n",
    "                 Out.ar(0, sig)          \n",
    "         }).add;\n",
    "\n",
    "// ------------------------------ Listen to external MIDI messages\n",
    "\n",
    "MIDIdef.cc(\\masterOut, {arg val;                  // only first argument (cc value)\n",
    "                        ~synth.set(\\gain,val/127) // master out volume\n",
    "           });\n",
    "MIDIdef.noteOn(\\noteOn,{arg vel,note;\n",
    "                        ~synth.set(\\freq,note.midicps, // frequencies from MIDI to Hz\n",
    "                                   \\amp,vel/127,       // scaled amplitude\n",
    "                                   \\gate, 1);          // noteOn\n",
    "           });\n",
    "MIDIdef.noteOff(\\noteOff,{~synth.set(\\gate,0)});       // note off"
   ]
  },
  {
   "cell_type": "markdown",
   "id": "206b5f1e",
   "metadata": {},
   "source": [
    "Synth."
   ]
  },
  {
   "cell_type": "code",
   "execution_count": 70,
   "id": "54cdc2c0",
   "metadata": {
    "vscode": {
     "languageId": "plaintext"
    }
   },
   "outputs": [
    {
     "name": "stdout",
     "output_type": "stream",
     "text": [
      "-> Synth('midi' : 1014)"
     ]
    }
   ],
   "source": [
    "~synth = Synth(\\midi);"
   ]
  },
  {
   "cell_type": "markdown",
   "id": "ac8332bd",
   "metadata": {},
   "source": [
    "We can test it without MIDI devices sending message from SuperCollider.\n",
    "\n",
    "Define a MIDI port."
   ]
  },
  {
   "cell_type": "code",
   "execution_count": 71,
   "id": "138c987c",
   "metadata": {
    "vscode": {
     "languageId": "plaintext"
    }
   },
   "outputs": [
    {
     "name": "stdout",
     "output_type": "stream",
     "text": [
      "-> a MIDIOut"
     ]
    }
   ],
   "source": [
    "~port = MIDIOut.new(0);"
   ]
  },
  {
   "cell_type": "markdown",
   "id": "d69a4b4e",
   "metadata": {},
   "source": [
    "NoteOn and master gain."
   ]
  },
  {
   "cell_type": "code",
   "execution_count": 72,
   "id": "b068285f",
   "metadata": {
    "vscode": {
     "languageId": "plaintext"
    }
   },
   "outputs": [
    {
     "name": "stdout",
     "output_type": "stream",
     "text": [
      "-> a MIDIOut"
     ]
    }
   ],
   "source": [
    "~port.noteOn(0,  72, rand(127));\n",
    "~port.control(0,  1,  64);"
   ]
  },
  {
   "cell_type": "markdown",
   "id": "79964a69",
   "metadata": {},
   "source": [
    "Change dynamically master gain"
   ]
  },
  {
   "cell_type": "code",
   "execution_count": 91,
   "id": "c21cb726",
   "metadata": {
    "vscode": {
     "languageId": "plaintext"
    }
   },
   "outputs": [
    {
     "name": "stdout",
     "output_type": "stream",
     "text": [
      "-> a MIDIOut"
     ]
    }
   ],
   "source": [
    "~port.control(0,  1,  rand(127));"
   ]
  },
  {
   "cell_type": "markdown",
   "id": "37dc4bbb",
   "metadata": {},
   "source": [
    "Note off."
   ]
  },
  {
   "cell_type": "code",
   "execution_count": 92,
   "id": "dee7b193",
   "metadata": {
    "vscode": {
     "languageId": "plaintext"
    }
   },
   "outputs": [
    {
     "name": "stdout",
     "output_type": "stream",
     "text": [
      "-> a MIDIOut"
     ]
    }
   ],
   "source": [
    "~port.noteOff(0,     72, 0);"
   ]
  },
  {
   "cell_type": "markdown",
   "id": "f2a1d5bb",
   "metadata": {},
   "source": [
    "Kill all."
   ]
  },
  {
   "cell_type": "code",
   "execution_count": 93,
   "id": "fa6fa482",
   "metadata": {
    "vscode": {
     "languageId": "plaintext"
    }
   },
   "outputs": [
    {
     "name": "stdout",
     "output_type": "stream",
     "text": [
      "-> MIDIdef"
     ]
    }
   ],
   "source": [
    "~synth.free; ~port.free; MIDIdef.freeAll;     "
   ]
  },
  {
   "cell_type": "markdown",
   "id": "79990a7f",
   "metadata": {},
   "source": [
    "### Poliphonic synth without sustain envelope <a id=\"poli1\"></a>\n",
    "\n",
    "Dynamic voice allocation.\n",
    "\n",
    "Every time a MIDI message is received a new Synth instance is created.\n",
    "\n",
    "After a defined time (duration) the instance is killed automatically (doneAction:2).\n",
    "\n",
    "Note off messages are not necessary (t_gate)."
   ]
  },
  {
   "cell_type": "code",
   "execution_count": 219,
   "id": "52cc3f20",
   "metadata": {
    "vscode": {
     "languageId": "plaintext"
    }
   },
   "outputs": [
    {
     "name": "stdout",
     "output_type": "stream",
     "text": [
      "-> MIDIdef(noteOn1, noteOn, nil, nil, nil)"
     ]
    }
   ],
   "source": [
    "SynthDef(\\midi_poli1, {arg freq=440, amp=0, dur=0.5, pan=0, t_gate=0;\n",
    "\t\t               var sig,env;\n",
    "\t\t                   sig = Blip.ar(freq,40);\n",
    "                           env = Env.perc(dur * 0.1,dur * 0.9);\n",
    "\t\t                   env = EnvGen.kr(env,t_gate, doneAction:2);\n",
    "                           sig = sig * env * amp;\n",
    "                           sig = Pan2.ar(sig,pan);\n",
    "                       Out.ar(0, sig)\n",
    "          }).add;\n",
    "\n",
    "MIDIdef.noteOn(\\noteOn1,{arg vel, note;\n",
    "\t                     Synth(\\midi_poli1,[\\freq,note.midicps,\n",
    "                                            \\amp,vel/127,\n",
    "                                            \\dur,1.5,\n",
    "                                            \\pan, rand2(1.0),\n",
    "                                            \\t_gate,1])\n",
    "               })"
   ]
  },
  {
   "cell_type": "markdown",
   "id": "ad0aa7c6",
   "metadata": {},
   "source": [
    "Test it without device."
   ]
  },
  {
   "cell_type": "code",
   "execution_count": 161,
   "id": "2aa39019",
   "metadata": {
    "vscode": {
     "languageId": "plaintext"
    }
   },
   "outputs": [
    {
     "name": "stdout",
     "output_type": "stream",
     "text": [
      "-> a MIDIOut"
     ]
    }
   ],
   "source": [
    "~port = MIDIOut.new(0);"
   ]
  },
  {
   "cell_type": "markdown",
   "id": "cc16936c",
   "metadata": {},
   "source": [
    "Play a note."
   ]
  },
  {
   "cell_type": "code",
   "execution_count": 327,
   "id": "6c2e8699",
   "metadata": {
    "vscode": {
     "languageId": "plaintext"
    }
   },
   "outputs": [
    {
     "name": "stdout",
     "output_type": "stream",
     "text": [
      "-> a MIDIOut"
     ]
    }
   ],
   "source": [
    "~port.noteOn(0,  rrand(85,90), rand(127));"
   ]
  },
  {
   "cell_type": "markdown",
   "id": "26f5666e",
   "metadata": {},
   "source": [
    "Kill all."
   ]
  },
  {
   "cell_type": "code",
   "execution_count": 159,
   "id": "0573b2ec",
   "metadata": {
    "vscode": {
     "languageId": "plaintext"
    }
   },
   "outputs": [
    {
     "name": "stdout",
     "output_type": "stream",
     "text": [
      "-> MIDIdef"
     ]
    }
   ],
   "source": [
    "~port.free; MIDIdef.freeAll;   "
   ]
  },
  {
   "cell_type": "markdown",
   "id": "768a54e8",
   "metadata": {},
   "source": [
    "### Poliphonic synth with sustain envelope <a id=\"poli1\"></a>\n",
    "\n",
    "Static voice allocation.\n",
    "\n",
    "We define an empty array with 128 items.\n",
    "\n",
    "MIDI note $\\rightarrow$ array index (from 0 to 127).\n",
    "\n",
    "Note On message $\\rightarrow$ put a Synth instance at index (pitch).\n",
    "\n",
    "Note Off message $\\rightarrow$ send gate 0 to instance at index (pitch) and substitute the Synth with 'nil'."
   ]
  },
  {
   "cell_type": "code",
   "execution_count": 536,
   "id": "2fb4c4ac",
   "metadata": {
    "vscode": {
     "languageId": "plaintext"
    }
   },
   "outputs": [
    {
     "name": "stdout",
     "output_type": "stream",
     "text": [
      "-> MIDIdef(noteOff1, noteOff, nil, nil, nil)"
     ]
    }
   ],
   "source": [
    "SynthDef(\\midi_poli2, {arg freq=789, amp=0, pan=0, gate=0;\n",
    "                       var sig, env;\n",
    "                           sig = SinOsc.ar(freq);\n",
    "                           env = Env.adsr(0.01,0.3,0.5,1);\n",
    "                           env = EnvGen.kr(env, gate, doneAction:2);\n",
    "                           sig = sig * env * amp;\n",
    "                           sig = Pan2.ar(sig, pan);\n",
    "                       Out.ar(0, sig)\n",
    "          }).add;\n",
    "\n",
    "~note = Array.newClear(128); // Empty array with 128 items (all MIDI notes) \n",
    "                             // All elements are 'nil'\n",
    "\n",
    "MIDIdef.noteOn(\\noteOn1,{arg vel, pitch;\n",
    "\t                     ~note.put(pitch, \n",
    "                                   Synth(\\midi_poli2,[\\freq,pitch.midicps,\n",
    "                                                      \\amp,vel/127,\n",
    "                                                      \\gate,1]))\n",
    "               });\n",
    "\n",
    "MIDIdef.noteOff(\\noteOff1,{arg vel, pitch;\n",
    "\t                       ~note.at(pitch).set(\\gate,0);\n",
    "\t                       ~note.put(pitch, nil)\n",
    "               });"
   ]
  },
  {
   "cell_type": "markdown",
   "id": "785660b1",
   "metadata": {},
   "source": [
    "Test it as previous."
   ]
  },
  {
   "cell_type": "code",
   "execution_count": 537,
   "id": "0dcb1dfd",
   "metadata": {
    "vscode": {
     "languageId": "plaintext"
    }
   },
   "outputs": [
    {
     "name": "stdout",
     "output_type": "stream",
     "text": [
      "-> a MIDIOut"
     ]
    }
   ],
   "source": [
    "~port = MIDIOut.new(0);"
   ]
  },
  {
   "cell_type": "code",
   "execution_count": 540,
   "id": "ec70b6ff",
   "metadata": {
    "vscode": {
     "languageId": "plaintext"
    }
   },
   "outputs": [
    {
     "name": "stdout",
     "output_type": "stream",
     "text": [
      "85\n",
      "-> a MIDIOut"
     ]
    }
   ],
   "source": [
    "~port.noteOn(0, rrand(80,90).postln, rand(40));"
   ]
  },
  {
   "cell_type": "code",
   "execution_count": 549,
   "id": "788840fc",
   "metadata": {
    "vscode": {
     "languageId": "plaintext"
    }
   },
   "outputs": [
    {
     "name": "stdout",
     "output_type": "stream",
     "text": [
      "-> a MIDIOut"
     ]
    }
   ],
   "source": [
    "~port.noteOff(0, rrand(80,90), 0);"
   ]
  },
  {
   "cell_type": "code",
   "execution_count": 534,
   "id": "bc98341e",
   "metadata": {
    "vscode": {
     "languageId": "plaintext"
    }
   },
   "outputs": [
    {
     "name": "stdout",
     "output_type": "stream",
     "text": [
      "-> MIDIdef"
     ]
    }
   ],
   "source": [
    " ~port.allNotesOff(0); ~port.free; ~note.free; MIDIdef.freeAll;"
   ]
  },
  {
   "cell_type": "markdown",
   "id": "ee154578",
   "metadata": {},
   "source": [
    "# OSC <a id=\"osc\"></a>\n",
    "\n",
    "Open Sound Control.\n",
    "\n",
    "Born on 1997 CNMAT - Berkeley Univerity.\n",
    "\n",
    "* communication procotol.\n",
    "* wireless\n",
    "\n",
    "We can connect electronic musical instruments, audio devices and computers without cables.\n",
    "\n",
    "OSC message data types $\\rightarrow$ int32, float32 and strings.\n",
    "\n",
    "  <!---<center><img src=\"img/osc_1.png\" width=\"10%\"></center>--->\n",
    "\n",
    "  <div style=\"width:40%; margin-left: auto; margin-right: auto\">\n",
    "\n",
    "  ![](img/osc_1.png)\n",
    "\n",
    "  </div>\n",
    "\n",
    "It is the protocol used in SuperCollider for communication between Interpreter and Server.\n",
    "\n",
    "There are many smartphone and tablet app that support it.\n",
    "\n",
    "You can use these devices as musical instrument controlling sound synthesi and processing in SuperCollider.\n",
    "\n",
    "[TouchOsc](https://hexler.net/touchosc) is a cheaper and powerful app.\n",
    "\n",
    "[FaceOsc](https://github.com/kylemcdonald/ofxFaceTracker/releases) can be useful to check communication between software in local machine.\n",
    "\n",
    "There are not physical connections then we have to open one or more communication channels among devices and/or software setting an:\n",
    "\n",
    "* IP address like \"127.0.0.1\" $\\rightarrow$ it uniquely identify a device.\n",
    "* OSC port $\\rightarrow$ an integer value that identify a monodirectional channel.\n",
    "\n",
    "Each IP address can have many ports, usually for send and receive messages."
   ]
  },
  {
   "cell_type": "markdown",
   "id": "3bbeb60f",
   "metadata": {},
   "source": [
    "## Receive <a id=\"receiveosc\"></a>\n",
    "\n",
    "Check communication and the incoming message type.\n",
    "\n",
    "Server should be quit because we can monitor messages from Interpreter."
   ]
  },
  {
   "cell_type": "code",
   "execution_count": 3,
   "id": "b60ba594",
   "metadata": {
    "vscode": {
     "languageId": "plaintext"
    }
   },
   "outputs": [
    {
     "name": "stdout",
     "output_type": "stream",
     "text": [
      "-> OSCFunc"
     ]
    }
   ],
   "source": [
    "OSCFunc.trace(true);  // Check OSC messages"
   ]
  },
  {
   "cell_type": "code",
   "execution_count": 4,
   "id": "7fdbf679",
   "metadata": {
    "vscode": {
     "languageId": "plaintext"
    }
   },
   "outputs": [
    {
     "name": "stdout",
     "output_type": "stream",
     "text": [
      "-> OSCFunc"
     ]
    }
   ],
   "source": [
    "OSCFunc.trace(false); // Stop checking"
   ]
  },
  {
   "cell_type": "markdown",
   "id": "e8f86b13",
   "metadata": {},
   "source": [
    "Messages are identified by a label starting with slash symbol."
   ]
  },
  {
   "cell_type": "code",
   "execution_count": null,
   "id": "00f37d3b",
   "metadata": {
    "vscode": {
     "languageId": "plaintext"
    }
   },
   "outputs": [],
   "source": [
    "//            name,    function,            label       port\n",
    "OSCdef.new(\\criccio, {arg msg; msg.postln}, '/x',       recvPort:8001)\n",
    "OSCdef.new(\\ciaccio, {arg msg; msg.postln}, '/y',       recvPort:8001)\n",
    "OSCdef.new(\\ciuccio, {arg msg; msg.postln}, '/z',       recvPort:8001)\n",
    "OSCdef.new(\\cieccio, {arg msg; msg.postln}, '/1/fader1',recvPort:8001)"
   ]
  },
  {
   "cell_type": "markdown",
   "id": "b3abb3b1",
   "metadata": {},
   "source": [
    "Syntax is similar to the MIDIdef class.\n",
    "\n",
    "Kill one OSCdef or all. "
   ]
  },
  {
   "cell_type": "code",
   "execution_count": 5,
   "id": "92953a3c",
   "metadata": {
    "vscode": {
     "languageId": "plaintext"
    }
   },
   "outputs": [
    {
     "name": "stdout",
     "output_type": "stream",
     "text": [
      "-> OSCdef"
     ]
    }
   ],
   "source": [
    "OSCdef(\\criccio).free; \n",
    "OSCdef.freeAll;     "
   ]
  },
  {
   "cell_type": "markdown",
   "id": "7d4f95db",
   "metadata": {},
   "source": [
    "## Send <a id=\"sendosc\"></a>\n",
    "\n",
    "Set a device Net address.\n",
    "\n",
    "Send messages to it."
   ]
  },
  {
   "cell_type": "code",
   "execution_count": null,
   "id": "705830f7",
   "metadata": {
    "vscode": {
     "languageId": "plaintext"
    }
   },
   "outputs": [
    {
     "name": "stdout",
     "output_type": "stream",
     "text": [
      "-> a NetAddr(127.0.0.0, 9000)"
     ]
    }
   ],
   "source": [
    "c = NetAddr(\"127.0.0.0\",  9000); // local address \n",
    "\n",
    "c.sendMsg(\"/fade1\", rand(1.0));\n",
    "c.sendMsg(\"/fade1\", rand(1.0), rand(1.0), rand(1.0)); // send more than one value (array)"
   ]
  },
  {
   "cell_type": "markdown",
   "id": "435d1633",
   "metadata": {},
   "source": [
    "Check communication in local.\n",
    "\n",
    "A send/receive model."
   ]
  },
  {
   "cell_type": "code",
   "execution_count": 2,
   "id": "c601533e",
   "metadata": {
    "vscode": {
     "languageId": "plaintext"
    }
   },
   "outputs": [
    {
     "name": "stdout",
     "output_type": "stream",
     "text": [
      "-> OSCdef(osck, /osck, nil, 8000, nil)"
     ]
    }
   ],
   "source": [
    "SynthDef(\\osc, {arg freq=400,amp=0,pan=0,gate=0;\n",
    "                var sig, env;\n",
    "                    env = Linen.kr(gate,doneAction:2);\n",
    "                    sig = SinOsc.ar(freq);\n",
    "                    sig = sig * env * amp;\n",
    "                    sig = Pan2.ar(sig, pan);    \n",
    "                Out.ar(0,sig)\n",
    "                }).add;\n",
    "\n",
    "OSCdef.new(\\gate, {arg msg;\n",
    "                   a.set(\\gate,msg[1]) },        \n",
    "                   '/gate', recvPort:8000);\n",
    "\n",
    "OSCdef.new(\\osck, {arg msg;\n",
    "                   msg.postln;\n",
    "                   a.set(\\freq,msg[1],\\amp,msg[2],\\pan,msg[3]) },        \n",
    "                   '/osck', recvPort:8000);"
   ]
  },
  {
   "cell_type": "code",
   "execution_count": 71,
   "id": "45d8d109",
   "metadata": {
    "vscode": {
     "languageId": "plaintext"
    }
   },
   "outputs": [
    {
     "name": "stdout",
     "output_type": "stream",
     "text": [
      "-> Synth('osc' : 1002)"
     ]
    }
   ],
   "source": [
    "c = NetAddr(\"127.0.0.1\",  8000); \n",
    "a = Synth(\\osc,[\\amp,0.5]);"
   ]
  },
  {
   "cell_type": "markdown",
   "id": "d99efc41",
   "metadata": {},
   "source": [
    "Fade in."
   ]
  },
  {
   "cell_type": "code",
   "execution_count": 72,
   "id": "91fbfd22",
   "metadata": {
    "vscode": {
     "languageId": "plaintext"
    }
   },
   "outputs": [
    {
     "name": "stdout",
     "output_type": "stream",
     "text": [
      "-> a NetAddr(127.0.0.1, 8000)"
     ]
    }
   ],
   "source": [
    "c.sendMsg(\"/gate\", 1);"
   ]
  },
  {
   "cell_type": "markdown",
   "id": "21204487",
   "metadata": {},
   "source": [
    "Send values."
   ]
  },
  {
   "cell_type": "code",
   "execution_count": 88,
   "id": "f5f8e94f",
   "metadata": {
    "vscode": {
     "languageId": "plaintext"
    }
   },
   "outputs": [
    {
     "name": "stdout",
     "output_type": "stream",
     "text": [
      "-> a NetAddr(127.0.0.1, 8000)"
     ]
    }
   ],
   "source": [
    "c.sendMsg(\"/osck\", rrand(80,90).midicps, rand(1.0), rand2(1.0)); "
   ]
  },
  {
   "cell_type": "markdown",
   "id": "f98e4ab3",
   "metadata": {},
   "source": [
    "Fade out."
   ]
  },
  {
   "cell_type": "code",
   "execution_count": 89,
   "id": "8c1844e2",
   "metadata": {
    "vscode": {
     "languageId": "plaintext"
    }
   },
   "outputs": [
    {
     "name": "stdout",
     "output_type": "stream",
     "text": [
      "-> a NetAddr(127.0.0.1, 8000)"
     ]
    }
   ],
   "source": [
    "c.sendMsg(\"/gate\", 0); "
   ]
  },
  {
   "cell_type": "markdown",
   "id": "6174acea",
   "metadata": {},
   "source": [
    "Kill OSC port."
   ]
  },
  {
   "cell_type": "code",
   "execution_count": null,
   "id": "8e854d7d",
   "metadata": {
    "vscode": {
     "languageId": "plaintext"
    }
   },
   "outputs": [],
   "source": [
    "c.free;"
   ]
  },
  {
   "cell_type": "markdown",
   "id": "81ba2415",
   "metadata": {},
   "source": [
    "# HID <a id=\"hid\"></a>\n",
    "\n",
    "Human Interface Device.\n",
    "\n",
    "Devices designed for human-machine interaction $\\rightarrow$ mouse, keyboard, joystick, graphic tablet, etc.\n",
    "\n",
    "In SuperCollider two ways to receive values:\n",
    "\n",
    "* Client side $\\rightarrow$ interaction in Interpreter (as MIDI and OSC).\n",
    "* Server side $\\rightarrow$ interaztion in Server (signals at control rate)."
   ]
  },
  {
   "cell_type": "markdown",
   "id": "2b7f98cf",
   "metadata": {},
   "source": [
    "## Mouse <a id=\"mouse\"></a>\n",
    "\n",
    "All the three control typologies: \n",
    "* trigger. \n",
    "* switch.\n",
    "* continuos."
   ]
  },
  {
   "cell_type": "markdown",
   "id": "ebb52560",
   "metadata": {},
   "source": [
    "### Client side\n",
    "\n",
    "We must create a GUI window and interact with it.\n",
    "\n",
    "Two reasons:\n",
    "* avoid unwanted interactions.\n",
    "* delimit a space (range) for values.\n",
    "\n",
    "Different methods for different actions.\n",
    "\n",
    "#### .mouseDownAction\n",
    "\n",
    "As for MIDIdef and OSCdef the function is evaluated each time a mouse button is clicked.\n",
    "\n",
    "...args:\n",
    "* 0 wiew $\\rightarrow$ the window clicked by mouse.\n",
    "* 1 x $\\rightarrow$ x position on widow in pixels (0 = leftmost).\n",
    "* 2 y $\\rightarrow$ y position on window in pixels (0 = higher). \n",
    "* 3 modifiers $\\rightarrow$ if a modifier key is pressed.\n",
    "* 4 botton n $\\rightarrow$ botton number clicked (0=left, 1=right, 2=central).\n",
    "* 5 counter $\\rightarrow$ number of clicks (1=single click, 2 double click)"
   ]
  },
  {
   "cell_type": "code",
   "execution_count": 90,
   "id": "9db237c5",
   "metadata": {
    "vscode": {
     "languageId": "plaintext"
    }
   },
   "outputs": [
    {
     "name": "stdout",
     "output_type": "stream",
     "text": [
      "-> a Window"
     ]
    }
   ],
   "source": [
    "w = Window.new(\"mouse\");\n",
    "w.view.mouseDownAction_({arg ...args;\n",
    "                                args.postln;    // tutte le info\n",
    "\t\t\t                    args[1].postln; // solo posizione x\n",
    "                       });\n",
    "w.front;\n",
    "w.alwaysOnTop_(true);\n",
    "w.onClose_({w.free});"
   ]
  },
  {
   "cell_type": "markdown",
   "id": "1fafe3fe",
   "metadata": {},
   "source": [
    "Audio example.\n",
    "* left click $\\rightarrow$ trigger sine.\n",
    "* right click $\\rightarrow$ trigger noise."
   ]
  },
  {
   "cell_type": "code",
   "execution_count": 95,
   "id": "1487ef1a",
   "metadata": {
    "vscode": {
     "languageId": "plaintext"
    }
   },
   "outputs": [
    {
     "name": "stdout",
     "output_type": "stream",
     "text": [
      "-> Synth('noise' : 1039)"
     ]
    }
   ],
   "source": [
    "SynthDef.new(\\sine, {arg freq=0, amp=0, t_gate=0;\n",
    "\t                 var sig,env;                                     \n",
    "\t                     sig = SinOsc.ar(freq); \n",
    "\t                     env = EnvGen.kr(Env.perc,t_gate,doneAction:2);\n",
    "\t                 Out.ar(0,sig*env*amp);\n",
    "             }).add;\n",
    "SynthDef.new(\\noise, {arg amp=0;\n",
    "\t                  var sig;\n",
    "\t                      sig = PinkNoise.ar;\n",
    "\t                 Out.ar(0,sig*amp.lag(3));                  \n",
    "             }).add;\n",
    "\n",
    "w = Window.new(\"mouse\");\n",
    "w.view.mouseDownAction_({arg ...args;\n",
    "                         if(args[4] == 0,    // if...\n",
    "                         {Synth.new(\\sine,[\\freq, args[1].linlin(0,400,300,2000), \n",
    "\t\t\t\t                           \\amp,1-args[2].linlin(0,400,0,1.0),\n",
    "\t\t\t\t                           \\t_gate, 1])}, \n",
    "\t\t                 {a.set(\\amp, 1-args[2].linlin(0,400,0,1.0))})                                  \n",
    "                         });\n",
    "w.front;\n",
    "w.alwaysOnTop_(true);\n",
    "w.onClose_({w.free;s.freeAll});\n",
    "\n",
    "a = Synth.new(\\noise);"
   ]
  },
  {
   "cell_type": "markdown",
   "id": "950ec558",
   "metadata": {},
   "source": [
    "#### .mouseUpAction\n",
    "\n",
    "As previous but function is evaluated when button is released."
   ]
  },
  {
   "cell_type": "code",
   "execution_count": 93,
   "id": "8a03e5ab",
   "metadata": {
    "vscode": {
     "languageId": "plaintext"
    }
   },
   "outputs": [
    {
     "name": "stdout",
     "output_type": "stream",
     "text": [
      "-> a Window"
     ]
    }
   ],
   "source": [
    "w = Window.new(\"mouse\");\n",
    "w.view.mouseUpAction_({arg ...args;\n",
    "                              args.postln;    // tutte le info\n",
    "\t\t\t                  args[1].postln; // solo posizione x\n",
    "                       });\n",
    "w.front;\n",
    "w.alwaysOnTop_(true);\n",
    "w.onClose_({w.free});"
   ]
  },
  {
   "cell_type": "markdown",
   "id": "2dfcc9c2",
   "metadata": {},
   "source": [
    "Audio example.\n",
    "* left click $\\rightarrow$ trigger sine (trigger).\n",
    "* right click $\\rightarrow$ fade in noise (switch).\n",
    "* right release $\\rightarrow$ fade out noise."
   ]
  },
  {
   "cell_type": "code",
   "execution_count": 94,
   "id": "03c62043",
   "metadata": {
    "vscode": {
     "languageId": "plaintext"
    }
   },
   "outputs": [
    {
     "name": "stdout",
     "output_type": "stream",
     "text": [
      "-> Synth('noise' : 1030)"
     ]
    }
   ],
   "source": [
    "SynthDef.new(\\sine, {arg freq=0, amp=0, t_gate=0;\n",
    "\t                 var sig,env;                                      \n",
    "\t                     sig = SinOsc.ar(freq); \n",
    "\t                     env = EnvGen.kr(Env.perc,t_gate,doneAction:2);\n",
    "\t                 Out.ar(0,sig*env*amp);\n",
    "             }).add;\n",
    "SynthDef.new(\\noise, {arg amp=0;\n",
    "\t                  var sig;\n",
    "\t                      sig = PinkNoise.ar;\n",
    "\t                  Out.ar(0,sig*amp.lag(0.2)); // fade di 0.2 secondi\n",
    "             }).add;\n",
    "\n",
    "w = Window.new(\"mouse\");\n",
    "w.view.mouseDownAction_({arg ...args;\n",
    "                         if(args[4] == 0,\n",
    "                         {Synth.new(\\sine,[\\freq, args[1].linlin(0,400,300,2000),                 \n",
    "\t\t\t\t                           \\amp,1-args[2].linlin(0,400,0,1.0),\n",
    "\t\t\t\t                           \\t_gate, 1])}, \n",
    "\t\t                 {a.set(\\amp, args[2].linlin(0,400,0,1.0))}) // note On (proporzioni invertite)                            \n",
    "                         });\n",
    "w.view.mouseUpAction_({arg ...args;\n",
    "\t                          args.postln;\n",
    "                              a.set(\\amp, 0) // note Off                             \n",
    "                       });\n",
    "w.front;\n",
    "w.alwaysOnTop_(true);\n",
    "w.onClose_({w.free;s.freeAll});\n",
    "\n",
    "a = Synth.new(\\noise)"
   ]
  },
  {
   "cell_type": "markdown",
   "id": "2b4c0a72",
   "metadata": {},
   "source": [
    "#### .mouseMoveAction\n",
    "\n",
    "As previous but if we click and draw values change dynamically in a continuos way.\n",
    "\n",
    "Top-left corner $\\rightarrow$ (0, 0)\n",
    "\n",
    "Out of window positions $\\rightarrow$ negative or positive values."
   ]
  },
  {
   "cell_type": "code",
   "execution_count": null,
   "id": "e799fe55",
   "metadata": {
    "vscode": {
     "languageId": "plaintext"
    }
   },
   "outputs": [],
   "source": [
    "w = Window.new(\"mouse\");\n",
    "w.view.mouseMoveAction_({arg ...args;\n",
    "                                args.postln;    // tutte le info\n",
    "\t\t\t                    args[1].postln; // solo posizione x\n",
    "                       });\n",
    "w.front;\n",
    "w.alwaysOnTop_(true);\n",
    "w.onClose_({w.free});"
   ]
  },
  {
   "cell_type": "markdown",
   "id": "9103183f",
   "metadata": {},
   "source": [
    "Audio example.\n",
    "* click and release $\\rightarrow$ switch (noteOn and noteOff).\n",
    "* draw $\\rightarrow$ continuos values."
   ]
  },
  {
   "cell_type": "code",
   "execution_count": 96,
   "id": "0572ca90",
   "metadata": {
    "vscode": {
     "languageId": "plaintext"
    }
   },
   "outputs": [
    {
     "name": "stdout",
     "output_type": "stream",
     "text": [
      "-> a Window"
     ]
    }
   ],
   "source": [
    "SynthDef.new(\\spectra, {arg freq=0, amp=0, harm=1, gate=0;\n",
    "\t                    var sig,env;\n",
    "\t                        sig = Blip.ar(freq,harm);\n",
    "\t                        env = EnvGen.kr(Env.asr(0.3,1,5),gate,doneAction:2);\n",
    "\t                    Out.ar(0,sig*env*amp);\n",
    "             }).add;\n",
    "\n",
    "w = Window.new(\"mouse\");\n",
    "w.view.mouseDownAction_({arg ...args;                  // note On \n",
    "                         a = Synth.new(\\spectra, [\\freq, args[1].linlin(0,400,300,2000),\n",
    "\t\t                                          \\gate, 1]);\n",
    "                         });\n",
    "w.view.mouseMoveAction_({arg ...args;                 // controllo continuo\n",
    "\t                     a.set(\\amp,1-args[2].linlin(0,400,0,1.0),\n",
    "\t\t                       \\harm, args[1].linlin(0,400,1,20))\n",
    "                         });\n",
    "w.view.mouseUpAction_({arg ...args;\n",
    "                       a.set(\\gate,0)                  // note Off\n",
    "                      });\n",
    "w.front;\n",
    "w.alwaysOnTop_(true);\n",
    "w.onClose_({w.free;s.freeAll});"
   ]
  },
  {
   "cell_type": "markdown",
   "id": "17b60455",
   "metadata": {},
   "source": [
    "#### .mouseOverAction\n",
    "\n",
    "As previous but without click (passing mouse on the window)."
   ]
  },
  {
   "cell_type": "code",
   "execution_count": 97,
   "id": "c0080b7a",
   "metadata": {
    "vscode": {
     "languageId": "plaintext"
    }
   },
   "outputs": [
    {
     "name": "stdout",
     "output_type": "stream",
     "text": [
      "-> a Window"
     ]
    }
   ],
   "source": [
    "w = Window.new(\"mouse\").acceptsMouseOver_(true);// bisogna specificare;\n",
    "w.view.mouseOverAction_({arg ...args;\n",
    "                                args.postln;    // tutte le info\n",
    "\t\t\t                    args[1].postln; // solo posizione x\n",
    "                         });\n",
    "w.front;\n",
    "w.alwaysOnTop_(true);\n",
    "w.onClose_({w.free});"
   ]
  },
  {
   "cell_type": "markdown",
   "id": "d60fe7e2",
   "metadata": {},
   "source": [
    "Audio example."
   ]
  },
  {
   "cell_type": "code",
   "execution_count": 109,
   "id": "a61d3c77",
   "metadata": {
    "vscode": {
     "languageId": "plaintext"
    }
   },
   "outputs": [
    {
     "name": "stdout",
     "output_type": "stream",
     "text": [
      "-> a Function"
     ]
    }
   ],
   "source": [
    "b = Buffer.read(s, \"/Users/andreavigani/Desktop/GHub/EMC/6_lvset/suoni/voce.wav\");\n",
    "SynthDef.new(\\scratch, {arg pos=0, amp=0, buf=0, smooth=0.2;\n",
    "\t                    var sig, punt;\n",
    "\t                        punt = BufFrames.ir(buf)*K2A.ar(pos).varlag(smooth);\n",
    "\t                        sig  = BufRd.ar(1,b,punt);\n",
    "\t                    Out.ar(0,sig*amp.lag(0.2))\n",
    "              }).add;\n",
    "\n",
    "w = Window.new(\"mouse\").acceptsMouseOver_(true); \n",
    "w.view.mouseOverAction_({arg ...args;\n",
    "\t                     a.set(\\pos, args[1].linlin(0,400,0,1),    // posizione x\n",
    "\t\t                       \\amp,1-args[2].linlin(0,400,0,1.0)) // posizione y\n",
    "                        });\n",
    "w.front;\n",
    "w.alwaysOnTop_(true);\n",
    "w.onClose_({w.free;a.free;b.free});\n",
    "\n",
    "{a = Synth.new(\\scratch, [\\buf,b])}.defer(3);\t"
   ]
  },
  {
   "cell_type": "markdown",
   "id": "4009844c",
   "metadata": {},
   "source": [
    "### Server side\n",
    "\n",
    "It's not necessary a GUI window.\n",
    "\n",
    "Screen boundaries.\n",
    "\n",
    "Three UGens:\n",
    "\n",
    "* MouseX.kr $\\rightarrow$ min, max, curve, lag time.\n",
    "* MouseY.kr $\\rightarrow$ min, max, curve, lag time.\n",
    "* MouseButton $\\rightarrow$ min, max, lag time."
   ]
  },
  {
   "cell_type": "code",
   "execution_count": 110,
   "id": "78dee3fb",
   "metadata": {
    "vscode": {
     "languageId": "plaintext"
    }
   },
   "outputs": [
    {
     "name": "stdout",
     "output_type": "stream",
     "text": [
      "-> Synth('temp__2' : 1005)"
     ]
    }
   ],
   "source": [
    "{[MouseX.kr(0,1,0,0.2), MouseX.kr(0.0001,1,1,0.2)]}.scope; // linear vs exponential\n",
    "{[MouseY.kr(0,1,0,5),   MouseY.kr(0.0001,1,1,5)]}.scope;   // 5 seconds lag time\t\n",
    "{[MouseButton.kr(0,1,0.1),   MouseButton.kr(0,1,)]}.scope; // 3 seconds lag time\t"
   ]
  },
  {
   "cell_type": "code",
   "execution_count": 114,
   "id": "0b088e7e",
   "metadata": {
    "vscode": {
     "languageId": "plaintext"
    }
   },
   "outputs": [
    {
     "name": "stdout",
     "output_type": "stream",
     "text": [
      "-> CmdPeriod"
     ]
    }
   ],
   "source": [
    "."
   ]
  },
  {
   "cell_type": "markdown",
   "id": "b0c5197d",
   "metadata": {},
   "source": [
    "Audio example."
   ]
  },
  {
   "cell_type": "code",
   "execution_count": 112,
   "id": "1ad91235",
   "metadata": {
    "vscode": {
     "languageId": "plaintext"
    }
   },
   "outputs": [
    {
     "name": "stdout",
     "output_type": "stream",
     "text": [
      "-> a Function"
     ]
    }
   ],
   "source": [
    "b = Buffer.read(s, \"/Users/andreavigani/Desktop/GHub/EMC/6_lvset/suoni/voce.wav\");\n",
    "SynthDef.new(\\scratch, {arg gate=1, buf;\n",
    "\t                    var sig, speed, env;\n",
    "\t                        env   = Env.new([0,1,0], [0.1, 0.1], \\sin, 1).kr(20,gate);\n",
    "\t                        speed = MouseX.kr(-10, 10);\n",
    "\t                        speed = speed - DelayN.kr(speed, 0.1, 0.1);\n",
    "\t                        speed = MouseButton.kr(1, 0, 0.3) + speed ;\n",
    "\t                        sig   = PlayBuf.ar(1, buf, speed * BufRateScale.kr(buf), loop: 1);\n",
    "\t                   Out.ar(0, sig * env );\n",
    "              }).add;\n",
    "\n",
    "{a = Synth.new(\\scratch, [\\buf, b])}.defer(3);"
   ]
  },
  {
   "cell_type": "code",
   "execution_count": 113,
   "id": "30f299f1",
   "metadata": {
    "vscode": {
     "languageId": "plaintext"
    }
   },
   "outputs": [
    {
     "name": "stdout",
     "output_type": "stream",
     "text": [
      "-> Buffer(nil, nil, nil, nil, nil)"
     ]
    }
   ],
   "source": [
    "a.set(\\gate, 0); a.free; b.free;"
   ]
  },
  {
   "cell_type": "markdown",
   "id": "3a0d0bd3",
   "metadata": {},
   "source": [
    "## Keyboard <a id=\"keyboard\"></a>\n",
    "\n",
    "Only two control typologies: \n",
    "* trigger $\\rightarrow$ press and release the key quickly. \n",
    "* switch $\\rightarrow$ press and release."
   ]
  },
  {
   "cell_type": "markdown",
   "id": "da38304f",
   "metadata": {},
   "source": [
    "### Client side\n",
    "\n",
    "We must create a GUI window and interact with it.\n",
    "\n",
    "The reason is avoid unwanted code writing.\n",
    "\n",
    "Different methods for different actions.\n",
    "\n",
    "#### .keyDownAction\n",
    "\n",
    "As for MIDIdef and OSCdef the function is evaluated each time a key is clicked.\n",
    "\n",
    "...args:\n",
    "* 0 wiew $\\rightarrow$ the window clicked by mouse.\n",
    "* 1 char $\\rightarrow$ pressed character.\n",
    "* 2 modifiers $\\rightarrow$ if a modifier key is pressed.\n",
    "* 3 unicode $\\rightarrow$ unicode value ([ASCII](https://ss64.com/ascii.html)).\n",
    "* 4 keycode $\\rightarrow$ [keycode](https://www.toptal.com/developers/keycode) value (JavaScript).\n",
    "* 5 key $\\rightarrow$ deprecated."
   ]
  },
  {
   "cell_type": "code",
   "execution_count": 115,
   "id": "09b739ba",
   "metadata": {
    "vscode": {
     "languageId": "plaintext"
    }
   },
   "outputs": [
    {
     "name": "stdout",
     "output_type": "stream",
     "text": [
      "-> a Window"
     ]
    }
   ],
   "source": [
    "w = Window.new(\"key\");\n",
    "w.view.keyDownAction_({arg ...args;\n",
    "\t                          args.postln;\n",
    "\t                          args[1].postln\n",
    "                       });\n",
    "w.front;\n",
    "w.alwaysOnTop_(true);\n",
    "w.onClose_({w.free})"
   ]
  },
  {
   "cell_type": "markdown",
   "id": "64ff5f8b",
   "metadata": {},
   "source": [
    "Audio example (trigger)."
   ]
  },
  {
   "cell_type": "code",
   "execution_count": 123,
   "id": "24892fd5",
   "metadata": {
    "vscode": {
     "languageId": "plaintext"
    }
   },
   "outputs": [
    {
     "name": "stdout",
     "output_type": "stream",
     "text": [
      "-> a Window"
     ]
    }
   ],
   "source": [
    "SynthDef.new(\\if_1, {arg t_gate=0;\n",
    "\t                 var sig, env;\n",
    "\t                     sig = Saw.ar([600,602]);\n",
    "\t                     env = EnvGen.ar(Env.perc,t_gate,doneAction:2);\n",
    "\t                 Out.ar(0,sig*env);\n",
    "         }).add;\n",
    "\n",
    "w = Window.new(\"key\");\n",
    "w.view.keyDownAction_({arg ...args;\n",
    "\t                          if(args[1]==$q,             \n",
    "\t\t                             {Synth(\\if_1, [\\t_gate,1])}) \n",
    "                       });\n",
    "w.front;\n",
    "w.alwaysOnTop_(true);\n",
    "w.onClose_({w.free});"
   ]
  },
  {
   "cell_type": "markdown",
   "id": "9fd2843a",
   "metadata": {},
   "source": [
    "#### .keyUpAction\n",
    "\n",
    "As previous but function is evaluated when key is released."
   ]
  },
  {
   "cell_type": "code",
   "execution_count": 124,
   "id": "0b79913a",
   "metadata": {
    "vscode": {
     "languageId": "plaintext"
    }
   },
   "outputs": [
    {
     "name": "stdout",
     "output_type": "stream",
     "text": [
      "-> a Window"
     ]
    }
   ],
   "source": [
    "w = Window.new(\"key\");\n",
    "w.view.keyUpAction_({arg ...args;\n",
    "\t                        args.postln;\n",
    "\t                        args[1].postln\n",
    "                       });\n",
    "w.front;\n",
    "w.alwaysOnTop_(true);\n",
    "w.onClose_({w.free})"
   ]
  },
  {
   "cell_type": "markdown",
   "id": "3b4edfee",
   "metadata": {},
   "source": [
    "If we hold down a key we obtain redundant data."
   ]
  },
  {
   "cell_type": "code",
   "execution_count": 125,
   "id": "4fa14576",
   "metadata": {
    "vscode": {
     "languageId": "plaintext"
    }
   },
   "outputs": [
    {
     "name": "stdout",
     "output_type": "stream",
     "text": [
      "-> a Window"
     ]
    }
   ],
   "source": [
    "SynthDef.new(\\if_1, {arg t_gate=0;\n",
    "\t                 var sig, env;\n",
    "\t                     sig = Saw.ar;\n",
    "\t                     env = EnvGen.ar(Env.perc,t_gate);\n",
    "\t                 Out.ar(0,sig*env);\n",
    "             }).add;\n",
    "\n",
    "w = Window.new(\"key\");\n",
    "w.view.keyDownAction_({arg ...args;\n",
    "\t                   if(args[1]==$q, {a.set(\\t_gate,1)}); // 'q' = Note On\n",
    "                       });\n",
    "w.view.keyUpAction_({arg ...args;\n",
    "\t                 if(args[1]==$q,{a.set(\\t_gate,0)});    // Note Off\n",
    "                     });\n",
    "w.front;\n",
    "w.alwaysOnTop_(true);\n",
    "w.onClose_({w.free;a.free});\n",
    "{a = Synth.new(\\if_1)}.defer(3);"
   ]
  },
  {
   "cell_type": "markdown",
   "id": "53b9c08e",
   "metadata": {},
   "source": [
    "To avoid $\\rightarrow$ filter incoming data."
   ]
  },
  {
   "cell_type": "code",
   "execution_count": 126,
   "id": "5bafa0e5",
   "metadata": {
    "vscode": {
     "languageId": "plaintext"
    }
   },
   "outputs": [
    {
     "name": "stdout",
     "output_type": "stream",
     "text": [
      "-> a Function"
     ]
    }
   ],
   "source": [
    "var ora, prec = 0;                           // variable init\n",
    "w = Window.new(\"key\");\n",
    "w.view.keyDownAction_({arg ...args;\n",
    "                       ora = args[3];\n",
    "\t\t               if((ora != prec),     // if different from previuos\n",
    "\t\t                   {\"noteOn\".postln; // play and\n",
    "\t\t\t                prec = ora });   // assign 'prec' to last received value\n",
    "                       });                   \n",
    "\t\t\t\t\t   \n",
    "w.view.keyUpAction_({\n",
    "                     prec = 0;         // reset Array \n",
    "                     \"noteOff\".postln; // Action\n",
    "                     });            \n",
    "w.front;\n",
    "w.alwaysOnTop_(true);\n",
    "w.onClose_({w.free})"
   ]
  },
  {
   "cell_type": "markdown",
   "id": "779a16bb",
   "metadata": {},
   "source": [
    "Audio example."
   ]
  },
  {
   "cell_type": "code",
   "execution_count": 131,
   "id": "10a7ee9a",
   "metadata": {
    "vscode": {
     "languageId": "plaintext"
    }
   },
   "outputs": [
    {
     "name": "stdout",
     "output_type": "stream",
     "text": [
      "-> CmdPeriod"
     ]
    }
   ],
   "source": [
    "SynthDef.new(\\if_1, {arg gate=0;\n",
    "\t                 var sig, env;\n",
    "\t                     sig = Saw.ar;\n",
    "\t                     env = EnvGen.ar(Env.adsr,gate,doneAction:2);\n",
    "\t                 Out.ar(0,sig*env);\n",
    "             }).add;\n",
    "\n",
    "~ora;\n",
    "~prec = 0;\n",
    "w     = Window.new(\"key\");\n",
    "w.view.keyDownAction_({arg ...args;                        // 'q' = Note On\n",
    "\t                   ~ora = args[1];\n",
    "\t                   if(                                 // if = 'q' AND != from previous\n",
    "\t\t                  (~ora == $q).and(~ora != ~prec), {a = Synth.new(\\if_1, [\\gate,1]);                 \n",
    "\t\t\t               ~prec = ~ora})\n",
    "                       });\n",
    "w.view.keyUpAction_({                    // Note Off\n",
    "\t                 if(\n",
    "                        ~ora==$q, {a.set(\\gate,0);\n",
    "\t\t\t            ~prec = 0});    // Reset\n",
    "                     });\n",
    "w.front;\n",
    "w.alwaysOnTop_(true);\n",
    "w.onClose_({w.free;a.free});"
   ]
  },
  {
   "cell_type": "markdown",
   "id": "102e3090",
   "metadata": {},
   "source": [
    "### Server side\n",
    "\n",
    "It's not necessary a GUI window (but suggested).\n",
    "\n",
    "One UGen:\n",
    "\n",
    "* KeyState.kr $\\rightarrow$ keycode, minval, maxval, lag time.\n",
    "\n",
    "We must know keycode in advance."
   ]
  },
  {
   "cell_type": "code",
   "execution_count": null,
   "id": "4efb288e",
   "metadata": {
    "vscode": {
     "languageId": "plaintext"
    }
   },
   "outputs": [
    {
     "name": "stdout",
     "output_type": "stream",
     "text": [
      "-> Synth('key' : 1124)"
     ]
    }
   ],
   "source": [
    "w = Window.new;\n",
    "w.front;\n",
    "SynthDef.new(\\key, {var amp,sig;\n",
    "\t                    amp = KeyState.kr(38,0,1.0);   // 'j' key\n",
    "\t                    sig = SinOsc.ar * amp;\n",
    "                    Out.ar(0,sig)\n",
    "            }).add;\n",
    "\n",
    "{Synth.new(\\key)}.defer(3); "
   ]
  },
  {
   "cell_type": "markdown",
   "id": "b56591f8",
   "metadata": {},
   "source": [
    "# Live playback and synthesis <a id=\"play\"></a>\n",
    "\n",
    "If we want playback sound files or trigger synthesis sounds or sequences in a perforance we can:\n",
    "\n",
    "* one-shot $\\rightarrow$ play from beginning to end (old school).\n",
    "* map key (HID, MIDI or OSC) $\\rightarrow$ event (soundfile or other).\n",
    "  - key $\\rightarrow$ trig soundfile or Synth.\n",
    "  - key $\\rightarrow$ set playback rate (sampler-like transposition) or other parameters.\n",
    "  - key $\\rightarrow$ set start position (and duration) in a soundfile.\n",
    "* play it in a sequential way (cues + counter).\n",
    "  - cue $\\rightarrow$ trig soundfile or Synth.\n",
    "  - cue $\\rightarrow$ set start position (and duration) in a soundfile or other parameters."
   ]
  },
  {
   "cell_type": "markdown",
   "id": "c2168b45",
   "metadata": {},
   "source": [
    "## One shot <a id=\"oneshot\"></a>\n",
    "\n",
    "The old tape playback.\n",
    "\n",
    "If we want to sync it with live player parts we need to write it on the score in two ways:\n",
    "* a seconds grid (chronometric way).\n",
    "\n",
    "  <!---<center><img src=\"img/kont.png\" width=\"10%\"></center>--->\n",
    "\n",
    "  <div style=\"width:50%; margin-left: auto; margin-right: auto\">\n",
    "\n",
    "  ![](img/kont.png)\n",
    "\n",
    "  </div>\n",
    "\n",
    "* a graphic representation staff (waveform or sonogram).\n",
    "\n",
    "  <!---<center><img src=\"img/kokoras.png\" width=\"10%\"></center>--->\n",
    "\n",
    "  <div style=\"width:50%; margin-left: auto; margin-right: auto\">\n",
    "\n",
    "  ![](img/kokoras.png)\n",
    "\n",
    "  </div>\n",
    "\n",
    "  We can create a click-track for live performers.\n",
    "\n",
    "  Both are rigid and difficult systems in syncro for live player.\n",
    "\n",
    "  Good for metrical grid rhythms (pop and rock music).\n",
    "\n",
    "  Bad for rapsodic music.\n",
    "\n",
    "  Complicated for rehearsals.\n",
    "\n",
    "  Only start and stop actions.\n",
    "\n",
    "  We can control it by a triggered switch on a single key."
   ]
  },
  {
   "cell_type": "code",
   "execution_count": 98,
   "id": "9263d4db",
   "metadata": {
    "vscode": {
     "languageId": "plaintext"
    }
   },
   "outputs": [
    {
     "name": "stdout",
     "output_type": "stream",
     "text": [
      "-> a Window"
     ]
    }
   ],
   "source": [
    "b = Buffer.read(s, \"/Users/andreavigani/Desktop/GHub/EMC/6_lvset/suoni/voce.wav\");\n",
    "SynthDef.new(\\simple_player, {arg buf=0, amp=0, pan=0, gate=0;\n",
    "\t                          var env, sig;\n",
    "                                  env = Linen.kr(gate, doneAction:2);\n",
    "\t                              sig = PlayBuf.ar(1, buf, BufRateScale.kr(buf), doneAction:2);\n",
    "                                  sig = sig * env * amp.lag(0.2);\n",
    "                                  sig = Pan2.ar(sig, pan); \n",
    "\t                         Out.ar(0, sig);\n",
    "              }).add;\n",
    "\n",
    "w = Window.new(\"key\");\n",
    "~switch = [1,0]; // Flip flop\n",
    "~synth;\n",
    "w.view.keyDownAction_({arg ...args;\n",
    "                       if(args[3]==32){\n",
    "                                        if(~switch.first==1)\n",
    "                                        {~synth = Synth.new(\\simple_player,[\\buf,b,\\amp,1,\\gate,1])}\n",
    "                                        {~synth.set(\\gate,0)};\n",
    "                                        ~switch = ~switch.reverse;\n",
    "                                       }\n",
    "                       });\n",
    "w.front;\n",
    "w.alwaysOnTop_(true);\n",
    "w.onClose_({w.free;a.free});"
   ]
  },
  {
   "cell_type": "markdown",
   "id": "97f3428e",
   "metadata": {},
   "source": [
    "## Mapping <a id=\"mapping\"></a>\n",
    "\n",
    "We can map an event (soundfile or other) to a key as a piano keyboard or bandoneon button.\n",
    "\n",
    "  <!---<center><img src=\"img/mapping.png\" width=\"10%\"></center>--->\n",
    "\n",
    "  <div style=\"width:50%; margin-left: auto; margin-right: auto\">\n",
    "\n",
    "  ![](img/mapping.png)\n",
    "\n",
    "  </div>\n",
    "\n",
    "### Key $\\rightarrow$ soundfile\n",
    "\n",
    "Load all soundfiles in a folder in one array of Buffers.\n",
    "\n",
    "Soundfile durations should be short (no stop command)."
   ]
  },
  {
   "cell_type": "code",
   "execution_count": 129,
   "id": "ed8bfb6e",
   "metadata": {
    "vscode": {
     "languageId": "plaintext"
    }
   },
   "outputs": [
    {
     "name": "stdout",
     "output_type": "stream",
     "text": [
      "-> a Window"
     ]
    }
   ],
   "source": [
    "~paths = (\"/Users/andreavigani/Desktop/GHub/EMC/6_lvset/suoni/drums\" ++ \"/*.wav\").pathMatch; \n",
    "~bufs  = ~paths.collect{arg i; Buffer.read(s, i)};\n",
    "\n",
    "SynthDef.new(\\map_player, {arg buf=0, amp=0, pan=0;\n",
    "\t                       var sig;\n",
    "\t                       sig = PlayBuf.ar(1, buf, BufRateScale.kr(buf), doneAction:2);\n",
    "                           sig = sig * amp;\n",
    "                           sig = Pan2.ar(sig, pan); \n",
    "\t                       Out.ar(0, sig);\n",
    "              }).add;\n",
    "\n",
    "w = Window.new(\"key\");\n",
    "w.view.keyDownAction_({arg ...args;\n",
    "\t                    switch(args[1],           \n",
    "\t\t                    $q, {Synth.new(\\map_player,[\\amp,0.5, \\buf,~bufs[0]])},\n",
    "\t\t                    $w, {Synth.new(\\map_player,[\\amp,0.5, \\buf,~bufs[1]])},\n",
    "\t\t                    $e, {Synth.new(\\map_player,[\\amp,0.5, \\buf,~bufs[2]])},\n",
    "\t\t\t\t\t\t\t$r, {Synth.new(\\map_player,[\\amp,0.5, \\buf,~bufs[3]])},\n",
    "\t\t                    $t, {Synth.new(\\map_player,[\\amp,0.5, \\buf,~bufs[4]])} );\n",
    "                       });\n",
    "w.front;\n",
    "w.alwaysOnTop_(true);\n",
    "w.onClose_({w.free;a.free});"
   ]
  },
  {
   "cell_type": "markdown",
   "id": "10884e9c",
   "metadata": {},
   "source": [
    "### Key $\\rightarrow$ playback rate (transposition)\n",
    "\n",
    "One soundfile.\n",
    "\n",
    "Transposition in semitones."
   ]
  },
  {
   "cell_type": "code",
   "execution_count": 130,
   "id": "9b7f228d",
   "metadata": {
    "vscode": {
     "languageId": "plaintext"
    }
   },
   "outputs": [
    {
     "name": "stdout",
     "output_type": "stream",
     "text": [
      "-> a Window"
     ]
    }
   ],
   "source": [
    "b = Buffer.read(s, \"/Users/andreavigani/Desktop/GHub/EMC/6_lvset/suoni/crotal.wav\");\n",
    "SynthDef.new(\\smp_player, {arg buf=0, amp=0, trsp=0, pan=0;\n",
    "\t                       var sig;\n",
    "\t                       sig = PlayBuf.ar(1, buf, \n",
    "                                            trsp.midiratio * BufRateScale.kr(buf), \n",
    "                                            doneAction:2);\n",
    "                           sig = sig * amp;\n",
    "                           sig = Pan2.ar(sig, pan); \n",
    "\t                       Out.ar(0, sig);\n",
    "              }).add;\n",
    "\n",
    "w = Window.new(\"key\");\n",
    "w.view.keyDownAction_({arg ...args;\n",
    "\t                    switch(args[1],           \n",
    "\t\t                    $q, {Synth.new(\\smp_player,[\\amp,0.5, \\buf,b,\\trsp,-4])},\n",
    "\t\t                    $w, {Synth.new(\\smp_player,[\\amp,0.5, \\buf,b,\\trsp, 0])},\n",
    "\t\t                    $e, {Synth.new(\\smp_player,[\\amp,0.5, \\buf,b,\\trsp, 2])},\n",
    "\t\t                    $r, {Synth.new(\\smp_player,[\\amp,0.5, \\buf,b,\\trsp, 3])},\n",
    "\t\t                    $t, {Synth.new(\\smp_player,[\\amp,0.5, \\buf,b,\\trsp, 5])},     \n",
    "                            $y, {Synth.new(\\smp_player,[\\amp,0.5, \\buf,b,\\trsp, 7])},                            \n",
    "                             );\n",
    "                       });\n",
    "w.front;\n",
    "w.alwaysOnTop_(true);\n",
    "w.onClose_({w.free;a.free});"
   ]
  },
  {
   "cell_type": "markdown",
   "id": "f644c96f",
   "metadata": {},
   "source": [
    "### Key $\\rightarrow$ start position\n",
    "\n",
    "One soundfile.\n",
    "\n",
    "Positions and durations in seconds."
   ]
  },
  {
   "cell_type": "code",
   "execution_count": 131,
   "id": "d8543a42",
   "metadata": {
    "vscode": {
     "languageId": "plaintext"
    }
   },
   "outputs": [
    {
     "name": "stdout",
     "output_type": "stream",
     "text": [
      "-> a Window"
     ]
    }
   ],
   "source": [
    "b = Buffer.read(s, \"/Users/andreavigani/Desktop/GHub/EMC/6_lvset/suoni/break1.wav\");\n",
    "SynthDef.new(\\pos_player, {arg buf=0, amp=0, pos=0, dur=0.5, pan=0;\n",
    "\t                       var env, sig;\n",
    "                           env = Env.linen(0.01,dur-0.02,0.01);\n",
    "                           env = EnvGen.kr(env,doneAction:2);\n",
    "\t                       sig = PlayBuf.ar(1, buf, \n",
    "                                            BufRateScale.kr(buf), \n",
    "                                            startPos: pos * BufSampleRate.kr(buf));\n",
    "                           sig = sig * env * amp;\n",
    "                           sig = Pan2.ar(sig, pan); \n",
    "\t                       Out.ar(0, sig);\n",
    "              }).add;\n",
    "\n",
    "w = Window.new(\"key\");\n",
    "w.view.keyDownAction_({arg ...args;\n",
    "\t                    switch(args[1],           \n",
    "\t\t                    $q, {Synth.new(\\pos_player,[\\amp,0.5, \\buf,b, \\pos,0, \\dur, 1])},\n",
    "\t\t                    $w, {Synth.new(\\pos_player,[\\amp,0.5, \\buf,b, \\pos,1, \\dur, 0.5])},\n",
    "\t\t                    $e, {Synth.new(\\pos_player,[\\amp,0.5, \\buf,b, \\pos,2, \\dur, 0.2])},\n",
    "\t\t                    $r, {Synth.new(\\pos_player,[\\amp,0.5, \\buf,b, \\pos,3, \\dur, 0.3])},\n",
    "\t\t                    $t, {Synth.new(\\pos_player,[\\amp,0.5, \\buf,b, \\pos,4, \\dur, 0.4])}     \n",
    "                             );\n",
    "                       });\n",
    "w.front;\n",
    "w.alwaysOnTop_(true);\n",
    "w.onClose_({w.free;a.free});"
   ]
  },
  {
   "cell_type": "markdown",
   "id": "2a3b9595",
   "metadata": {},
   "source": [
    "## Cues <a id=\"cues\"></a>\n",
    "\n",
    "We can set events in a sequential order and recall it during performance by number.\n",
    "\n",
    "  <!---<center><img src=\"img/dialogue.png\" width=\"10%\"></center>--->\n",
    "\n",
    "  <div style=\"width:60%; margin-left: auto; margin-right: auto\">\n",
    "\n",
    "  ![](img/dialogue.png)\n",
    "\n",
    "  </div>\n",
    "\n",
    "We need to program a counter.\n",
    "\n",
    "A usual strategy is program also a cross playback with two alternate players.\n",
    "\n",
    "  <!---<center><img src=\"img/cross.png\" width=\"10%\"></center>--->\n",
    "\n",
    "  <div style=\"width:70%; margin-left: auto; margin-right: auto\">\n",
    "\n",
    "  ![](img/cross.png)\n",
    "\n",
    "  </div>\n",
    "\n",
    "This need a crossfade at trigger point.\n",
    "\n",
    "More dynamic than one-shot playback and better for rehearsals.\n",
    "\n",
    "Cue durations should be between 1 and 10-15 seconds.\n"
   ]
  },
  {
   "cell_type": "code",
   "execution_count": 141,
   "id": "356906e0",
   "metadata": {
    "vscode": {
     "languageId": "plaintext"
    }
   },
   "outputs": [
    {
     "name": "stdout",
     "output_type": "stream",
     "text": [
      "-> a NumberBox"
     ]
    }
   ],
   "source": [
    "~paths = (\"/Users/andreavigani/Desktop/GHub/EMC/6_lvset/suoni\" ++ \"/*.wav\").pathMatch; \n",
    "~bufs  = ~paths.collect{arg i; Buffer.read(s, i)};\n",
    "\n",
    "SynthDef(\\cross, {arg buf=0, amp=0, fade=0.1, pan=0, gate=0;\n",
    "                  var sig,dur,fad,env;\n",
    "                      sig  = PlayBuf.ar(2, buf);\n",
    "                      dur  = BufDur.kr(buf);\n",
    "                      fad  = Linen.kr(gate,fade,amp.lag(0.2),fade,doneAction:2);     // Crossfade\n",
    "                      env  = EnvGen.kr(Env.linen(0.2,dur-0.4,0.2),gate,doneAction:2);\n",
    "                      sig  = sig * env * fad;\n",
    "                      sig = Pan2.ar(sig,pan); \n",
    "                  Out.ar(0,sig)\n",
    "         }).add;\n",
    "\n",
    "~cue = 0; // Init counter\n",
    "\n",
    "w = Window.new(\"Num\", Rect.new(0,0,300,300));\n",
    "h = NumberBox.new(w, Rect(5,5,290,290)).align_(\\center).font_(Font(\"Helvetica\", 200););\n",
    "\n",
    "w.front;\n",
    "w.alwaysOnTop_(true);\n",
    "w.onClose_({w.free;h.free; ~cue.free});\n",
    "\n",
    "w.view.keyDownAction_({arg ...args;\n",
    "                       switch(args[3],\n",
    "                              32, {                            // space bar --> increment\n",
    "                                   h.value = ~cue;             // visualization\n",
    "                                   if(s.numSynths > 0, {a.set(\\gate,0)});  // Fade out               \n",
    "                                   a = Synth(\\cross, [\\fade,2,\\amp,1,\\buf, ~bufs[~cue],\\gate,1]);\n",
    "                                   ~cue  = ~cue + 1 % ~bufs.size;  // increment a modulo\n",
    "                                   },\n",
    "\t\t\t\t\t\t\t\t\t\t  \n",
    "                              105, {~cue = 0;                  // 'i' --> reset to 0\n",
    "                                    h.value = 0;\n",
    "                                    if(s.numSynths > 0, {a.set(\\gate,0)}); })\n",
    "                       });\n",
    "\t\t\t\t\t   \n",
    "h.action_({arg val; ~cue = val.value}); // we can set cue on GUI\n"
   ]
  },
  {
   "cell_type": "markdown",
   "id": "0e909587",
   "metadata": {},
   "source": [
    "All the examples are with soundfiles players but we can subtitute it with any type of live synthesis generator.\n",
    "\n",
    "All the examples are triggered by computer key but we can use any kind of controller (MIDI, OSC, mouse, etc.)."
   ]
  },
  {
   "cell_type": "markdown",
   "id": "b90e823f",
   "metadata": {},
   "source": [
    "# Composition sketches proposal<a id=\"esercizi_4\"></a>\n",
    "\n",
    "* design and build a live set with available tools (MIDI, OSC, HID; etc.).\n",
    "\n",
    "   Keep in mind:\n",
    "    * sound palette that we want to have (sound synthesis and processing techniques).\n",
    "    * which and how many parameters we want to control.\n",
    "    * how do we want to control them (knob, fader, botton, accelerometer, gyroscope, etc.).\n",
    "    * type of interaction (physical and musical gestures) we want to use.\n",
    "\n",
    "* define a performance that can be:\n",
    "  - written in a gestural score (we write in a time grid the gestures to be made live on the devices).\n",
    "  - improvised by interpreting a graphic score.\n",
    "  - totally improvised in search of the possibilities offered by the performance environment according to the principe of free will.\n",
    "\n",
    "* performance can be in solo or in laptop ensemble. If you play it in ensemble ypu should think about:\n",
    "  - differentiate or sonically and musically unify the individual sets.\n",
    "  - what kind of strategies to adopt for synchronisation.\n",
    "  - have a conductor or not.\n",
    "\n",
    "  You can find more SuperCollider software for live performance [Here](http://www.sampluta.com/softwareWriting.html)."
   ]
  }
 ],
 "metadata": {
  "kernelspec": {
   "display_name": "SuperCollider",
   "language": "",
   "name": "sc_kernel"
  },
  "language_info": {
   "file_extension": ".scd",
   "mimetype": "text/x-sclang",
   "name": "smalltalk",
   "pygments_lexer": "supercollider"
  }
 },
 "nbformat": 4,
 "nbformat_minor": 5
}
