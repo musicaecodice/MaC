{
 "cells": [
  {
   "cell_type": "markdown",
   "id": "e9dde309",
   "metadata": {},
   "source": [
    "[INDEX](../indice.ipynb) \n",
    "\n",
    "* [Framework and historical context](#histo3)\n",
    "* [Software installation](#installazione) \n",
    "* [Symbolic musical representation and numbers](#simboli) \n",
    "    - [Pitch](#pitch) \n",
    "    - [Rhythm](#ritmo) \n",
    "    - [Dynamic](#dinamica) \n",
    "    - [Collections](#collection) \n",
    "    - [Live](#live) \n",
    "* [Generative techniques and processes](#tecniche)\n",
    "    - [Modes and scales](#moscale)\n",
    "        - [Scale](#scale)\n",
    "        - [Incises and motives](#incise)\n",
    "        - [Varitions](#variations)\n",
    "    - [Harmonic fields](#harm)\n",
    "        - [Chord database](#chord)\n",
    "        - [Voicing](#voicing)\n",
    "        - [Voice-leading](#voice-leading)\n",
    "        - [Melodies](#voice-melodies)\n",
    "* [Composition sketches proposal](#esercizi_3) "
   ]
  },
  {
   "cell_type": "markdown",
   "id": "b51c48c5",
   "metadata": {},
   "source": [
    "# Framework and historical context <a id='histo3'></a> \n",
    "\n",
    "The first piece of music actually written by an electronic computer is the Illiac Suite for string quartet.\n",
    "\n",
    "It was realized in 1956 at Illinois University.\n",
    "\n",
    "Differently from music illustred in previous chapter computer did not generate the waveform but a symbolic representation of musical parameters to be transcribed into a musical score.\n",
    "\n",
    "<!---<center><img src=\"img/close.png\" width=\"10%\"></center>--->\n",
    "\n",
    "<div style=\"width:90%; margin-left: 0; margin-right: auto\">\n",
    "\n",
    "![](img/illiac.png)\n",
    "   \n",
    "</div> \n",
    "\n",
    "This work was an experiment to test various algorithms for composition.\n",
    "\n",
    "1. Random music $\\rightarrow$ no rules.\n",
    "2. Skip-stepwise rule $\\rightarrow$ no more than one repeated note.\n",
    "3. Cantus firmus starts on C with C chord for opening $\\rightarrow$ cadence on C with leading tone in one of the four voices $\\rightarrow$ resolution f tritone in VII-6, e.g. F/B must resolve to E/C.\n",
    "4. Octave-range rule.\n",
    "5. Only consonant chords permitted except for 6-4 chords $\\rightarrow$ harmonic subroutine added.\n",
    "6. Parallel unisons, octaves, fifths and fourths still permitted $\\rightarrow$ melodic subroutine added.\n",
    "7. Parallel fourths, 6-4 chords containing tenth still permitted.\n",
    "8. Best counterpoint.\n",
    "\n",
    "Another important composer in the development of algorithmic music was the Greek composer (naturalized french) Iannis Xenakis.\n",
    "\n",
    "He used formulas developed by scientists to describe the behavior of particles in gases.\n",
    "\n",
    "He saw his stochastic compositions as clouds of sound with individual notes as the analogue of gas particles organizing in this way clouds of notes.\n",
    "\n",
    "The choice and distribution of notes was determined by procedures involving random choice, probability tables weighing the occurrence of specific events against those of others.\n",
    "\n",
    "Iannis Xenakis - Pithoprakta for Orchestra (1955-56)\n",
    "\n",
    "<center><video width=\"40%\" controls src=\"suoni/xen1.mp4\"></video></center>\n",
    "\n",
    "Another composer involved in this fields was Gottfried Michael Koenig.\n",
    "\n",
    "He worked at the Utrecht University Institute of Sonology and wrote about his Project 1 software:\n",
    "\n",
    "\"Project 1 is based on the findings of serial composition technique, and aims at the experimental experience of chance-governed constellations of parameter values. Chance, in this instance, replaces the permutations to which the serial composer was accustomed to subjecting rows, the consequences of which action for the resulting constellations of material was scarcely more predictable than in the case of aleatoric manipulations. Just as serial technique soon abandoned the \"pointillist\" style in order to apply the organizational principle to pre-formed units, \"groups\", the idea behind Project 1 likewise assumes that the unpredictability of chance will be neutralized by given lists of material and the appropriate selection of items from the lists, in order to facilitate the formation of medium-sized and larger form categories.\"\n",
    "\n",
    "In more recent times and outside the academic environment a composer like Brian Eno writes:\n",
    "\n",
    "\"Since I have always preferred making plans to executing them, I have gravitated towards situations and systems that, once set into operation, could create music with little or no intervention on my part. That is to say, I tend towards the roles of planner and programmer, and then become an audience to the results.\"\n",
    "\n",
    "Nowadays it is one of the most explored artistic fields in the field of generative artificial intelligence."
   ]
  },
  {
   "cell_type": "markdown",
   "id": "925b87db",
   "metadata": {},
   "source": [
    "# Software installation <a id='installazione'></a> \n",
    "\n",
    "In addition to SuperCollider and sc_kernel (optional) install:\n",
    "* [Lilypond](https://lilypond.org/) \n",
    "* [Fosc](https://github.com/n-armstrong/fosc) (a Supercollider API for generating musical notation in lilypond)"
   ]
  },
  {
   "cell_type": "markdown",
   "id": "d8b08c48",
   "metadata": {},
   "source": [
    "Configure Fosc:\n",
    "\n",
    "1. Download the zip file\n",
    "2. Rename the 'fosc-master' folder to 'fosc'Rename \n",
    "3. Select SuperCollider (base) Kernel in this notebook (optional)\n",
    "4. Find the your SuperCollider user extension hidden folder path:"
   ]
  },
  {
   "cell_type": "code",
   "execution_count": 1,
   "id": "8f5ed1e2",
   "metadata": {
    "vscode": {
     "languageId": "python"
    }
   },
   "outputs": [
    {
     "name": "stdout",
     "output_type": "stream",
     "text": [
      "-> /Users/andreavigani/Library/Application Support/SuperCollider/Extensions"
     ]
    }
   ],
   "source": [
    "Platform.userExtensionDir"
   ]
  },
  {
   "cell_type": "markdown",
   "id": "7cc713d2",
   "metadata": {},
   "source": [
    "5. Move the 'fosc' folder to your SuperCollider User Extensions folder.\n",
    "6. Search in SuperCollider Qarks 'wslib' and installi it.\n",
    "7. Recompile Class library in SuperCollider or Refresh SuperCollider Kernel in Notebook.\n",
    "8. Add code to allow Fosc to communicate with LilyPond to your sclang startup file.\n",
    "   - Run this cell\n",
    "     - Mac users $\\rightarrow$ init_mac.scd\n",
    "     - Windows users $\\rightarrow$ init_win.scd "
   ]
  },
  {
   "cell_type": "code",
   "execution_count": 1,
   "id": "d92b0ca0",
   "metadata": {
    "vscode": {
     "languageId": "python"
    }
   },
   "outputs": [
    {
     "name": "stdout",
     "output_type": "stream",
     "text": [
      "-> a Function"
     ]
    }
   ],
   "source": [
    "this.executeFile(\"/Users/andreavigani/Desktop/GHub/EMC/5_cac/init_mac.scd\");"
   ]
  },
  {
   "cell_type": "code",
   "execution_count": null,
   "id": "8118068b",
   "metadata": {
    "vscode": {
     "languageId": "python"
    }
   },
   "outputs": [
    {
     "name": "stdout",
     "output_type": "stream",
     "text": [
      "server 'localhost' already running\n",
      "-> a Function"
     ]
    }
   ],
   "source": [
    "this.executeFile(\"/Users/andreavigani/Desktop/GHub/EMC/5_cac/init_win.scd\");"
   ]
  },
  {
   "cell_type": "markdown",
   "id": "99cce70e",
   "metadata": {},
   "source": [
    "9. Test it - generates three files:\n",
    "    - test.ly\n",
    "    - test.pdf\n",
    "    - test.mid\n",
    "\n",
    "    We should also hear an audio preview with default intrumental timbre."
   ]
  },
  {
   "cell_type": "code",
   "execution_count": 4,
   "id": "51409e50",
   "metadata": {
    "vscode": {
     "languageId": "python"
    }
   },
   "outputs": [
    {
     "name": "stdout",
     "output_type": "stream",
     "text": [
      "-> a Routine"
     ]
    }
   ],
   "source": [
    "~bpm   = 60;\n",
    "~pitch = [60,64,67,nil,67,64,72,[67,64]];\n",
    "~dur   = [8];\n",
    "~exp   = [nil,75,nil,nil,120,nil,30,80];\n",
    "\n",
    "~print.(~pitch, dur:~dur, vel:~exp, bpm:~bpm);"
   ]
  },
  {
   "cell_type": "markdown",
   "id": "7041ff0a",
   "metadata": {},
   "source": [
    "We can load the midifile in an external midi sequencer or notation software as Musescore, Finale, Sibelius, etc."
   ]
  },
  {
   "cell_type": "markdown",
   "id": "5cc91be7-65df-4fa0-9fc7-ff4e6c5d2538",
   "metadata": {},
   "source": [
    "# Symbolic musical representation and numbers <a id=\"simboli\"></a>\n",
    "\n",
    "The purpose of this computer music practice is to help the composer generate and manipulate musical elements according to the syntactic rules of their chosen musical language. \n",
    "\n",
    "One of the goals of algorithmic composition or computer-aided composition is to translate numerical values into symbols specific to musical notation and vice versa.\n",
    "\n",
    "The final result consists of a musical score that can be interpreted by human performers.\n",
    "\n",
    "In computer music as well as in Western musical tradition the following sound parameters are typically generated and/or manipulated:\n",
    "\n",
    "* Pitch (frequency)\n",
    "* Rhythm (time)\n",
    "* Dynamic (amplitude)\n",
    "* Expression (timbre)"
   ]
  },
  {
   "cell_type": "markdown",
   "id": "f47315f6",
   "metadata": {},
   "source": [
    "## Pitch <a id=\"pitch\"></a>\n",
    "\n",
    "Some symbolic representations of frequency sorted by level of abstraction:\n",
    "\n",
    "\n",
    "* Diatonic tones \n",
    "  - diatonic representation by letters (notenames) or degrees.\n",
    "  - fixed octave.\n",
    "  - relative to syntactically defined rules (western music tones, semitones).\n",
    "  - typically strings or chars data types."
   ]
  },
  {
   "cell_type": "code",
   "execution_count": 5,
   "id": "7763862b",
   "metadata": {
    "vscode": {
     "languageId": "python"
    }
   },
   "outputs": [
    {
     "name": "stdout",
     "output_type": "stream",
     "text": [
      "-> [C3, D3, E3, F3, G3, A3, B3, C4]"
     ]
    }
   ],
   "source": [
    "a = [   0,    1,    2,    3,     4,    5,    6,    7]; // Scale degrees\n",
    "a = ['do', 're', 'mi', 'fa', 'sol', 'la', 'si', 'do']; // Note name\n",
    "a = ['C3', 'D3', 'E3', 'F3',  'G3', 'A3', 'B3', 'C4']; // Octave"
   ]
  },
  {
   "cell_type": "markdown",
   "id": "f1e01616",
   "metadata": {},
   "source": [
    "* Intervals\n",
    "    - determine the pitch relative to a root note (0) in semitones.\n",
    "    - no fixed octave.\n",
    "    - they may or may not be related to defined syntactic models (scale degrees or other).\n",
    "    - typically int (positive and negative)."
   ]
  },
  {
   "cell_type": "code",
   "execution_count": 6,
   "id": "6b9a79fd",
   "metadata": {
    "vscode": {
     "languageId": "python"
    }
   },
   "outputs": [
    {
     "name": "stdout",
     "output_type": "stream",
     "text": [
      "-> [-3, 5, 6, -4, 0, 2]"
     ]
    }
   ],
   "source": [
    "a = [ 0, 2, 4, 5, 7, 9, 11, 12]; // Major scale model\n",
    "a = [ -3, 5, 6, -4, 0, 2];       // A sequence "
   ]
  },
  {
   "cell_type": "markdown",
   "id": "6f85097a",
   "metadata": {},
   "source": [
    "* MIDI note\n",
    "    - determines pitch as a fractional MIDI note.\n",
    "    - they are not related to syntactically defined rules. \n",
    "    - root note $\\rightarrow$ 60 = C4 = middle C.\n",
    "    - divided in semitones (int)."
   ]
  },
  {
   "cell_type": "code",
   "execution_count": 7,
   "id": "0046b44f",
   "metadata": {
    "vscode": {
     "languageId": "python"
    }
   },
   "outputs": [
    {
     "name": "stdout",
     "output_type": "stream",
     "text": [
      "-> [60, 62, 64, 65, 67, 69, 71, 72]"
     ]
    }
   ],
   "source": [
    "a = [ 60, 62, 64, 65, 67, 69, 71, 72];"
   ]
  },
  {
   "cell_type": "markdown",
   "id": "e283614d",
   "metadata": {},
   "source": [
    "* Frequency \n",
    "    - determines the pitch as a frequency in Hertz (or cps).\n",
    "    - absolute values not relate in any way to syntactically defined rules. \n",
    "    - int or float"
   ]
  },
  {
   "cell_type": "code",
   "execution_count": 8,
   "id": "a1a17e03",
   "metadata": {
    "vscode": {
     "languageId": "python"
    }
   },
   "outputs": [
    {
     "name": "stdout",
     "output_type": "stream",
     "text": [
      "-> [262, 294, 330, 349, 392, 440, 494, 523]"
     ]
    }
   ],
   "source": [
    "a = [ 262, 294, 330, 349, 392, 440, 494, 523]; "
   ]
  },
  {
   "cell_type": "markdown",
   "id": "a5350991",
   "metadata": {},
   "source": [
    "In computer music there are further forms of pitch representation but they can easily be traced back to those just mentioned.\n",
    "\n",
    "In SuperCollider we can convert from a form to another:"
   ]
  },
  {
   "cell_type": "code",
   "execution_count": 9,
   "id": "147e9439",
   "metadata": {
    "vscode": {
     "languageId": "python"
    }
   },
   "outputs": [
    {
     "name": "stdout",
     "output_type": "stream",
     "text": [
      "[60, 62, 64, 65, 67]\n",
      "-> [60, 62, 64, 65, 67]"
     ]
    }
   ],
   "source": [
    "~intervals = [0, 2, 4, 5, 7];  \n",
    "~root      = 60;\n",
    "~midinote  = ~root + ~intervals;            \n",
    "~freqency  = ~midinote.midicps; \n",
    "~midinote1 = ~freqency.cpsmidi;\n",
    "~degree1   = ~midinote1 - 60;\n",
    "\n",
    "~midinote.postln;               "
   ]
  },
  {
   "cell_type": "markdown",
   "id": "1def22be",
   "metadata": {},
   "source": [
    "Chords $\\rightarrow$ 2D arrays."
   ]
  },
  {
   "cell_type": "code",
   "execution_count": 10,
   "id": "98fa6c62",
   "metadata": {
    "vscode": {
     "languageId": "python"
    }
   },
   "outputs": [
    {
     "name": "stdout",
     "output_type": "stream",
     "text": [
      "-> a Routine"
     ]
    }
   ],
   "source": [
    "a = [[60,64,67,72],62,[60,65,69,72],64,[62,65,67,71],62,[60,64,67,72]];\n",
    "b = 4!6 ++ [2];\n",
    "\n",
    "~print.(a, b);"
   ]
  },
  {
   "cell_type": "markdown",
   "id": "566de6b6",
   "metadata": {
    "vscode": {
     "languageId": "python"
    }
   },
   "source": [
    "Rest $\\rightarrow$ nil instead notemidi number."
   ]
  },
  {
   "cell_type": "code",
   "execution_count": 12,
   "id": "031a5b98",
   "metadata": {
    "vscode": {
     "languageId": "python"
    }
   },
   "outputs": [
    {
     "name": "stdout",
     "output_type": "stream",
     "text": [
      "-> a Routine"
     ]
    }
   ],
   "source": [
    "a = [60,62,64,nil,65,67,nil,74,73,74,75,nil,76,72,nil,60];\n",
    "b = [16];\n",
    "\n",
    "~print.(a, b);"
   ]
  },
  {
   "cell_type": "markdown",
   "id": "79bb8281",
   "metadata": {},
   "source": [
    "## Rhythm <a id=\"ritmo\"></a>\n",
    "\n",
    "We can define any kind of musical event in time choosing at least two of these parameters:\n",
    "\n",
    "* Onsets $\\rightarrow$ absolute time of a sound event relative to the beginning (as in DAW software).\n",
    "* Delta times $\\rightarrow$ time between two consecutive sound events.\n",
    "* Durations $\\rightarrow$ duration of a sound event.\n",
    "\n",
    "All these parameters can be specified as:\n",
    "\n",
    "* absolute measurement units (seconds or millisecond).\n",
    "* relative to a bpm.\n",
    "    - 1 $\\rightarrow$ beat, reference unit (could be quarter, eight, whole, etc).\n",
    "    - 1/4 $\\rightarrow$ fractional notation.\n",
    "    - 0.5 $\\rightarrow$ multiply factor (result from fractional notation).\n",
    "    - 3:2 $\\rightarrow$ Rhythmic proportions (ratios of one single beat or its subdivisions).\n",
    "\n",
    "We can convert the values by simple mathematical operations."
   ]
  },
  {
   "cell_type": "code",
   "execution_count": 13,
   "id": "fb3bc429",
   "metadata": {
    "vscode": {
     "languageId": "python"
    }
   },
   "outputs": [
    {
     "name": "stdout",
     "output_type": "stream",
     "text": [
      "-> 0.73170731707317"
     ]
    }
   ],
   "source": [
    "~bpm = 82;\n",
    "\n",
    "~sec = 60/~bpm;  // bpm     --> seconds\n",
    "~bpm = 60/~sec;  // seconds --> bpm\n",
    "\n",
    "~sec;    "
   ]
  },
  {
   "cell_type": "markdown",
   "id": "9c569b8e",
   "metadata": {},
   "source": [
    "In this chapter we adopt a notation similar to lilypond notation:\n",
    "* 1 $\\rightarrow$ whole.\n",
    "* 2 $\\rightarrow$ half.\n",
    "* 4 $\\rightarrow$ quarter.\n",
    "* 8 $\\rightarrow$ eight.\n",
    "* 16 $\\rightarrow$ sixteen.\n",
    "* 32 $\\rightarrow$ thirty-second.\n",
    "* 64 $\\rightarrow$ sixty-fourth."
   ]
  },
  {
   "cell_type": "code",
   "execution_count": 1,
   "id": "7df396a6",
   "metadata": {
    "vscode": {
     "languageId": "python"
    }
   },
   "outputs": [
    {
     "name": "stdout",
     "output_type": "stream",
     "text": [
      "-> nil"
     ]
    }
   ],
   "source": [
    "a = [72,76];\n",
    "b = [16,16,8,32,32,32,32,8,4];\n",
    "\n",
    "~print.(a, b);"
   ]
  },
  {
   "cell_type": "markdown",
   "id": "f89f45d5",
   "metadata": {},
   "source": [
    "If we want to define dotted or irregular rhythms we can use this syntax:"
   ]
  },
  {
   "cell_type": "code",
   "execution_count": 15,
   "id": "82f21f26",
   "metadata": {
    "vscode": {
     "languageId": "python"
    }
   },
   "outputs": [
    {
     "name": "stdout",
     "output_type": "stream",
     "text": [
      "-> [[4, [3, 1]]]"
     ]
    }
   ],
   "source": [
    "//    [unity, [subdivisions] ]\n",
    "a = [ [4,     [3, 1        ] ] ];"
   ]
  },
  {
   "cell_type": "markdown",
   "id": "089428b4",
   "metadata": {},
   "source": [
    "We can mix regular and irregular/dotted rhythms."
   ]
  },
  {
   "cell_type": "code",
   "execution_count": 16,
   "id": "786ac4ae",
   "metadata": {
    "vscode": {
     "languageId": "python"
    }
   },
   "outputs": [
    {
     "name": "stdout",
     "output_type": "stream",
     "text": [
      "-> a Routine"
     ]
    }
   ],
   "source": [
    "a = [60,     nil,  62,      63,64,nil,[62,66],67,  68, [64,72]];\n",
    "b = [4,  [4,[3,   1]], [4, [1,  1,  1,     1,  1]], 8, 8];\n",
    "\n",
    "~print.(a, b);"
   ]
  },
  {
   "cell_type": "markdown",
   "id": "2599a774",
   "metadata": {},
   "source": [
    "## Dynamic <a id=\"dinamica\"></a>\n",
    "\n",
    "Three different measurament units:\n",
    "\n",
    "* 1.0 $\\rightarrow$ linear amplitude (floating point form 0.0 to 1.0).\n",
    "* 127 $\\rightarrow$ midi velocity (integer from 0 to 127).\n",
    "* -6  $\\rightarrow$ decibels (from -inf to 0.0).\n",
    "\n",
    "Conversions:"
   ]
  },
  {
   "cell_type": "code",
   "execution_count": 17,
   "id": "49e70be1",
   "metadata": {
    "vscode": {
     "languageId": "python"
    }
   },
   "outputs": [
    {
     "name": "stdout",
     "output_type": "stream",
     "text": [
      "-> 0.0625"
     ]
    }
   ],
   "source": [
    "~lin  = 64  / 127;  // velocity to linear\n",
    "~vel  = 0.5 * 127;  // linear to velocity\n",
    "~lin1 = -6.dbamp;   // dB to linear\n",
    "~db   = 0.5.ampdb;  // linear to dB\n",
    "~cub  = 0.5**4;     // linear to quartic (best for human perception)"
   ]
  },
  {
   "cell_type": "markdown",
   "id": "99a08026",
   "metadata": {},
   "source": [
    "In this chapter we adopt a mix between amplitude and expression signs. \n",
    "\n",
    "I think that if we want define overall amplitude, crescendo and diminuendos algorithms are not necessary.\n",
    "\n",
    "Only three velocity levels:\n",
    "* nil $\\rightarrow$ mezzoforte. \n",
    "* 1-42 $\\rightarrow$ piano.\n",
    "* 43-80 $\\rightarrow$ marcato.\n",
    "* 81-127 $\\rightarrow$ accentato."
   ]
  },
  {
   "cell_type": "code",
   "execution_count": 29,
   "id": "ffd18d73",
   "metadata": {
    "vscode": {
     "languageId": "python"
    }
   },
   "outputs": [
    {
     "name": "stdout",
     "output_type": "stream",
     "text": [
      "-> a Routine"
     ]
    }
   ],
   "source": [
    "n = 12;\n",
    "a = ({[rrand(60,72), nil].wchoose([0.8,0.2])}).dup(n);\n",
    "b = [[8,[1,1,1]],8];\n",
    "c = a.collect({arg i; if(i.notNil){[rrand(0,127), nil].choose}});\n",
    "\n",
    "~print.(pitch:a, dur:b, vel:c, bpm:60); "
   ]
  },
  {
   "cell_type": "markdown",
   "id": "999f0fe7",
   "metadata": {},
   "source": [
    "## Collections <a id=\"collezioni\"></a>\n",
    "\n",
    "As we saw we can describe sets of values ​​as collections.\n",
    "\n",
    "In SuperCollider Array and List.\n",
    "\n",
    "Collections are a musically neutral as they can contain any data type (string, int, float, etc.).\n",
    "\n",
    "In algorithmic composition we can think it musically in two ways:\n",
    "\n",
    "1. Out of time (pre compositional materials)\n",
    "    - rules paradigm.\n",
    "    - item positions on x axis are indexes without time references (scale degree or other)."
   ]
  },
  {
   "cell_type": "code",
   "execution_count": 31,
   "id": "32476b40",
   "metadata": {
    "vscode": {
     "languageId": "python"
    }
   },
   "outputs": [
    {
     "name": "stdout",
     "output_type": "stream",
     "text": [
      "-> a Routine"
     ]
    }
   ],
   "source": [
    "//   - Scale\n",
    "//          0    1     2   3     4     5       6   7   // Scale degrees\n",
    "~dorico = [60,  62,   64, 65,   67,   69,     71, 72]; // Absolute pitches\n",
    "~chrom  = [0, 1, 2, 3, 4,  5, 6, 7, 8, 9, 10, 11, 12]; // Intervals\n",
    "~durs   = [8];\n",
    "\n",
    "~print.(~dorico, ~durs);"
   ]
  },
  {
   "cell_type": "code",
   "execution_count": 32,
   "id": "c107f3ee",
   "metadata": {
    "vscode": {
     "languageId": "python"
    }
   },
   "outputs": [
    {
     "name": "stdout",
     "output_type": "stream",
     "text": [
      "-> a Routine"
     ]
    }
   ],
   "source": [
    "//   - Series\n",
    "\n",
    "~serie  = [1, 10, 6, 4, 8, 2, 9, 7, 0, 5, 11, 3];           // Dodecaphony\n",
    "~reich  = [64, 66, 71, 73, 74, 66, 64, 73, 71, 66, 74, 73]; // Minimalism\n",
    "~durs  = [16];\n",
    "\n",
    "~print.(~reich, ~durs);"
   ]
  },
  {
   "cell_type": "code",
   "execution_count": 33,
   "id": "fb9e9b62",
   "metadata": {
    "vscode": {
     "languageId": "python"
    }
   },
   "outputs": [
    {
     "name": "stdout",
     "output_type": "stream",
     "text": [
      "-> a Routine"
     ]
    }
   ],
   "source": [
    "//   - Harmonic fields (Array or Array 2D)\n",
    "\n",
    "~mayor  = [0, 4, 7, 12];\n",
    "~harm   = [[60, 64, 67, 72], [62, 65, 67, 71], [60, 65, 69,72], [60, 64, 69,72]];\n",
    "~harmd  = [[0, 4, 7, 12],    [2, 5, 7, 11],    [0, 5, 9,12],    [0, 4, 9,12]];\n",
    "\n",
    "~durs  = [4];\n",
    "\n",
    "~print.(~harm, ~durs);"
   ]
  },
  {
   "cell_type": "markdown",
   "id": "4deb78ef",
   "metadata": {
    "vscode": {
     "languageId": "python"
    }
   },
   "source": [
    "2. Timeline\n",
    "    - sequence paradigm.\n",
    "    - items are placed on a timeline (x axis)."
   ]
  },
  {
   "cell_type": "code",
   "execution_count": 34,
   "id": "2ae777b7",
   "metadata": {
    "vscode": {
     "languageId": "python"
    }
   },
   "outputs": [
    {
     "name": "stdout",
     "output_type": "stream",
     "text": [
      "-> a Routine"
     ]
    }
   ],
   "source": [
    "//   - Sequence of index from defined scale\n",
    "\n",
    "//          0   1   2   3   4   5   6   7\n",
    "~scale  = [60, 62, 64, 65, 67, 69, 71, 72];      \n",
    "~melody = 10.collect({rrand(0,7)});\n",
    "~seq    = ~melody.collect({arg i; ~scale[i]});\n",
    "                \n",
    "~durs   = ([16,8,16]!3++[4]).flat; \n",
    "~expr   = ~melody.collect({ [nil,100,40].wchoose([0.6,0.2,0.2]) });\n",
    "\n",
    "~print.(~seq,~durs, ~expr); "
   ]
  },
  {
   "cell_type": "markdown",
   "id": "e4f750c0",
   "metadata": {},
   "source": [
    "## Live <a id=\"live\"></a>\n",
    "\n",
    "Send numerical data via MIDI to external sound generators (Reaktor, GarageBand, Logic) without print it in a musical score.\n",
    "\n",
    "Open a midi sound generator software and set it."
   ]
  },
  {
   "cell_type": "code",
   "execution_count": null,
   "id": "728a2652",
   "metadata": {
    "vscode": {
     "languageId": "python"
    }
   },
   "outputs": [],
   "source": [
    "\"open -a /Applications/GarageBand.app/\".unixCmd;"
   ]
  },
  {
   "cell_type": "code",
   "execution_count": null,
   "id": "b5e9f38a",
   "metadata": {
    "vscode": {
     "languageId": "python"
    }
   },
   "outputs": [],
   "source": [
    "// 1. Checks which available MIDI sources and destinations there are, and\n",
    "//    opens as many connections as desired\n",
    "\n",
    "MIDIClient.init;\n",
    "\n",
    "// 2. Choice the destination where you want send your MIDI data (id from 0)\n",
    "\n",
    "c = MIDIOut.new(0); // 0 = \"Driver IAC\"\n",
    "c.latency_(0);      // Set latency to 0 sec\n",
    "\n",
    "// 3. Open an external MIDI sound bank (Reaktor, GarageBand, Finale, Logic)\n",
    "// 4. Send some MIDI data..\n",
    "\n",
    "~evt   = 100;   \n",
    "~bpm   = 60;    \n",
    "~pitch = ~evt.collect({rrand(60,75)});\n",
    "~durs  = ~evt.collect({[32, 32, 32, 32, 32, 8, 16].choose});\n",
    "~expr  = ~evt.collect({[100, 40, 60].choose});\n",
    "\n",
    "p = Pbind(\n",
    "        \\type, \\midi,\n",
    "        \\midicmd, \\noteOn,\n",
    "        \\midiout, c,\n",
    "        \\chan, 0,\n",
    "        \\midinote, Pseq(~pitch.replace([nil],\\rest)),\n",
    "        \\sustain,  Pseq(1/~durs * 4,inf),   // Duration\n",
    "        \\dur,      Pseq(1/~durs * 4,inf),   // Delta time\n",
    "        \\amp,      Pseq(~expr/127,inf),     // 0.0 to 1.0\n",
    "        ).play;"
   ]
  },
  {
   "cell_type": "markdown",
   "id": "a88a11a6",
   "metadata": {},
   "source": [
    "# Generative techniques and processes <a id=\"tecniche\"></a>\n",
    "\n",
    "In western musical tradition superposition of two or more voices have two reference set of rules: \n",
    "* counterpoint (horizontal dimension - static voice allocation) \n",
    "\n",
    "<center><video width=\"40%\" controls src=\"suoni/palestrina1.mp4\"></video></center>\n",
    "\n",
    "* harmony (vertical dimension - dynamic voice allocation).\n",
    "\n",
    "<center><video width=\"40%\" controls src=\"suoni/beetho1.mp4\"></video></center>\n",
    "\n",
    "Approaches to which different musical languages refer.\n",
    "\n",
    "In general if we want formalize our musical ideas we should act as in previous chapters.\n",
    "\n",
    "Recap.\n",
    "\n",
    "1. choose a set of parametric structures that we want to use as basic material according to musical rules (scale, modes, series, chords, rhythmic or dynamic patterns, etc.).\n",
    "2. define a set of possible modifications always starting from musical needs and rules (variations, filters, interpolations, augmentations, diminutions, etc.).\n",
    "3. organize it over time by defining a formal structure choosing from two strategies:\n",
    "    * top to bottom (from a fixed general structure to particular).\n",
    "    * bottom to top (from particular to a general formal structure).\n",
    "\n",
    "In carrying out these three steps, we have only two possible approaches often mixed toghether:\n",
    "\n",
    "* nondeterministic  \n",
    "* deterministic"
   ]
  },
  {
   "cell_type": "markdown",
   "id": "9ab7f5a8",
   "metadata": {},
   "source": [
    "## Modes and scales <a id=\"moscale\"></a>\n",
    "\n",
    "Simplifying:\n",
    "\n",
    "* mode $\\rightarrow$ gregorian to baroque music \n",
    "* scale $\\rightarrow$ baroque to jazz music.\n",
    "\n",
    "It define the interval patterns through which composer organize the pitches of a piece.\n",
    "\n",
    "They are usually some kind of subdivision of the octave interval.\n",
    "\n",
    "We can set it in two ways:\n",
    "* intervals $\\rightarrow$ chromatic distance from 0 (root) in semitones.  \n",
    "* degrees $\\rightarrow$ diatonic distance from 0 (root) in note names.\n",
    "\n",
    "For exemple major scale:"
   ]
  },
  {
   "cell_type": "code",
   "execution_count": 35,
   "id": "d73171f4",
   "metadata": {
    "vscode": {
     "languageId": "python"
    }
   },
   "outputs": [
    {
     "name": "stdout",
     "output_type": "stream",
     "text": [
      "-> a Routine"
     ]
    }
   ],
   "source": [
    "~degrees   = [0, 1, 2, 3, 4, 5,  6,  7];\n",
    "~intervals = [0, 2, 4, 5, 7, 9, 11, 12];  "
   ]
  },
  {
   "cell_type": "markdown",
   "id": "bc3a7e75",
   "metadata": {},
   "source": [
    "\n",
    "Then we have to define a root note in midi values which will assume the function of the first degree (0)\n",
    "\n",
    "* in modal rules is called 'finalis'.\n",
    "* in tonal (harmonic) rules is the 'key' (D major, E-flat minor, etc.)."
   ]
  },
  {
   "cell_type": "code",
   "execution_count": 36,
   "id": "5b871d5d",
   "metadata": {
    "vscode": {
     "languageId": "python"
    }
   },
   "outputs": [
    {
     "name": "stdout",
     "output_type": "stream",
     "text": [
      "-> [0, 2, 4, 5, 7, 9, 11, 12]"
     ]
    }
   ],
   "source": [
    "~major = [0,2,4,5,7,9,11,12];  // Try to change intervals\n",
    "~root  = 60;\n",
    "~pitch = ~root + ~major;\n",
    "~durs  = [8];\n",
    "\n",
    "~print.(~pitch, ~durs, filepath:~filepath); "
   ]
  },
  {
   "cell_type": "markdown",
   "id": "3b085669",
   "metadata": {},
   "source": [
    "We can use historical models or invent our own."
   ]
  },
  {
   "cell_type": "markdown",
   "id": "42b8a88e",
   "metadata": {},
   "source": [
    "### Scale <a id=\"scale\"></a>\n",
    "\n",
    "In SuperCollider there is a repository of different scales from different cultures."
   ]
  },
  {
   "cell_type": "code",
   "execution_count": null,
   "id": "7ff9dd84",
   "metadata": {
    "vscode": {
     "languageId": "python"
    }
   },
   "outputs": [],
   "source": [
    "Scale.directory;"
   ]
  },
  {
   "cell_type": "markdown",
   "id": "e0445205",
   "metadata": {},
   "source": [
    "Choose a scale from the availables and recall the interval model."
   ]
  },
  {
   "cell_type": "code",
   "execution_count": 37,
   "id": "2853cf91",
   "metadata": {
    "vscode": {
     "languageId": "python"
    }
   },
   "outputs": [
    {
     "name": "stdout",
     "output_type": "stream",
     "text": [
      "-> a Routine"
     ]
    }
   ],
   "source": [
    "~model = Scale.lydian;    // Try to change scale\n",
    "\n",
    "~intervals = ~model.degrees; \n",
    "~root      = 60;\n",
    "~pitch     = ~root + ~intervals;\n",
    "~durs      = [4];\n",
    "\n",
    "~intervals.postln; \n",
    "~pitch.postln;\n",
    "\n",
    "~print.(~pitch, ~durs); "
   ]
  },
  {
   "cell_type": "markdown",
   "id": "5cb9059a",
   "metadata": {},
   "source": [
    "Once the interval model has been established we can create a melody by recalling the different degrees of the model according to deterministic or indeterministic principles."
   ]
  },
  {
   "cell_type": "markdown",
   "id": "53890b0a",
   "metadata": {},
   "source": [
    "### Incises and motives <a id=\"incise\"></a>\n",
    "\n",
    "We can define an incise in a deterministic way."
   ]
  },
  {
   "cell_type": "code",
   "execution_count": 39,
   "id": "b87fcfe7",
   "metadata": {
    "vscode": {
     "languageId": "python"
    }
   },
   "outputs": [
    {
     "name": "stdout",
     "output_type": "stream",
     "text": [
      "-> a Routine"
     ]
    }
   ],
   "source": [
    "~mod = Scale.lydian.degrees;  \n",
    "\n",
    "~degr = [0,3,nil,5,2,3,6,5]; // in scale degrees\n",
    "~root = 60;\n",
    "~ptch = ~degr.collect({arg i; \n",
    "                           if(i.notNil)\n",
    "                               {~mod.at(i) + ~root}});\n",
    "~durs = [8,8,16,16,[8,[1,1,1]],4];\n",
    "~expr = [nil, 100, nil, nil, nil, nil, nil, 40];\n",
    "\n",
    "~print.(~ptch, ~durs, ~expr); "
   ]
  },
  {
   "cell_type": "markdown",
   "id": "21cf3df8",
   "metadata": {},
   "source": [
    "We can also program a 'random incise generator' algorithm. \n",
    "\n",
    "It's not necessary but can be a good pratice to formalize algorithm in functions.\n",
    "\n",
    "This algotithm generate inceses according to simple rules:\n",
    "\n",
    "1. set the number of notes.\n",
    "2. set an interval model.\n",
    "3. set a root note.\n",
    "2. set a percentage of random rests (0.0 - 1.0)."
   ]
  },
  {
   "cell_type": "code",
   "execution_count": 40,
   "id": "fb0ddfb0",
   "metadata": {
    "vscode": {
     "languageId": "python"
    }
   },
   "outputs": [
    {
     "name": "stdout",
     "output_type": "stream",
     "text": [
      "-> a Routine"
     ]
    }
   ],
   "source": [
    "~inc  = {arg evt=1, imodel, root=60, rest=0.0;\n",
    "         var pitch, rests;\n",
    "             rests = [imodel,[nil]];      \n",
    "             pitch = evt.collect{var i; \n",
    "                                     i = rests.wchoose([1-rest,rest]).choose;\n",
    "                                     if(i.notNil)\n",
    "                                    {i = i + root} }; \n",
    "        };"
   ]
  },
  {
   "cell_type": "markdown",
   "id": "127fa48c",
   "metadata": {},
   "source": [
    "Test it."
   ]
  },
  {
   "cell_type": "code",
   "execution_count": 47,
   "id": "a980ed76",
   "metadata": {
    "vscode": {
     "languageId": "python"
    }
   },
   "outputs": [
    {
     "name": "stdout",
     "output_type": "stream",
     "text": [
      "-> a Routine"
     ]
    }
   ],
   "source": [
    "~evt  = rrand(2,5);\n",
    "~mod  = Scale.lydian.degrees; \n",
    "~root = 60;\n",
    "~rest = 0.2;\n",
    "~durs = [8];\n",
    "~seq  = ~inc.(~evt, ~mod, ~root, ~rest);\n",
    "\n",
    "~print.(~seq, ~durs)"
   ]
  },
  {
   "cell_type": "markdown",
   "id": "e9670adc",
   "metadata": {},
   "source": [
    "5. set a database of rhythmic patterns from which to extract one according to the number of pitches. \n",
    "\n",
    "   Each pattern should be of the same lenght (a beat or its multiple)."
   ]
  },
  {
   "cell_type": "code",
   "execution_count": 48,
   "id": "caae0ff7",
   "metadata": {
    "vscode": {
     "languageId": "python"
    }
   },
   "outputs": [
    {
     "name": "stdout",
     "output_type": "stream",
     "text": [
      "-> a Routine"
     ]
    }
   ],
   "source": [
    "~inc  = {arg evt=1, imodel, root=60, rest=0.0;\n",
    "         var pitch, rests, durs;\n",
    "            rests = [imodel,[nil]];      \n",
    "            pitch = evt.collect{var i; \n",
    "                                i = rests.wchoose([1-rest,rest]).choose;\n",
    "                                if(i.notNil)\n",
    "                                {i = i + root} }; \n",
    "            durs = switch(evt,  \n",
    "                        2, {[[8,8],\n",
    "                             [[4,[3,1]]],\n",
    "                             [[4,[1,3]]],\n",
    "                             [[4,[2,1]]],\n",
    "                             [[4,[1,2]]] ].choose},\n",
    "                        3, {[[8,16,16],\n",
    "                             [16,8,16],\n",
    "                             [16,16,8],\n",
    "                             [[4,[1,1,1]]] ].choose},\n",
    "                        4, {[[16,16,16,16],\n",
    "                             [[4,[2,1,1,2]]],   \n",
    "                             [[4,[2,2,1,1]]]].choose},\n",
    "                        5, {[[16,16,16,16],\n",
    "                             [[4,[1,1,1,1,1]]],   \n",
    "                             [[4,[2,2,1,1,1]]],\n",
    "                             [[4,[1,2,1,2,1]]]].choose} \n",
    "                        );                   \n",
    "            [pitch, durs] \n",
    "        };"
   ]
  },
  {
   "cell_type": "markdown",
   "id": "576680a3",
   "metadata": {},
   "source": [
    "Test it."
   ]
  },
  {
   "cell_type": "code",
   "execution_count": 53,
   "id": "f873a274",
   "metadata": {
    "vscode": {
     "languageId": "python"
    }
   },
   "outputs": [
    {
     "name": "stdout",
     "output_type": "stream",
     "text": [
      "-> a Routine"
     ]
    }
   ],
   "source": [
    "~evt  = rrand(2,5);\n",
    "~mod  = Scale.lydian.degrees;\n",
    "~root = 60;\n",
    "~rest = 0.2;\n",
    "~seq  = ~inc.(~evt, ~mod, ~root, ~rest );\n",
    "\n",
    "~print.(~seq[0], ~seq[1]);"
   ]
  },
  {
   "cell_type": "markdown",
   "id": "4f4ded9c",
   "metadata": {},
   "source": [
    "5. set a percentage of random velocities/expressions to apply on notes.\n",
    "   \n",
    "   2D array:\n",
    "    - [0] $\\rightarrow$ dataset from wich values are chosen.\n",
    "    - [1] $\\rightarrow$ percentage of random velocities (0.0-1.0)."
   ]
  },
  {
   "cell_type": "code",
   "execution_count": 54,
   "id": "ad0b4471",
   "metadata": {
    "vscode": {
     "languageId": "python"
    }
   },
   "outputs": [
    {
     "name": "stdout",
     "output_type": "stream",
     "text": [
      "-> a Routine"
     ]
    }
   ],
   "source": [
    "~inc  = {arg evt=1, imodel, root=60, rest=0.0, exp=[[nil],[0.0]];\n",
    "         var pitch, rests, durs,  vel;\n",
    "             rests = [imodel,[nil]];      \n",
    "             pitch = evt.collect{var i; \n",
    "                                     i = rests.wchoose([1-rest,rest]).choose;\n",
    "                                     if(i.notNil)\n",
    "                                     {i = i + root} }; \n",
    "            durs = switch(evt,  \n",
    "                        2, {[[8,8],\n",
    "                             [[4,[3,1]]],\n",
    "                             [[4,[1,3]]],\n",
    "                             [[4,[2,1]]],\n",
    "                             [[4,[1,2]]] ].choose},\n",
    "                        3, {[[8,16,16],\n",
    "                             [16,8,16],\n",
    "                             [16,16,8],\n",
    "                             [[4,[1,1,1]]] ].choose},\n",
    "                        4, {[[16,16,16,16],\n",
    "                             [[4,[2,1,1,2]]],   \n",
    "                             [[4,[2,2,1,1]]]].choose},\n",
    "                        5, {[[16,16,16,16],\n",
    "                             [[4,[1,1,1,1,1]]],   \n",
    "                             [[4,[2,2,1,1,1]]],\n",
    "                             [[4,[1,2,1,2,1]]]].choose} \n",
    "                        );    \n",
    "            vel = pitch.collect{arg i;\n",
    "                                if(i.notNil)\n",
    "                                {[exp[0],[nil]].wchoose([exp[1],1-exp[1]]).choose}\n",
    "                                }.flat;               \n",
    "            [pitch, durs, vel] \n",
    "        };"
   ]
  },
  {
   "cell_type": "markdown",
   "id": "332e5245",
   "metadata": {},
   "source": [
    "Test it."
   ]
  },
  {
   "cell_type": "code",
   "execution_count": 61,
   "id": "05646019",
   "metadata": {
    "vscode": {
     "languageId": "python"
    }
   },
   "outputs": [
    {
     "name": "stdout",
     "output_type": "stream",
     "text": [
      "-> a Routine"
     ]
    }
   ],
   "source": [
    "~evt  = rrand(2,5);\n",
    "~mod  = Scale.lydian.degrees;\n",
    "~root = 60;\n",
    "~rest = 0.2;\n",
    "~exp  = [[40,100],0.3];\n",
    "~seq  = ~inc.(~evt, ~mod, ~root, ~rest, ~exp );\n",
    "\n",
    "~print.(~seq[0], ~seq[1] , ~seq[2]);"
   ]
  },
  {
   "cell_type": "markdown",
   "id": "e33023b3",
   "metadata": {},
   "source": [
    "In this way we can also construct motives with several incises.\n",
    "\n",
    "The function."
   ]
  },
  {
   "cell_type": "code",
   "execution_count": 62,
   "id": "b246975f",
   "metadata": {
    "vscode": {
     "languageId": "python"
    }
   },
   "outputs": [
    {
     "name": "stdout",
     "output_type": "stream",
     "text": [
      "-> a Routine"
     ]
    }
   ],
   "source": [
    "~mot = {arg evt, imodel, root=60, rest=0.0, exp=[[nil],[0.0]];\n",
    "        var p,r,v;\n",
    "            p = [];\n",
    "            r = [];\n",
    "            v = [];\n",
    "            evt.do({arg i;\n",
    "                        i = ~inc.(rrand(2,5), imodel, root, rest, exp);\n",
    "                        p = p ++ i[0];\n",
    "                        r = r ++ i[1];\n",
    "                        v = v ++ i[2]; \n",
    "                  });\n",
    "            [p.flat,r,v.flat]\n",
    "        };\n"
   ]
  },
  {
   "cell_type": "markdown",
   "id": "d0bc619f",
   "metadata": {},
   "source": [
    "Test it."
   ]
  },
  {
   "cell_type": "code",
   "execution_count": null,
   "id": "0170e391",
   "metadata": {
    "vscode": {
     "languageId": "python"
    }
   },
   "outputs": [
    {
     "name": "stdout",
     "output_type": "stream",
     "text": [
      "-> a Routine"
     ]
    }
   ],
   "source": [
    "~evt  = rrand(3,10);\n",
    "~mod  = Scale.lydian.degrees;\n",
    "~root = 60;\n",
    "~rest = 0.3;\n",
    "~exp  = [[40,100],0.3];\n",
    "~seq  = ~mot.(~evt, ~mod, ~root, ~rest, ~exp );\n",
    "\n",
    "~print.(~seq[0], ~seq[1] , ~seq[2], \n",
    "        filepath:'/Users/andreavigani/Desktop/GHub/EMC/5_cac/score/test');"
   ]
  },
  {
   "cell_type": "markdown",
   "id": "3479afa1",
   "metadata": {},
   "source": [
    "I would like to underline:\n",
    "* '~inc' function is based on musical rules we established previously (choice of scale, number of notes, set of rhythmic cells, etc.).\n",
    "* in implementing it we mixed as usual deterministic and indeterministic procedures.\n",
    "\n",
    "Now we can save short sequences as single midi files (different names) and edit it in software like Musescore, Sibelius or generic midi sequencer."
   ]
  },
  {
   "cell_type": "code",
   "execution_count": 72,
   "id": "9bf0e114",
   "metadata": {
    "vscode": {
     "languageId": "python"
    }
   },
   "outputs": [
    {
     "name": "stdout",
     "output_type": "stream",
     "text": [
      "-> a Routine"
     ]
    }
   ],
   "source": [
    "\"open -a /Applications/GarageBand.app/\".unixCmd;"
   ]
  },
  {
   "cell_type": "markdown",
   "id": "73090753",
   "metadata": {},
   "source": [
    "### Variations <a id=\"varmel\"></a> \n",
    "\n",
    "In the previous paragraph we generated incises and motives.\n",
    "\n",
    "Let's see now few possible variations.\n",
    "\n",
    "Pitches, rhythms and velocities sequencies are represented as Array and List.\n",
    "\n",
    "In SuperCollider there are numerous methods that we can call on them to modify the contents.\n",
    "\n",
    "In next exemples we apply methods on specific parameters but in principle almost all methods are valid for all parameters. \n",
    "\n",
    "* chromatic trasposition $\\rightarrow$ sum an offset in semitones (absolute).\n",
    "  - pitch."
   ]
  },
  {
   "cell_type": "code",
   "execution_count": 73,
   "id": "5816944d",
   "metadata": {
    "vscode": {
     "languageId": "python"
    }
   },
   "outputs": [
    {
     "name": "stdout",
     "output_type": "stream",
     "text": [
      "-> 8964"
     ]
    }
   ],
   "source": [
    "~ctsp = {arg seq=[60], trsp=0;\n",
    "            seq.collect({arg i, id;\n",
    "\t\t                if(i.notNil)\n",
    "\t\t                    {trsp + i} \n",
    "                        });\n",
    "\t      };"
   ]
  },
  {
   "cell_type": "markdown",
   "id": "e5bbb024",
   "metadata": {},
   "source": [
    "An exemple.\n",
    "\n",
    "Rules:\n",
    "1. define an incise.\n",
    "2. traspose pitch random +/- 5 semitones n times.\n",
    "3. duplicate rhythms and velocities n times.\n",
    "4. put it toghether."
   ]
  },
  {
   "cell_type": "code",
   "execution_count": 74,
   "id": "c84a6c92",
   "metadata": {
    "vscode": {
     "languageId": "python"
    }
   },
   "outputs": [
    {
     "name": "stdout",
     "output_type": "stream",
     "text": [
      "-> a Function"
     ]
    }
   ],
   "source": [
    "~ptch = [60, 64, 67,  69];\n",
    "~dur  = [ 8, 16, 16,   8];\n",
    "\n",
    "n     = 3;\n",
    "~ptch = ~ptch ++ n.collect({ ~ctsp.(~ptch, rand2(5)) });\n",
    "~ptch = ~ptch.flat;\n",
    "\n",
    "~print.(~ptch, ~dur);"
   ]
  },
  {
   "cell_type": "markdown",
   "id": "5c88c06d",
   "metadata": {},
   "source": [
    "* diatonic trasposition $\\rightarrow$ sum an offset in degrees (relative to a scale or interval model). \n",
    "  - pitch."
   ]
  },
  {
   "cell_type": "code",
   "execution_count": null,
   "id": "712d3dc6",
   "metadata": {
    "vscode": {
     "languageId": "python"
    }
   },
   "outputs": [],
   "source": [
    "~dtsp = {arg seq=[60],trsp=0,scale=[0,2,4,7,9,11];\n",
    "\t     var dg;\n",
    "         seq.collect({arg i, id;\n",
    "\t\t            if(i.notNil)\n",
    "\t\t            {dg = scale.performKeyToDegree(i, 12);\n",
    "\t\t\t         dg = dg + trsp;\n",
    "\t\t\t\t\t scale.performDegreeToKey(dg,12,0)} })\n",
    "        };"
   ]
  },
  {
   "cell_type": "markdown",
   "id": "ec7d19ba",
   "metadata": {},
   "source": [
    "An exemple."
   ]
  },
  {
   "cell_type": "code",
   "execution_count": null,
   "id": "d28c0580",
   "metadata": {
    "vscode": {
     "languageId": "python"
    }
   },
   "outputs": [],
   "source": [
    "~mod  = Scale.major.degrees;\n",
    "~ptch = [60, 64, 67,  69];\n",
    "~dur  = [ 8, 16, 16,   8];\n",
    "\n",
    "~evt  = 3;\n",
    "~ptch = ~ptch ++ ~evt.collect({ ~dtsp.(~ptch, rand2(5),~mod) });\n",
    "~ptch = ~ptch.flat;\n",
    "\n",
    "~print.value(~ptch, ~dur);"
   ]
  },
  {
   "cell_type": "markdown",
   "id": "8ef427a6",
   "metadata": {},
   "source": [
    "* retrograde $\\rightarrow$ reverse array items.\n",
    "  - pitch.\n",
    "  - rhythm.\n",
    "  - expression. "
   ]
  },
  {
   "cell_type": "code",
   "execution_count": null,
   "id": "f13baf71",
   "metadata": {
    "vscode": {
     "languageId": "python"
    }
   },
   "outputs": [],
   "source": [
    "~retr = {arg seq; seq.reverse};"
   ]
  },
  {
   "cell_type": "markdown",
   "id": "047fb218",
   "metadata": {},
   "source": [
    "An exemple.\n",
    "\n",
    "Different combinations give different musical results."
   ]
  },
  {
   "cell_type": "code",
   "execution_count": null,
   "id": "96958752",
   "metadata": {
    "vscode": {
     "languageId": "python"
    }
   },
   "outputs": [],
   "source": [
    "~ptch = [60, 67, 76,  nil,72,74,  77];\n",
    "~dur  = [8,  16, 16,[4,[1, 1, 1]],8];\n",
    "~exp  = [100, nil, 40, nil, 100, 40,nil];\n",
    "\n",
    "~ptch  = ~ptch ++ ~retr.(~ptch);\n",
    "~dur   = ~dur ++ ~retr.(~dur);\n",
    "\n",
    "\n",
    "~print.(~ptch , ~dur, ~exp);"
   ]
  },
  {
   "cell_type": "markdown",
   "id": "0f45b6ec",
   "metadata": {},
   "source": [
    "* inversion $\\rightarrow$ choose a root note for mirroring.\n",
    "  - pitch."
   ]
  },
  {
   "cell_type": "code",
   "execution_count": null,
   "id": "0fbaedea",
   "metadata": {
    "vscode": {
     "languageId": "python"
    }
   },
   "outputs": [],
   "source": [
    "~inv  = {arg seq, root=60;\n",
    "         seq.collect({arg i;\n",
    "\t\t              if(i.notNil)\n",
    "\t\t {i-root * -1 + root} })\n",
    "\t    };"
   ]
  },
  {
   "cell_type": "markdown",
   "id": "9a8b9a42",
   "metadata": {},
   "source": [
    "A deterministic exemple."
   ]
  },
  {
   "cell_type": "code",
   "execution_count": null,
   "id": "0d71727d",
   "metadata": {
    "vscode": {
     "languageId": "python"
    }
   },
   "outputs": [],
   "source": [
    "~ptch = [67, 69, 71,  nil, 65,64];\n",
    "~dur  = [16];\n",
    "~exp  = [100, nil, 40, nil, 100, 40,nil];\n",
    "~root = 73;\n",
    "\n",
    "~ptch  = ~ptch ++ ~inv.(~ptch, ~root);\n",
    "\n",
    "~print.(~ptch , ~dur, ~exp);"
   ]
  },
  {
   "cell_type": "markdown",
   "id": "5c59c1c4",
   "metadata": {},
   "source": [
    "* retrograde of inversion.\n",
    "  - pitch."
   ]
  },
  {
   "cell_type": "code",
   "execution_count": null,
   "id": "ed669121",
   "metadata": {
    "vscode": {
     "languageId": "python"
    }
   },
   "outputs": [],
   "source": [
    "~rinv = {arg seq, root=60;\n",
    "             seq = seq.collect({arg i;\n",
    "\t\t                        if(i.notNil)\n",
    "\t\t     {i-root * -1 + root} });\n",
    "\t         seq.reverse\n",
    "\t     };"
   ]
  },
  {
   "cell_type": "markdown",
   "id": "b787f3c3",
   "metadata": {},
   "source": [
    "An example that combines different random variations on different parameters."
   ]
  },
  {
   "cell_type": "code",
   "execution_count": null,
   "id": "dd9c86b1",
   "metadata": {
    "vscode": {
     "languageId": "python"
    }
   },
   "outputs": [],
   "source": [
    "~evt  = 4;        \n",
    "~ptch = [60,64,67,nil,69,71];\n",
    "~ptch = [~ptch,                     \n",
    "         ~retr.(~ptch),\n",
    "         ~inv.(s, rrand(68,72)),\n",
    "         ~rinv.(s, rrand(68,72))];\n",
    "         \n",
    "~dur = [8,16,16,8,8,16,16,8];\n",
    "~dur = [~dur, ~retr.(~dur)];\n",
    "\n",
    "~exp = [100, nil, 40, nil, 100, 40];\n",
    "\n",
    "~ptch = (~evt.collect({~ptch.choose})).flat;   \n",
    "~dur  = (~evt.collect({~dur.choose})).flatten(1);\n",
    "\n",
    "~print.(~ptch, ~dur, ~exp);"
   ]
  },
  {
   "cell_type": "markdown",
   "id": "ce4fe120",
   "metadata": {},
   "source": [
    "* palindrome without last element (for loop).\n",
    "  - pitch.\n",
    "  - rhythm.\n",
    "  - expression. "
   ]
  },
  {
   "cell_type": "code",
   "execution_count": null,
   "id": "b10ba860",
   "metadata": {
    "vscode": {
     "languageId": "python"
    }
   },
   "outputs": [],
   "source": [
    "~pal = {arg seq; seq.mirror1};"
   ]
  },
  {
   "cell_type": "markdown",
   "id": "5031c9d5",
   "metadata": {},
   "source": [
    "As exemple a radom palindrome plus random diatonic trasposition."
   ]
  },
  {
   "cell_type": "code",
   "execution_count": null,
   "id": "fa53067e",
   "metadata": {
    "vscode": {
     "languageId": "python"
    }
   },
   "outputs": [],
   "source": [
    "~evt  = 10;\n",
    "~mod  = Scale.major.degrees;\n",
    "~ptch = [60,64,67,69];\n",
    "~ptch = [~pal.(~ptch), ~ptch]; \n",
    "~ptch = ~evt.collect({ ~dtsp.(~ptch.choose, rand2(3), ~mod) });\n",
    "~ptch = ~ptch.flat;\n",
    "~dur  = [32];\n",
    "~exp  = [100, nil, nil,nil,nil,nil];\n",
    "\n",
    "~print.(~ptch, ~dur,~exp);"
   ]
  },
  {
   "cell_type": "markdown",
   "id": "517cfe1f",
   "metadata": {},
   "source": [
    "* stretching $\\rightarrow$ re-scale rhythms by a scaling factor (multiples of 2).\n",
    "  - rhythm."
   ]
  },
  {
   "cell_type": "code",
   "execution_count": null,
   "id": "1bf1be15",
   "metadata": {
    "vscode": {
     "languageId": "python"
    }
   },
   "outputs": [],
   "source": [
    "~evt  = 3; \n",
    "~ptch  = [60,64,67,nil,69,71,74,67];\n",
    "~dur   = [8,16,16,16,16,8];\n",
    "~scale = [0.5,1,2];          // scaling factors\n",
    "~dur   = (~evt.collect({ \n",
    "                        (~dur * ~scale.choose).asInteger\n",
    "                        })\n",
    "          ).flatten(1);\n",
    "\n",
    "~print.value(~ptch, ~dur);"
   ]
  },
  {
   "cell_type": "markdown",
   "id": "9ff7c536",
   "metadata": {},
   "source": [
    "* permutation $\\rightarrow$ all possible (array size max 170 items)."
   ]
  },
  {
   "cell_type": "code",
   "execution_count": null,
   "id": "e90be9e7",
   "metadata": {
    "vscode": {
     "languageId": "python"
    }
   },
   "outputs": [],
   "source": [
    "~perm = {arg seq;\n",
    "\t     var n;\n",
    "\t         n = seq.size.factorial.postln;\n",
    "\t         n.collect({arg i;\n",
    "\t\t                seq.permute(i) })\n",
    "         }"
   ]
  },
  {
   "cell_type": "markdown",
   "id": "ca8af9b4",
   "metadata": {},
   "source": [
    "As exemple we can apply it on irregular rhytmic subdivisions."
   ]
  },
  {
   "cell_type": "code",
   "execution_count": 75,
   "id": "f814795f",
   "metadata": {
    "vscode": {
     "languageId": "python"
    }
   },
   "outputs": [
    {
     "name": "stdout",
     "output_type": "stream",
     "text": [
      "-> a Routine"
     ]
    }
   ],
   "source": [
    "~evt  = 5;                    \n",
    "~ptch = [60,67,nil,76,72,83, 53,nil,55];\n",
    "~ptch = ~perm.(~ptch).postln; \n",
    "~ptch = ~evt.collect({~ptch.choose}).flat;\n",
    "\n",
    "~subd = [1,2,1,1];            \n",
    "~prms = ~perm.(~subd).postln; \n",
    "~dur  = ~evt.collect({[[4,~prms.choose],4]}).flatten(1);\n",
    "\n",
    "~exp = [100, nil, 30,nil,nil,nil];\n",
    "\n",
    "~print.(~ptch, ~dur, ~exp);"
   ]
  },
  {
   "cell_type": "markdown",
   "id": "fb093b3a",
   "metadata": {},
   "source": [
    "* random order $\\rightarrow$ change order in random way.<>"
   ]
  },
  {
   "cell_type": "code",
   "execution_count": 76,
   "id": "9ef37fe8",
   "metadata": {
    "vscode": {
     "languageId": "python"
    }
   },
   "outputs": [
    {
     "name": "stdout",
     "output_type": "stream",
     "text": [
      "nil\n",
      "ERROR a DoesNotUnderstandError\n",
      "-> ERROR a DoesNotUnderstandError"
     ]
    }
   ],
   "source": [
    "~rordr = {arg seq; seq.scramble};"
   ]
  },
  {
   "cell_type": "markdown",
   "id": "52e16229",
   "metadata": {},
   "source": [
    "A randomic variation of previous exemple."
   ]
  },
  {
   "cell_type": "code",
   "execution_count": 77,
   "id": "0629f3b0",
   "metadata": {
    "vscode": {
     "languageId": "python"
    }
   },
   "outputs": [
    {
     "name": "stdout",
     "output_type": "stream",
     "text": [
      "-> a Function"
     ]
    }
   ],
   "source": [
    "~evt  = 5;                // repetitions\n",
    "~subd = [1,2,1,1];        // subdivision\n",
    "~ptch = [60,67,nil,76,72,83, 53,nil,55];\n",
    "\n",
    "~ptch = ~evt.collect({~rordr.(~ptch)}).flat;\n",
    "~dur  = ~evt.collect({[4,[4,~rordr.(~subd)]]}).flatten(1);\n",
    "~exp  = [100, nil, 30,nil,nil,nil];\n",
    "\n",
    "~print.(~ptch, ~dur, ~expr);"
   ]
  },
  {
   "cell_type": "markdown",
   "id": "6e1434c1",
   "metadata": {},
   "source": [
    "This is an example of when deterministic and indeterministic procedures achieve the same perceptual result.\n",
    "\n",
    "This happens when deterministic procedures provide too many similar variations making them indistinguishable from each other.\n",
    "\n",
    "As can be intuited from some of the examples the most musically interesting results are obtained by combining different variation techniques. \n",
    "\n",
    "For a single parameter and in the combination of different parameters."
   ]
  },
  {
   "cell_type": "markdown",
   "id": "51491cd7",
   "metadata": {},
   "source": [
    "* phasing $\\rightarrow$ use arrays of different lengths for the parameters.\n",
    "  \n",
    "  Replace the .at() method with .wrapAt() or foldAt().\n",
    "\n",
    "  Look at Array help files what they do."
   ]
  },
  {
   "cell_type": "code",
   "execution_count": null,
   "id": "d38d8b27",
   "metadata": {
    "vscode": {
     "languageId": "python"
    }
   },
   "outputs": [],
   "source": [
    "~evt  = 40;\n",
    "~ptch = [60, 75, nil, 76, 79, 92, nil, 70];\n",
    "~rhyt = [ 8, 16,  16, 16,  8, 4];\n",
    "~exp  = [80, nil, nil,nil, nil,  30, nil, nil, nil];\n",
    "\n",
    "~ptch = ~evt.collect({arg i; ~ptch.wrapAt(i)}).flat;\n",
    "~rseq = ~evt.collect({arg i; ~rhyt.foldAt(i)}).flatten(1);\n",
    "~vseq = ~evt.collect({arg i; ~acc.wrapAt(i)}).flat;\n",
    "\n",
    "~print.(~ptch, ~rseq, ~exp);"
   ]
  },
  {
   "cell_type": "markdown",
   "id": "f99bfb44",
   "metadata": {},
   "source": [
    "In the Array help file we can find further examples of operations on sequences of symbols that can easily be applied to the parameters taken into consideration."
   ]
  },
  {
   "cell_type": "markdown",
   "id": "cc44ef71",
   "metadata": {},
   "source": [
    "## Harmonic fields <a id=\"harm\"></a> \n",
    "\n",
    "In harmonic systems interval patterns that define the type of chord are built on scale degrees:\n",
    "* tonica $\\rightarrow$ I degree. \n",
    "* mediante $\\rightarrow$ III degree.\n",
    "* dominante $\\rightarrow$ V degree, \n",
    "* etc."
   ]
  },
  {
   "cell_type": "code",
   "execution_count": 5,
   "id": "83ac1007",
   "metadata": {
    "vscode": {
     "languageId": "python"
    }
   },
   "outputs": [
    {
     "name": "stdout",
     "output_type": "stream",
     "text": [
      "-> a Routine"
     ]
    }
   ],
   "source": [
    "// degree   I       II      III      IV       V         VI        VII\n",
    "~triadi = [[0,4,7],[2,5,9],[4,7,11],[5,9,12],[7,11,14],[9,12,16],[11,14,17]];\n",
    "~root   = 60;\n",
    "\n",
    "~print.(~triadi + ~root,[4])"
   ]
  },
  {
   "cell_type": "markdown",
   "id": "99f97dec",
   "metadata": {},
   "source": [
    "The basic chords are made up of three notes $\\rightarrow$ triads. \n",
    "\n",
    "In many harmonic systems one of them is doubled $\\rightarrow$ four notes.\n",
    "\n",
    "There are also chords made up of four or more notes without doubling (seventh, ninth, eleventh and thirteenth chords)."
   ]
  },
  {
   "cell_type": "code",
   "execution_count": 79,
   "id": "8c9e22c9",
   "metadata": {
    "vscode": {
     "languageId": "python"
    }
   },
   "outputs": [
    {
     "name": "stdout",
     "output_type": "stream",
     "text": [
      "-> a Routine"
     ]
    }
   ],
   "source": [
    "~settime = [[0,4,7,11],[2,5,9,12],[4,7,11,14],[5,9,12,16],\n",
    "            [7,11,14,17],[9,12,16,19],[11,14,17,21]];\n",
    "~root   = 60;\n",
    "\n",
    "~print.(~settime + ~root,[2])"
   ]
  },
  {
   "cell_type": "markdown",
   "id": "f3ca8c99",
   "metadata": {},
   "source": [
    "### Chord database <a id=\"chord\"></a>\n",
    "\n",
    "We define the function '~chord' which contains a database of interval patterns of the language we want to use.\n",
    "\n",
    "To allow for the use of seventh chords and to even out the voicing, we use four-note chords.\n",
    "\n",
    "Arguments:\n",
    "* root note.\n",
    "* chord sigle.\n",
    "\n",
    "Output $\\rightarrow$ array of midi notes obtained by mapping the acronym to the corresponding interval pattern."
   ]
  },
  {
   "cell_type": "code",
   "execution_count": 2,
   "id": "1abd5a46",
   "metadata": {
    "vscode": {
     "languageId": "python"
    }
   },
   "outputs": [
    {
     "name": "stdout",
     "output_type": "stream",
     "text": [
      "-> a Function"
     ]
    }
   ],
   "source": [
    "~chord = {arg root, type;\n",
    "          var intv;\n",
    "              intv = (\n",
    "                      maj:    [0, 4, 7, 12],\n",
    "                      maj7:   [0, 4, 7, 11],\n",
    "                      maj6:   [0, 4, 7,  9],\n",
    "                      maj9:   [0, 4, 7, 14],\n",
    "                      min:    [0, 3, 7, 12],\n",
    "                      min7:   [0, 3, 7, 10],\n",
    "                      min6:   [0, 4, 7, 9],\n",
    "                      min9:   [0, 3, 7, 14],\n",
    "                      dom7:   [0, 4, 7, 10],\n",
    "                      dom9:   [0, 4, 7, 14],\n",
    "                      ecc:    [0, 4, 8, 12],\n",
    "                      dim:    [0, 3, 6, 12],\n",
    "                      dim7:   [0, 3, 6, 9]\n",
    "                      )[type];\n",
    "          intv.collect({arg i; root + i});\n",
    "          };"
   ]
  },
  {
   "cell_type": "markdown",
   "id": "3fa28330",
   "metadata": {},
   "source": [
    "Choose a chord sigle and a root note."
   ]
  },
  {
   "cell_type": "code",
   "execution_count": 7,
   "id": "2820f708",
   "metadata": {
    "vscode": {
     "languageId": "python"
    }
   },
   "outputs": [
    {
     "name": "stdout",
     "output_type": "stream",
     "text": [
      "-> a Function"
     ]
    }
   ],
   "source": [
    "~ptch = ~chord.(60, \\min9);\n",
    "\n",
    "~print.([~ptch], [2]);"
   ]
  },
  {
   "cell_type": "markdown",
   "id": "d11141b7",
   "metadata": {},
   "source": [
    "We can apply a chord pattern to all degrees of a scale, creating an harmonic progression."
   ]
  },
  {
   "cell_type": "code",
   "execution_count": 3,
   "id": "80173a1a",
   "metadata": {
    "vscode": {
     "languageId": "python"
    }
   },
   "outputs": [
    {
     "name": "stdout",
     "output_type": "stream",
     "text": [
      "-> a Routine"
     ]
    }
   ],
   "source": [
    "~progClassic = [~chord.(60, \\maj),\n",
    "                ~chord.(64, \\min),\n",
    "                ~chord.(67, \\dom7),\n",
    "                ~chord.(69, \\min7),\n",
    "                ~chord.(62, \\dom7),\n",
    "                ~chord.(67, \\dom7),\n",
    "                ~chord.(60, \\min),\n",
    "                ~chord.(65, \\dom7),\n",
    "                ~chord.(58, \\maj),\n",
    "                ~chord.(71, \\dim),\n",
    "                ~chord.(72, \\maj),\n",
    "                ~chord.(60, \\maj),\n",
    "                ];\n",
    "\n",
    "~print.(~progClassic, [4]);"
   ]
  },
  {
   "cell_type": "markdown",
   "id": "abff4c55",
   "metadata": {},
   "source": [
    "A little more jazzy."
   ]
  },
  {
   "cell_type": "code",
   "execution_count": 4,
   "id": "6867c243",
   "metadata": {
    "vscode": {
     "languageId": "python"
    }
   },
   "outputs": [
    {
     "name": "stdout",
     "output_type": "stream",
     "text": [
      "-> a Routine"
     ]
    }
   ],
   "source": [
    "~progJazzy=[~chord.(60, \\maj7),\n",
    "            ~chord.(65, \\maj6),\n",
    "            ~chord.(68, \\min7),\n",
    "            ~chord.(67, \\dom7),\n",
    "            ~chord.(73, \\min6),\n",
    "            ~chord.(68, \\maj7),\n",
    "            ~chord.(60, \\min9),\n",
    "            ~chord.(63, \\maj6),\n",
    "            ~chord.(57, \\dim),\n",
    "            ~chord.(54, \\maj9),\n",
    "            ~chord.(63, \\min),        \n",
    "            ~chord.(60, \\maj7),\n",
    "            ];\n",
    "                 \n",
    "~print.(~progJazzy, [4]);"
   ]
  },
  {
   "cell_type": "markdown",
   "id": "41760baf",
   "metadata": {},
   "source": [
    "### Voicing <a id=\"voicing\"></a>\n",
    "\n",
    "In the previous sequences all chords are presented in close voicing form.\n",
    "\n",
    "Intervals between the highest and lowest notes is relatively small, usually within an octave.\n",
    "\n",
    "All chords can also assume the open voicing configuration.\n",
    "\n",
    "Intervals are spanned over multiple octaves.\n",
    "\n",
    "We change the shape of a chord from close to open voicing."
   ]
  },
  {
   "cell_type": "code",
   "execution_count": 6,
   "id": "dd64e783",
   "metadata": {
    "vscode": {
     "languageId": "python"
    }
   },
   "outputs": [
    {
     "name": "stdout",
     "output_type": "stream",
     "text": [
      "-> a Function"
     ]
    }
   ],
   "source": [
    "~voicing = {arg note=[60,64,67,72], octave = [-1,0,-1,0];\n",
    "                note.collect({arg note, i;\n",
    "                              octave[i]*12 + note})\n",
    "            };"
   ]
  },
  {
   "cell_type": "markdown",
   "id": "8e730b6d",
   "metadata": {},
   "source": [
    "Test it."
   ]
  },
  {
   "cell_type": "code",
   "execution_count": 11,
   "id": "e207f7ed",
   "metadata": {
    "vscode": {
     "languageId": "python"
    }
   },
   "outputs": [
    {
     "name": "stdout",
     "output_type": "stream",
     "text": [
      "-> a Function"
     ]
    }
   ],
   "source": [
    "~closed = ~chord.(60, \\maj);                 \n",
    "~open   = ~voicing.(~closed, [-1,0,-1,0]); \n",
    "\n",
    "~print.([~closed, ~open],[2])"
   ]
  },
  {
   "cell_type": "markdown",
   "id": "dbd71669",
   "metadata": {},
   "source": [
    "In both forms chords are in the root state and proceed in parallel motion.\n",
    "\n",
    "In classical harmony, a chord can be represented in an inversion.\n",
    "\n",
    "Inversions are obtained by transposing one of the chord's notes up an octave.\n",
    "\n",
    "In a three-note chord, there are three possible inversions, in a four-note chord, four, and so on.\n",
    "\n",
    "We can use the same function."
   ]
  },
  {
   "cell_type": "code",
   "execution_count": 12,
   "id": "d13bc196",
   "metadata": {
    "vscode": {
     "languageId": "python"
    }
   },
   "outputs": [
    {
     "name": "stdout",
     "output_type": "stream",
     "text": [
      "-> a Routine"
     ]
    }
   ],
   "source": [
    "~fond   = ~chord.(60, \\maj);                 \n",
    "~first  = ~voicing.(~fond, [1,0,0,0]); \n",
    "~second = ~voicing.(~fond, [1,1,0,0]); \n",
    "\n",
    "~print.([~fond, ~first, ~second],[2])"
   ]
  },
  {
   "cell_type": "markdown",
   "id": "3f763415",
   "metadata": {},
   "source": [
    "In pop and jazz, there are various techniques for creating inversions.\n",
    "\n",
    "The most commonly used are:\n",
    "* drop 2 $\\rightarrow$ transpose one octave below the second note from the top.\n",
    "* drop 3 $\\rightarrow$ transpose one octave below the third note from the top.\n",
    "\n",
    "Chords in these forms appear fuller and more rounded than their root form.\n",
    "\n",
    "These techniques combine the concepts of inversion and close-open voicing.\n",
    "\n",
    "Let's define two functions that realize them."
   ]
  },
  {
   "cell_type": "code",
   "execution_count": 5,
   "id": "33efc106",
   "metadata": {
    "vscode": {
     "languageId": "python"
    }
   },
   "outputs": [
    {
     "name": "stdout",
     "output_type": "stream",
     "text": [
      "-> a Function"
     ]
    }
   ],
   "source": [
    "~drop2={arg chord;\n",
    "        var sorted, dropNote, newVoicing;\n",
    "            sorted     = chord.sort;\n",
    "            dropNote   = sorted[2];    // 2nd highest\n",
    "            newVoicing = sorted.copy;\n",
    "            newVoicing[2] = dropNote - 12;\n",
    "            newVoicing.sort;\n",
    "        };\n",
    "\n",
    "~drop3={arg chord;\n",
    "        var sorted, dropNote, newVoicing;\n",
    "            sorted = chord.sort;\n",
    "            dropNote = sorted[1]; // 3rd highest\n",
    "            newVoicing = sorted.copy;\n",
    "            newVoicing[1] = dropNote - 12;\n",
    "            newVoicing.sort;\n",
    "        };"
   ]
  },
  {
   "cell_type": "markdown",
   "id": "61ebf770",
   "metadata": {},
   "source": [
    "Test it."
   ]
  },
  {
   "cell_type": "code",
   "execution_count": 14,
   "id": "15937005",
   "metadata": {
    "vscode": {
     "languageId": "python"
    }
   },
   "outputs": [
    {
     "name": "stdout",
     "output_type": "stream",
     "text": [
      "-> a Function"
     ]
    }
   ],
   "source": [
    "~fond = ~chord.(72, \\maj6);\n",
    "~d2   = ~drop2.(~fond);\n",
    "~d3   = ~drop3.(~fond);\n",
    "\n",
    "~print.([~fond,~d2,~d3], [2])"
   ]
  },
  {
   "cell_type": "markdown",
   "id": "3f95890b",
   "metadata": {},
   "source": [
    "These two techniques work well with typical jazz harmonies, but they don't work with classical harmonic progressions because they keep the voices moving in parallel.\n",
    "\n",
    "Let's transform the previous jazzy progression into open voicing (drop 3)."
   ]
  },
  {
   "cell_type": "code",
   "execution_count": 15,
   "id": "5d351b05",
   "metadata": {
    "vscode": {
     "languageId": "python"
    }
   },
   "outputs": [
    {
     "name": "stdout",
     "output_type": "stream",
     "text": [
      "-> a Routine"
     ]
    }
   ],
   "source": [
    "~prog = ~progJazzy.collect({arg i; ~drop3.(i)});\n",
    "                 \n",
    "~print.(~prog, [4]);"
   ]
  },
  {
   "cell_type": "markdown",
   "id": "dd793dbd",
   "metadata": {},
   "source": [
    "Make a progression more dynamic by randomly choosing the shape of each chord."
   ]
  },
  {
   "cell_type": "code",
   "execution_count": 16,
   "id": "5bf2b9c5",
   "metadata": {
    "vscode": {
     "languageId": "python"
    }
   },
   "outputs": [
    {
     "name": "stdout",
     "output_type": "stream",
     "text": [
      "-> a Routine"
     ]
    }
   ],
   "source": [
    "~prog = ~progJazzy.collect({arg i; \n",
    "                       d = rand(3);\n",
    "                       switch(d,\n",
    "                              0, {i},\n",
    "                              1, {~drop2.(i)},\n",
    "                              2, {~drop3.(i)})\n",
    "                       });\n",
    "                 \n",
    "~print.(~prog, [4]);"
   ]
  },
  {
   "cell_type": "markdown",
   "id": "87bb6267",
   "metadata": {},
   "source": [
    "### Voice-leading <a id=\"voice-leading\"></a>\n",
    "\n",
    "Voice leading seeks to:\n",
    "\n",
    "* Minimize pitch distance between successive notes in each voice,\n",
    "* Preserve common tones (same note between chords),\n",
    "* Avoid big leaps (> octave) unless musically justified,\n",
    "* Maintain a consistent order: low → high (no voice crossing).\n",
    "\n",
    "Let's define a function that realizes it between two chords."
   ]
  },
  {
   "cell_type": "code",
   "execution_count": null,
   "id": "add8e5bf",
   "metadata": {
    "vscode": {
     "languageId": "python"
    }
   },
   "outputs": [
    {
     "name": "stdout",
     "output_type": "stream",
     "text": [
      "-> a Function"
     ]
    }
   ],
   "source": [
    "~vLead = {arg ch1, ch2;\n",
    "          var result, octVar;\n",
    "              result = List.new;\n",
    "              octVar = {arg note; [note - 12, note, note + 12]};\n",
    "              ch2.do({arg note, i;\n",
    "                      var cand, best;\n",
    "                          cand = octVar.(note);\n",
    "                          best = cand.sortMap({arg n; (n - ch1[i]).abs}).first;\n",
    "                      result.add(best) });\n",
    "              result \n",
    "        };"
   ]
  },
  {
   "cell_type": "markdown",
   "id": "6d2e4a9d",
   "metadata": {},
   "source": [
    "Test it."
   ]
  },
  {
   "cell_type": "code",
   "execution_count": 15,
   "id": "b302fae3",
   "metadata": {
    "vscode": {
     "languageId": "python"
    }
   },
   "outputs": [
    {
     "name": "stdout",
     "output_type": "stream",
     "text": [
      "-> a Routine"
     ]
    }
   ],
   "source": [
    "a = [~chord.(60, \\maj7), ~chord.(71, \\maj6)];\n",
    "b = ~vLead.(a[0],a[1]);\n",
    "\n",
    "~print.(a++[a[0]]++[b],[2]);"
   ]
  },
  {
   "cell_type": "markdown",
   "id": "a79aa370",
   "metadata": {},
   "source": [
    "Let's apply the function to a chords sequence."
   ]
  },
  {
   "cell_type": "code",
   "execution_count": 14,
   "id": "ec72d657",
   "metadata": {
    "vscode": {
     "languageId": "python"
    }
   },
   "outputs": [
    {
     "name": "stdout",
     "output_type": "stream",
     "text": [
      "-> a Routine"
     ]
    }
   ],
   "source": [
    "~prevSeq   = ~progJazzy;        // Starting sequence\n",
    "~prevChord = ~prevSeq[0];       // First chord (midi notes)\n",
    "~voicedSeq = [~prevChord];      // Put it in final sequence\n",
    "\n",
    "~prevSeq.drop(1).do{arg nextChord; // Start from second chord\n",
    "                    var voiced;                           \n",
    "                        voiced     = ~vLead.(~prevChord, nextChord); \n",
    "                        ~voicedSeq = ~voicedSeq.add(voiced); \n",
    "                        ~prevChord = voiced; \n",
    "                    };\n",
    "\n",
    "~print.(~prevSeq ++ ~voicedSeq,[4]);"
   ]
  },
  {
   "cell_type": "markdown",
   "id": "16ab2ff1",
   "metadata": {},
   "source": [
    "The algorithm just described works well with jazz and pop harmonies but is less effective when applying traditional harmony rules.\n",
    "\n",
    "We'll refine the algorithm by adding a function that searches for common notes between two chords.\n",
    "\n",
    "If present, the common notes are also transposed to the octave of the first chord."
   ]
  },
  {
   "cell_type": "code",
   "execution_count": 11,
   "id": "e6aeba9d",
   "metadata": {
    "vscode": {
     "languageId": "python"
    }
   },
   "outputs": [
    {
     "name": "stdout",
     "output_type": "stream",
     "text": [
      "-> a Function"
     ]
    }
   ],
   "source": [
    "~vLeadC= {arg ch1, ch2;\n",
    "          var result, remain, octVar;\n",
    "              result = List.new;\n",
    "              remain = ch2.copy;\n",
    "              octVar = {arg note; [note-12, note, note+12]};\n",
    "          ch1.do({arg note1; \n",
    "                  var intv, common;\n",
    "                      intv   = note1 % 12;\n",
    "                      common = remain.detect({arg n; (n % 12) == intv});\n",
    "                      if(common.notNil)\n",
    "                      {result.add(common);\n",
    "                       remain = remain.reject({arg n; n == common})} });\n",
    "          ch1.do({arg note1; \n",
    "                  var best, cand, baseNote, octaveShift;\n",
    "                  if(result.collect({arg n; n%12}).includes(note1%12)==false) \n",
    "                      {cand = remain.collect({arg n; octVar.(n)}).flat;\n",
    "                       cand = cand.sortMap({arg cand; (cand - note1).abs});\n",
    "                       best = cand.detect({arg cand;\n",
    "                       remain.includes(cand%12 + (cand-(cand%12))) || true});\n",
    "                       best = cand.first;\n",
    "                       baseNote = remain.detect({arg n; (n%12)==(best%12) });\n",
    "                       octaveShift = best - baseNote;\n",
    "                       result.add(baseNote + octaveShift);\n",
    "                       remain = remain.reject({arg n; n == baseNote });\n",
    "                       } });\n",
    "          result };"
   ]
  },
  {
   "cell_type": "markdown",
   "id": "7ed97884",
   "metadata": {},
   "source": [
    "Test it."
   ]
  },
  {
   "cell_type": "code",
   "execution_count": 13,
   "id": "9857ad0d",
   "metadata": {
    "vscode": {
     "languageId": "python"
    }
   },
   "outputs": [
    {
     "name": "stdout",
     "output_type": "stream",
     "text": [
      "-> a Routine"
     ]
    }
   ],
   "source": [
    "a = [~chord.(60, \\maj7), ~chord.(71, \\maj6)];\n",
    "b = ~vLeadC.(a[0],a[1]);\n",
    "\n",
    "~print.(a++[a[0]]++[b],[2]);"
   ]
  },
  {
   "cell_type": "markdown",
   "id": "0286d1ee",
   "metadata": {},
   "source": [
    "Test it with a chords sequence."
   ]
  },
  {
   "cell_type": "code",
   "execution_count": 96,
   "id": "d755208e",
   "metadata": {
    "vscode": {
     "languageId": "python"
    }
   },
   "outputs": [
    {
     "name": "stdout",
     "output_type": "stream",
     "text": [
      "-> a Routine"
     ]
    }
   ],
   "source": [
    "~prevSeq   = ~progClassic.collect({arg i;  ~voicing.(i, [-1,0,-1,0])}); // Starting sequence\n",
    "~prevChord = ~prevSeq[0];       // First chord (midi notes)\n",
    "~voicedSeq = [~prevChord];      // Put it in final sequence\n",
    "\n",
    "~prevSeq.drop(1).do{arg nextChord; // Start from second chord\n",
    "                    var voiced     = ~vLeadC.(~prevChord, nextChord); \n",
    "                        ~voicedSeq = ~voicedSeq.add(voiced);         \n",
    "                        ~prevChord = voiced; \n",
    "                    };\n",
    "\n",
    "~print.(~prevSeq ++ ~voicedSeq,[4]);"
   ]
  },
  {
   "cell_type": "markdown",
   "id": "62644108",
   "metadata": {},
   "source": [
    "By applying voicing, dropping, and voice-leading, we can generate variations in chord sequences while maintaining musical coherence and unity.\n",
    "\n",
    "We can apply rhythms and all the variations illustrated above."
   ]
  },
  {
   "cell_type": "code",
   "execution_count": 97,
   "id": "8bffcb61",
   "metadata": {
    "vscode": {
     "languageId": "python"
    }
   },
   "outputs": [
    {
     "name": "stdout",
     "output_type": "stream",
     "text": [
      "-> a Routine"
     ]
    }
   ],
   "source": [
    "~prevSeq   = ~progJazzy.collect({arg i;  ~drop3.(i)}); // Starting sequence\n",
    "~prevChord = ~prevSeq[0];       // First chord (midi notes)\n",
    "~voicedSeq = [~prevChord];      // Put it in final sequence\n",
    "\n",
    "~prevSeq.drop(1).do{arg nextChord; // Start from second chord\n",
    "                    var voiced     = ~vLeadC.(~prevChord, nextChord); \n",
    "                        ~voicedSeq = ~voicedSeq.add(voiced);         \n",
    "                        ~prevChord = voiced; \n",
    "                    };\n",
    "\n",
    "~rhythm = [4,16,8,16,8,8,4,4];\n",
    "~print.(~prevSeq ++ ~voicedSeq,~rhythm);"
   ]
  },
  {
   "cell_type": "markdown",
   "id": "25b60da6",
   "metadata": {},
   "source": [
    "An example of further variations in the construction of a chord sequence can be represented by the use of a random-walk."
   ]
  },
  {
   "cell_type": "code",
   "execution_count": 16,
   "id": "8782fec0",
   "metadata": {
    "vscode": {
     "languageId": "python"
    }
   },
   "outputs": [
    {
     "name": "stdout",
     "output_type": "stream",
     "text": [
      "-> a Routine"
     ]
    }
   ],
   "source": [
    "~chWalk = {arg chords, n=10;\n",
    "           var idx = 0;\n",
    "               n.collect({ \n",
    "                          var ch, walk;               \n",
    "                              ch = chords[idx];\n",
    "                              walk = [ -1, 0, 1 ].wchoose([0.4, 0.2, 0.4])\n",
    "                                                 .clip(0, chords.size-1);\n",
    "                              idx  = idx + walk;\n",
    "                              ch;\n",
    "                        })\n",
    "            };\n",
    "\n",
    "~voicedSeq = ~chWalk.(~progJazzy,25);\n",
    "~rhy       = 10.collect({[16,8,16].scramble}).flat;\n",
    "\n",
    "~print.(~voicedSeq,~rhy);"
   ]
  },
  {
   "cell_type": "markdown",
   "id": "6de9671d",
   "metadata": {},
   "source": [
    "### Melodies <a id=\"melodies\"></a>\n",
    "\n",
    "In harmonic systems, melodic lines are based on chord progressions.\n",
    "\n",
    "We must somehow \"extract\" a possible melody from a defined chord sequence.\n",
    "\n",
    "To do this automatically, we can use various algorithms.\n",
    "\n",
    "Once we have obtained the monodic arrays, we can apply all the techniques illustrated previously for any kind of variations."
   ]
  },
  {
   "cell_type": "markdown",
   "id": "328cabc1",
   "metadata": {},
   "source": [
    "#### Top note \n",
    "\n",
    "The simplest."
   ]
  },
  {
   "cell_type": "code",
   "execution_count": 99,
   "id": "02bac752",
   "metadata": {
    "vscode": {
     "languageId": "python"
    }
   },
   "outputs": [
    {
     "name": "stdout",
     "output_type": "stream",
     "text": [
      "-> a Routine"
     ]
    }
   ],
   "source": [
    "~meloTop = ~progJazzy.collect({arg chord; chord.maxItem});\n",
    "~exp     = [120, nil, nil,100, nil,  30, nil, nil, nil].scramble;\n",
    "\n",
    "~print.(~meloTop++~progJazzy,[16],~exp);"
   ]
  },
  {
   "cell_type": "markdown",
   "id": "79ebb1b8",
   "metadata": {},
   "source": [
    "#### Random note \n",
    "\n",
    "The classic."
   ]
  },
  {
   "cell_type": "code",
   "execution_count": 100,
   "id": "a1bc636c",
   "metadata": {
    "vscode": {
     "languageId": "python"
    }
   },
   "outputs": [
    {
     "name": "stdout",
     "output_type": "stream",
     "text": [
      "-> a Routine"
     ]
    }
   ],
   "source": [
    "~meloRand = ~progJazzy.collect({arg chord; chord.choose});\n",
    "~exp     = [120, nil, nil,100, nil,  30, nil, nil, nil];\n",
    "\n",
    "~print.(~meloRand++~progJazzy,[16],~exp);"
   ]
  },
  {
   "cell_type": "markdown",
   "id": "5a3dcf90",
   "metadata": {},
   "source": [
    "#### Arpeggiating notes\n",
    "The complete."
   ]
  },
  {
   "cell_type": "code",
   "execution_count": 104,
   "id": "1c509e21",
   "metadata": {
    "vscode": {
     "languageId": "python"
    }
   },
   "outputs": [
    {
     "name": "stdout",
     "output_type": "stream",
     "text": [
      "-> a Routine"
     ]
    }
   ],
   "source": [
    "~meloArp = ~progJazzy.collect({arg chord; chord.scramble}).flat; \n",
    "~exp     = [120, nil, nil,100, nil,  30, nil, nil, nil];\n",
    "\n",
    "~print.(~meloArp++~progJazzy,[16],~exp, 96);"
   ]
  },
  {
   "cell_type": "markdown",
   "id": "5a67246f",
   "metadata": {},
   "source": [
    "#### Voice-leading style melody generator\n",
    "\n",
    "A version that tries to move by small intervals into the next chord."
   ]
  },
  {
   "cell_type": "code",
   "execution_count": 17,
   "id": "da9769d9",
   "metadata": {
    "vscode": {
     "languageId": "python"
    }
   },
   "outputs": [
    {
     "name": "stdout",
     "output_type": "stream",
     "text": [
      "-> a Routine"
     ]
    }
   ],
   "source": [
    "~vLeadMel = {arg chord, n = 10;\n",
    "             var lastNote = 60, nextNote;               \n",
    "                 nextNote = chord.sort\n",
    "                                 .minItem({arg n; (n-lastNote).abs});\n",
    "                 lastNote = nextNote };\n",
    "\n",
    "~melo = ~progJazzy.collect({arg ch; ~vLeadMel.(ch, ~noteForChord)}).flat;\n",
    "~rhy  = 3.collect({[16,8,16].scramble}).flat;\n",
    "~exp  = [120, nil, nil,100, nil,  30, nil, nil, nil].scramble;\n",
    "\n",
    "~print.(~melo++~progJazzy,~rhy,~exp);"
   ]
  },
  {
   "cell_type": "markdown",
   "id": "feba59e7",
   "metadata": {},
   "source": [
    "Adding probabilistic movement around the “closest” tone.\n",
    "\n",
    "It doesn’t always take the strict nearest note creating more variations."
   ]
  },
  {
   "cell_type": "code",
   "execution_count": 18,
   "id": "fe0db15c",
   "metadata": {
    "vscode": {
     "languageId": "python"
    }
   },
   "outputs": [
    {
     "name": "stdout",
     "output_type": "stream",
     "text": [
      "-> a Routine"
     ]
    }
   ],
   "source": [
    "~vLeadMel2 = {arg chord, n = 10;\n",
    "              var lastNote = 60, nextNote;\n",
    "                  if(0.8.coin) \n",
    "                  {nextNote = chord.sort\n",
    "                                   .minItem({arg n; (n-lastNote).abs})} \n",
    "                  {nextNote = chord.choose};\n",
    "                  lastNote = nextNote };\n",
    "\n",
    "~melo = ~progJazzy.collect({arg ch; ~vLeadMel2.(ch, ~noteForChord) }).flat;\n",
    "~rhy  = 3.collect({[16,8,16].scramble}).flat;\n",
    "~exp  = [120, nil, nil,100, nil,  30, nil, nil, nil].scramble;\n",
    "\n",
    "~print.(~melo++~progJazzy,~rhy,~exp, 80);"
   ]
  },
  {
   "cell_type": "markdown",
   "id": "f4a70320",
   "metadata": {},
   "source": [
    "Passing notes between chords\n",
    "\n",
    "If you want it to “walk” through stepwise notes between chord changes instead of jumping only to chord tones you can interpolate."
   ]
  },
  {
   "cell_type": "code",
   "execution_count": null,
   "id": "0a8f26b1",
   "metadata": {
    "vscode": {
     "languageId": "python"
    }
   },
   "outputs": [
    {
     "name": "stdout",
     "output_type": "stream",
     "text": [
      "-> a Routine"
     ]
    }
   ],
   "source": [
    "~melodyWalk = {arg chords, n = 10;\n",
    "               var lastNote, idx;\n",
    "                   lastNote = 60;\n",
    "                   idx = 0;\n",
    "\n",
    "    n.collect({var chord, nextChordNote,step,nextNote;\n",
    "                chord = chords[idx];  \n",
    "                nextChordNote = chord.sort.minItem({arg n; (n - lastNote).abs});\n",
    "                step = (nextChordNote - lastNote).sign;\n",
    "                nextNote = if((lastNote != nextChordNote) and: {0.7.coin}) \n",
    "                             {lastNote + step }  // take step\n",
    "                             {nextChordNote};\n",
    "\n",
    "                lastNote = nextNote;\n",
    "                idx = (idx + 1) % chords.size;\n",
    "                nextNote;\n",
    "            })\n",
    "};\n",
    "\n",
    "~prevSeq = ~progClassic.collect({arg i;  ~drop3.(i)}); // Starting sequence\n",
    "~melo    = ~melodyWalk.(~prevSeq);\n",
    "~rhy     = 3.collect({[16,8,16,4].scramble}).flat;\n",
    "~exp     = [120, nil, nil,100, nil,  30, nil, nil, nil].scramble;\n",
    "\n",
    "~print.(~melo++~prevSeq,~rhy,~exp, 52);"
   ]
  },
  {
   "cell_type": "markdown",
   "id": "7255582b",
   "metadata": {},
   "source": [
    "# Composition sketches proposal <a id=\"esercizi_3\"></a>\n",
    "\n",
    "1. Sketch a formal scheme  (A B A or other) divided into sections and measures.\n",
    "2. Define a basic chord sequence (theme).\n",
    "3. Create a database of variations of the basic sequence, saving them as MIDI files.\n",
    "   - diversify the vocal lines.\n",
    "   - apply variations.\n",
    "   - transpose it.\n",
    "4. Assemble the individual files in scoring software (MuseScore, Sibelius, or other) or in a MIDI sequencer according to the formal scheme in point 1.\n",
    "5. Extract melodies from the harmonic scheme and, if necessary, create melodic variations.\n",
    "6. Assemble everything in scoring software or sequencers to create the complete score."
   ]
  }
 ],
 "metadata": {
  "kernelspec": {
   "display_name": "SuperCollider",
   "language": "",
   "name": "sc_kernel"
  },
  "language_info": {
   "file_extension": ".scd",
   "mimetype": "text/x-sclang",
   "name": "smalltalk",
   "pygments_lexer": "supercollider"
  }
 },
 "nbformat": 4,
 "nbformat_minor": 5
}
