{
 "cells": [
  {
   "cell_type": "markdown",
   "id": "e9dde309",
   "metadata": {},
   "source": [
    "[INDEX](../indice.ipynb) \n",
    "\n",
    "* [Historical framework](#histo3)\n",
    "* [Software installation](#installazione) \n",
    "* [Symbolic musical representation and numbers](#simboli) \n",
    "    - [Pitch](#pitch) \n",
    "    - [Rhythm](#ritmo) \n",
    "    - [Dynamic](#dinamica) \n",
    "    - [Collections](#collection) \n",
    "    - [Live](#live) \n",
    "* [Generative techniques and processes](#tecniche)\n",
    "    - [Modes and scales](#moscale) IMPOSTATO FAI DA QUA\n",
    "        - [Scale](#scale)\n",
    "        - [Incises and sequences](#incise)\n",
    "        - [Melodic varitions](#varmel)\n",
    "        - [Rhytmic variations](#varythm)\n",
    "        - [Accents](#accents)\n",
    "    - [Harmonic fields](#harm)\n",
    "    - [XIX sec. music](#conte)\n",
    "* [Composition sketches proposal](#esercizi_3) "
   ]
  },
  {
   "cell_type": "markdown",
   "id": "b51c48c5",
   "metadata": {},
   "source": [
    "# Historical framework <a id='histo3'></a> \n",
    "\n",
    "The first piece of music actually written by an electronic computer is the 'Illiac Suite' in 1956 at Illinois University.\n",
    "\n",
    "Differently from computer music illustred in previous chapter in this case the computer did not generate the waveform but a symbolic representation of the musical parameters to be transcribed into a musical score.\n",
    "\n",
    "This work was an experiment to test various algorithms for composition.\n",
    "\n",
    "<!---<center><img src=\"img/close.png\" width=\"10%\"></center>--->\n",
    "\n",
    "<div style=\"width:90%; margin-left: 0; margin-right: auto\">\n",
    "\n",
    "![](img/illiac.png)\n",
    "   \n",
    "</div> \n",
    "\n",
    "1. Random music $\\rightarrow$ no rules.\n",
    "2. Skip-stepwise rule $\\rightarrow$ no more than one repeated note.\n",
    "3. Cantus firmus starts on C with C chord for opening $\\rightarrow$ cadence on C with leading tone in one of the four voices $\\rightarrow$ resolution f tritone in VII-6, e.g. F/B must resolve to E/C.\n",
    "4. Octave-range rule.\n",
    "5. Only consonant chords permitted except for 6-4 chords $\\rightarrow$ harmonic subroutine added.\n",
    "6. Parallel unisons, octaves, fifths and fourths still permitted $\\rightarrow$ melodic subroutine added.\n",
    "7. Parallel fourths, 6-4 chords containing tenth still permitted.\n",
    "8. Best counterpoint.\n",
    "\n",
    "Another important composer in the development of algorithmic music was the Greek composer (naturalized french) Iannis Xenakis.\n",
    "\n",
    "He used formulas developed by scientists to describe the behavior of particles in gases.\n",
    "\n",
    "He saw his stochastic compositions as clouds of sound with individual notes as the analogue of gas particles organizing in this way clouds of notes.\n",
    "\n",
    "The choice and distribution of notes was determined by procedures involving random choice, probability tables weighing the occurrence of specific events against those of others.\n",
    "\n",
    "Pithoprakta for Orchestra (1955-56)\n",
    "\n",
    "<center><video width=\"40%\" controls src=\"suoni/xen1.mp4\"></video></center>\n",
    "\n",
    "Another composer involved in this fields was Gottfried Michael Koenig that worked at the Utrecht University Institute of Sonology and wrote about his Project 1 software:\n",
    "\n",
    "\"Project 1 is based on the findings of serial composition technique, and aims at the experimental experience of chance-governed constellations of parameter values. Chance, in this instance, replaces the permutations to which the serial composer was accustomed to subjecting rows, the consequences of which action for the resulting constellations of material was scarcely more predictable than in the case of aleatoric manipulations. Just as serial technique soon abandoned the \"pointillist\" style in order to apply the organizational principle to pre-formed units, \"groups\", the idea behind Project 1 likewise assumes that the unpredictability of chance will be neutralized by given lists of material and the appropriate selection of items from the lists, in order to facilitate the formation of medium-sized and larger form categories.\"\n",
    "\n",
    "In more recent times and outside the academic environment a composer like Brian Eno writes:\n",
    "\n",
    "\"Since I have always preferred making plans to executing them, I have gravitated towards situations and systems that, once set into operation, could create music with little or no intervention on my part. That is to say, I tend towards the roles of planner and programmer, and then become an audience to the results.\"\n",
    "\n",
    "Nowadays it is one of the most explored artistic fields in the field of generative artificial intelligence."
   ]
  },
  {
   "cell_type": "markdown",
   "id": "925b87db",
   "metadata": {},
   "source": [
    "# Software installation <a id='installazione'></a> \n",
    "\n",
    "In addition to SuperCollider and sc_kernel (optional) install:\n",
    "* [Lilypond](https://lilypond.org/) \n",
    "* [Fosc](https://github.com/n-armstrong/fosc) (a Supercollider API for generating musical notation in lilypond)"
   ]
  },
  {
   "cell_type": "markdown",
   "id": "d8b08c48",
   "metadata": {},
   "source": [
    "Configure Fosc:\n",
    "\n",
    "1. Download the zip file\n",
    "2. Rename the 'fosc-master' folder to 'fosc'Rename \n",
    "3. (Select SuperCollider (base) Kernel in this notebook)\n",
    "4. Find the your SuperCollider user extension hidden folder path:"
   ]
  },
  {
   "cell_type": "code",
   "execution_count": 1,
   "id": "8f5ed1e2",
   "metadata": {
    "vscode": {
     "languageId": "python"
    }
   },
   "outputs": [
    {
     "name": "stdout",
     "output_type": "stream",
     "text": [
      "-> /Users/andreavigani/Library/Application Support/SuperCollider/Extensions"
     ]
    }
   ],
   "source": [
    "Platform.userExtensionDir"
   ]
  },
  {
   "cell_type": "markdown",
   "id": "7cc713d2",
   "metadata": {},
   "source": [
    "5. Move the 'fosc' folder to your SuperCollider User Extensions folder.\n",
    "6. Search in SuperCollider Qarks 'wslib' and installi it.\n",
    "7. Recompile Class library in SuperCollider or Refresh SuperCollider Kernel in Notebook.\n",
    "8. Add code to allow Fosc to communicate with LilyPond to your sclang startup file.\n",
    "\n",
    "Mac users (run this cell): "
   ]
  },
  {
   "cell_type": "code",
   "execution_count": 28,
   "id": "d92b0ca0",
   "metadata": {
    "vscode": {
     "languageId": "python"
    }
   },
   "outputs": [
    {
     "name": "stdout",
     "output_type": "stream",
     "text": [
      "server 'localhost' already running\n",
      "-> a Function"
     ]
    }
   ],
   "source": [
    "s.boot;\n",
    "\n",
    "~lilypath=\"/Applications/lilypond-2.24.4/bin\"; // Lilypond path\n",
    "                               // Filename path without extension\n",
    "~filepath=Platform.userHomeDir++\"/Desktop/GHub/EMC/5_cac/score/test\";\n",
    "\n",
    "Fosc.lilypondPath = ~lilypath++\"/lilypond\";\n",
    "Fosc.lilypondVersion;\n",
    "\n",
    "~print = {arg pitch, dur=[1/4], vel=[nil], tsig=[4,4], bpm=60, \n",
    "          filepath=Platform.userHomeDir++\"/Desktop/GHub/EMC/5_cac/score/test\";\n",
    "          var staff, mus, ts, seq, dn;\n",
    "  Routine{        \n",
    "          dur = dur.collect{arg i;\n",
    "                      if(i.isSequenceableCollection){i[0]*i[1].normalizeSum}{i}\n",
    "                            }.flat;  \n",
    "          mus = FoscLeafMaker().(pitches:pitch, durations:dur);\n",
    "          dn = #['!','ppppp','pppp','ppp','pp','p','mp','mf',\n",
    "                 'f','ff','fff','ffff','fffff'];\n",
    "          mus.selectLeaves().do({arg item, id; \n",
    "                                 item.attach(FoscDynamic(\n",
    "                                                      i = vel.wrapAt(id);\n",
    "                                                      case\n",
    "                                                      {i==nil}{dn[0]}\n",
    "                                                      {i>=1 && i<=9}{dn[1]}\n",
    "                                                      {i>=10 && i<=19}{dn[2]}\n",
    "                                                      {i>=20 && i<=29}{dn[3]}\n",
    "                                                      {i>=30 && i<=39}{dn[4]}\n",
    "                                                      {i>=40 && i<=49}{dn[5]}\n",
    "                                                      {i>=50 && i<=59}{dn[6]}\n",
    "                                                      {i>=60 && i<=69}{dn[7]}\n",
    "                                                      {i>=70 && i<=79}{dn[8]}\n",
    "                                                      {i>=80 && i<=89}{dn[9]}\n",
    "                                                      {i>=90 && i<=99}{dn[10]}\n",
    "                                                      {i>=100 && i<=109}{dn[11]}\n",
    "                                                      {i>=110}{dn[12]}              \n",
    "                                                      ))\n",
    "                                               });\n",
    "            staff = FoscStaff(mus);\n",
    "            ts    = FoscTimeSignature(tsig);\n",
    "            staff[0].attach(ts);\n",
    "            staff.writePDF(filepath++\".ly\");\n",
    "\n",
    "            seq = Pbind(\n",
    "\t              \\midinote, Pseq(pitch.replace([nil],\\rest),\n",
    "                                            if(dur.size > pitch.size){inf}{1}),\n",
    "\t              \\dur,      Pseq(dur * tsig[1],\n",
    "                                            if(dur.size>pitch.size){1}{inf}),\n",
    "                     \\amp,      Pseq((vel.replace([nil],100)/127)**2,inf),\n",
    "                      );\n",
    "            ~midi = SimpleMIDIFile.new( filepath++'.mid' ); \n",
    "            ~midi.init;                  \n",
    "            ~midi.init0(bpm,            \n",
    "\t                     tsig[0].asString++\"/\"++tsig[1].asString \n",
    "\t                    );\n",
    "            ~midi.timeMode = \\ticks;   \n",
    "            ~midi.fromPattern(seq);\n",
    "            ~midi.checkWrite(filepath++'.mid', true);   \n",
    "            1.wait;\n",
    "            ~midi.play(TempoClock(bpm/60));\n",
    "          }.play;\n",
    "        };"
   ]
  },
  {
   "cell_type": "markdown",
   "id": "b831b4b4",
   "metadata": {},
   "source": [
    "Windows users (run this cell): "
   ]
  },
  {
   "cell_type": "code",
   "execution_count": null,
   "id": "cd1bdcf1",
   "metadata": {
    "vscode": {
     "languageId": "python"
    }
   },
   "outputs": [],
   "source": [
    "s.boot;\n",
    "\n",
    "~lilypath=Platform.userHomeDir++\"/Desktop/lilypond-2.24.4/bin\";// Lilypond path\n",
    "~filepath=Platform.userHomeDir++\"/Desktop/test\";   // Filename without extension\n",
    "\n",
    "Fosc.lilypondPath = ~lilypath++\"/lilypond.exe\";\n",
    "Fosc.lilypondVersion;\n",
    "\n",
    "~print = {arg pitch, dur=[1/4], vel=[nil], tsig=[4,4], bpm=60, \n",
    "              filepath=Platform.userHomeDir++\"/Desktop/test\"; \n",
    "          var staff, mus, ts, seq, dn;\n",
    "          Routine{\n",
    "            dur = dur.collect{arg i;\n",
    "                              if(i.isSequenceableCollection){i[0]*i[1].normalizeSum}{i}\n",
    "                              }.flat;  \n",
    "            mus = FoscLeafMaker().(pitches:pitch, durations:dur);\n",
    "            dn = #['!','ppppp','pppp','ppp','pp','p','mp','mf',\n",
    "                   'f','ff','fff','ffff','fffff'];\n",
    "            mus.selectLeaves(pitched:true).do({arg item, id; \n",
    "                              item.attach(FoscDynamic(\n",
    "                                                      i = vel.wrapAt(id);\n",
    "                                                      case\n",
    "                                                      {i==nil}{dn[0]}\n",
    "                                                      {i==0}{dn[0]}\n",
    "                                                      {i>=1 && i<=9}{dn[1]}\n",
    "                                                      {i>=10 && i<=19}{dn[2]}\n",
    "                                                      {i>=20 && i<=29}{dn[3]}\n",
    "                                                      {i>=30 && i<=39}{dn[4]}\n",
    "                                                      {i>=40 && i<=49}{dn[5]}\n",
    "                                                      {i>=50 && i<=59}{dn[6]}\n",
    "                                                      {i>=60 && i<=69}{dn[7]}\n",
    "                                                      {i>=70 && i<=79}{dn[8]}\n",
    "                                                      {i>=80 && i<=89}{dn[9]}\n",
    "                                                      {i>=90 && i<=99}{dn[10]}\n",
    "                                                      {i>=100 && i<=109}{dn[11]}\n",
    "                                                      {i>=110}{dn[12]}              \n",
    "                                                      ))\n",
    "                                               });\n",
    "            staff = FoscStaff(mus);\n",
    "            ts    = FoscTimeSignature(tsig);\n",
    "            staff[0].attach(ts);\n",
    "\n",
    "            staff.writeLY(filepath++\".ly\");\n",
    "(\"cd\" + ~lilypath + \"&& lilypond -o\" + filepath + filepath ++ \".ly\").unixCmd;\n",
    "\n",
    "            seq = Pbind(\n",
    "                \\midinote, Pseq(pitch.replace([nil],\\rest),\n",
    "                                                if(dur.size>pitch.size){inf}{1}),\n",
    "                \\dur,      Pseq(dur * tsig[1],\n",
    "                                                if(dur.size>pitch.size){1}{inf}),\n",
    "                \\amp,      Pseq((vel.replace([nil],100)/127)**2,inf),\n",
    "                      );\n",
    "            ~midi = SimpleMIDIFile.new( filepath++'.mid' ); \n",
    "            ~midi.init;                  \n",
    "            ~midi.init0(bpm,            \n",
    "\t                     tsig[0].asString++\"/\"++tsig[1].asString \n",
    "\t                    );\n",
    "            ~midi.timeMode = \\ticks;   \n",
    "            ~midi.fromPattern(seq);\n",
    "            ~midi.checkWrite(filepath++'.mid', true); \n",
    "            1.wait;\n",
    "            ~midi.play(TempoClock(bpm/60));\n",
    "          }.play;  \n",
    "        };"
   ]
  },
  {
   "cell_type": "markdown",
   "id": "99cce70e",
   "metadata": {},
   "source": [
    "10. Test it - generates three files:\n",
    "    - test.ly\n",
    "    - test.pdf\n",
    "    - test.mid\n",
    "\n",
    "    We should also hear an audio preview with default intrumental timbre."
   ]
  },
  {
   "cell_type": "code",
   "execution_count": 29,
   "id": "51409e50",
   "metadata": {
    "vscode": {
     "languageId": "python"
    }
   },
   "outputs": [
    {
     "name": "stdout",
     "output_type": "stream",
     "text": [
      "server 'localhost' already running\n",
      "-> a Function"
     ]
    }
   ],
   "source": [
    "~bpm   = 60;\n",
    "~tsig  = [3,4];\n",
    "~pitch = [60,64,67,nil,67,64,72,[67,64],nil,64,60,[64,67,72]];\n",
    "~durs  = [1/8];\n",
    "~vels  = [nil];\n",
    "\n",
    "~print.value(~pitch, dur:~durs, vel:~vels, tsig:~tsig, bpm:~bpm);"
   ]
  },
  {
   "cell_type": "markdown",
   "id": "7041ff0a",
   "metadata": {},
   "source": [
    "We can load the midifile in an external midi sequencer or notation software as Musescore, Finale, Sibelius, etc."
   ]
  },
  {
   "cell_type": "markdown",
   "id": "5cc91be7-65df-4fa0-9fc7-ff4e6c5d2538",
   "metadata": {},
   "source": [
    "# Symbolic musical representation and numbers <a name=\"simboli\"></a>\n",
    "\n",
    "The purpose of this computer music practice is to help the composer generate and manipulate musical elements according to the syntactic rules of their chosen musical language. \n",
    "\n",
    "One of the goals of computer-aided composition is to translate numerical values ​​into symbols specific to musical notation and vice versa.\n",
    "\n",
    "The final result typically consists of a musical score that can be interpreted by human performers.\n",
    "\n",
    "In computer music as well as in Western musical tradition the following sound parameters are typically generated and/or manipulated:\n",
    "\n",
    "* Pitch (frequency)\n",
    "* Rhythm (time)\n",
    "* Dynamic (amplitude)\n",
    "* Expression (timbre)"
   ]
  },
  {
   "cell_type": "markdown",
   "id": "f47315f6",
   "metadata": {},
   "source": [
    "## Pitch <a name=\"pitch\"></a>\n",
    "\n",
    "Some symbolic representations of frequency sorted by level of abstraction:\n",
    "\n",
    "\n",
    "* Note \n",
    "  - diatonic or chromatic representation by letters (notenames).\n",
    "  - fixed octave.\n",
    "  - relative to syntactically defined rules (western music tones, semitones).\n",
    "  - typically strings or chars data types."
   ]
  },
  {
   "cell_type": "code",
   "execution_count": null,
   "id": "7763862b",
   "metadata": {
    "vscode": {
     "languageId": "python"
    }
   },
   "outputs": [],
   "source": [
    "a = ['do', 're', 'mi', 'fa', 'sol', 'la', 'si', 'do']; // Note name\n",
    "a = ['C3', 'D3', 'E3', 'F3',  'G3', 'A3', 'B3', 'C4']; // Octave"
   ]
  },
  {
   "cell_type": "markdown",
   "id": "f1e01616",
   "metadata": {},
   "source": [
    "* Degree\n",
    "    - determine the pitch in degrees relative to a root note $\\rightarrow$ 0.\n",
    "    - no fixed octave\n",
    "    - they may or may not be related to defined syntactic rules (scale degrees or other).\n",
    "    - typically int (positive and negative)."
   ]
  },
  {
   "cell_type": "code",
   "execution_count": null,
   "id": "6b9a79fd",
   "metadata": {
    "vscode": {
     "languageId": "python"
    }
   },
   "outputs": [],
   "source": [
    "a = [ 0, 2, 4, 5, 7, 9, 11, 12]; // Major scale model\n",
    "a = [ -3, 5, 6, -4, 0, 2];       // A sequence "
   ]
  },
  {
   "cell_type": "markdown",
   "id": "6f85097a",
   "metadata": {},
   "source": [
    "* MIDI note\n",
    "    - determines pitch as a fractional MIDI note.\n",
    "    - they are not related to syntactically defined rules. \n",
    "    - root note $\\rightarrow$ 60 = C4 = middle C.\n",
    "    - divided in semitones (int)."
   ]
  },
  {
   "cell_type": "code",
   "execution_count": null,
   "id": "0046b44f",
   "metadata": {
    "vscode": {
     "languageId": "python"
    }
   },
   "outputs": [],
   "source": [
    "a = [ 60, 62, 64, 65, 67, 69, 71, 72];"
   ]
  },
  {
   "cell_type": "markdown",
   "id": "e283614d",
   "metadata": {},
   "source": [
    "* Frequency \n",
    "    - determines the pitch as a frequency in Hertz (or cps).\n",
    "    - absolute values not relate in any way to syntactically defined rules. \n",
    "    - int or float"
   ]
  },
  {
   "cell_type": "code",
   "execution_count": null,
   "id": "a1a17e03",
   "metadata": {
    "vscode": {
     "languageId": "python"
    }
   },
   "outputs": [],
   "source": [
    "a = [ 262, 294, 330, 349, 392, 440, 494, 523]; "
   ]
  },
  {
   "cell_type": "markdown",
   "id": "a5350991",
   "metadata": {},
   "source": [
    "In computer music there are further forms of pitch representation but they can easily be traced back to those just mentioned.\n",
    "\n",
    "In SuperCollider we can convert from a form to another:"
   ]
  },
  {
   "cell_type": "code",
   "execution_count": 30,
   "id": "147e9439",
   "metadata": {
    "vscode": {
     "languageId": "python"
    }
   },
   "outputs": [
    {
     "name": "stdout",
     "output_type": "stream",
     "text": [
      "-> a Routine"
     ]
    }
   ],
   "source": [
    "~degree    = [0, 2, 4, 5, 7];   // Degree\n",
    "~root      = 60;\n",
    "~midinote  = root + a;          // Midi note   \n",
    "~freqency  = ~midinote.midicps; // Frequency\n",
    "~midinote1 = ~freqency.cpsmidi;\n",
    "~degree1   = ~midinote1 - 60;\n",
    "\n",
    "~midinote.postln;               // change"
   ]
  },
  {
   "cell_type": "markdown",
   "id": "1def22be",
   "metadata": {},
   "source": [
    "Chords $\\rightarrow$ 2D arrays."
   ]
  },
  {
   "cell_type": "code",
   "execution_count": 33,
   "id": "98fa6c62",
   "metadata": {
    "vscode": {
     "languageId": "python"
    }
   },
   "outputs": [
    {
     "name": "stdout",
     "output_type": "stream",
     "text": [
      "-> a Routine"
     ]
    }
   ],
   "source": [
    "a = [[60,64,67,72],62,[60,65,69,72],64,[62,65,67,71],62,[60,64,67,72]];\n",
    "b = 1/4!6 ++ [1/2];\n",
    "\n",
    "~print.value(a, b);"
   ]
  },
  {
   "cell_type": "markdown",
   "id": "566de6b6",
   "metadata": {
    "vscode": {
     "languageId": "python"
    }
   },
   "source": [
    "Rest $\\rightarrow$ nil instead notemidi number."
   ]
  },
  {
   "cell_type": "code",
   "execution_count": 34,
   "id": "031a5b98",
   "metadata": {
    "vscode": {
     "languageId": "python"
    }
   },
   "outputs": [
    {
     "name": "stdout",
     "output_type": "stream",
     "text": [
      "-> a Routine"
     ]
    }
   ],
   "source": [
    "a = [60,62,64,nil,65,67,nil,74,73,74,75,nil,76,72,nil,64];\n",
    "b = [1/16];\n",
    "\n",
    "~print.value(a, b);"
   ]
  },
  {
   "cell_type": "markdown",
   "id": "79bb8281",
   "metadata": {},
   "source": [
    "## Rhythm <a name=\"ritmo\"></a>\n",
    "\n",
    "We can define any kind of musical event in time choosing at least two of these parameters:\n",
    "\n",
    "* Onsets $\\rightarrow$ absolute time of a sound event relative to the beginning (as in DAW software).\n",
    "* Delta times $\\rightarrow$ time between two consecutive sound events.\n",
    "* Durations $\\rightarrow$ duration of a sound event.\n",
    "\n",
    "All these parameters can be specified as:\n",
    "\n",
    "* absolute measurement units (typicalli seconds or millisecond).\n",
    "* relative to a bpm.\n",
    "    - 1 $\\rightarrow$ beat, reference unit (could be quarter, eight, whole, etc).\n",
    "    - 1/4 $\\rightarrow$ fractional notation.\n",
    "    - 0.5 $\\rightarrow$ multiply factor (result from fractional notation).\n",
    "    - 3:2 $\\rightarrow$ Rhythmic proportions (ratios of one single beat or its subdivisions).\n",
    "\n",
    "We can convert the values by simple mathematical operations."
   ]
  },
  {
   "cell_type": "code",
   "execution_count": 35,
   "id": "fb3bc429",
   "metadata": {
    "vscode": {
     "languageId": "python"
    }
   },
   "outputs": [
    {
     "name": "stdout",
     "output_type": "stream",
     "text": [
      "-> a Routine"
     ]
    }
   ],
   "source": [
    "~bpm = 82;\n",
    "\n",
    "~sec = 60/~bpm;  // bpm     --> seconds\n",
    "~bpm = 60/~sec;  // seconds --> bpm\n",
    "\n",
    "~sec;     // change"
   ]
  },
  {
   "cell_type": "markdown",
   "id": "9c569b8e",
   "metadata": {},
   "source": [
    "In this notebook we adopt the fractional notation as input (but inside it's converted to multiply facors of unit)."
   ]
  },
  {
   "cell_type": "code",
   "execution_count": 36,
   "id": "7df396a6",
   "metadata": {
    "vscode": {
     "languageId": "python"
    }
   },
   "outputs": [
    {
     "name": "stdout",
     "output_type": "stream",
     "text": [
      "-> 0.73170731707317"
     ]
    }
   ],
   "source": [
    "a = [72,76];\n",
    "b = [1/16, 1/16, 1/8, 1/16, 1/16, 1/16, 1/16, 1/4,1/4];\n",
    "\n",
    "~print.value(a, b);"
   ]
  },
  {
   "cell_type": "markdown",
   "id": "f89f45d5",
   "metadata": {},
   "source": [
    "If we want to define dotted or irregular rhythms we can use thi syntax:"
   ]
  },
  {
   "cell_type": "code",
   "execution_count": 37,
   "id": "82f21f26",
   "metadata": {
    "vscode": {
     "languageId": "python"
    }
   },
   "outputs": [
    {
     "name": "stdout",
     "output_type": "stream",
     "text": [
      "-> a Routine"
     ]
    }
   ],
   "source": [
    "//    [unity, [subdivisions] ]\n",
    "a = [ [1/4,   [3, 1        ] ] ];"
   ]
  },
  {
   "cell_type": "markdown",
   "id": "089428b4",
   "metadata": {},
   "source": [
    "We ca mix regular and irregular/dotted rhythms."
   ]
  },
  {
   "cell_type": "code",
   "execution_count": 38,
   "id": "786ac4ae",
   "metadata": {
    "vscode": {
     "languageId": "python"
    }
   },
   "outputs": [
    {
     "name": "stdout",
     "output_type": "stream",
     "text": [
      "-> [ [ 0.25, [ 3, 1 ] ] ]"
     ]
    }
   ],
   "source": [
    "a = [60,        nil,62,          63,64,nil,[62,66],67,    68,  [64,72]];\n",
    "b = [1/4, [1/4,[3,   1]], [1/4, [1,  1,  1, 1, 1]], 1/8, 1/8];\n",
    "\n",
    "~print.value(a, b);"
   ]
  },
  {
   "cell_type": "markdown",
   "id": "2599a774",
   "metadata": {},
   "source": [
    "## Dynamic <a name=\"dinamica\"></a>\n",
    "\n",
    " Tipically we can define amplitude with three different measurament units:\n",
    "\n",
    "* 1.0 $\\rightarrow$ linear amplitude (floating point form 0.0 to 1.0).\n",
    "* 127 $\\rightarrow$ midi velocity (integer from 0 to 127).\n",
    "* -6  $\\rightarrow$ decibels (from -inf to 0.0).\n",
    "\n",
    "Conversions:"
   ]
  },
  {
   "cell_type": "code",
   "execution_count": 39,
   "id": "49e70be1",
   "metadata": {
    "vscode": {
     "languageId": "python"
    }
   },
   "outputs": [
    {
     "name": "stdout",
     "output_type": "stream",
     "text": [
      "-> a Routine"
     ]
    }
   ],
   "source": [
    "~lin  = 64  / 127;  // velocity to linear\n",
    "~vel  = 0.5 * 127;  // linear to velocity\n",
    "~lin1 = -6.dbamp;   // dB to linear\n",
    "~db   = 0.5.ampdb;  // linear to dB\n",
    "~cub  = 0.5**4;     // linear to quartic (best for human perception)\n",
    "\n",
    "~db;                // change"
   ]
  },
  {
   "cell_type": "markdown",
   "id": "999f0fe7",
   "metadata": {},
   "source": [
    "## Collections <a name=\"collezioni\"></a>\n",
    "\n",
    "As we saw we can describe sets of values ​​as collections.\n",
    "\n",
    "In SuperCollider arrays and lists.\n",
    "\n",
    "Collections are a musically neutral data type as they can contain any data type (string, int, float, etc.).\n",
    "\n",
    "In algorithmic composition we can think it musically in two ways:\n",
    "\n",
    "1. Out of time (pre compositional materials)\n",
    "    - rules paradigm.\n",
    "    - item positions on x axis are indexes without time references (scale degree or other)."
   ]
  },
  {
   "cell_type": "code",
   "execution_count": 40,
   "id": "32476b40",
   "metadata": {
    "vscode": {
     "languageId": "python"
    }
   },
   "outputs": [
    {
     "name": "stdout",
     "output_type": "stream",
     "text": [
      "-> -6.0205999132796"
     ]
    }
   ],
   "source": [
    "//   - Scale\n",
    "//          0   1   2   3   4   5   6   7         // Scale degrees\n",
    "~dorico = [60, 62, 64, 65, 67, 69, 71, 72];       // Absolute pitches\n",
    "~chrom  = [0, 1, 2, 3, 4, 5, 6, 7, 8, 9, 10, 11]; // Intervals\n",
    "\n",
    "//   - Series\n",
    "\n",
    "~serie  = [1, 10, 6, 4, 8, 2, 9, 7, 0, 5, 11, 3]; // Dodecaphony\n",
    "~reich  = [64, 66, 71, 72, 73, 66];               // Minimalism\n",
    "\n",
    "//   - Harmonic fields (Array or Array 2D)\n",
    "\n",
    "~mayor  = [0, 4, 7, 12];\n",
    "~harm   = [[60, 64, 67, 72], [62, 65, 67, 71], [60, 65, 69,72], [60, 64, 69,72]];\n",
    "~harmd  = [[0, 4, 7, 12],    [2, 5, 7, 11],    [0, 5, 9,12],    [0, 4, 9,12]];\n",
    "\n",
    "~durs  = [1/8];\n",
    "\n",
    "~print.value(~dorico, ~durs);"
   ]
  },
  {
   "cell_type": "markdown",
   "id": "4deb78ef",
   "metadata": {
    "vscode": {
     "languageId": "python"
    }
   },
   "source": [
    "2. Timeline\n",
    "    - sequence paradigm.\n",
    "    - items are placed on a timeline (x axis)."
   ]
  },
  {
   "cell_type": "code",
   "execution_count": 41,
   "id": "2ae777b7",
   "metadata": {
    "vscode": {
     "languageId": "python"
    }
   },
   "outputs": [
    {
     "name": "stdout",
     "output_type": "stream",
     "text": [
      "-> a Routine"
     ]
    }
   ],
   "source": [
    "//   - Sequence of index from defined scale\n",
    "\n",
    "//            0   1   2   3   4   5   6   7\n",
    "~scale  = [60, 62, 64, 65, 67, 69, 71, 72];      \n",
    "~melody = 10.collect({rrand(0,7)});\n",
    "~seq    = ~melody.collect({arg i; ~scale[i]});\n",
    "                \n",
    "~durs   = ([1/16,1/8,1/16]!3++[1/4]).flat; \n",
    "\n",
    "~print.value(~seq,~durs); "
   ]
  },
  {
   "cell_type": "markdown",
   "id": "e4f750c0",
   "metadata": {},
   "source": [
    "## Live <a name=\"live\"></a>\n",
    "\n",
    "We can also use live algorithmic composition techniques by sending the numerical data via MIDI to external sound generators (Reaktor, GarageBand, Finale, Logic) without print it in a musical score."
   ]
  },
  {
   "cell_type": "code",
   "execution_count": 42,
   "id": "728a2652",
   "metadata": {
    "vscode": {
     "languageId": "python"
    }
   },
   "outputs": [
    {
     "name": "stdout",
     "output_type": "stream",
     "text": [
      "-> a Routine"
     ]
    }
   ],
   "source": [
    "\"open -a /Applications/GarageBand.app/\".unixCmd;"
   ]
  },
  {
   "cell_type": "code",
   "execution_count": null,
   "id": "b5e9f38a",
   "metadata": {
    "vscode": {
     "languageId": "python"
    }
   },
   "outputs": [
    {
     "name": "stdout",
     "output_type": "stream",
     "text": [
      "-> 5576"
     ]
    }
   ],
   "source": [
    "// 1. Checks which available MIDI sources and destinations there are, and\n",
    "//    opens as many connections as desired\n",
    "\n",
    "MIDIClient.init;\n",
    "\n",
    "// 2. Choice the destination where you want send your MIDI data (id from 0)\n",
    "\n",
    "c = MIDIOut.new(0); // 0 = \"Driver IAC\"\n",
    "c.latency_(0);      // Set latency to 0 sec\n",
    "\n",
    "// 3. Open an external MIDI sound bank (Reaktor, GarageBand, Finale, Logic)\n",
    "// 4. Send some MIDI data..\n",
    "\n",
    "(\n",
    "~bpm   = 60;  \n",
    "~note  = 100;     \n",
    "~tsig  = [4,4];\n",
    "~pitch = ~note.collect({rrand(60,75)});\n",
    "~durs  = ~note.collect({[1/32, 1/32,1/32, 1/32,1/32,1/8, 1/16].choose});\n",
    "~vels  = ~note.collect({[100, 40, 60].choose});\n",
    "\n",
    "p = Pbind(\n",
    "        \\type, \\midi,\n",
    "        \\midicmd, \\noteOn,\n",
    "        \\midiout, c,\n",
    "        \\chan, 0,\n",
    "        \\midinote, Pseq(~pitch.replace([nil],\\rest)),\n",
    "        \\sustain,  Pseq(~durs * ~tsig[1],inf),   // Duration\n",
    "        \\dur,  Pseq(~durs * ~tsig[1],inf),       // Delta time\n",
    "        \\amp, Pseq(~vels/127,inf),               // 0.0 to 1.0\n",
    "        ).play;\n",
    ")"
   ]
  },
  {
   "cell_type": "markdown",
   "id": "a88a11a6",
   "metadata": {},
   "source": [
    "# Generative techniques and processes <a name=\"tecniche\"></a>\n",
    "\n",
    "In Western musical tradition, we have only two ways to conceive of the superposition of two or more voices:\n",
    "* counterpoint (horizontal dimension - static voice allocation) \n",
    "\n",
    "<center><video width=\"40%\" controls src=\"suoni/palestrina1.mp4\"></video></center>\n",
    "\n",
    "* harmony (vertical dimension - dynamic voice allocation).\n",
    "\n",
    "<center><video width=\"40%\" controls src=\"suoni/beetho1.mp4\"></video></center>\n",
    "\n",
    "They are two musical approaches to which different musical languages refer.\n",
    "\n",
    "We are going to explore compositional practices about them through three case studies:\n",
    "\n",
    "* Modes and scales (counterpoint).\n",
    "* Harmonic fields (harmony).\n",
    "* XIX sec. music (both). \n",
    "\n",
    "In general if we want formalize our musical ideas we should:\n",
    "\n",
    "1. define a set of parametric structures that we want to use as basic material according to musical rules (scale, modes, serie, chords, rhythmic or dynamic patterns, etc.).\n",
    "2. define a set of possible modifications always starting from musical needs and rules (variations, filters, interpolations, augmentations, diminutions, etc.).\n",
    "3. organize it over time by defining a formal structure choosing from two strategies:\n",
    "    * top to bottom (from a fixed general structure to particular).\n",
    "    * bottom to top (from particular to a general formal structure).\n",
    "\n",
    "As we know, in carrying out these three steps, we have only two possible approaches:\n",
    "\n",
    "* nondeterministic  \n",
    "* deterministic\n",
    "\n",
    "They are often mixed toghether."
   ]
  },
  {
   "cell_type": "markdown",
   "id": "9ab7f5a8",
   "metadata": {},
   "source": [
    "## Modes and scales <a name=\"moscale\"></a>\n",
    "\n",
    "Both are based on the concept of 'mode' (gregorian and nedieval music) or 'scale' (baroque and classical music).\n",
    "\n",
    "It define the interval patterns through which composer organize the pitches of a piece.\n",
    "\n",
    "They are usually some kind of subdivision of the octave interval.\n",
    "\n",
    "We can define it in interval or grades."
   ]
  },
  {
   "cell_type": "code",
   "execution_count": 45,
   "id": "d73171f4",
   "metadata": {
    "vscode": {
     "languageId": "python"
    }
   },
   "outputs": [
    {
     "name": "stdout",
     "output_type": "stream",
     "text": [
      "-> [ 0, 2, 4, 5, 7, 9, 11, 12 ]"
     ]
    }
   ],
   "source": [
    "~major = [0,2,4,5,7,9,11,12];  // Try to change intervals"
   ]
  },
  {
   "cell_type": "markdown",
   "id": "bc3a7e75",
   "metadata": {},
   "source": [
    "\n",
    "Then we have to define a root note in midi values which will assume the function of the first degree (0)\n",
    "\n",
    "* in modal rules is called 'finalis'.\n",
    "* in tonal (harmonic) rules is the 'tonality' (D major, E-flat minor, etc.)."
   ]
  },
  {
   "cell_type": "code",
   "execution_count": 46,
   "id": "5b871d5d",
   "metadata": {
    "vscode": {
     "languageId": "python"
    }
   },
   "outputs": [
    {
     "name": "stdout",
     "output_type": "stream",
     "text": [
      "-> [ 0, 2, 4, 5, 7, 9, 11, 12 ]"
     ]
    }
   ],
   "source": [
    "~major = [0,2,4,5,7,9,11,12];  // Try to change intervals\n",
    "~root  = 60;\n",
    "~pitch = ~root + ~major;\n",
    "~dur   = [1/8];\n",
    "\n",
    "~print.value(~pitch, ~dur, filepath:~filepath); "
   ]
  },
  {
   "cell_type": "markdown",
   "id": "3b085669",
   "metadata": {},
   "source": [
    "We can use historical models or invent our own."
   ]
  },
  {
   "cell_type": "markdown",
   "id": "42b8a88e",
   "metadata": {},
   "source": [
    "### Scale <a name=\"scale\"></a>\n",
    "\n",
    "In SuperCollider there is a Class that represent a repository of different scales from different coltures."
   ]
  },
  {
   "cell_type": "code",
   "execution_count": 47,
   "id": "7ff9dd84",
   "metadata": {
    "vscode": {
     "languageId": "python"
    }
   },
   "outputs": [
    {
     "name": "stdout",
     "output_type": "stream",
     "text": [
      "-> a Routine"
     ]
    }
   ],
   "source": [
    "Scale.directory;"
   ]
  },
  {
   "cell_type": "markdown",
   "id": "e0445205",
   "metadata": {},
   "source": [
    "We can choose a scale from the available scales and then recall the interval model."
   ]
  },
  {
   "cell_type": "code",
   "execution_count": 48,
   "id": "2853cf91",
   "metadata": {
    "vscode": {
     "languageId": "python"
    }
   },
   "outputs": [
    {
     "name": "stdout",
     "output_type": "stream",
     "text": [
      "-> \\ aeolian: Aeolian\n",
      "\\ ahirbhairav: Ahirbhairav\n",
      "\\ ajam: Ajam\n",
      "\\ atharKurd: Athar Kurd\n",
      "\\ augmented: Augmented\n",
      "\\ augmented2: Augmented 2\n",
      "\\ bartok: Bartok\n",
      "\\ bastanikar: Bastanikar\n",
      "\\ bayati: Bayati\n",
      "\\ bhairav: Bhairav\n",
      "\\ chinese: Chinese\n",
      "\\ chromatic: Chromatic\n",
      "\\ chromatic24: Chromatic 24\n",
      "\\ diminished: Diminished\n",
      "\\ diminished2: Diminished 2\n",
      "\\ dorian: Dorian\n",
      "\\ egyptian: Egyptian\n",
      "\\ enigmatic: Enigmatic\n",
      "\\ farahfaza: Farahfaza\n",
      "\\ gong: Gong\n",
      "\\ harmonicMajor: Harmonic Major\n",
      "\\ harmonicMinor: Harmonic Minor\n",
      "\\ hexAeolian: Hex Aeolian\n",
      "\\ hexDorian: Hex Dorian\n",
      "\\ hexMajor6: Hex Major 6\n",
      "\\ hexMajor7: Hex Major 7\n",
      "\\ hexPhrygian: Hex Phrygian\n",
      "\\ hexSus: Hex Sus\n",
      "\\ hijaz: Hijaz\n",
      "\\ hijazDesc: Hijaz Descending\n",
      "\\ hijazKar: hijazKar\n",
      "\\ hindu: Hindu\n",
      "\\ hirajoshi: Hirajoshi\n",
      "\\ hungarianMinor: Hungarian Minor\n",
      "\\ husseini: Husseini\n",
      "\\ huzam: Huzam\n",
      "\\ indian: Indian\n",
      "\\ ionian: Ionian\n",
      "\\ iraq: Iraq\n",
      "\\ iwato: Iwato\n",
      "\\ jiao: Jiao\n",
      "\\ jiharkah: Jiharkah\n",
      "\\ karjighar: Karjighar\n",
      "\\ kijazKarKurd: Kijaz Kar Kurd\n",
      "**** /JUPYTER ****\n",
      "**** JUPYTER ****\n",
      "[ 0, 2, 4, 6, 7, 9, 11 ]\n",
      "[ 60, 62, 64, 66, 67, 69, 71, 72 ]\n",
      "-> a Routine"
     ]
    }
   ],
   "source": [
    "~model = Scale.lydian;    // Try to change scale\n",
    "\n",
    "~degree = ~model.degrees; \n",
    "~root   = 60;\n",
    "~pitch  = ~root + ~degree ++[72];\n",
    "~dur = [1/8];\n",
    "\n",
    "~degree.postln;\n",
    "~pitch.postln;\n",
    "\n",
    "~print.value(~pitch, ~dur, filepath:~filepath); "
   ]
  },
  {
   "cell_type": "markdown",
   "id": "5cb9059a",
   "metadata": {},
   "source": [
    "Once the interval model has been established, we can create a melody by recalling the different degrees of the model according to deterministic or indeterministic principles."
   ]
  },
  {
   "cell_type": "markdown",
   "id": "53890b0a",
   "metadata": {},
   "source": [
    "### Incises and sequences <a name=\"incise\"></a>\n",
    "\n",
    "Define a function that generate a melodic cell (inciso) according to few simply rules:\n",
    "\n",
    "1. set the number of notes in the inciso (random from 5 to 7).\n",
    "2. set a percentage of random rest in the inciso (from 0.0 to 1.0)."
   ]
  },
  {
   "cell_type": "code",
   "execution_count": 49,
   "id": "fb0ddfb0",
   "metadata": {
    "vscode": {
     "languageId": "python"
    }
   },
   "outputs": [
    {
     "name": "stdout",
     "output_type": "stream",
     "text": [
      "[ nil, 66, 71, 67, 67 ]\n",
      "-> a Routine"
     ]
    }
   ],
   "source": [
    "~model  = Scale.lydian.degrees; \n",
    "\n",
    "~inciso  = {arg degrees=a, root=60, rrest=0.0;\n",
    "            var notes, rests, pitch;\n",
    "                notes = rrand(3,6);\n",
    "                rests = [degrees,[nil]];      // [[degrees],[nil]]\n",
    "                pitch = notes.collect{var i; \n",
    "                                     i = rests.wchoose([1-rrest,rrest]).choose;\n",
    "                                     if(i.notNil){i = i + root}\n",
    "                                    };\n",
    "                pitch \n",
    "            };\n",
    "\n",
    "a = ~inciso.value(~model,rrest:0.2);\n",
    "a.postln;\n",
    "~print.value(a,[1/8])"
   ]
  },
  {
   "cell_type": "markdown",
   "id": "4f4ded9c",
   "metadata": {},
   "source": [
    "3. set a percentage of random velocities to apply only on notes.\n",
    "    - veld $\\rightarrow$ array from wich velocities are chosen.\n",
    "    - rvels $\\rightarrow$ percentage of vels (0.0-1.0).\n",
    "    \n",
    "    N.B. Dynamic mark change only the note, if not specified is 'mezzoforte' (default)."
   ]
  },
  {
   "cell_type": "code",
   "execution_count": 50,
   "id": "05646019",
   "metadata": {
    "vscode": {
     "languageId": "python"
    }
   },
   "outputs": [
    {
     "name": "stdout",
     "output_type": "stream",
     "text": [
      "[ 67, nil, 67, 66, 66, 64 ]\n",
      "[ 100, nil, 100, 100, 30, nil ]\n",
      "-> a Routine"
     ]
    }
   ],
   "source": [
    "~model  = Scale.lydian.degrees; \n",
    "\n",
    "~inciso  = {arg degrees=a, root=60, rrest=0.0, vels=[nil], rvels=0.0;\n",
    "            var notes, rests, pitch, vel;\n",
    "                notes = rrand(3,6);\n",
    "                rests = [degrees,[nil]];      // [[degrees],[nil]]\n",
    "                pitch = notes.collect{var i; \n",
    "                                     i = rests.wchoose([1-rrest,rrest]).choose;\n",
    "                                     if(i.notNil){i = i + root}\n",
    "                                    };\n",
    "                vel = pitch.collect{arg i;\n",
    "                                    if(i.notNil){[vels,[nil]].wchoose([rvels,1-rvels]).choose}\n",
    "                                    }.flat;\n",
    "                [pitch, vel] \n",
    "            };\n",
    "\n",
    "a = ~inciso.value(~model,rrest:0.2,vels:[30,100],rvels:0.7 );\n",
    "a[0].postln;\n",
    "a[1].postln;\n",
    "~print.value(a[0],vel:a[1])"
   ]
  },
  {
   "cell_type": "markdown",
   "id": "e9670adc",
   "metadata": {},
   "source": [
    "4. set a database of rhythmic patterns from which to extract one according to the number of pitches. \n",
    "\n",
    "   Each pattern should be of the same lenght (a beat or its multiple)."
   ]
  },
  {
   "cell_type": "code",
   "execution_count": 51,
   "id": "ad0b4471",
   "metadata": {
    "vscode": {
     "languageId": "python"
    }
   },
   "outputs": [
    {
     "name": "stdout",
     "output_type": "stream",
     "text": [
      "[ 66, 64, 64, 62 ]\n",
      "[ 0.25, 0.0625, 0.125, 0.0625 ]\n",
      "[ nil, nil, 100, nil ]\n",
      "-> a Routine"
     ]
    }
   ],
   "source": [
    "~model  = Scale.lydian.degrees; \n",
    "\n",
    "~inciso =  {arg degrees=a, root=60, rrest=0.0, vels=[nil], rvels=0.0;\n",
    "            var notes, rests, pitch, vel, rhytm;\n",
    "                notes = rrand(3,6);\n",
    "                rests = [degrees,[nil]];      // [[degrees],[nil]]\n",
    "                pitch = notes.collect{var i; \n",
    "                                     i = rests.wchoose([1-rrest,rrest]).choose;\n",
    "                                     if(i.notNil){i = i + root}\n",
    "                                    };\n",
    "                vel = pitch.collect{arg i;\n",
    "                                    if(i.notNil){[vels,[nil]].wchoose([rvels,1-rvels]).choose}\n",
    "                                    }.flat;\n",
    "                switch(notes,\n",
    "                    3, {rhytm = [   \n",
    "                        [1/8,1/16,1/16],   // Rhythmic patterns all in 1/4 or multiply\n",
    "                        [1/16,1/8,1/16],       // 1 beats\n",
    "                        [1/16,1/16,1/8],       // 1 beats\n",
    "                        [1/4,[1/4,[3,1]]],     // 2 beats\n",
    "                        [1/8, [1/8,[1,2]]]     // 1 beats\n",
    "                                ].choose},\n",
    "                    4, {rhytm = [   \n",
    "                        [1/8,1/16,1/16,1/4],   // 2 beats\n",
    "                        [1/4,1/16,1/8,1/16],   // 2 beats\n",
    "                        [1/16, 1/4, 1/16,1/8], // 2 beats\n",
    "                        [1/4,[1/4,[3, 1, 2]]], // 2 beats\n",
    "                        [1/8,[1/8,[1, 1, 1]]]  // 1 beats\n",
    "                                ].choose},\n",
    "                    5, {rhytm = [   \n",
    "                        [1/8,1/16,1/16,1/8,1/8],    // 2 beats\n",
    "                        [1/8,1/16,1/8,1/16,1/8],    // 2 beats\n",
    "                        [1/32, 1/4, 1/32,1/8,1/16], // 2 beats\n",
    "                        [1/4,[1/4,[1, 2, 1, 1]]],   // 2 beats\n",
    "                        [1/8,1/4, [1/8,[1, 1, 1]]]  // 2 beats\n",
    "                                ].choose},\n",
    "                    6, {rhytm = [   \n",
    "                        [1/8,1/16,1/16,1/16,1/8,1/16],    // 2 beats\n",
    "                        [1/8,1/32,1/8,1/32,1/8,1/16],     // 2 beats\n",
    "                        [1/32, 1/8, 1/32, 1/8, 1/16,1/8], // 2 beats\n",
    "                        [1/8,[1/4,[1, 2, 1, 1]], 1/8],    // 2 beats\n",
    "                        [1/8,1/4, [1/8,[1, 1, 1]],1/8]    // 2 beats\n",
    "                                ].choose};\n",
    "                        );   \n",
    "            [pitch, rhytm, vel]\n",
    "            };\n",
    "\n",
    "a = ~inciso.value(~model, rrest:0.2, vels:[20,100], rvels:0.2);\n",
    "a[0].postln;\n",
    "a[1].postln;\n",
    "a[2].postln;\n",
    "~print.value(a[0], a[1],a[2])\n"
   ]
  },
  {
   "cell_type": "markdown",
   "id": "e33023b3",
   "metadata": {},
   "source": [
    "We can now construct several incises and concatenate them into a sequence:"
   ]
  },
  {
   "cell_type": "code",
   "execution_count": 52,
   "id": "b246975f",
   "metadata": {
    "vscode": {
     "languageId": "python"
    }
   },
   "outputs": [
    {
     "name": "stdout",
     "output_type": "stream",
     "text": [
      "[ 60, 62, 62, 71, 66, 71, 67, 60, 64, nil, 64, 60, 62, 62, 71, 66, 71 ]\n",
      "[ 100, nil, nil, nil, nil, 100, nil, nil, nil, nil, nil, 100, nil, nil, nil, nil, 100 ]\n",
      "[ 0.125, 0.25, [ 0.125, [ 1, 1, 1 ] ], 0.125, 0.125, 0.0625, 0.0625, 0.125, 0.125, 0.125, 0.25, [ 0.125, [ 1, 1, 1 ] ], 0.125 ]\n",
      "-> a Routine"
     ]
    }
   ],
   "source": [
    "a = ~inciso.value(~model,rrest:0.2,vels:[20,100],rvels:0.3);\n",
    "b = ~inciso.value(~model,rrest:0.3,vels:[20,100],rvels:0.3);\n",
    "\n",
    "~pseq = (a[0] ++ b[0] ++ a[0]).flat;\n",
    "~rseq = (a[1] ++ b[1] ++ a[1]).flatten(-1);\n",
    "~vseq = (a[2] ++ b[2] ++ a[2]).flat;\n",
    "\n",
    "~pseq.postln;\n",
    "~vseq.postln;\n",
    "~rseq.postln;\n",
    "\n",
    "~print.value(~pseq, ~rseq, vel:~vseq);\n"
   ]
  },
  {
   "cell_type": "code",
   "execution_count": 54,
   "id": "99dc39a3",
   "metadata": {
    "vscode": {
     "languageId": "python"
    }
   },
   "outputs": [
    {
     "name": "stdout",
     "output_type": "stream",
     "text": [
      "-> a Routine"
     ]
    }
   ],
   "source": [
    "a = ~pseq ++ ~pseq ++ ~pseq;\n",
    "b = ~rseq ++ ~rseq ++ ~rseq;\n",
    "c = ~vseq ++ ~vseq ++ ~vseq; \n",
    "\n",
    "~print.value(a, b, vel:c);"
   ]
  },
  {
   "cell_type": "markdown",
   "id": "73090753",
   "metadata": {},
   "source": [
    "### Melodic variations <a name=\"varmel\"></a> \n",
    "\n",
    "Bla bla bal"
   ]
  },
  {
   "cell_type": "markdown",
   "id": "b1aaa25d",
   "metadata": {},
   "source": [
    "### Rhytmic variations <a name=\"varythm\"></a> \n",
    "\n",
    "Bla bla bal"
   ]
  },
  {
   "cell_type": "markdown",
   "id": "17c72247",
   "metadata": {},
   "source": [
    "### Accents <a name=\"accents\"></a> \n",
    "\n",
    "Bla bla bal"
   ]
  },
  {
   "cell_type": "markdown",
   "id": "cc44ef71",
   "metadata": {},
   "source": [
    "## Harmonic fields <a name=\"harm\"></a> \n",
    "\n",
    "Bla bla bal"
   ]
  },
  {
   "cell_type": "markdown",
   "id": "32e3c570",
   "metadata": {},
   "source": [
    "## XIX sec. music <a name=\"conte\"></a> \n",
    "\n",
    "Bla bla bal"
   ]
  },
  {
   "cell_type": "markdown",
   "id": "7255582b",
   "metadata": {},
   "source": [
    "# Composition sketches proposal <a name=\"esercizi_3\"></a>"
   ]
  }
 ],
 "metadata": {
  "kernelspec": {
   "display_name": "SuperCollider",
   "language": "",
   "name": "sc_kernel"
  },
  "language_info": {
   "file_extension": ".scd",
   "mimetype": "text/x-sclang",
   "name": "smalltalk",
   "pygments_lexer": "supercollider"
  }
 },
 "nbformat": 4,
 "nbformat_minor": 5
}
