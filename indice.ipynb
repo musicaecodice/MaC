{
 "cells": [
  {
   "cell_type": "markdown",
   "id": "dfd0be68",
   "metadata": {},
   "source": [
    "[Musicaecodice](https://musicaecodice.github.io/) "
   ]
  },
  {
   "cell_type": "markdown",
   "id": "5d1294dd",
   "metadata": {},
   "source": [
    "1. [Premises](1_premises/1_premises.ipynb)  \n",
    "2. [Computer as musical instrument](2_instruments/2_instruments.ipynb) \n",
    "3. [Fixed media music](3_fixed/3_fixed.ipynb)\n",
    "4. [Computer music](4_cmusic/4_cmusic.ipynb)\n",
    "5. [Computer aided composition](5_cac/5_cac.ipynb) lezione 9 \n",
    "6. [Hyper-instruments and live electronics](6_lvel/6_lvel.ipynb) lezione 11\n",
    "    - [Performance environment models](6_lvel/6_lvel.ipynb#models)\n",
    "        - [MIDI](6_lvel/6_lvel.ipynb#midi)\n",
    "        - [HID](6_lvel/6_lvel.ipynb#osc)\n",
    "        - [OSC](6_lvel/6_lvel.ipynb#hid)\n",
    "    - [Augmented instrumental techniques](6_lvel/6_lvel.ipynb#aumentate) lezione 12\n",
    "    - [Player(s), eyes and loudspeakers](6_lvel/6_lvel.ipynb#occhi)\n",
    "    - [Augmented musical forms](6_lvel/6_lvel.ipynb#forme_aumentate)\n",
    "    - [Composition sketches proposal <small>(SC or Max or PD)</small>](6_lvel/6_lvel.ipynb#esercizi_4) esercitazoni 4\n",
    "7. [Live coding and electroacustic impro](7_impro/7_impro.ipynb) lezione 13 e 14\n",
    "    - [Real time scores as algorithms](7_impro/7_impro.ipynb#scoral)\n",
    "    - [Music and live processes](7_impro/7_impro.ipynb#livepro)\n",
    "    - [Pattern, drones and changes](7_impro/7_impro.ipynb#pattern)\n",
    "    - [Time expansion](7_impro/7_impro.ipynb#tempo)\n",
    "    - [Electroacoustic environments and devices as new luthiery](7_impro/7_impro.ipynb#liuteria)\n",
    "    - [Graphic scores and laptop ensembles](7_impro/7_impro.ipynb#graphic)\n",
    "    - [Composition sketches proposal (SC)](7_impro/7_impro.ipynb#esercizi_5)  esercitazoni 5"
   ]
  }
 ],
 "metadata": {
  "kernelspec": {
   "display_name": "SuperCollider",
   "language": "",
   "name": "sc_kernel"
  },
  "language_info": {
   "file_extension": ".scd",
   "mimetype": "text/x-sclang",
   "name": "smalltalk",
   "pygments_lexer": "supercollider"
  }
 },
 "nbformat": 4,
 "nbformat_minor": 5
}
