{
 "cells": [
  {
   "cell_type": "markdown",
   "id": "e9dde309",
   "metadata": {},
   "source": [
    "[INDEX](../indice.ipynb) \n",
    "\n",
    "* [Historical framework](#histo5)\n",
    "* [Software model](#smodels) \n",
    "    - [Bus and Groups](#groups) \n",
    "* [Feature extraction as control signals](#feature) \n",
    "    - [Envelope follower](#envfollow) \n",
    "    - [Pitch follower](#pifollow) \n",
    "    - [Centroid](#centroid) \n",
    "* [Classic live electronics sound processing](#classic)\n",
    "    - [Ring modulation](#rmod)\n",
    "    - [Live recording and playback](#lrec)\n",
    "    - [Granular synthesis](#grain)\n",
    "    - [Delay lines](#delay)\n",
    "* [Composition sketches proposal](#esercizi_5) "
   ]
  },
  {
   "cell_type": "markdown",
   "id": "5cc91be7-65df-4fa0-9fc7-ff4e6c5d2538",
   "metadata": {},
   "source": [
    "# Historical framework <a id=\"histo5\"></a>"
   ]
  },
  {
   "cell_type": "markdown",
   "id": "788f8e55",
   "metadata": {},
   "source": [
    "# Composition sketches proposal <a name=\"esercizi_5\"></a>"
   ]
  }
 ],
 "metadata": {
  "kernelspec": {
   "display_name": "Python 3 (ipykernel)",
   "language": "python",
   "name": "python3"
  },
  "language_info": {
   "codemirror_mode": {
    "name": "ipython",
    "version": 3
   },
   "file_extension": ".py",
   "mimetype": "text/x-python",
   "name": "python",
   "nbconvert_exporter": "python",
   "pygments_lexer": "ipython3",
   "version": "3.12.4"
  }
 },
 "nbformat": 4,
 "nbformat_minor": 5
}
