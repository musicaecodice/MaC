{
 "cells": [
  {
   "cell_type": "markdown",
   "id": "e9dde309",
   "metadata": {},
   "source": [
    "[INDEX](../indice.ipynb) \n",
    "\n",
    "* [Historical framework](#histo6)\n",
    "* [Software installation](#installazione) \n",
    "* [Composition sketches proposal](#esercizi_6) "
   ]
  },
  {
   "cell_type": "markdown",
   "id": "5cc91be7-65df-4fa0-9fc7-ff4e6c5d2538",
   "metadata": {},
   "source": [
    "# Historical framework <a id=\"histo6\"></a>"
   ]
  },
  {
   "cell_type": "markdown",
   "id": "a88a11a6",
   "metadata": {},
   "source": [
    "# Composition sketches proposal <a name=\"esercizi_6\"></a>"
   ]
  }
 ],
 "metadata": {
  "kernelspec": {
   "display_name": "Python 3 (ipykernel)",
   "language": "python",
   "name": "python3"
  },
  "language_info": {
   "codemirror_mode": {
    "name": "ipython",
    "version": 3
   },
   "file_extension": ".py",
   "mimetype": "text/x-python",
   "name": "python",
   "nbconvert_exporter": "python",
   "pygments_lexer": "ipython3",
   "version": "3.12.4"
  }
 },
 "nbformat": 4,
 "nbformat_minor": 5
}
