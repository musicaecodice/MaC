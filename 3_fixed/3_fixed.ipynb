{
 "cells": [
  {
   "cell_type": "markdown",
   "id": "8e8a8b13",
   "metadata": {},
   "source": [
    "[INDEX](../indice.ipynb) \n",
    "\n",
    "* [Historical framework](#histo1)\n",
    "* [Elements and strategies](#object)\n",
    "  - [Sound objects](#sound-objects)\n",
    "  - [Objects, structure and form](#forms)\n",
    "  - [Musical objects](#som)\n",
    "  - [Time courses and musical forms](#tandform)\n",
    "  - [The poietic dimension: determinism](#comprocess) \n",
    "* [Sound processing techniques in SuperCollider](#sproc) \n",
    "  - [Buffers](#buffers)\n",
    "  - [Sampling](#sampling)\n",
    "    - [Sequencing - windowing](#scoring)\n",
    "    - [Enveloping](#enveloping)\n",
    "  - [Scratching](#scratching)\n",
    "* [Structures, DAW and scoring](#daw)\n",
    "* [Composition sketches proposal](#esercizi_1) "
   ]
  },
  {
   "cell_type": "markdown",
   "id": "268e820c",
   "metadata": {
    "vscode": {
     "languageId": "python"
    }
   },
   "source": [
    "# Historical framework <a id=\"histo1\"></a>\n",
    "\n",
    "The first musical works recorded on media were created in the 1950s in the Radio France studios in Paris by composers belonging to the Groupe de recherches musicales (GRM) by Pierre Schaeffer.\n",
    "\n",
    "Composers such as Pierre Henry, François Bayle, Bernard Parmegiani, Christian Zanési and Daniel Teruggi have collaborated with this institute.\n",
    "\n",
    "These composers, more or less, referred to Schaeffer’s sound theories about \"musique concrete\" later outlined in his book  “Traité des Objects Musicaux”.\n",
    "\n",
    "The design of the studio followed strict Schaefferian theory and was completely centered around tape manipulation, recording and editing.\n",
    "\n",
    "Two main electroacoustic instruments:\n",
    "\n",
    "* Phonogène $\\rightarrow$ a multi-headed tape instrument in three versions:\n",
    "  - Chromatic phonogène. Tape loop at varied speeds. It produced short bursts of tape sounds at varying pitches defined by a small one-octave keyboard.\n",
    "  - Sliding phonogène. It produced continuous tone by varying the tape speed via a control rod.\n",
    "  - Phonogène Universal. It allowed time stretching without transposing the pitches and vice versa obtained through a rotating magnetic head.\n",
    "* Morphophone $\\rightarrow$ a type of tape loop-delay mechanism. The sound was picked up at varying points on the tape by ten magnetic heads (one recording, one erasing and ten playback heads) then passed through ten bandpass fileters (one for each head).\n",
    "\n",
    "Theories of musique concrète are based on the concept of a 'sound object'.\n"
   ]
  },
  {
   "cell_type": "markdown",
   "id": "04001280",
   "metadata": {},
   "source": [
    "# Elements and strategies <a name=\"object\"></a>\n",
    "\n",
    "In this section we outline some concepts underlying any compositional process.\n",
    "\n",
    "They are valid in subsequent chapters where we will explore the specifics.\n",
    "\n",
    "They are some of the main tools of composing electronic music."
   ]
  },
  {
   "cell_type": "markdown",
   "id": "5cc91be7-65df-4fa0-9fc7-ff4e6c5d2538",
   "metadata": {},
   "source": [
    "## Sound objects <a name=\"sob\"></a>\n",
    "\n",
    "<!---<center><img src=\"img/soundob.png\" width=\"12%\"></center>--->\n",
    "\n",
    "<div style=\"width:12%; margin-left: auto; margin-right: auto\">\n",
    "\n",
    "![](img/soundob.png)\n",
    "   \n",
    "</div>\n",
    "\n",
    "Let's explore the concepts of sound object.\n",
    "\n",
    "Pierre Schaeffer in his \"Traité des objets musicaux\" (1966) wrote:\n",
    "\n",
    "Let's assume a single microphone: \n",
    "\n",
    "* it is the point of convergence of all the soundwaves arriving from the sound points in the surrounding space. \n",
    "* all the sound points in the initial space will be condensed into the microphone's membrane. \n",
    "* the initial surrounding space is replaced by a sound point.\n",
    "* if we play back it, it generates a new sound distribution in a new surrounding space.\n",
    "* the diffusion medium (loudspeaker) is neutral favoring an acousmatic sound perception\n",
    "* we can consider this sound point as a word, a representation, not a recording of reality.\n",
    "* we can call this representation a 'sound object'.\n",
    "\n",
    "A sound object is any sound phenomenon perceived:\n",
    "\n",
    "* as a coherent whole. \n",
    "* heard in an acousmatic situation, regardless of its origin and meaning.\n",
    "\n",
    "<audio controls src='suoni/henry.mp3'></audio>   \n",
    "\n",
    "P.Henry - Futuriste for tape (1975)"
   ]
  },
  {
   "cell_type": "markdown",
   "id": "19a93eee",
   "metadata": {},
   "source": [
    "## Objects, structure and form <a name=\"forms\"></a>\n",
    "\n",
    "<!---<center><img src=\"img/struc.png\" width=\"15%\"></center>--->\n",
    "\n",
    "<div style=\"width:15%; margin-left: auto; margin-right: auto\">\n",
    "\n",
    "![](img/struc.png)\n",
    "   \n",
    "</div>\n",
    "\n",
    "Schaeffer argues also that the object/structure pair is at the basis of our perceptual activity.\n",
    "\n",
    "What is a structure?\n",
    "\n",
    "A structure is a model the skeleton of a form.\n",
    "\n",
    "What is a form?\n",
    "\n",
    "The general concept of form exposed by A.Lalande (Vocabulaire technique et critique de la philosophie): \n",
    "\n",
    "\"Forms are sets, which constitute autonomous units, manifest an internal solidarity, and have their own laws. \n",
    "\n",
    "The nature of each element (object) depends on the structure of the whole and the laws that govern it. \n",
    "\n",
    "Neither psychologically nor physiologically does the element (object) pre-exist the whole.\"\n",
    "\n",
    "The concept of form is therefore more complex than that of structure\n",
    "\n",
    "Schaeffer illustrates this concept with two examples from western musical tradition:\n",
    "\n",
    "* a melody cannot be reduced to the sequence of notes that compose it.\n",
    "  - if when we listen to a melody we focus our attention on a single note, the perception of the melody vanishes.\n",
    "  - if we focus our attention on the entire melody (melodic profile) the perception of the individual notes vanishes.\n",
    "* if the melody is in G major and we play an F natural we perceive a discordant note.\n",
    "  - the musical scale is a structure that influences the encoding and decoding of the notes (objects).\n",
    "\n",
    "Let us remember the continuous reference of the signs (objects) discussed in the paragraph on the musical meaning.\n",
    "\n",
    "Structure provides the relevant features that enable members of a musical tradition to encode and decode sounds.\n",
    "\n",
    "In music, these structures are usually organized according to coherent variations of characterizing patterns (major, minor, etc.).\n",
    "\n",
    "Schaeffer then aims to define a new sound vocabulary based on the intrinsic sound characteristics (morphosyntax) of sound objects.\n",
    "\n",
    "\n",
    "Sound objects become musical objects."
   ]
  },
  {
   "cell_type": "markdown",
   "id": "68fee380",
   "metadata": {},
   "source": [
    "## Musical objects <a name=\"mobj\"></a>\n",
    "\n",
    "<!---<center><img src=\"img/texture1.png\" width=\"10%\"></center>--->\n",
    "\n",
    "<div style=\"width:10%; margin-left: auto; margin-right: auto\">\n",
    "\n",
    "![](img/texture1.png)\n",
    "   \n",
    "</div>\n",
    "\n",
    "When we start to write a sound or musical work on a fixed media we should define a procedure:\n",
    "\n",
    "1. Choose and/or define the sound material (recorded or synthetic) to be used in the piece (sound objects).\n",
    "\n",
    "    This choice should be made by: \n",
    "\n",
    "    * recorded sound objects $\\rightarrow$ analysis of their morphological characteristics (perception).\n",
    "    * synthesized sound objects $\\rightarrow$ definition of their morphological characteristics (idea of a sound).\n",
    "\n",
    "    In both cases (analysis or definition) we can employ some simple strategies derived from the much more complex theories of composers and musicologists such as P.Schaeffer, M.Chion, D.Smalley and others.\n",
    "\n",
    "    We should think about:\n",
    " \n",
    "    * Mass $\\rightarrow$ (spectral) quality that describes its perceived consistency, density, or \"weight\".\n",
    "\n",
    "      - pure sound (sinusoid)\n",
    "      - tonic sound - defined pitch harmonic spectra (instrument)\n",
    "      - tonic group (chord or melodic pattern whitin a range)\n",
    "      - mixed sound (ambiguos)\n",
    "      - node (tremolo or ribattuto)\n",
    "      - nodal group (texture of inharmonic sounds)\n",
    "      - noise (white, pink, etc.)\n",
    "\n",
    "    * Matter - grain - texture - object surface\n",
    "      - smooth (static)\n",
    "        <!---<center><img src=\"img/linea.png\" width=\"5%\"></center>--->\n",
    "\n",
    "        <div style=\"width:12%; margin-left: 0; margin-right: auto\">\n",
    "\n",
    "        ![](img/linea.png)\n",
    "   \n",
    "        </div>\n",
    "      - harmonica (trembling)\n",
    "        <!---<center><img src=\"img/tremore.png\" width=\"5%\"></center>--->\n",
    "\n",
    "        <div style=\"width:12%; margin-left: 0; margin-right: auto\">\n",
    "\n",
    "        ![](img/tremore.png)\n",
    "   \n",
    "        </div> \n",
    "      - compact harmonica (fluctuating)\n",
    "        <!---<center><img src=\"img/scricchiolio.png\" width=\"5%\"></center>--->\n",
    "\n",
    "        <div style=\"width:12%; margin-left: 0; margin-right: auto\">\n",
    "\n",
    "        ![](img/scricchiolio.png)\n",
    "   \n",
    "        </div>  \n",
    "      - compact (rustling)\n",
    "        <!---<center><img src=\"img/fruscio.png\" width=\"5%\"></center>--->\n",
    "\n",
    "        <div style=\"width:12%; margin-left: 0; margin-right: auto\">\n",
    "\n",
    "        ![](img/fruscio.png)\n",
    "   \n",
    "        </div>  \n",
    "      - compact discontinuous (rhombus)\n",
    "        <!---<center><img src=\"img/rombo.png\" width=\"5%\"></center>--->\n",
    "\n",
    "        <div style=\"width:12%; margin-left: 0; margin-right: auto\">\n",
    "\n",
    "        ![](img/rombo.png)\n",
    "   \n",
    "        </div>   \n",
    "      - discontinuous (crackling)\n",
    "        <!---<center><img src=\"img/crepitio.png\" width=\"5%\"></center>--->\n",
    "\n",
    "        <div style=\"width:12%; margin-left: 0; margin-right: auto\">\n",
    "\n",
    "        ![](img/crepitio.png)\n",
    "   \n",
    "        </div>   \n",
    "      - discontinuous harmonic (squeak)\n",
    "        <!---<center><img src=\"img/cigolio.png\" width=\"5%\"></center>--->\n",
    "\n",
    "        <div style=\"width:12%; margin-left: 0; margin-right: auto\">\n",
    "\n",
    "        ![](img/cigolio.png)\n",
    "   \n",
    "        </div> \n",
    "      - rhytmic (measured pattern)\n",
    "        <!---<center><img src=\"img/morse.png\" width=\"5%\"></center>--->\n",
    "\n",
    "        <div style=\"width:12%; margin-left: 0; margin-right: auto\">\n",
    "\n",
    "        ![](img/morse.png)\n",
    "   \n",
    "        </div> \n",
    "\n",
    "    * Dynamic\n",
    "      - global (dynamic profile) - if a sound object is fortissimo or piano or...\n",
    "      - internal (grain envelopes) - dynamic evolution or contrast in internal parts.\n",
    "\n",
    "    <!---<center><img src=\"img/dyno.png\" width=\"5%\"></center>--->\n",
    "\n",
    "    <div style=\"width:10%; margin-left: auto; margin-right: auto\">\n",
    "\n",
    "    ![](img/dyno.png)\n",
    "   \n",
    "    </div>   \n",
    "\n",
    "    Each of these parameters may or may not evolve over the course of the sound object in different ways:\n",
    "\n",
    "    * static (-) $\\rightarrow$ no evolution or small small fluctuations (tremolo, vibrato, beting, etc.)\n",
    "      <!---<center><img src=\"img/static.png\" width=\"5%\"></center>--->\n",
    "\n",
    "      <div style=\"width:10%; margin-left: 0; margin-right: auto\">\n",
    "\n",
    "      ![](img/static.png)\n",
    "   \n",
    "      </div> \n",
    "    * opening (<) $\\rightarrow$  up glissando, crescendo, increase in density, etc.\n",
    "      <!---<center><img src=\"img/open.png\" width=\"5%\"></center>--->\n",
    "\n",
    "      <div style=\"width:10%; margin-left: 0; margin-right: auto\">\n",
    "\n",
    "      ![](img/open.png)\n",
    "   \n",
    "      </div> \n",
    "    * closing (>) $\\rightarrow$ down glissando, diminuendo, decrease in density, etc.\n",
    "      <!---<center><img src=\"img/close.png\" width=\"10%\"></center>--->\n",
    "\n",
    "      <div style=\"width:10%; margin-left: 0; margin-right: auto\">\n",
    "\n",
    "      ![](img/close.png)\n",
    "   \n",
    "      </div> \n",
    "    * alternated (<>) $\\rightarrow$ open and close like a pendoluum\n",
    "       <!---<center><img src=\"img/alternate.png\" width=\"10%\"></center>--->\n",
    "\n",
    "      <div style=\"width:10%; margin-left: 0; margin-right: auto\">\n",
    "\n",
    "      ![](img/alternate.png)\n",
    "   \n",
    "      </div> \n",
    "    * variated $\\rightarrow$ variation in pattern (rhythmic or melodic or spactral, etc.)\n",
    "      <!---<center><img src=\"img/varia.png\" width=\"20%\"></center>--->\n",
    "\n",
    "      <div style=\"width:10%; margin-left: 0; margin-right: auto\">\n",
    "\n",
    "      ![](img/varia.png)\n",
    "   \n",
    "      </div> \n",
    "    * random $\\rightarrow$ non evolutive. \n",
    "      <!---<center><img src=\"img/random.png\" width=\"10%\"></center>--->\n",
    "\n",
    "      <div style=\"width:10%; margin-left: 0; margin-right: auto\">\n",
    "\n",
    "      ![](img/random.png)\n",
    "   \n",
    "      </div> \n",
    "\n",
    "    These evolution can be fast or slow.\n",
    "\n",
    "2. Build a sound vocabulary (a sound palette) that includes one or more sets of sounds elaborated from those chosen in the previous point.\n",
    "\n",
    "    The criteria adopted in generating this sound palette can be varied, including:\n",
    "\n",
    "    * a set of coherent sound objects with morphological similarity to the original sound object\n",
    "    * a set of sound objects with gradual differentiation (direction, interpolation, etc.)\n",
    "    * a set of incoherent sound objects where the sound processing distort the original morphology.\n",
    "\n",
    "    The sound objects included in these sets become 'musical objects' because they have acquired a semantic function within a system (such as the division of the octave into intervals of a scale in Western music theory).\n",
    "\n",
    "3. Crder (compose) these sounds over time into different types of sound textures and paths, designing a musical form.\n",
    "\n",
    "    The criteria we can adopt in doing so can include among others: \n",
    "    * staticity\n",
    "    * evolution\n",
    "    * variation\n",
    "    * continuity\n",
    "    * discontinuity\n",
    "    * contrast\n",
    "    * uniformity \n",
    "    * etc. \n",
    "\n",
    "In this way we can construct and formalize an abstract thought.\n",
    "\n",
    "Let's try to recognize musical objects, their characteristics and how they evolve over time in these extracts from B.Parmegiani works.\n",
    "\n",
    "<center><video width=\"40%\" controls src=\"suoni/parme1.mp4\"></video></center>\n",
    "\n",
    "<audio controls src='suoni/parme2.mp3'></audio> \n",
    "\n",
    "<audio controls src='suoni/parme3.mp3'></audio> "
   ]
  },
  {
   "cell_type": "markdown",
   "id": "22ccd5df",
   "metadata": {},
   "source": [
    "## Time courses and musical forms <a name=\"tandform\"></a>  \n",
    "\n",
    "Some further thoughts regarding time courses and musical forms.\n",
    "\n",
    "In the figurative arts (architecture, painting, sculpture) forms exist in the dimension of space.\n",
    "\n",
    "<!---<center><img src=\"img/scultura.png\" width=\"10%\"></center>--->\n",
    "\n",
    "<div style=\"width:10%; margin-left: auto; margin-right: auto\">\n",
    "\n",
    "![](img/scultura.png)\n",
    "   \n",
    "</div>\n",
    "\n",
    "Musical forms are created over time.\n",
    "\n",
    "<!---<center><img src=\"img/metronomo.png\" width=\"10%\"></center>--->\n",
    "\n",
    "<div style=\"width:10%; margin-left: auto; margin-right: auto\">\n",
    "\n",
    "![](img/metronomo.png)\n",
    "   \n",
    "</div>\n",
    "\n",
    "We cannot think of time in forms but only as events with different temporal courses\n",
    "\n",
    "<!---<center><img src=\"img/corsie.png\" width=\"10%\"></center>--->\n",
    "\n",
    "<div style=\"width:10%; margin-left: auto; margin-right: auto\">\n",
    "\n",
    "![](img/corsie.png)\n",
    "   \n",
    "</div>\n",
    "\n",
    "A musical form can be defined as a thought that thinks about the course of events.\n",
    "\n",
    "<!---<center><img src=\"img/pianoroll.png\" width=\"20%\"></center>--->\n",
    "\n",
    "<div style=\"width:20%; margin-left: auto; margin-right: auto\">\n",
    "\n",
    "![](img/pianoroll.png)\n",
    "   \n",
    "</div>\n",
    "\n",
    "In the temporal domain (and therefore in the musical domain) there are two main formal typologies:\n",
    "\n",
    "* teleo-logical\n",
    "* circular\n",
    "\n",
    "#### Teleo-logical time \n",
    "\n",
    "This time-course is goal-oriented and plays a dominant role in Western music.\n",
    "\n",
    "The mode of a medieval melody is determined by the finalis which is the last event of the course.\n",
    "\n",
    "<audio controls src='suoni/finalis.mp3'></audio> \n",
    "\n",
    "In tonal harmony a dissonance tends toward resolution just as a cadence moves toward the closing tonic.\n",
    "\n",
    "<audio controls src='suoni/risolvi.mp3'></audio> \n",
    "\n",
    "Over a longer time an opera or the movements of a symphony gravitate towards the Finale (micro and macro structure).\n",
    "\n",
    "Tonality based on harmonic functions has a teleo-logical nature as the sound aggregates are constantly moving towards reference points.\n",
    "\n",
    "<audio controls src='suoni/aggregati.mp3'></audio> \n",
    "\n",
    "A point-to-point movement.\n",
    "\n",
    "Only at the end when we reach the final cadence the process of the whole being formed into a figure temporally accomplished.\n",
    "\n",
    "<center><video width=\"40%\" controls src=\"suoni/forma1.mov\"></video></center>\n",
    "\n",
    "#### Circular time\n",
    "\n",
    "Movement returns incessantly to itself; it has no goal, no beginning, and no end.\n",
    "\n",
    "In Western music, it appears:\n",
    "\n",
    "* in the dissolution of functional harmony (early 1900) - G.Malher extract.\n",
    "\n",
    "  <audio controls src='suoni/mal.mp3'></audio> \n",
    "\n",
    "* in phenomena of the serial or stochastic pointillistic form (mid 1900) - A.Webern extract.\n",
    "\n",
    "  <audio controls src='suoni/web.mp3'></audio> \n",
    "\n",
    "* in phenomena of the anvantgarde and experimental music (after 1950) - La.Monte Young extract.\n",
    "\n",
    "  <audio controls src='suoni/mont.mp3'></audio> \n",
    "\n",
    "Music is de-teleologized and de-temporalized, eliminating any defined profile.\n",
    "\n",
    "Thought that considers the process frees itself from the chains that bind it to hierarchies and the need to strive toward a goal.\n",
    "\n",
    "A typical position of Eastern philosophies, thought seeks to free itself from all limitations to achieve the unity of being.\n",
    "\n",
    "The concept of time in music has always historically stemmed from a general reflection.\n",
    "\n",
    "For this reason, today we can choose which temporal typology to adopt to best construct the desired musical form."
   ]
  },
  {
   "cell_type": "markdown",
   "id": "6ef03811",
   "metadata": {},
   "source": [
    "## The poietic dimension: determinism <a name=\"comprocess\"></a>\n",
    "\n",
    "In the previous chapter we saw that the musicologist J.J.Nattiez defines the poietic dimension as the set of strategies activated by the author that lead to the creation of the work (something that did not exist before).\n",
    "\n",
    "As for the simple organization of sounds over time, stripped of all other components that contribute to their creation, the processes we can employ in design and implementation are essentially two types:\n",
    "\n",
    "* deterministic procedures\n",
    "* stochastic procedures\n",
    "\n",
    "We will deal with the first type in this paragraph while the second in the chapter on computer music.\n",
    "\n",
    "In philosophical and scientific language, determinism is a conception according to which the events of metaphysical, physical, or moral reality are necessarily and invariably connected to each other.\n",
    "\n",
    "If we make this choice when composing a piece, we face two options:\n",
    "\n",
    "* use our 'libero arbitrio' and choose all the parameters at our own discretion (not randomly, but according to a specific intention).\n",
    "* follow or create systems of rules to generate or transform some or all of the parameters.\n",
    "\n",
    "#### Libero arbitrio\n",
    "\n",
    "This procedure may seem the simplest.\n",
    "\n",
    "In reality it is the most complex because it cannot be formalized.\n",
    "\n",
    "Its success depends exclusively on the composer's determination and experience. \n",
    "\n",
    "It requires a high level of consciousness.\n",
    "\n",
    "It presupposes a full awareness of oneself and the external world with which we interact, our identity and the complexities of our internal activities. \n",
    "\n",
    "This is because the conveyance of the musical idea cannot by definition be governed by rules shared by:\n",
    "* composer \n",
    "* performer\n",
    "* listener.\n",
    "\n",
    "If we choose this procedure we must be careful to avoid any mnemonic reference to any musical systems. \n",
    "\n",
    "It is a-thematic and a-motivic in the form of an infinite ever-changing continuous line. \n",
    "\n",
    "Without developments, perceptible variations, or repetitions.\n",
    "\n",
    "It is perhaps the procedure closest to pure unmediated expression.\n",
    "\n",
    "We can consider it the ultimate point of arrival in the historical development of a musical civilization, absolute freedom understood not as a void but as a container of all possible rules.\n",
    "\n",
    "#### Rules and theories\n",
    "\n",
    "The second option is to:\n",
    "\n",
    "* choose a system of rules from a past or present musical tradition.\n",
    "* define our own system of rules that can be valid only for a single piece or a distinctive feature of our poetics.\n",
    "\n",
    "The main difference is that in the first case the codes of meaning are shared within a reference culture while in the second they are not, or not yet.\n",
    "\n",
    "Unlike in the past, today we can choose the system that best conveys our musical thinking because never before have our ears and senses been bombarded as continuously by every type of sound and language from the most disparate media as we are in our daily lives.\n",
    "\n",
    "This idea is masterfully expressed in the appendix to some editions of I. Calvino's American Lessons, entitled \"Beginning and Ending.\"\n",
    "\n",
    "\"[...]</br>\n",
    "Start writing a novel. \n",
    "\n",
    "And this is the moment of choice: we are offered the possibility of saying everything, in every possible way; and we must arrive at saying one thing, in a particular way. \n",
    "\n",
    "The starting point [...] will therefore be this decisive moment for the writer: the detachment from the unlimited and multifaceted potentiality to encounter something that does not yet exist but that can exist only by accepting limits and rules. \n",
    "\n",
    "Up until the moment before we begin to write, we have the world at our disposal, a sum of information, experiences, values – the world given as a whole, without a before or an after, the world as individual memory and as implicit potentiality; and we want to extract from this world a discourse, a story, a feeling: or perhaps more precisely we want to perform an operation that allows us to situate ourselves in this world. \n",
    "\n",
    "We have all the languages at our disposal: those developed by literature, the styles in which civilizations and individuals have expressed themselves over the centuries and countries, and also the languages developed by the most varied disciplines, aimed at achieving the most varied forms of knowledge: and we want extract from it the language suitable for saying what we want to say, the language that is what we want to say.\n",
    "[...]\""
   ]
  },
  {
   "cell_type": "markdown",
   "id": "a88a11a6",
   "metadata": {},
   "source": [
    "# Sound processing techniques in SuperCollider <a name=\"sproc\"></a>\n",
    "\n",
    "In this section we implement in SuperCollider some historical sound processing techniques controlled through deterministic procedures (scoring and sequencing).\n",
    "\n",
    "Through these sound processing techniques we can define the sound palette (vocabulary) illustrated in point 2 of the previous paragraph.\n",
    "\n",
    "We can divide them into two categories based on the characteristics of the oscillator type used:\n",
    "* sampling \n",
    "* scratching\n",
    "\n",
    "In both cases we need to load the soundfiles into one or more buffers"
   ]
  },
  {
   "cell_type": "markdown",
   "id": "f5b56729",
   "metadata": {},
   "source": [
    "## Buffers <a name=\"buffers\"></a>\n",
    "\n",
    "When we want to proces a sounfile I suggest to use mono files.\n",
    "\n",
    "Boot the audio system with few GUI."
   ]
  },
  {
   "cell_type": "code",
   "execution_count": 14,
   "id": "affeb3ac",
   "metadata": {
    "vscode": {
     "languageId": "python"
    }
   },
   "outputs": [
    {
     "name": "stdout",
     "output_type": "stream",
     "text": [
      "-> a Function"
     ]
    }
   ],
   "source": [
    "s.boot;\n",
    "{s.meter;\n",
    " s.plotTree}.defer(3);"
   ]
  },
  {
   "cell_type": "markdown",
   "id": "cb928dce",
   "metadata": {},
   "source": [
    "Load a single soundile in one buffer."
   ]
  },
  {
   "cell_type": "code",
   "execution_count": null,
   "id": "3542da2c",
   "metadata": {
    "vscode": {
     "languageId": "python"
    }
   },
   "outputs": [],
   "source": [
    "b = Buffer.read(s, \"/Users/andreavigani/Desktop/GHub/EMC/3_fixed/suoni/bach.wav\"); // Absolute path"
   ]
  },
  {
   "cell_type": "markdown",
   "id": "f8f1c153",
   "metadata": {},
   "source": [
    "As a best practice it is better to include all the sound files in one folder and provide the relative path.\n",
    "\n",
    "It work only in SuperCollider IDE, not in Jupyter sc_kernel."
   ]
  },
  {
   "cell_type": "code",
   "execution_count": null,
   "id": "f5360898",
   "metadata": {
    "vscode": {
     "languageId": "python"
    }
   },
   "outputs": [],
   "source": [
    "\"sounds/bach.wav\".resolveRelative;"
   ]
  },
  {
   "cell_type": "markdown",
   "id": "2a1388fb",
   "metadata": {},
   "source": [
    "Some utility"
   ]
  },
  {
   "cell_type": "code",
   "execution_count": null,
   "id": "f9ac68a4",
   "metadata": {
    "vscode": {
     "languageId": "python"
    }
   },
   "outputs": [],
   "source": [
    "b.normalize; // Normalize\n",
    "b.plot;      // Visual monitor\n",
    "b.play;      // Audio monitor"
   ]
  },
  {
   "cell_type": "markdown",
   "id": "389b664a",
   "metadata": {},
   "source": [
    "Delete Buffer(s) from Server's memory."
   ]
  },
  {
   "cell_type": "code",
   "execution_count": null,
   "id": "922615f3",
   "metadata": {
    "vscode": {
     "languageId": "python"
    }
   },
   "outputs": [],
   "source": [
    "b.free;     // a specific Buffer\n",
    "s.freeAll;  // all Buffers"
   ]
  },
  {
   "cell_type": "markdown",
   "id": "5ec590d0",
   "metadata": {},
   "source": [
    "Load many sounfiles from a folder \n",
    "\n",
    "One soundfile $\\rightarrow$ one Buffer."
   ]
  },
  {
   "cell_type": "code",
   "execution_count": null,
   "id": "d00ac823",
   "metadata": {
    "vscode": {
     "languageId": "python"
    }
   },
   "outputs": [],
   "source": [
    "~paths = (\"/Users/andreavigani/Desktop/GHub/EMC/3_fixed/suoni\" ++ \"/*.wav\").pathMatch; // Absolute or relative path\n",
    "\n",
    "~bufs  = ~paths.collect{arg i; Buffer.read(s, i)};"
   ]
  },
  {
   "cell_type": "markdown",
   "id": "cfce3996",
   "metadata": {},
   "source": [
    "We can then recall them by index."
   ]
  },
  {
   "cell_type": "code",
   "execution_count": null,
   "id": "c33a4b65",
   "metadata": {
    "vscode": {
     "languageId": "python"
    }
   },
   "outputs": [],
   "source": [
    "~bufs[1].play; "
   ]
  },
  {
   "cell_type": "markdown",
   "id": "9abbfd2d",
   "metadata": {},
   "source": [
    "Stopping audio:\n",
    "\n",
    "* SuperCollider $\\rightarrow$ cmd + .\n",
    "* Jupyter sc_kernel $\\rightarrow$ execute the cell below."
   ]
  },
  {
   "cell_type": "code",
   "execution_count": null,
   "id": "27e67c28",
   "metadata": {
    "vscode": {
     "languageId": "python"
    }
   },
   "outputs": [],
   "source": [
    "."
   ]
  },
  {
   "cell_type": "markdown",
   "id": "9a4229e9",
   "metadata": {},
   "source": [
    "## Sampling <a name=\"sampling\"></a>\n",
    "\n",
    "Let's define an instrument and the parameters we want to control:\n",
    "\n",
    "* Buffer to play\n",
    "* Start position\n",
    "  - absolute (0 to Buffer duration in seconds)\n",
    "  - relative (0 to 1)\n",
    "* Duration (seconds)\n",
    "* Amplitude (0 to 1)\n",
    "* Trasposition in semitones (float $\\rightarrow$ cents)\n",
    "* Direction (1 $\\rightarrow$ recto -1 $\\rightarrow$ verso)\n",
    "* Pan (-1 to 1)\n",
    "* Trigger (without sustain)\n",
    "* DoneAction (voice allocation type)"
   ]
  },
  {
   "cell_type": "code",
   "execution_count": 15,
   "id": "bd462bd5",
   "metadata": {
    "vscode": {
     "languageId": "python"
    }
   },
   "outputs": [
    {
     "name": "stdout",
     "output_type": "stream",
     "text": [
      "-> a SynthDef"
     ]
    }
   ],
   "source": [
    "SynthDef(\\smp, {arg buf=0,pos=0,dur=0.2,amp=0,trsp=0,dir=1,pan=0,t_gate=0,done=2;\n",
    "                var sig,env;\n",
    "                    sig = PlayBuf.ar(1, buf,                               // UGen (oscillator)\n",
    "                                    BufRateScale.kr(buf) * trsp.midiratio  // Trasposition\n",
    "                                                         * dir,            // Direction\n",
    "                                    t_gate,                                // Trigger\n",
    "\t\t                            BufSampleRate.kr(buf)* pos);           // Absolute start position \n",
    "\t                             // BufFrames.kr(buf) * pos);              // Relative start position (0 to 1)\n",
    "                    env = Env.linen(0.01,dur-0.02,0.01);                   // Trapezoidal envelope\n",
    "                    env = EnvGen.kr(env, t_gate, doneAction:done);\n",
    "                    sig = Pan2.ar(sig * env * amp, pan);\n",
    "                Out.ar(0,sig)\n",
    "        }).add;"
   ]
  },
  {
   "cell_type": "markdown",
   "id": "5cb50217",
   "metadata": {},
   "source": [
    "Test it"
   ]
  },
  {
   "cell_type": "code",
   "execution_count": 16,
   "id": "d70d674d",
   "metadata": {
    "vscode": {
     "languageId": "python"
    }
   },
   "outputs": [
    {
     "name": "stdout",
     "output_type": "stream",
     "text": [
      "-> Synth('smp' : 1002)"
     ]
    }
   ],
   "source": [
    "Buffer.freeAll;\n",
    "b = Buffer.read(s, \"/Users/andreavigani/Desktop/GHub/EMC/3_fixed/suoni/bach.wav\");\n",
    "\n",
    "Synth(\\smp,[\\buf,b, \\pos,2.3, \\dur,0.2, \\amp,1, \\trsp,0, \\dir,1, \\pan,0, \\done,2, \\t_gate,1])"
   ]
  },
  {
   "cell_type": "markdown",
   "id": "cd4454e2",
   "metadata": {},
   "source": [
    "### Sequencing - windowing <a name=\"scoring\"></a>\n",
    "\n",
    "We can define a sequence of parameter changes in the form of an Array and then dynamically recall it over time.\n",
    "\n",
    "Next exemple has to do with 'libero arbitrio' as we can set all the details of the sequence as we want."
   ]
  },
  {
   "cell_type": "code",
   "execution_count": 18,
   "id": "d05bf059",
   "metadata": {
    "vscode": {
     "languageId": "python"
    }
   },
   "outputs": [
    {
     "name": "stdout",
     "output_type": "stream",
     "text": [
      "8\n",
      "-> a Routine"
     ]
    }
   ],
   "source": [
    "~tstr = 0.8;   // Time stratching factor\n",
    "\n",
    "~pos = [5.82, 9.11, 9.76, 0.39, 9.21, 2.85, 2.31, 0.05];          // Score\n",
    "~amp = [0.40, 0.65, 0.85, 1.00, 0.70, 0.50, 0.30, 0.10];\n",
    "~dur = [1.40, 0.46, 1.18, 2.39, 0.69, 1.15, 3.41, 1.55] * ~tstr;\n",
    "~trs = [1.40, 0.46, 2.18,-2.39, 3.69, 2.15,-3.41, 1.55];\n",
    "~del = [1.48, 0.54, 2.41, 1.26, 3.07, 0.89, 1.16, 0.89] * ~tstr;  // Delta times \n",
    "~dir = [1,      -1,   -1,    1,    1,   -1,    1,   1 ];\n",
    "~pan = [-1,   -0.8, -0.6, -0.4,    0,  0.4,  0.6,   1 ];\n",
    "~evt = ~del.size.postln;                                          // Number of sonic events (notes)\n",
    "\n",
    "r = Routine({\n",
    "            ~evt.do({arg id;                           \n",
    "                         id.postln;\n",
    "                         Synth(\\smp,[\\buf,b,\n",
    "                                     \\pos, ~pos[id],           // Array items called back by index\n",
    "                                     \\amp, ~amp[id],\n",
    "                                     \\dur, ~dur[id],\n",
    "                                     \\trsp,~trs[id],\n",
    "                                     \\dir,~dir[id],\n",
    "                                     \\pan,~pan[id],\n",
    "                                     \\done,2,\n",
    "                                     \\t_gate,1\n",
    "                                    ]);\n",
    "\t\t                 ~del[id].wait;                        // Delta times\n",
    "\t                })\n",
    "            }).play"
   ]
  },
  {
   "cell_type": "code",
   "execution_count": 13,
   "id": "42419cb2",
   "metadata": {
    "vscode": {
     "languageId": "python"
    }
   },
   "outputs": [
    {
     "name": "stdout",
     "output_type": "stream",
     "text": [
      "-> CmdPeriod"
     ]
    }
   ],
   "source": [
    "."
   ]
  },
  {
   "cell_type": "markdown",
   "id": "4178a382",
   "metadata": {},
   "source": [
    "Next example has to do with setting up deterministic rules.\n",
    "\n",
    "The rule is cutting the soundfile in a defined number of cues and play it back with a defined time stratching."
   ]
  },
  {
   "cell_type": "code",
   "execution_count": 19,
   "id": "001974f2",
   "metadata": {
    "vscode": {
     "languageId": "python"
    }
   },
   "outputs": [
    {
     "name": "stdout",
     "output_type": "stream",
     "text": [
      "-> a Routine"
     ]
    }
   ],
   "source": [
    "~nfrag = 80;                // choose a number of cues\n",
    "~dur   = b.duration/~nfrag; // compute the fragment duratio related to buffer duration\n",
    "~pos   = 0;                 // start position\n",
    "~stch  = -0.08;             // if > 0 = rest elif < 0 = superimposion (poliphony)\n",
    "\n",
    "r = Routine({\n",
    "            ~nfrag.do({\n",
    "                    Synth(\\smp,[\\buf,b,\n",
    "                                \\pos, ~pos.postln,\n",
    "                                \\dur, ~dur,\n",
    "                                \\amp, 1,  //rand(1.0),\n",
    "                                \\trsp, 0, //rand2(3),\n",
    "                                \\dir, 1,  // [1,-1].choose,\n",
    "                                \\pan, 0,\n",
    "                                \\done, 2,\n",
    "                                \\t_gate, 1\n",
    "                                ]);\n",
    "                    ~pos = ~pos+~dur;      // position increases at each step\n",
    "                    (~dur+~stch).wait\n",
    "\t                })\n",
    "            }).play"
   ]
  },
  {
   "cell_type": "code",
   "execution_count": null,
   "id": "91213a65",
   "metadata": {
    "vscode": {
     "languageId": "python"
    }
   },
   "outputs": [],
   "source": [
    "."
   ]
  },
  {
   "cell_type": "markdown",
   "id": "205eaef0",
   "metadata": {},
   "source": [
    "### Enveloping <a name=\"enveloping\"></a>\n",
    "\n",
    "This technique consists in modifying the type of amplitude envelope of the original fragment.\n",
    "\n",
    "We can do it in two ways:\n",
    "\n",
    "* uniform $\\rightarrow$ one envelope type for all sonic events (grain).\n",
    "\n",
    "  Here a percussive envelope."
   ]
  },
  {
   "cell_type": "code",
   "execution_count": 22,
   "id": "ee4bd922",
   "metadata": {
    "vscode": {
     "languageId": "python"
    }
   },
   "outputs": [
    {
     "name": "stdout",
     "output_type": "stream",
     "text": [
      "-> a SynthDef"
     ]
    }
   ],
   "source": [
    "SynthDef(\\grain, {arg buf=0, pos=0, dur=0.2, amp=0, trsp=0, dir=1, pan=0,\n",
    "\t                  t_gate=0, atk=0.1, done=2;\n",
    "                  var sig,env;\n",
    "                      sig = PlayBuf.ar(1, buf,\n",
    "                                       BufRateScale.kr(buf) * trsp.midiratio * dir,\n",
    "                                       t_gate,\n",
    "                                       BufSampleRate.kr(buf)* pos );\n",
    "                     env = Env.perc(atk, dur-atk);\n",
    "                     env = EnvGen.kr(env,t_gate,doneAction:done);\n",
    "                     sig = Pan2.ar(sig * env * amp, pan);\n",
    "                Out.ar(0,sig)\n",
    "                }).add;"
   ]
  },
  {
   "cell_type": "markdown",
   "id": "6ff5593d",
   "metadata": {
    "vscode": {
     "languageId": "python"
    }
   },
   "source": [
    "We can change dynamically attack time (0.01 to 0.99)"
   ]
  },
  {
   "cell_type": "code",
   "execution_count": 23,
   "id": "ac05782c",
   "metadata": {
    "vscode": {
     "languageId": "python"
    }
   },
   "outputs": [
    {
     "name": "stdout",
     "output_type": "stream",
     "text": [
      "-> a Routine"
     ]
    }
   ],
   "source": [
    "~durs = [0.79,0.68,0.57,0.46,0.25,0.14,0.23,0.32,0.41];       \n",
    "~pos  = [1.1,2.3,0.5,3.7,1.9,2.1,0.3,3.5,2.7];\n",
    "~atk  = [0.01,0.02,0.43,0.04,0.35,0.06,0.57,0.08,0.89];      \n",
    "\n",
    "r = Routine({\n",
    "            inf.do({arg item,id;                               // inf keyword --> loop\n",
    "                        Synth(\\grain, [\\buf, b,\n",
    "                                       \\amp, 1,\n",
    "                                       \\pos, ~pos.foldAt(id),   // foldAt()\n",
    "                                       \\done,2,\n",
    "                                       \\atk, ~atk.foldAt(id),\n",
    "                                       \\t_gate, 1]);\n",
    "\t\t                ~durs.foldAt(id).wait                  // delta times = durations\n",
    "\t                })\n",
    "            }).reset.play"
   ]
  },
  {
   "cell_type": "code",
   "execution_count": 24,
   "id": "72e7ff13",
   "metadata": {
    "vscode": {
     "languageId": "python"
    }
   },
   "outputs": [
    {
     "name": "stdout",
     "output_type": "stream",
     "text": [
      "-> CmdPeriod"
     ]
    }
   ],
   "source": [
    "."
   ]
  },
  {
   "cell_type": "markdown",
   "id": "fd162db9",
   "metadata": {},
   "source": [
    "* dynamic $\\rightarrow$ a choice of different envelopes from a set at each event.\n",
    "\n",
    "  New SynthDef with envelope set dinamically by argument"
   ]
  },
  {
   "cell_type": "code",
   "execution_count": 25,
   "id": "c8eb97e8",
   "metadata": {
    "vscode": {
     "languageId": "python"
    }
   },
   "outputs": [
    {
     "name": "stdout",
     "output_type": "stream",
     "text": [
      "-> a SynthDef"
     ]
    }
   ],
   "source": [
    "SynthDef(\\envi,{arg buf=0,pos=0,amp=0,trsp=0,dir=1,pan=0,t_gate=0,done=2;\n",
    "                var sig,env;\n",
    "                    sig  = PlayBuf.ar(1,buf,\n",
    "                                        BufRateScale.kr(buf) * trsp.midiratio * dir,\n",
    "                                        t_gate,\n",
    "                                        BufSampleRate.kr(buf)* pos );\n",
    "                    env = Env.newClear(4);         // New Envelope with 4 nodes\n",
    "                    env = \\env.kr(env.asArray);    // Read Envelope type from argument\n",
    "                    env = EnvGen.kr(env, t_gate, doneAction:done);\n",
    "                    sig = Pan2.ar(sig * env * amp, pan);\n",
    "                Out.ar(0,sig)\n",
    "                }).add;"
   ]
  },
  {
   "cell_type": "markdown",
   "id": "78de2108",
   "metadata": {},
   "source": [
    "Here a sequence with different envelope at each event."
   ]
  },
  {
   "cell_type": "code",
   "execution_count": 26,
   "id": "2309a249",
   "metadata": {
    "vscode": {
     "languageId": "python"
    }
   },
   "outputs": [
    {
     "name": "stdout",
     "output_type": "stream",
     "text": [
      "-> a Routine"
     ]
    }
   ],
   "source": [
    "d = 0.2;                           // Duration\n",
    "f = [Env.perc(0.1,1).duration_(d), // Array with different types of envelopes (all same duration)\n",
    "     Env.triangle(d),\n",
    "     Env.sine(d),\n",
    "     Env.linen(0.1,1,0.7).duration_(d)\n",
    "     ];\n",
    "\n",
    "~env = [f[0],f[1],f[2],f[3],f[2],f[4],f[1],f[2],f[0],f[2],f[3],f[1]];   // Envelope sequence\n",
    "\n",
    "r = Routine({\n",
    "          inf.do({arg id;                               \n",
    "                      Synth(\\envi,[\\buf, b,\n",
    "                                   \\amp, 1,\n",
    "                                   \\pos, 1,\n",
    "                                   \\done, 2,\n",
    "                                   \\env, f.wrapAt(id),     // wrapAt()\n",
    "                                   \\t_gate, 1]); \n",
    "\t\t            d.wait;                  \n",
    "\t               })\n",
    "          }).reset.play;"
   ]
  },
  {
   "cell_type": "code",
   "execution_count": 27,
   "id": "bf417061",
   "metadata": {
    "vscode": {
     "languageId": "python"
    }
   },
   "outputs": [
    {
     "name": "stdout",
     "output_type": "stream",
     "text": [
      "-> CmdPeriod"
     ]
    }
   ],
   "source": [
    "."
   ]
  },
  {
   "cell_type": "markdown",
   "id": "25808c1f",
   "metadata": {},
   "source": [
    "## Scratching <a name=\"scratching\"></a>\n",
    "\n",
    "This second category allows us to illusinvestigate two other ways of controlling parameters:\n",
    "\n",
    "* interaction\n",
    "* control signals\n",
    "\n",
    "N.B. In this case the interaction is to be considered as preparation of the material to be fixed on the support not in the performance.\n",
    "\n",
    "We need:\n",
    "* one Synth that generate different types of control signals.\n",
    "  - mouse x position scaled from -1 to +1.\n",
    "  - mouse y position scaled from -1 to +1.\n",
    "  - random signal at sub audio frequency.\n",
    "* one control bus $\\rightarrow$ SuperCollider have a lot of control and audio buses and we can:\n",
    "  - write signal on it.\n",
    "  - read signal from it.\n",
    "* one Synth that play the buffer. Here the parameters we want to control\n",
    "  - buffer to play\n",
    "  - pointer signal (dynamic movement of position (phase) in the Buffer)\n",
    "  - smoothing time factor (seconds) - interpolation time\n",
    "  - Amplitude (0 to 1)\n",
    "  - Pan (-1 to 1)\n",
    "\n",
    "  Here a simple flow diagram:\n",
    "\n",
    "<!---<center><img src=\"img/pianoroll.png\" width=\"20%\"></center>--->\n",
    "\n",
    "<div style=\"width:30%; margin-left: auto; margin-right: auto\">\n",
    "\n",
    "![](img/kbus.png)\n",
    "   \n",
    "</div>"
   ]
  },
  {
   "cell_type": "code",
   "execution_count": 29,
   "id": "f44a5ed2",
   "metadata": {
    "vscode": {
     "languageId": "python"
    }
   },
   "outputs": [
    {
     "name": "stdout",
     "output_type": "stream",
     "text": [
      "-> Bus(control, 0, 1, localhost)"
     ]
    }
   ],
   "source": [
    "Buffer.freeAll;\n",
    "b = Buffer.read(s, \"/Users/andreavigani/Desktop/GHub/EMC/3_fixed/suoni/bach.wav\");\n",
    "\n",
    "SynthDef(\\sch, {arg buf=0, smooth=0.02, amp=0, pos=0, pan=0;\n",
    "                var pnt, sig;\n",
    "                    pnt = Lag.kr(pos.linlin(0,1,0,BufFrames.kr(buf)),smooth);\n",
    "                    sig = BufRd.ar(1, buf, K2A.ar(pnt));\n",
    "                    sig = Pan2.ar(sig * amp, pan);\n",
    "                Out.ar(0, sig)\n",
    "        }).add;\n",
    "SynthDef(\\ksig,{arg type=0, range=#[0,1], freq=1, busOut=0;\n",
    "\t            var sig;\n",
    "\t                sig = Select.kr(type,\n",
    "                                [MouseX.kr(range[0], range[1]),\n",
    "                                 MouseY.kr(range[0], range[1]),\n",
    "                                 LFNoise1.kr(freq).range(range[0], range[1])\n",
    "                                ]);\n",
    "\t            Out.kr(busOut,sig)\n",
    "        }).add;\n",
    "\n",
    "x = Bus.control(s, 1);   // a control bus (server, n_canali)"
   ]
  },
  {
   "cell_type": "markdown",
   "id": "8dd3f94c",
   "metadata": {},
   "source": [
    "Let's create the Synths."
   ]
  },
  {
   "cell_type": "code",
   "execution_count": 34,
   "id": "2c57ddbd",
   "metadata": {
    "vscode": {
     "languageId": "python"
    }
   },
   "outputs": [
    {
     "name": "stdout",
     "output_type": "stream",
     "text": [
      "-> Synth('sch' : 1185)"
     ]
    }
   ],
   "source": [
    "k = Synth(\\ksig, [\\type,0, \\range, [0, 1], \\busOut, x]);   // Synth per ksig\n",
    "a = Synth(\\sch, [\\buf,b, \\amp,1, \\pos, x.asMap, \\smooth,0.02, \\pan,0]);"
   ]
  },
  {
   "cell_type": "markdown",
   "id": "75f2448f",
   "metadata": {},
   "source": [
    "Try to change the soothing time."
   ]
  },
  {
   "cell_type": "code",
   "execution_count": 35,
   "id": "92b08bcc",
   "metadata": {
    "vscode": {
     "languageId": "python"
    }
   },
   "outputs": [
    {
     "name": "stdout",
     "output_type": "stream",
     "text": [
      "-> Synth('sch' : 1185)"
     ]
    }
   ],
   "source": [
    "a.set(\\smooth,0.2);"
   ]
  },
  {
   "cell_type": "markdown",
   "id": "e93559e5",
   "metadata": {},
   "source": [
    "Try to apply a random control signal and change its sub audio freuency."
   ]
  },
  {
   "cell_type": "code",
   "execution_count": 37,
   "id": "180f1dd7",
   "metadata": {
    "vscode": {
     "languageId": "python"
    }
   },
   "outputs": [
    {
     "name": "stdout",
     "output_type": "stream",
     "text": [
      "-> Synth('ksig' : 1184)"
     ]
    }
   ],
   "source": [
    "k.set(\\type, 2, \\freq, 2);"
   ]
  },
  {
   "cell_type": "markdown",
   "id": "6ccf4a15",
   "metadata": {},
   "source": [
    "Kill them."
   ]
  },
  {
   "cell_type": "code",
   "execution_count": 38,
   "id": "eb75e829",
   "metadata": {
    "vscode": {
     "languageId": "python"
    }
   },
   "outputs": [
    {
     "name": "stdout",
     "output_type": "stream",
     "text": [
      "-> Synth('ksig' : 1184)"
     ]
    }
   ],
   "source": [
    "a.free; k.free;"
   ]
  },
  {
   "cell_type": "markdown",
   "id": "7255582b",
   "metadata": {},
   "source": [
    "## Structures, DAW and scoring <a name=\"daw\"></a>\n",
    "\n",
    "In the previous paragraph we saw some tools for generating the sound palette with which to create the composition.\n",
    "\n",
    "Now we need to string them together into a formal structure.\n",
    "\n",
    "To do this, we have two options:\n",
    "\n",
    "* to record the musical objects generated by SuperCollider into soundfiles and edit them in a DAW.\n",
    "* to compose the entire structure directly in SuperCollider (scoring).\n",
    "\n",
    "We can record SuperColiider outputs in syncronous and asyncronour mode.\n",
    "\n",
    "1. Create the soundfile."
   ]
  },
  {
   "cell_type": "code",
   "execution_count": null,
   "id": "1a61331a",
   "metadata": {
    "vscode": {
     "languageId": "python"
    }
   },
   "outputs": [],
   "source": [
    "s.prepareForRecord(\"/Users/andreavigani/Desktop/GHub/EMC/3_fixed/suoni/prova.wav\",2); // Absolute path, number of channels"
   ]
  },
  {
   "cell_type": "markdown",
   "id": "beee4ddf",
   "metadata": {},
   "source": [
    "2. start recording and sound."
   ]
  },
  {
   "cell_type": "code",
   "execution_count": null,
   "id": "696eb4f1",
   "metadata": {
    "vscode": {
     "languageId": "python"
    }
   },
   "outputs": [],
   "source": [
    "s.record;\n",
    "a = Synth(\\ksig, [\\buf,b, \\amp,1, \\pan,0, \\freq, 3, \\gate, 1])"
   ]
  },
  {
   "cell_type": "markdown",
   "id": "f80863fd",
   "metadata": {},
   "source": [
    "3. Fade out and stop recording."
   ]
  },
  {
   "cell_type": "code",
   "execution_count": null,
   "id": "65b7f8c8",
   "metadata": {
    "vscode": {
     "languageId": "python"
    }
   },
   "outputs": [],
   "source": [
    "r = Routine({\n",
    "            a.set(\\fOut, 2, \\gate,0); // Trig fade out\n",
    "            3.wait;                   // Wait for fadeout end\n",
    "            s.stopRecording;          // Stop recording\n",
    "            }).play"
   ]
  },
  {
   "cell_type": "markdown",
   "id": "83905c88",
   "metadata": {},
   "source": [
    "You can now open it in a DAW and mix with others in a structure."
   ]
  },
  {
   "cell_type": "code",
   "execution_count": null,
   "id": "41aa09f8",
   "metadata": {
    "vscode": {
     "languageId": "python"
    }
   },
   "outputs": [],
   "source": [
    "\"open /Applications/Audacity.app\".unixCmd;"
   ]
  },
  {
   "cell_type": "markdown",
   "id": "f6f0124a",
   "metadata": {},
   "source": [
    "\n",
    "Alternatively we can also create the structure directly in SuperCollider with Scoring techniques.\n",
    "\n",
    "In this case, we will need to:\n",
    "1. define all the SynthDefs."
   ]
  },
  {
   "cell_type": "code",
   "execution_count": 41,
   "id": "1d8c6a3a",
   "metadata": {
    "vscode": {
     "languageId": "python"
    }
   },
   "outputs": [
    {
     "name": "stdout",
     "output_type": "stream",
     "text": [
      "-> a SynthDef"
     ]
    }
   ],
   "source": [
    "SynthDef(\\grain, {arg buf=0, pos=0, dur=0.2, amp=0, trsp=0, dir=1, pan=0,\n",
    "\t                  t_gate=0, atk=0.1, done=2;\n",
    "                  var sig,env;\n",
    "                      sig = PlayBuf.ar(1, buf,\n",
    "                                       BufRateScale.kr(buf) * trsp.midiratio * dir,\n",
    "                                       t_gate,\n",
    "                                       BufSampleRate.kr(buf)* pos );\n",
    "                     env = Env.perc(atk, dur-atk);\n",
    "                     env = EnvGen.kr(env,t_gate,doneAction:done);\n",
    "                     sig = Pan2.ar(sig * env * amp, pan);\n",
    "                Out.ar(0,sig)\n",
    "                }).add;\n",
    "SynthDef(\\schi,{arg buf=0, amp=0,frq=0.1,fIn=0.2,fOut=0.2,pan=0,gate=0,done=2;\n",
    "                var punta,sig,fade;\n",
    "                    punta = LFCub.ar(frq).range(0,BufFrames.kr(buf));   \n",
    "                    sig   = BufRd.ar(1, buf, K2A.ar(punta));\n",
    "                    fade  = Linen.kr(gate,fIn,1,fOut,done);\n",
    "                    sig   = Pan2.ar(sig*amp.lag(0.2)*fade,pan);\n",
    "                Out.ar(0, sig);\n",
    "        }).add;"
   ]
  },
  {
   "cell_type": "markdown",
   "id": "bb244394",
   "metadata": {},
   "source": [
    "2. define the different sound objects within Routines or Synths or functions."
   ]
  },
  {
   "cell_type": "code",
   "execution_count": 42,
   "id": "f11483f7",
   "metadata": {
    "vscode": {
     "languageId": "python"
    }
   },
   "outputs": [
    {
     "name": "stdout",
     "output_type": "stream",
     "text": [
      "-> a Routine"
     ]
    }
   ],
   "source": [
    "Buffer.freeAll;\n",
    "b = Buffer.read(s, \"/Users/andreavigani/Desktop/GHub/EMC/3_fixed/suoni/bach.wav\");\n",
    "\n",
    "~durs = [0.9,0.8,0.7,0.6,0.5,0.4,0.3,0.2,0.1];       \n",
    "~pos  = [0.1,0.3,0.5,0.7,0.9,1.1,1.3,1.5,1.7];\n",
    "~atk  = [0.01,0.02,0.43,0.04,0.35,0.06,0.57,0.08,0.89];    \n",
    "~pan  = 1;  \n",
    "~obj1 = Routine({\n",
    "                inf.do({arg id;                              \n",
    "                        Synth(\\grain, [\\buf, b, \n",
    "                                       \\amp, 0.4, \n",
    "                                       \\pos, ~pos.foldAt(id), \n",
    "                                       \\done, 2, \n",
    "                                       \\atk, ~atk.foldAt(id), \n",
    "                                       \\t_gate, 1]);\n",
    "\t\t                    ~durs.foldAt(id).wait;                 \n",
    "                        });\n",
    "                });\n",
    "\n",
    "~amps = [0.01, 0.4, 0.1, 0.6];\n",
    "~pos  = [0.5, 1.4, 3.1, 2.6, 0.5, 2.8];\n",
    "~obj2 = Routine({\n",
    "                inf.do({arg id;             \n",
    "                        ~pan = ~pan * -1;        // flip flop                 \n",
    "                        Synth(\\grain, [\\buf, b, \n",
    "                                       \\amp, ~amps.foldAt(id),\n",
    "                                       \\dur, 0.2, \n",
    "                                       \\pos, ~amps.wrapAt(id),\n",
    "                                       \\done, 2, \n",
    "                                       \\atk, 0.01, \n",
    "                                       \\pan, ~pan,\n",
    "                                       \\t_gate, 1]);\n",
    "\t\t        0.3.wait;                 \n",
    "                       });\n",
    "                });"
   ]
  },
  {
   "cell_type": "markdown",
   "id": "a60dc808",
   "metadata": {},
   "source": [
    "3. arrange it in a score (we can specify the temporal events or bars as comments)."
   ]
  },
  {
   "cell_type": "code",
   "execution_count": 43,
   "id": "bff70e82",
   "metadata": {
    "vscode": {
     "languageId": "python"
    }
   },
   "outputs": [
    {
     "name": "stdout",
     "output_type": "stream",
     "text": [
      "-> a Routine"
     ]
    }
   ],
   "source": [
    "~score = Routine({\n",
    "                  2.do({                                                         // Ritornello (loop)\n",
    "                        ~obj2.reset.play(t);                                     // 0  beat --> Start pattern\n",
    "                        3.wait;\n",
    "                        3.do({                                                   // 3  beat --> Ritornello (15 beats loop)\n",
    "                              ~obj1.reset.play(t);                               //            Start fragments\n",
    "                              4.wait;\n",
    "                              ~obj1.stop;                                        //            Stop fragments\n",
    "                              1.wait;\n",
    "                              });\n",
    "                        ~obj3 = Synth(\\schi,[\\buf,b,                             // 18 beat --> Start scratch\n",
    "                                             \\amp,0.1,\n",
    "                                             \\fIn,3,\n",
    "                                             \\frq,2,\n",
    "                                             \\gate,1]); \n",
    "                        2.wait;\n",
    "                        ~obj2.stop;                                              // 20 beat --> Stop pattern\n",
    "                        1.wait;\n",
    "                        ~obj1.reset.play(t);                                     // 21 beat --> Start fragments\n",
    "                        ~obj3.set(\\fOut, 4, \\gate, 0);                           //             Fade out scratch\n",
    "                        3.wait;\n",
    "                        ~obj1.stop;                                              // 24 beat --> Stop fragments\n",
    "                        1.wait;                                                  // 25 beat --> End pattern                                        \n",
    "                        })\n",
    "                  })"
   ]
  },
  {
   "cell_type": "markdown",
   "id": "d07f6a10",
   "metadata": {},
   "source": [
    "4. play the score."
   ]
  },
  {
   "cell_type": "code",
   "execution_count": 45,
   "id": "93716010",
   "metadata": {
    "vscode": {
     "languageId": "python"
    }
   },
   "outputs": [
    {
     "name": "stdout",
     "output_type": "stream",
     "text": [
      "-> a Routine"
     ]
    }
   ],
   "source": [
    "~bpm = 100;                         \n",
    "t    = TempoClock.new(~bpm/60); // Set bpm tempo\n",
    "\n",
    "~score.reset.play(t);"
   ]
  },
  {
   "cell_type": "markdown",
   "id": "affe2f5e",
   "metadata": {},
   "source": [
    "5. clear all."
   ]
  },
  {
   "cell_type": "code",
   "execution_count": null,
   "id": "e3ea0209",
   "metadata": {
    "vscode": {
     "languageId": "python"
    }
   },
   "outputs": [],
   "source": [
    "."
   ]
  },
  {
   "cell_type": "markdown",
   "id": "a14fdc4f",
   "metadata": {},
   "source": [
    "Through this modular procedure, we can define the structure of:\n",
    "* the entire piece.\n",
    "* individual tracks.\n",
    "* sections and fragments.\n",
    "\n",
    "We can represent it in a graphic score.\n",
    "\n",
    "<!---<center><img src=\"img/scores.png\" width=\"20%\"></center>--->\n",
    "\n",
    "<div style=\"width:70%; margin-left: auto; margin-right: auto\">\n",
    "\n",
    "![](img/scores.png)\n",
    "   \n",
    "</div>\n",
    "\n",
    "Here is an example of a graphic score of a historical piece by J.C.Risset - Sud (1984-85)\n",
    "\n",
    "<center><video width=\"40%\" controls src=\"suoni/risset1.mp4\"></video></center>"
   ]
  },
  {
   "cell_type": "markdown",
   "id": "9e672a27",
   "metadata": {},
   "source": [
    "## Composition sketches proposal <a name=\"esercizi_1\"></a>\n",
    "\n",
    "#### Sound palette\n",
    "\n",
    "1. Design and create a sound palette starting from a short soundfile (2-10 seconds).\n",
    "2. Group the different sets of musical objects made by morphological characteristics.\n",
    "\n",
    "#### Fixed media work or sound design\n",
    "\n",
    "Two different strategies:\n",
    "* Bottom to top\n",
    "  1. Choose one to three short sound texts (soundfiles).\n",
    "  2. Analyze the morphological structure of the sound files (microform) \n",
    "  3. Starting from a musical object begin to compose the general structure (macroform) step by step in a DAW or through scoring techniques.</br> \n",
    "     At each step creating new musical objects and their development into microstructures.</br>\n",
    "     Idea of the macroform will not be clear until the end of the process.\n",
    "  \n",
    "  Macroform develops from microstructure.\n",
    "\n",
    "* Top to bottom\n",
    "  1. Define a global formal structure in a graphical sketch.\n",
    "  2. Design and create a sound palette based on the types of sounds described in the sketch according to the principles set out in the chapter (rules or 'libero arbitrio').\n",
    "  3. Realize the sketch in a DAW or through scoring techniques.\n",
    "  \n",
    "  Microstructures fill the macroform."
   ]
  }
 ],
 "metadata": {
  "kernelspec": {
   "display_name": "SuperCollider",
   "language": "",
   "name": "sc_kernel"
  },
  "language_info": {
   "file_extension": ".scd",
   "mimetype": "text/x-sclang",
   "name": "smalltalk",
   "pygments_lexer": "supercollider"
  }
 },
 "nbformat": 4,
 "nbformat_minor": 5
}
